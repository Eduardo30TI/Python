{
 "cells": [
  {
   "cell_type": "code",
   "execution_count": 1,
   "id": "ae3e7fad",
   "metadata": {},
   "outputs": [],
   "source": [
    "import pandas as pd\n",
    "from glob import glob\n",
    "\n",
    "pd.set_option('display.max_columns',None)"
   ]
  },
  {
   "cell_type": "code",
   "execution_count": 2,
   "id": "8c67b07a",
   "metadata": {},
   "outputs": [
    {
     "data": {
      "text/plain": [
       "['Restaurante_Barueri_sp.xlsx', 'Restaurante_Centro_são paulo_sp.xlsx']"
      ]
     },
     "execution_count": 2,
     "metadata": {},
     "output_type": "execute_result"
    }
   ],
   "source": [
    "arq=glob('*.xlsx')\n",
    "\n",
    "arq"
   ]
  },
  {
   "cell_type": "code",
   "execution_count": 22,
   "id": "a6c5996d",
   "metadata": {},
   "outputs": [],
   "source": [
    "excel=pd.read_excel(arq[0])"
   ]
  },
  {
   "cell_type": "code",
   "execution_count": 29,
   "id": "8c846e4b",
   "metadata": {},
   "outputs": [],
   "source": [
    "excel=excel.pivot(index=['Empresa','Endereço'],columns='Seq',values='Telefone').reset_index()"
   ]
  },
  {
   "cell_type": "code",
   "execution_count": 53,
   "id": "a08312e4",
   "metadata": {},
   "outputs": [],
   "source": [
    "indice=[c for c in excel.columns if str(c).isnumeric()]\n",
    "\n",
    "col=[f'Telefone {c}' for c in excel.columns if str(c).isnumeric()]\n",
    "\n",
    "for i,c in enumerate(indice):\n",
    "\n",
    "    excel.rename(columns={c:col[i]},inplace=True)\n",
    "    \n",
    "    pass"
   ]
  },
  {
   "cell_type": "code",
   "execution_count": 54,
   "id": "22926b38",
   "metadata": {},
   "outputs": [
    {
     "data": {
      "text/html": [
       "<div>\n",
       "<style scoped>\n",
       "    .dataframe tbody tr th:only-of-type {\n",
       "        vertical-align: middle;\n",
       "    }\n",
       "\n",
       "    .dataframe tbody tr th {\n",
       "        vertical-align: top;\n",
       "    }\n",
       "\n",
       "    .dataframe thead th {\n",
       "        text-align: right;\n",
       "    }\n",
       "</style>\n",
       "<table border=\"1\" class=\"dataframe\">\n",
       "  <thead>\n",
       "    <tr style=\"text-align: right;\">\n",
       "      <th>Seq</th>\n",
       "      <th>Empresa</th>\n",
       "      <th>Endereço</th>\n",
       "      <th>Telefone 1</th>\n",
       "      <th>Telefone 2</th>\n",
       "      <th>Telefone 3</th>\n",
       "    </tr>\n",
       "  </thead>\n",
       "  <tbody>\n",
       "    <tr>\n",
       "      <th>0</th>\n",
       "      <td>RESTAURANTE LAPETIT</td>\n",
       "      <td>R TAMOIO, 16 - CS 1 - - VILA PINDORAMA - BARUE...</td>\n",
       "      <td>(11) 4182-2284</td>\n",
       "      <td>(11) 4161-2067</td>\n",
       "      <td>(11) 4161-3245</td>\n",
       "    </tr>\n",
       "  </tbody>\n",
       "</table>\n",
       "</div>"
      ],
      "text/plain": [
       "Seq              Empresa                                           Endereço  \\\n",
       "0    RESTAURANTE LAPETIT  R TAMOIO, 16 - CS 1 - - VILA PINDORAMA - BARUE...   \n",
       "\n",
       "Seq      Telefone 1      Telefone 2      Telefone 3  \n",
       "0    (11) 4182-2284  (11) 4161-2067  (11) 4161-3245  "
      ]
     },
     "execution_count": 54,
     "metadata": {},
     "output_type": "execute_result"
    }
   ],
   "source": [
    "excel"
   ]
  },
  {
   "cell_type": "code",
   "execution_count": null,
   "id": "166b619c",
   "metadata": {},
   "outputs": [],
   "source": []
  },
  {
   "cell_type": "code",
   "execution_count": null,
   "id": "aaec4f12",
   "metadata": {},
   "outputs": [],
   "source": []
  }
 ],
 "metadata": {
  "kernelspec": {
   "display_name": "Python 3 (ipykernel)",
   "language": "python",
   "name": "python3"
  },
  "language_info": {
   "codemirror_mode": {
    "name": "ipython",
    "version": 3
   },
   "file_extension": ".py",
   "mimetype": "text/x-python",
   "name": "python",
   "nbconvert_exporter": "python",
   "pygments_lexer": "ipython3",
   "version": "3.9.7"
  }
 },
 "nbformat": 4,
 "nbformat_minor": 5
}
