{
 "cells": [
  {
   "cell_type": "code",
   "execution_count": 1,
   "id": "5d6e84b8",
   "metadata": {},
   "outputs": [],
   "source": [
    "from Acesso import Login\n",
    "from Query import Query\n",
    "from RemoverArquivo import Remover\n",
    "from Email import Email\n",
    "from Moeda import Moeda\n",
    "import pandas as pd\n",
    "\n",
    "pd.set_option('display.max_columns',None)\n",
    "\n",
    "s=Login()\n",
    "\n",
    "sql=Query(s.usuario,s.senha,s.database,s.server)\n",
    "\n",
    "querys={\n",
    "\n",
    "    'Pedidos':\n",
    "\n",
    "    \"\"\"\n",
    "    \n",
    "    SELECT * FROM netfeira.vw_targetestatistico\n",
    "    WHERE [ID Situação]='AB' AND [Data de Entrega]=CONVERT(DATETIME,CAST(GETDATE() AS DATE),101) \n",
    "    AND [Data de Emissão]=DATEADD(DAY,-1,CONVERT(DATETIME,CAST(GETDATE() AS DATE),101))\n",
    "    AND [Tipo de Operação]<>'OUTROS'    \n",
    "    \n",
    "    \"\"\",\n",
    "\n",
    "    'Vendedor':\n",
    "\n",
    "    \"\"\"\n",
    "    \n",
    "    SELECT * FROM netfeira.vw_vendedor\n",
    "    \n",
    "    \"\"\",\n",
    "\n",
    "    'Supervisor':\n",
    "\n",
    "    \"\"\"\n",
    "    \n",
    "    SELECT * FROM netfeira.vw_supervisor\n",
    "    \n",
    "    \"\"\",\n",
    "\n",
    "    'Produto':\n",
    "\n",
    "    \"\"\"\n",
    "    \n",
    "    SELECT * FROM netfeira.vw_produto\n",
    "    \n",
    "    \"\"\",\n",
    "    \n",
    "    'Cliente':\n",
    "    \n",
    "    \"\"\"\n",
    "    \n",
    "    SELECT * FROM netfeira.vw_cliente\n",
    "    \n",
    "    \"\"\"\n",
    "\n",
    "}"
   ]
  },
  {
   "cell_type": "code",
   "execution_count": 2,
   "id": "0e62e8de",
   "metadata": {},
   "outputs": [],
   "source": [
    "tabelas_df=sql.CriarTabela(kwargs=querys)"
   ]
  },
  {
   "cell_type": "code",
   "execution_count": 3,
   "id": "0f5c587c",
   "metadata": {},
   "outputs": [
    {
     "data": {
      "text/plain": [
       "Index(['Origem', 'Situação Entrega', 'ID Situação', 'Situação', 'Pedido',\n",
       "       'NFe', 'Tipo de Pedido', 'Tipo de Operação', 'Tabelas',\n",
       "       'Data de Emissão', 'Data de Faturamento', 'Data de Entrega',\n",
       "       'ID Empresa', 'ID Cliente', 'ID Vendedor', 'SKU', 'Seq', 'Qtde',\n",
       "       'Unid. VDA', 'Fator', 'Qtde. VDA', 'Valor VDA', 'Total Venda',\n",
       "       'Total AV', 'MG CRP', 'Margem CUE', 'Margem CMP', 'Comsissão R$',\n",
       "       'COFINS R$', 'PIS R$', 'ICMS R$', 'ICMS ST R$', 'IPI R$',\n",
       "       'Peso Bruto KG', 'Peso Líquido KG', 'Total Geral'],\n",
       "      dtype='object')"
      ]
     },
     "execution_count": 3,
     "metadata": {},
     "output_type": "execute_result"
    }
   ],
   "source": [
    "tabelas_df['Pedidos'].columns"
   ]
  },
  {
   "cell_type": "code",
   "execution_count": 4,
   "id": "6af707a6",
   "metadata": {},
   "outputs": [
    {
     "data": {
      "text/plain": [
       "Index(['ID Vendedor', 'Vendedor', 'Nome Resumido', 'ID Equipe', 'E-mail',\n",
       "       'Categoria', 'Data de Cadastro', 'Status do Vendedor', 'DDD',\n",
       "       'Telefone'],\n",
       "      dtype='object')"
      ]
     },
     "execution_count": 4,
     "metadata": {},
     "output_type": "execute_result"
    }
   ],
   "source": [
    "tabelas_df['Vendedor'].columns"
   ]
  },
  {
   "cell_type": "code",
   "execution_count": 5,
   "id": "6b15d8d2",
   "metadata": {},
   "outputs": [
    {
     "data": {
      "text/plain": [
       "Index(['ID Equipe', 'Equipe', 'ID Sup', 'Supervisor', 'Email Sup',\n",
       "       'ID Gerente', 'Gerente', 'Email Gerente'],\n",
       "      dtype='object')"
      ]
     },
     "execution_count": 5,
     "metadata": {},
     "output_type": "execute_result"
    }
   ],
   "source": [
    "tabelas_df['Supervisor'].columns"
   ]
  },
  {
   "cell_type": "code",
   "execution_count": 6,
   "id": "bd1e6f99",
   "metadata": {},
   "outputs": [
    {
     "data": {
      "text/plain": [
       "Index(['SKU', 'Cód. Fabricante', 'Produto', 'Status', 'Fabricante',\n",
       "       'Departamento', 'Seção', 'Categoria', 'Linha', 'Grupo de Produtos',\n",
       "       'Grupo Indústria', 'Grupo de Meta', 'Grupo MCCAIN', 'Linha Fabrica',\n",
       "       'Grupo de Promotores', 'Peso Liquido', 'Peso Bruto', 'Fator CX',\n",
       "       'Unid. CMP', 'Unid. STK', 'Fator CMP', 'Fotos', 'EAN', 'DUN',\n",
       "       'Peso Liquido Caixa', 'Peso Bruto Caixa', 'Fator Unid CMP'],\n",
       "      dtype='object')"
      ]
     },
     "execution_count": 6,
     "metadata": {},
     "output_type": "execute_result"
    }
   ],
   "source": [
    "tabelas_df['Produto'].columns"
   ]
  },
  {
   "cell_type": "code",
   "execution_count": 7,
   "id": "d72a0d5f",
   "metadata": {},
   "outputs": [
    {
     "data": {
      "text/plain": [
       "Index(['ID Cliente', 'CNPJ', 'Rede', 'CNPJ Base', 'CNPJ Caracter',\n",
       "       'Razão Social', 'Nome Fantasia', 'Tipo de Cliente', 'Status do Cliente',\n",
       "       'ID Segmento', 'Matriz', 'Crédito', 'Data de Cadastro',\n",
       "       'Primeira Compra', 'Última Compra', 'Dias Compra', 'Tabela',\n",
       "       'Condição de Pagto', 'Prazo Pagto', 'Pagamento', 'CEP', 'Endereço',\n",
       "       'Bairro', 'Município', 'Numero', 'Complemento', 'Região', 'UF', 'DDD',\n",
       "       'Contato', 'Limite de Crédito', 'Principal', 'E-mail Cliente',\n",
       "       'Tributação do Cliente', 'ID Rota', 'Latitude', 'Longitude',\n",
       "       'Desc Financeiro'],\n",
       "      dtype='object')"
      ]
     },
     "execution_count": 7,
     "metadata": {},
     "output_type": "execute_result"
    }
   ],
   "source": [
    "tabelas_df['Cliente'].columns"
   ]
  },
  {
   "cell_type": "code",
   "execution_count": 8,
   "id": "fdf3cc4e",
   "metadata": {},
   "outputs": [],
   "source": [
    "tabelas_df['Vendedor']=tabelas_df['Vendedor'].merge(tabelas_df['Supervisor'],on='ID Equipe',how='inner')[['ID Vendedor', 'Vendedor', 'Nome Resumido', 'Equipe', 'E-mail',\n",
    "       'Status do Vendedor','ID Sup', 'Supervisor', 'Email Sup',\n",
    "       'ID Gerente', 'Gerente', 'Email Gerente']]"
   ]
  },
  {
   "cell_type": "code",
   "execution_count": 9,
   "id": "73038ccd",
   "metadata": {},
   "outputs": [],
   "source": [
    "tabelas_df['Pedidos']=tabelas_df['Pedidos'].merge(tabelas_df['Produto'],on='SKU',how='inner')[['Origem', 'Situação Entrega', 'ID Situação', 'Situação', 'Pedido',\n",
    "       'NFe', 'Tipo de Pedido', 'Tipo de Operação', 'Tabelas',\n",
    "       'Data de Emissão', 'Data de Faturamento', 'Data de Entrega',\n",
    "       'ID Empresa', 'ID Cliente', 'ID Vendedor', 'SKU','Produto','Fabricante',\n",
    "       'Departamento', 'Seção', 'Categoria', 'Linha', 'Seq', 'Qtde',\n",
    "       'Unid. VDA', 'Fator', 'Qtde. VDA', 'Valor VDA', 'Total Venda',\n",
    "       'Total AV', 'MG CRP', 'Margem CUE', 'Margem CMP', 'Comsissão R$',\n",
    "       'COFINS R$', 'PIS R$', 'ICMS R$', 'ICMS ST R$', 'IPI R$',\n",
    "       'Peso Bruto KG', 'Peso Líquido KG', 'Total Geral']]"
   ]
  },
  {
   "cell_type": "code",
   "execution_count": 10,
   "id": "37fc1a26",
   "metadata": {},
   "outputs": [],
   "source": [
    "tabelas_df['Pedidos']=tabelas_df['Pedidos'].merge(tabelas_df['Vendedor'],on='ID Vendedor',how='inner')"
   ]
  },
  {
   "cell_type": "code",
   "execution_count": 11,
   "id": "fd36a01a",
   "metadata": {},
   "outputs": [
    {
     "data": {
      "text/plain": [
       "Index(['Origem', 'Situação Entrega', 'ID Situação', 'Situação', 'Pedido',\n",
       "       'NFe', 'Tipo de Pedido', 'Tipo de Operação', 'Tabelas',\n",
       "       'Data de Emissão', 'Data de Faturamento', 'Data de Entrega',\n",
       "       'ID Empresa', 'ID Cliente', 'ID Vendedor', 'SKU', 'Produto',\n",
       "       'Fabricante', 'Departamento', 'Seção', 'Categoria', 'Linha', 'Seq',\n",
       "       'Qtde', 'Unid. VDA', 'Fator', 'Qtde. VDA', 'Valor VDA', 'Total Venda',\n",
       "       'Total AV', 'MG CRP', 'Margem CUE', 'Margem CMP', 'Comsissão R$',\n",
       "       'COFINS R$', 'PIS R$', 'ICMS R$', 'ICMS ST R$', 'IPI R$',\n",
       "       'Peso Bruto KG', 'Peso Líquido KG', 'Total Geral', 'Vendedor',\n",
       "       'Nome Resumido', 'Equipe', 'E-mail', 'Status do Vendedor', 'ID Sup',\n",
       "       'Supervisor', 'Email Sup', 'ID Gerente', 'Gerente', 'Email Gerente'],\n",
       "      dtype='object')"
      ]
     },
     "execution_count": 11,
     "metadata": {},
     "output_type": "execute_result"
    }
   ],
   "source": [
    "tabelas_df['Pedidos'].columns"
   ]
  },
  {
   "cell_type": "code",
   "execution_count": 15,
   "id": "48172bc7",
   "metadata": {},
   "outputs": [],
   "source": [
    "tabelas_df['Pedidos']=tabelas_df['Pedidos'].merge(tabelas_df['Cliente'],on='ID Cliente',how='inner')[['Origem', 'Situação Entrega', 'ID Situação', 'Situação', 'Pedido',\n",
    "       'NFe', 'Tipo de Pedido', 'Tipo de Operação', 'Tabelas',\n",
    "       'Data de Emissão', 'Data de Faturamento', 'Data de Entrega',\n",
    "       'ID Empresa', 'ID Cliente','Razão Social', 'Nome Fantasia', 'ID Vendedor','Vendedor',\n",
    "       'Nome Resumido', 'Equipe', 'E-mail', 'Data de Cadastro',\n",
    "       'Status do Vendedor', 'ID Sup', 'Supervisor',\n",
    "       'Email Sup', 'ID Gerente', 'Gerente', 'Email Gerente', 'SKU', 'Produto',\n",
    "       'Fabricante', 'Departamento', 'Seção', 'Categoria', 'Linha', 'Seq',\n",
    "       'Qtde', 'Unid. VDA', 'Fator', 'Qtde. VDA', 'Valor VDA', 'Total Venda',\n",
    "       'Total AV', 'MG CRP', 'Margem CUE', 'Margem CMP', 'Comsissão R$',\n",
    "       'COFINS R$', 'PIS R$', 'ICMS R$', 'ICMS ST R$', 'IPI R$',\n",
    "       'Peso Bruto KG', 'Peso Líquido KG', 'Total Geral']]"
   ]
  },
  {
   "cell_type": "code",
   "execution_count": 17,
   "id": "89a9ef90",
   "metadata": {},
   "outputs": [
    {
     "data": {
      "text/plain": [
       "Index(['Origem', 'Situação Entrega', 'ID Situação', 'Situação', 'Pedido',\n",
       "       'NFe', 'Tipo de Pedido', 'Tipo de Operação', 'Tabelas',\n",
       "       'Data de Emissão', 'Data de Faturamento', 'Data de Entrega',\n",
       "       'ID Empresa', 'ID Cliente', 'Razão Social', 'Nome Fantasia',\n",
       "       'ID Vendedor', 'Vendedor', 'Nome Resumido', 'Equipe', 'E-mail',\n",
       "       'Data de Cadastro', 'Status do Vendedor', 'ID Sup', 'Supervisor',\n",
       "       'Email Sup', 'ID Gerente', 'Gerente', 'Email Gerente', 'SKU', 'Produto',\n",
       "       'Fabricante', 'Departamento', 'Seção', 'Categoria', 'Linha', 'Seq',\n",
       "       'Qtde', 'Unid. VDA', 'Fator', 'Qtde. VDA', 'Valor VDA', 'Total Venda',\n",
       "       'Total AV', 'MG CRP', 'Margem CUE', 'Margem CMP', 'Comsissão R$',\n",
       "       'COFINS R$', 'PIS R$', 'ICMS R$', 'ICMS ST R$', 'IPI R$',\n",
       "       'Peso Bruto KG', 'Peso Líquido KG', 'Total Geral'],\n",
       "      dtype='object')"
      ]
     },
     "execution_count": 17,
     "metadata": {},
     "output_type": "execute_result"
    }
   ],
   "source": [
    "tabelas_df['Pedidos'].columns"
   ]
  },
  {
   "cell_type": "code",
   "execution_count": 37,
   "id": "9328298c",
   "metadata": {},
   "outputs": [],
   "source": [
    "tabelas_df['Consolidado']=tabelas_df['Pedidos'].groupby(['ID Vendedor','Nome Resumido','Equipe','E-mail','ID Sup',\n",
    "       'Supervisor', 'Email Sup', 'ID Gerente', 'Gerente', 'Email Gerente'],as_index=False).agg({'Total Geral':'sum'})"
   ]
  },
  {
   "cell_type": "code",
   "execution_count": 38,
   "id": "0fa7cc17",
   "metadata": {},
   "outputs": [],
   "source": [
    "tabelas_df['Consolidado']['Pedido']=tabelas_df['Consolidado']['ID Vendedor'].apply(lambda info:len(tabelas_df['Pedidos']['Pedido'].loc[tabelas_df['Pedidos']['ID Vendedor']==info].unique().tolist()))"
   ]
  },
  {
   "cell_type": "code",
   "execution_count": 39,
   "id": "13338967",
   "metadata": {},
   "outputs": [],
   "source": [
    "tabelas_df['Consolidado']['Cliente']=tabelas_df['Consolidado']['ID Vendedor'].apply(lambda info:len(tabelas_df['Pedidos']['ID Cliente'].loc[tabelas_df['Pedidos']['ID Vendedor']==info].unique().tolist()))"
   ]
  },
  {
   "cell_type": "code",
   "execution_count": 40,
   "id": "35bcb289",
   "metadata": {},
   "outputs": [
    {
     "data": {
      "text/html": [
       "<div>\n",
       "<style scoped>\n",
       "    .dataframe tbody tr th:only-of-type {\n",
       "        vertical-align: middle;\n",
       "    }\n",
       "\n",
       "    .dataframe tbody tr th {\n",
       "        vertical-align: top;\n",
       "    }\n",
       "\n",
       "    .dataframe thead th {\n",
       "        text-align: right;\n",
       "    }\n",
       "</style>\n",
       "<table border=\"1\" class=\"dataframe\">\n",
       "  <thead>\n",
       "    <tr style=\"text-align: right;\">\n",
       "      <th></th>\n",
       "      <th>ID Vendedor</th>\n",
       "      <th>Nome Resumido</th>\n",
       "      <th>Equipe</th>\n",
       "      <th>E-mail</th>\n",
       "      <th>ID Sup</th>\n",
       "      <th>Supervisor</th>\n",
       "      <th>Email Sup</th>\n",
       "      <th>ID Gerente</th>\n",
       "      <th>Gerente</th>\n",
       "      <th>Email Gerente</th>\n",
       "      <th>Total Geral</th>\n",
       "      <th>Pedido</th>\n",
       "      <th>Cliente</th>\n",
       "    </tr>\n",
       "  </thead>\n",
       "  <tbody>\n",
       "    <tr>\n",
       "      <th>0</th>\n",
       "      <td>ADEMIRFE</td>\n",
       "      <td>ADEMIR KLEIN</td>\n",
       "      <td>EQUIPE 2 (REP)</td>\n",
       "      <td>ADEMIRFK@HOTMAIL.COM</td>\n",
       "      <td>ULISSES</td>\n",
       "      <td>ULISSES BACCI</td>\n",
       "      <td>ULISSES@DEMARCHIBRASIL.COM.BR</td>\n",
       "      <td>ROGERIOF</td>\n",
       "      <td>ROGERIO FELIPIM</td>\n",
       "      <td>ROGERIO.FELIPIM@DEMARCHIBRASIL.COM.BR</td>\n",
       "      <td>457.60</td>\n",
       "      <td>1</td>\n",
       "      <td>1</td>\n",
       "    </tr>\n",
       "    <tr>\n",
       "      <th>1</th>\n",
       "      <td>CELSOCAR</td>\n",
       "      <td>CELSO AMARO</td>\n",
       "      <td>EQUIPE 1 (REP)</td>\n",
       "      <td>CELSO.C.AMARO@GMAIL.COM</td>\n",
       "      <td>ROGERIOF</td>\n",
       "      <td>ROGERIO FELIPIM</td>\n",
       "      <td>ROGERIO.FELIPIM@DEMARCHIBRASIL.COM.BR</td>\n",
       "      <td>ROGERIOF</td>\n",
       "      <td>ROGERIO FELIPIM</td>\n",
       "      <td>ROGERIO.FELIPIM@DEMARCHIBRASIL.COM.BR</td>\n",
       "      <td>1996.60</td>\n",
       "      <td>1</td>\n",
       "      <td>1</td>\n",
       "    </tr>\n",
       "    <tr>\n",
       "      <th>2</th>\n",
       "      <td>CLAUDIOP</td>\n",
       "      <td>CLAUDIO PEREIRA</td>\n",
       "      <td>EQUIPE 3 (CLT)</td>\n",
       "      <td>DEMARCHI.CLAUDIOP@GMAIL.COM</td>\n",
       "      <td>ULISSES</td>\n",
       "      <td>ULISSES BACCI</td>\n",
       "      <td>ULISSES@DEMARCHIBRASIL.COM.BR</td>\n",
       "      <td>ROGERIOF</td>\n",
       "      <td>ROGERIO FELIPIM</td>\n",
       "      <td>ROGERIO.FELIPIM@DEMARCHIBRASIL.COM.BR</td>\n",
       "      <td>933.56</td>\n",
       "      <td>4</td>\n",
       "      <td>3</td>\n",
       "    </tr>\n",
       "    <tr>\n",
       "      <th>3</th>\n",
       "      <td>CRIS</td>\n",
       "      <td>CRISTIANE MARQUES</td>\n",
       "      <td>EQUIPE 1 (REP)</td>\n",
       "      <td>CHRISTIANEGAIA@HOTMAIL.COM</td>\n",
       "      <td>ROGERIOF</td>\n",
       "      <td>ROGERIO FELIPIM</td>\n",
       "      <td>ROGERIO.FELIPIM@DEMARCHIBRASIL.COM.BR</td>\n",
       "      <td>ROGERIOF</td>\n",
       "      <td>ROGERIO FELIPIM</td>\n",
       "      <td>ROGERIO.FELIPIM@DEMARCHIBRASIL.COM.BR</td>\n",
       "      <td>643.68</td>\n",
       "      <td>1</td>\n",
       "      <td>1</td>\n",
       "    </tr>\n",
       "    <tr>\n",
       "      <th>4</th>\n",
       "      <td>ECOMMER</td>\n",
       "      <td>E-COMMERCE</td>\n",
       "      <td>E-COMMERCE</td>\n",
       "      <td>PEDIDOS@DEMARCHIBRASIL.COM.BR</td>\n",
       "      <td>ROGERIOF</td>\n",
       "      <td>ROGERIO FELIPIM</td>\n",
       "      <td>ROGERIO.FELIPIM@DEMARCHIBRASIL.COM.BR</td>\n",
       "      <td>ROGERIOF</td>\n",
       "      <td>ROGERIO FELIPIM</td>\n",
       "      <td>ROGERIO.FELIPIM@DEMARCHIBRASIL.COM.BR</td>\n",
       "      <td>198.06</td>\n",
       "      <td>1</td>\n",
       "      <td>1</td>\n",
       "    </tr>\n",
       "    <tr>\n",
       "      <th>5</th>\n",
       "      <td>FRANCASS</td>\n",
       "      <td>FRANCISCO ROCHA</td>\n",
       "      <td>EQUIPE 6 (CLT)</td>\n",
       "      <td>FRANCISCOROCHA2008@GMAIL.COM</td>\n",
       "      <td>CARLOSH</td>\n",
       "      <td>CARLOS PASSOS</td>\n",
       "      <td>CARLOS.HENRIQUE@DEMARCHIBRASIL.COM.BR</td>\n",
       "      <td>ROGERIOF</td>\n",
       "      <td>ROGERIO FELIPIM</td>\n",
       "      <td>ROGERIO.FELIPIM@DEMARCHIBRASIL.COM.BR</td>\n",
       "      <td>3214.00</td>\n",
       "      <td>4</td>\n",
       "      <td>4</td>\n",
       "    </tr>\n",
       "    <tr>\n",
       "      <th>6</th>\n",
       "      <td>JOSENUNE</td>\n",
       "      <td>JOSE SILVA</td>\n",
       "      <td>EQUIPE 4 (VAR)</td>\n",
       "      <td>NUNES.NUNESSILVA@HOTMAIL.COM</td>\n",
       "      <td>DOUGLASM</td>\n",
       "      <td>DOUGLAS TEDESCHI</td>\n",
       "      <td>DOUGLASMARTINS@DEMARCHIBRASIL.COM.BR</td>\n",
       "      <td>ROGERIOF</td>\n",
       "      <td>ROGERIO FELIPIM</td>\n",
       "      <td>ROGERIO.FELIPIM@DEMARCHIBRASIL.COM.BR</td>\n",
       "      <td>460.00</td>\n",
       "      <td>1</td>\n",
       "      <td>1</td>\n",
       "    </tr>\n",
       "    <tr>\n",
       "      <th>7</th>\n",
       "      <td>MARCOSLI</td>\n",
       "      <td>MARCOS SILVA</td>\n",
       "      <td>EQUIPE 3 (CLT)</td>\n",
       "      <td>MARCOS.LIMA@DEMARCHISAOPAULO.COM.BR</td>\n",
       "      <td>ULISSES</td>\n",
       "      <td>ULISSES BACCI</td>\n",
       "      <td>ULISSES@DEMARCHIBRASIL.COM.BR</td>\n",
       "      <td>ROGERIOF</td>\n",
       "      <td>ROGERIO FELIPIM</td>\n",
       "      <td>ROGERIO.FELIPIM@DEMARCHIBRASIL.COM.BR</td>\n",
       "      <td>821.04</td>\n",
       "      <td>2</td>\n",
       "      <td>2</td>\n",
       "    </tr>\n",
       "    <tr>\n",
       "      <th>8</th>\n",
       "      <td>MAYRAQS</td>\n",
       "      <td>MAYRA SANTOS</td>\n",
       "      <td>EQUIPE 9 (ATIVO)</td>\n",
       "      <td>MAYRA.SANTOS@DEMARCHISAOPAULO.COM.BR</td>\n",
       "      <td>RAQUELSO</td>\n",
       "      <td>RAQUEL SOBRINHO</td>\n",
       "      <td>RAQUEL@DEMARCHISAOPAULO.COM.BR</td>\n",
       "      <td>ROGERIOF</td>\n",
       "      <td>ROGERIO FELIPIM</td>\n",
       "      <td>ROGERIO.FELIPIM@DEMARCHIBRASIL.COM.BR</td>\n",
       "      <td>1921.63</td>\n",
       "      <td>4</td>\n",
       "      <td>4</td>\n",
       "    </tr>\n",
       "    <tr>\n",
       "      <th>9</th>\n",
       "      <td>ROBSONAN</td>\n",
       "      <td>ROBSON ANDRADE</td>\n",
       "      <td>EQUIPE 4 (VAR)</td>\n",
       "      <td>ROBSON_DOMINGUES1@HOTMAIL.COM</td>\n",
       "      <td>DOUGLASM</td>\n",
       "      <td>DOUGLAS TEDESCHI</td>\n",
       "      <td>DOUGLASMARTINS@DEMARCHIBRASIL.COM.BR</td>\n",
       "      <td>ROGERIOF</td>\n",
       "      <td>ROGERIO FELIPIM</td>\n",
       "      <td>ROGERIO.FELIPIM@DEMARCHIBRASIL.COM.BR</td>\n",
       "      <td>2927.00</td>\n",
       "      <td>4</td>\n",
       "      <td>4</td>\n",
       "    </tr>\n",
       "    <tr>\n",
       "      <th>10</th>\n",
       "      <td>RODRIGOA</td>\n",
       "      <td>RODRIGO ANDRADE</td>\n",
       "      <td>EQUIPE 4 (VAR)</td>\n",
       "      <td>RODRIGOANDRADE9898@GMAIL.COM</td>\n",
       "      <td>DOUGLASM</td>\n",
       "      <td>DOUGLAS TEDESCHI</td>\n",
       "      <td>DOUGLASMARTINS@DEMARCHIBRASIL.COM.BR</td>\n",
       "      <td>ROGERIOF</td>\n",
       "      <td>ROGERIO FELIPIM</td>\n",
       "      <td>ROGERIO.FELIPIM@DEMARCHIBRASIL.COM.BR</td>\n",
       "      <td>10906.67</td>\n",
       "      <td>10</td>\n",
       "      <td>7</td>\n",
       "    </tr>\n",
       "    <tr>\n",
       "      <th>11</th>\n",
       "      <td>TALITA</td>\n",
       "      <td>TALITA OLIVEIRA</td>\n",
       "      <td>EQUIPE 9 (ATIVO)</td>\n",
       "      <td>TALITA.OLIVEIRA@DEMARCHISAOPAULO.COM.BR</td>\n",
       "      <td>RAQUELSO</td>\n",
       "      <td>RAQUEL SOBRINHO</td>\n",
       "      <td>RAQUEL@DEMARCHISAOPAULO.COM.BR</td>\n",
       "      <td>ROGERIOF</td>\n",
       "      <td>ROGERIO FELIPIM</td>\n",
       "      <td>ROGERIO.FELIPIM@DEMARCHIBRASIL.COM.BR</td>\n",
       "      <td>2176.32</td>\n",
       "      <td>2</td>\n",
       "      <td>2</td>\n",
       "    </tr>\n",
       "    <tr>\n",
       "      <th>12</th>\n",
       "      <td>THAISFRE</td>\n",
       "      <td>THAIS FREITAS</td>\n",
       "      <td>EQUIPE 9 (ATIVO)</td>\n",
       "      <td>THAIS.SANTOS@DEMARCHISAOPAULO.COM.BR</td>\n",
       "      <td>RAQUELSO</td>\n",
       "      <td>RAQUEL SOBRINHO</td>\n",
       "      <td>RAQUEL@DEMARCHISAOPAULO.COM.BR</td>\n",
       "      <td>ROGERIOF</td>\n",
       "      <td>ROGERIO FELIPIM</td>\n",
       "      <td>ROGERIO.FELIPIM@DEMARCHIBRASIL.COM.BR</td>\n",
       "      <td>181.26</td>\n",
       "      <td>1</td>\n",
       "      <td>1</td>\n",
       "    </tr>\n",
       "  </tbody>\n",
       "</table>\n",
       "</div>"
      ],
      "text/plain": [
       "   ID Vendedor      Nome Resumido            Equipe  \\\n",
       "0     ADEMIRFE       ADEMIR KLEIN    EQUIPE 2 (REP)   \n",
       "1     CELSOCAR        CELSO AMARO    EQUIPE 1 (REP)   \n",
       "2     CLAUDIOP    CLAUDIO PEREIRA    EQUIPE 3 (CLT)   \n",
       "3     CRIS      CRISTIANE MARQUES    EQUIPE 1 (REP)   \n",
       "4     ECOMMER          E-COMMERCE        E-COMMERCE   \n",
       "5     FRANCASS    FRANCISCO ROCHA    EQUIPE 6 (CLT)   \n",
       "6     JOSENUNE         JOSE SILVA    EQUIPE 4 (VAR)   \n",
       "7     MARCOSLI       MARCOS SILVA    EQUIPE 3 (CLT)   \n",
       "8     MAYRAQS        MAYRA SANTOS  EQUIPE 9 (ATIVO)   \n",
       "9     ROBSONAN     ROBSON ANDRADE    EQUIPE 4 (VAR)   \n",
       "10    RODRIGOA    RODRIGO ANDRADE    EQUIPE 4 (VAR)   \n",
       "11    TALITA      TALITA OLIVEIRA  EQUIPE 9 (ATIVO)   \n",
       "12    THAISFRE      THAIS FREITAS  EQUIPE 9 (ATIVO)   \n",
       "\n",
       "                                     E-mail    ID Sup        Supervisor  \\\n",
       "0                      ADEMIRFK@HOTMAIL.COM  ULISSES      ULISSES BACCI   \n",
       "1                   CELSO.C.AMARO@GMAIL.COM  ROGERIOF   ROGERIO FELIPIM   \n",
       "2               DEMARCHI.CLAUDIOP@GMAIL.COM  ULISSES      ULISSES BACCI   \n",
       "3                CHRISTIANEGAIA@HOTMAIL.COM  ROGERIOF   ROGERIO FELIPIM   \n",
       "4             PEDIDOS@DEMARCHIBRASIL.COM.BR  ROGERIOF   ROGERIO FELIPIM   \n",
       "5              FRANCISCOROCHA2008@GMAIL.COM  CARLOSH      CARLOS PASSOS   \n",
       "6              NUNES.NUNESSILVA@HOTMAIL.COM  DOUGLASM  DOUGLAS TEDESCHI   \n",
       "7       MARCOS.LIMA@DEMARCHISAOPAULO.COM.BR  ULISSES      ULISSES BACCI   \n",
       "8      MAYRA.SANTOS@DEMARCHISAOPAULO.COM.BR  RAQUELSO   RAQUEL SOBRINHO   \n",
       "9             ROBSON_DOMINGUES1@HOTMAIL.COM  DOUGLASM  DOUGLAS TEDESCHI   \n",
       "10             RODRIGOANDRADE9898@GMAIL.COM  DOUGLASM  DOUGLAS TEDESCHI   \n",
       "11  TALITA.OLIVEIRA@DEMARCHISAOPAULO.COM.BR  RAQUELSO   RAQUEL SOBRINHO   \n",
       "12     THAIS.SANTOS@DEMARCHISAOPAULO.COM.BR  RAQUELSO   RAQUEL SOBRINHO   \n",
       "\n",
       "                                Email Sup ID Gerente          Gerente  \\\n",
       "0           ULISSES@DEMARCHIBRASIL.COM.BR   ROGERIOF  ROGERIO FELIPIM   \n",
       "1   ROGERIO.FELIPIM@DEMARCHIBRASIL.COM.BR   ROGERIOF  ROGERIO FELIPIM   \n",
       "2           ULISSES@DEMARCHIBRASIL.COM.BR   ROGERIOF  ROGERIO FELIPIM   \n",
       "3   ROGERIO.FELIPIM@DEMARCHIBRASIL.COM.BR   ROGERIOF  ROGERIO FELIPIM   \n",
       "4   ROGERIO.FELIPIM@DEMARCHIBRASIL.COM.BR   ROGERIOF  ROGERIO FELIPIM   \n",
       "5   CARLOS.HENRIQUE@DEMARCHIBRASIL.COM.BR   ROGERIOF  ROGERIO FELIPIM   \n",
       "6    DOUGLASMARTINS@DEMARCHIBRASIL.COM.BR   ROGERIOF  ROGERIO FELIPIM   \n",
       "7           ULISSES@DEMARCHIBRASIL.COM.BR   ROGERIOF  ROGERIO FELIPIM   \n",
       "8          RAQUEL@DEMARCHISAOPAULO.COM.BR   ROGERIOF  ROGERIO FELIPIM   \n",
       "9    DOUGLASMARTINS@DEMARCHIBRASIL.COM.BR   ROGERIOF  ROGERIO FELIPIM   \n",
       "10   DOUGLASMARTINS@DEMARCHIBRASIL.COM.BR   ROGERIOF  ROGERIO FELIPIM   \n",
       "11         RAQUEL@DEMARCHISAOPAULO.COM.BR   ROGERIOF  ROGERIO FELIPIM   \n",
       "12         RAQUEL@DEMARCHISAOPAULO.COM.BR   ROGERIOF  ROGERIO FELIPIM   \n",
       "\n",
       "                            Email Gerente  Total Geral  Pedido  Cliente  \n",
       "0   ROGERIO.FELIPIM@DEMARCHIBRASIL.COM.BR       457.60       1        1  \n",
       "1   ROGERIO.FELIPIM@DEMARCHIBRASIL.COM.BR      1996.60       1        1  \n",
       "2   ROGERIO.FELIPIM@DEMARCHIBRASIL.COM.BR       933.56       4        3  \n",
       "3   ROGERIO.FELIPIM@DEMARCHIBRASIL.COM.BR       643.68       1        1  \n",
       "4   ROGERIO.FELIPIM@DEMARCHIBRASIL.COM.BR       198.06       1        1  \n",
       "5   ROGERIO.FELIPIM@DEMARCHIBRASIL.COM.BR      3214.00       4        4  \n",
       "6   ROGERIO.FELIPIM@DEMARCHIBRASIL.COM.BR       460.00       1        1  \n",
       "7   ROGERIO.FELIPIM@DEMARCHIBRASIL.COM.BR       821.04       2        2  \n",
       "8   ROGERIO.FELIPIM@DEMARCHIBRASIL.COM.BR      1921.63       4        4  \n",
       "9   ROGERIO.FELIPIM@DEMARCHIBRASIL.COM.BR      2927.00       4        4  \n",
       "10  ROGERIO.FELIPIM@DEMARCHIBRASIL.COM.BR     10906.67      10        7  \n",
       "11  ROGERIO.FELIPIM@DEMARCHIBRASIL.COM.BR      2176.32       2        2  \n",
       "12  ROGERIO.FELIPIM@DEMARCHIBRASIL.COM.BR       181.26       1        1  "
      ]
     },
     "execution_count": 40,
     "metadata": {},
     "output_type": "execute_result"
    }
   ],
   "source": [
    "tabelas_df['Consolidado']"
   ]
  },
  {
   "cell_type": "code",
   "execution_count": null,
   "id": "88a50d53",
   "metadata": {},
   "outputs": [],
   "source": []
  },
  {
   "cell_type": "code",
   "execution_count": null,
   "id": "58486013",
   "metadata": {},
   "outputs": [],
   "source": []
  },
  {
   "cell_type": "code",
   "execution_count": null,
   "id": "8b6466b5",
   "metadata": {},
   "outputs": [],
   "source": []
  }
 ],
 "metadata": {
  "kernelspec": {
   "display_name": "Python 3 (ipykernel)",
   "language": "python",
   "name": "python3"
  },
  "language_info": {
   "codemirror_mode": {
    "name": "ipython",
    "version": 3
   },
   "file_extension": ".py",
   "mimetype": "text/x-python",
   "name": "python",
   "nbconvert_exporter": "python",
   "pygments_lexer": "ipython3",
   "version": "3.9.7"
  }
 },
 "nbformat": 4,
 "nbformat_minor": 5
}
