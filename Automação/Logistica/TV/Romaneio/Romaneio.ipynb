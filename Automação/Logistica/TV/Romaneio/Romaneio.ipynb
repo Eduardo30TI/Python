{
 "cells": [
  {
   "cell_type": "code",
   "execution_count": 1,
   "id": "273cc9be",
   "metadata": {},
   "outputs": [],
   "source": [
    "from Acesso import Login\n",
    "from Query import Query\n",
    "import pandas as pd\n",
    "\n",
    "pd.set_option('display.max_columns',None)\n",
    "\n",
    "s=Login()\n",
    "\n",
    "sql=Query(s.usuario,s.senha,s.database,s.server)\n",
    "\n"
   ]
  },
  {
   "cell_type": "code",
   "execution_count": 2,
   "id": "683f70d3",
   "metadata": {},
   "outputs": [],
   "source": [
    "querys={\n",
    "    \n",
    "    'Rota':\n",
    "    \n",
    "    \"\"\"\n",
    "    \n",
    "    SELECT * FROM netfeira.vw_roteiros\n",
    "    WHERE [Data da Montagem] BETWEEN (SELECT MIN(Data) \n",
    "    FROM netfeira.vw_calend\n",
    "    WHERE YEAR(Data)=YEAR(GETDATE()) AND MONTH(Data)=MONTH(GETDATE())) AND\n",
    "    (SELECT MAX(Data) \n",
    "    FROM netfeira.vw_calend\n",
    "    WHERE YEAR(Data)=YEAR(GETDATE()) AND MONTH(Data)=MONTH(GETDATE()))\n",
    "    ORDER BY [Data da Montagem] \n",
    "    \n",
    "    \"\"\",\n",
    "    \n",
    "    'Calendario':\n",
    "    \n",
    "    \"\"\"\n",
    "    \n",
    "    SELECT * FROM netfeira.vw_calend\n",
    "    WHERE YEAR(Data)=YEAR(GETDATE()) AND MONTH(Data)=MONTH(GETDATE())    \n",
    "    \n",
    "    \"\"\",\n",
    "    \n",
    "    'Log':\n",
    "    \n",
    "    \"\"\"\n",
    "    \n",
    "    SELECT * FROM netfeira.vw_log_conta\n",
    "    \n",
    "    \"\"\",\n",
    "    \n",
    "    'Meta':\n",
    "    \n",
    "    \"\"\"\n",
    "    \n",
    "    SELECT * FROM netfeira.vw_metas    \n",
    "    \n",
    "    \"\"\"\n",
    "    \n",
    "}"
   ]
  },
  {
   "cell_type": "code",
   "execution_count": 3,
   "id": "b35210c4",
   "metadata": {},
   "outputs": [],
   "source": [
    "df=sql.CriarTabela(kwargs=querys)"
   ]
  },
  {
   "cell_type": "code",
   "execution_count": 4,
   "id": "4a000f76",
   "metadata": {},
   "outputs": [
    {
     "data": {
      "text/plain": [
       "4201623.14"
      ]
     },
     "execution_count": 4,
     "metadata": {},
     "output_type": "execute_result"
    }
   ],
   "source": [
    "meta=df['Meta']['Meta R$'].sum()\n",
    "\n",
    "meta"
   ]
  },
  {
   "cell_type": "code",
   "execution_count": 5,
   "id": "554cb3ca",
   "metadata": {},
   "outputs": [],
   "source": [
    "perc=df['Log']['Perc'].values[-1]"
   ]
  },
  {
   "cell_type": "code",
   "execution_count": 6,
   "id": "1edeb443",
   "metadata": {},
   "outputs": [],
   "source": [
    "frete=df['Rota']['Frete R$'].sum()"
   ]
  },
  {
   "cell_type": "code",
   "execution_count": 7,
   "id": "c73adb0d",
   "metadata": {},
   "outputs": [],
   "source": [
    "util=df['Calendario'].loc[df['Calendario']['Dia Útil']==1,'Data'].count()\n",
    "\n",
    "meta_frete=round(meta*perc,2)\n",
    "\n",
    "meta_dia=round(meta_frete/util,2)"
   ]
  },
  {
   "cell_type": "code",
   "execution_count": 8,
   "id": "e2ce61d7",
   "metadata": {},
   "outputs": [],
   "source": [
    "df['Semana']=df['Calendario'].loc[df['Calendario']['Dia Útil']==1].groupby(['Semana Ano'],as_index=False).agg({'Dia Útil':'count'})"
   ]
  },
  {
   "cell_type": "code",
   "execution_count": 9,
   "id": "dfa3640d",
   "metadata": {},
   "outputs": [],
   "source": [
    "df['Semana']['Meta Semanal']=df['Semana']['Dia Útil']*meta_dia"
   ]
  },
  {
   "cell_type": "code",
   "execution_count": 10,
   "id": "28edba5f",
   "metadata": {},
   "outputs": [],
   "source": [
    "df['Semana']['Data Mín']=df['Semana']['Semana Ano'].apply(lambda info: df['Calendario']['Data'].loc[df['Calendario']['Semana Ano']==info].min())\n",
    "\n",
    "df['Semana']['Data Máx']=df['Semana']['Semana Ano'].apply(lambda info: df['Calendario']['Data'].loc[df['Calendario']['Semana Ano']==info].max())"
   ]
  },
  {
   "cell_type": "code",
   "execution_count": 11,
   "id": "d45d8253",
   "metadata": {},
   "outputs": [],
   "source": [
    "df['Semana']['Frete R$']=df['Semana'].apply(lambda info: df['Rota']['Frete R$'].loc[df['Rota']['Data da Montagem'].between(info['Data Mín'],info['Data Máx'])].sum(),axis=1)"
   ]
  },
  {
   "cell_type": "code",
   "execution_count": 12,
   "id": "884cad59",
   "metadata": {},
   "outputs": [],
   "source": [
    "df['Semana']['Dif']=round(df['Semana']['Meta Semanal']-df['Semana']['Frete R$'],2)"
   ]
  },
  {
   "cell_type": "code",
   "execution_count": 13,
   "id": "4ce42203",
   "metadata": {},
   "outputs": [],
   "source": [
    "soma=0\n",
    "\n",
    "valores=[]\n",
    "\n",
    "for i,total in enumerate(df['Semana']['Dif']):\n",
    "            \n",
    "    if(i==0):\n",
    "        \n",
    "        valores.append(0)\n",
    "        \n",
    "        continue\n",
    "        \n",
    "    dif=df['Semana']['Dif'].iloc[i-1].sum()\n",
    "    \n",
    "    valores.append(dif)\n",
    "    \n",
    "    pass\n",
    "\n",
    "df['Semana']['Ant Dif']=valores"
   ]
  },
  {
   "cell_type": "code",
   "execution_count": 14,
   "id": "3737570e",
   "metadata": {},
   "outputs": [],
   "source": [
    "df['Semana']['Meta Semanal']=round(df['Semana']['Meta Semanal']+df['Semana']['Ant Dif'],2)"
   ]
  },
  {
   "cell_type": "code",
   "execution_count": 15,
   "id": "23d81b77",
   "metadata": {},
   "outputs": [],
   "source": [
    "df['Semana']['Dif']=round(df['Semana']['Meta Semanal']-df['Semana']['Frete R$'],2)"
   ]
  },
  {
   "cell_type": "code",
   "execution_count": 16,
   "id": "ea53904f",
   "metadata": {},
   "outputs": [],
   "source": [
    "df['Semana'].drop(columns=['Ant Dif'],inplace=True)"
   ]
  },
  {
   "cell_type": "code",
   "execution_count": 20,
   "id": "f4cd2949",
   "metadata": {},
   "outputs": [],
   "source": [
    "df['Semana']['Perc']=round(df['Semana']['Frete R$']/df['Semana']['Meta Semanal'],2)*100"
   ]
  },
  {
   "cell_type": "code",
   "execution_count": 22,
   "id": "729d8de8",
   "metadata": {},
   "outputs": [],
   "source": [
    "df['Semana'].loc[df['Semana']['Frete R$']<=0,'Dif']=0"
   ]
  },
  {
   "cell_type": "code",
   "execution_count": 23,
   "id": "1d2c2170",
   "metadata": {},
   "outputs": [
    {
     "data": {
      "text/html": [
       "<div>\n",
       "<style scoped>\n",
       "    .dataframe tbody tr th:only-of-type {\n",
       "        vertical-align: middle;\n",
       "    }\n",
       "\n",
       "    .dataframe tbody tr th {\n",
       "        vertical-align: top;\n",
       "    }\n",
       "\n",
       "    .dataframe thead th {\n",
       "        text-align: right;\n",
       "    }\n",
       "</style>\n",
       "<table border=\"1\" class=\"dataframe\">\n",
       "  <thead>\n",
       "    <tr style=\"text-align: right;\">\n",
       "      <th></th>\n",
       "      <th>Semana Ano</th>\n",
       "      <th>Dia Útil</th>\n",
       "      <th>Meta Semanal</th>\n",
       "      <th>Data Mín</th>\n",
       "      <th>Data Máx</th>\n",
       "      <th>Frete R$</th>\n",
       "      <th>Dif</th>\n",
       "      <th>Perc</th>\n",
       "    </tr>\n",
       "  </thead>\n",
       "  <tbody>\n",
       "    <tr>\n",
       "      <th>0</th>\n",
       "      <td>49</td>\n",
       "      <td>2</td>\n",
       "      <td>15278.64</td>\n",
       "      <td>2022-12-01</td>\n",
       "      <td>2022-12-03</td>\n",
       "      <td>16340.0</td>\n",
       "      <td>-1061.36</td>\n",
       "      <td>107.0</td>\n",
       "    </tr>\n",
       "    <tr>\n",
       "      <th>1</th>\n",
       "      <td>50</td>\n",
       "      <td>5</td>\n",
       "      <td>37135.24</td>\n",
       "      <td>2022-12-04</td>\n",
       "      <td>2022-12-10</td>\n",
       "      <td>17570.0</td>\n",
       "      <td>19565.24</td>\n",
       "      <td>47.0</td>\n",
       "    </tr>\n",
       "    <tr>\n",
       "      <th>2</th>\n",
       "      <td>51</td>\n",
       "      <td>5</td>\n",
       "      <td>58823.20</td>\n",
       "      <td>2022-12-11</td>\n",
       "      <td>2022-12-17</td>\n",
       "      <td>0.0</td>\n",
       "      <td>0.00</td>\n",
       "      <td>0.0</td>\n",
       "    </tr>\n",
       "    <tr>\n",
       "      <th>3</th>\n",
       "      <td>52</td>\n",
       "      <td>5</td>\n",
       "      <td>76393.20</td>\n",
       "      <td>2022-12-18</td>\n",
       "      <td>2022-12-24</td>\n",
       "      <td>0.0</td>\n",
       "      <td>0.00</td>\n",
       "      <td>0.0</td>\n",
       "    </tr>\n",
       "    <tr>\n",
       "      <th>4</th>\n",
       "      <td>53</td>\n",
       "      <td>5</td>\n",
       "      <td>76393.20</td>\n",
       "      <td>2022-12-25</td>\n",
       "      <td>2022-12-31</td>\n",
       "      <td>0.0</td>\n",
       "      <td>0.00</td>\n",
       "      <td>0.0</td>\n",
       "    </tr>\n",
       "  </tbody>\n",
       "</table>\n",
       "</div>"
      ],
      "text/plain": [
       "   Semana Ano  Dia Útil  Meta Semanal   Data Mín   Data Máx  Frete R$  \\\n",
       "0          49         2      15278.64 2022-12-01 2022-12-03   16340.0   \n",
       "1          50         5      37135.24 2022-12-04 2022-12-10   17570.0   \n",
       "2          51         5      58823.20 2022-12-11 2022-12-17       0.0   \n",
       "3          52         5      76393.20 2022-12-18 2022-12-24       0.0   \n",
       "4          53         5      76393.20 2022-12-25 2022-12-31       0.0   \n",
       "\n",
       "        Dif   Perc  \n",
       "0  -1061.36  107.0  \n",
       "1  19565.24   47.0  \n",
       "2      0.00    0.0  \n",
       "3      0.00    0.0  \n",
       "4      0.00    0.0  "
      ]
     },
     "execution_count": 23,
     "metadata": {},
     "output_type": "execute_result"
    }
   ],
   "source": [
    "df['Semana']"
   ]
  },
  {
   "cell_type": "code",
   "execution_count": 28,
   "id": "4a16ab7c",
   "metadata": {},
   "outputs": [],
   "source": [
    "semana_ano=df['Semana'].loc[df['Semana']['Frete R$']>0,'Semana Ano'].max()"
   ]
  },
  {
   "cell_type": "code",
   "execution_count": 30,
   "id": "d76f3385",
   "metadata": {},
   "outputs": [
    {
     "data": {
      "text/plain": [
       "37135.24"
      ]
     },
     "execution_count": 30,
     "metadata": {},
     "output_type": "execute_result"
    }
   ],
   "source": [
    "df['Semana'].loc[df['Semana']['Semana Ano']==semana_ano,'Meta Semanal'].sum()"
   ]
  },
  {
   "cell_type": "code",
   "execution_count": 33,
   "id": "0ae26ff1",
   "metadata": {},
   "outputs": [
    {
     "data": {
      "text/plain": [
       "20.0"
      ]
     },
     "execution_count": 33,
     "metadata": {},
     "output_type": "execute_result"
    }
   ],
   "source": [
    "round(frete/meta_frete,2)*100"
   ]
  },
  {
   "cell_type": "code",
   "execution_count": 37,
   "id": "befc82c1",
   "metadata": {},
   "outputs": [],
   "source": [
    "df['Situacao']=df['Rota'].groupby(['Situação da Rota'],as_index=False).agg({'Frete R$':'sum'})"
   ]
  },
  {
   "cell_type": "code",
   "execution_count": 39,
   "id": "2c1ed773",
   "metadata": {},
   "outputs": [
    {
     "data": {
      "text/plain": [
       "Index(['Empresa', 'Romaneio', 'Seq. Roteiro', 'Rota', 'Pedido', 'NFe',\n",
       "       'Situação da Rota', 'Data da Montagem', 'Data da Saída',\n",
       "       'Data de Retorno', 'Data da Separação', 'ID Motor', 'Motorista',\n",
       "       'ID Veículo', 'Veículo', 'Frete Pago', 'Tipo de Rota', 'ID Cliente',\n",
       "       'ID Vendedor', 'Data do Pedido', 'Data de Faturamento', 'SKU', 'Seq.',\n",
       "       'Qtde', 'Unid. VDA', 'Qtde VDA', 'Valor VDA', 'Total Venda',\n",
       "       'Peso Bruto KG', 'Peso Líquido KG', 'Frete R$'],\n",
       "      dtype='object')"
      ]
     },
     "execution_count": 39,
     "metadata": {},
     "output_type": "execute_result"
    }
   ],
   "source": [
    "df['Rota'].columns"
   ]
  },
  {
   "cell_type": "code",
   "execution_count": 41,
   "id": "ca4df4b7",
   "metadata": {},
   "outputs": [],
   "source": [
    "df['Situacao']['Pedidos']=df['Situacao']['Situação da Rota'].apply(lambda info: len(df['Rota']['Pedido'].loc[df['Rota']['Situação da Rota']==info].unique().tolist()))"
   ]
  },
  {
   "cell_type": "code",
   "execution_count": 43,
   "id": "55bdc7fd",
   "metadata": {},
   "outputs": [],
   "source": [
    "df['Situacao'].sort_values('Pedidos',ascending=False,inplace=True)"
   ]
  },
  {
   "cell_type": "code",
   "execution_count": 46,
   "id": "65c94900",
   "metadata": {},
   "outputs": [],
   "source": [
    "df['Situacao']['Perc']=round(df['Situacao']['Pedidos']/len(df['Rota']['Pedido'].unique().tolist()),4)*100"
   ]
  },
  {
   "cell_type": "code",
   "execution_count": 49,
   "id": "799b6b42",
   "metadata": {},
   "outputs": [
    {
     "data": {
      "text/plain": [
       "34.72"
      ]
     },
     "execution_count": 49,
     "metadata": {},
     "output_type": "execute_result"
    }
   ],
   "source": [
    "df['Situacao']['Perc'].loc[df['Situacao']['Situação da Rota']=='EM ABERTO'].max()"
   ]
  },
  {
   "cell_type": "code",
   "execution_count": 51,
   "id": "f6093af2",
   "metadata": {},
   "outputs": [],
   "source": [
    "df['Regiao']=df['Rota'].groupby(['Rota'],as_index=False).agg({'Frete R$':'sum'})"
   ]
  },
  {
   "cell_type": "code",
   "execution_count": 53,
   "id": "31601e62",
   "metadata": {},
   "outputs": [],
   "source": [
    "df['Regiao']['Pedidos']=df['Regiao']['Rota'].apply(lambda info: len(df['Rota']['Pedido'].loc[df['Rota']['Rota']==info].unique().tolist()))"
   ]
  },
  {
   "cell_type": "code",
   "execution_count": 55,
   "id": "e9ce37ff",
   "metadata": {},
   "outputs": [],
   "source": [
    "df['Regiao'].sort_values('Pedidos',ascending=False,inplace=True)"
   ]
  },
  {
   "cell_type": "code",
   "execution_count": 57,
   "id": "b99d3da1",
   "metadata": {},
   "outputs": [],
   "source": [
    "df['Regiao']['Clientes']=df['Regiao']['Rota'].apply(lambda info: len(df['Rota']['ID Cliente'].loc[df['Rota']['Rota']==info].unique().tolist()))"
   ]
  },
  {
   "cell_type": "code",
   "execution_count": 59,
   "id": "89ce4b3d",
   "metadata": {},
   "outputs": [
    {
     "data": {
      "text/plain": [
       "Index(['Rota', 'Frete R$', 'Pedidos', 'Clientes'], dtype='object')"
      ]
     },
     "execution_count": 59,
     "metadata": {},
     "output_type": "execute_result"
    }
   ],
   "source": [
    "df['Regiao'].columns"
   ]
  },
  {
   "cell_type": "code",
   "execution_count": null,
   "id": "6ebc1be4",
   "metadata": {},
   "outputs": [],
   "source": []
  }
 ],
 "metadata": {
  "kernelspec": {
   "display_name": "Python 3 (ipykernel)",
   "language": "python",
   "name": "python3"
  },
  "language_info": {
   "codemirror_mode": {
    "name": "ipython",
    "version": 3
   },
   "file_extension": ".py",
   "mimetype": "text/x-python",
   "name": "python",
   "nbconvert_exporter": "python",
   "pygments_lexer": "ipython3",
   "version": "3.9.7"
  }
 },
 "nbformat": 4,
 "nbformat_minor": 5
}
