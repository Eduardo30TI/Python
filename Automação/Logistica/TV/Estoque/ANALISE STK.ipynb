{
 "cells": [
  {
   "cell_type": "code",
   "execution_count": 2,
   "id": "1a472247",
   "metadata": {},
   "outputs": [],
   "source": [
    "from Acesso import Login\n",
    "from Query import Query\n",
    "import pandas as pd\n",
    "\n",
    "s=Login()\n",
    "\n",
    "sql=Query(s.usuario,s.senha,s.database,s.server)\n",
    "\n",
    "pd.set_option('display.max_columns',None)"
   ]
  },
  {
   "cell_type": "code",
   "execution_count": 3,
   "id": "50e236c2",
   "metadata": {},
   "outputs": [],
   "source": [
    "querys={\n",
    "\n",
    "    'Estoque':\n",
    "\n",
    "    \"\"\"\n",
    "    \n",
    "    SELECT * FROM netfeira.vw_estoque\n",
    "    \n",
    "    \"\"\",\n",
    "\n",
    "    'Vendas':\n",
    "\n",
    "    \"\"\"\n",
    "    \n",
    "    DECLARE @DTBASE DATETIME,@DTFIM DATETIME, @DTINICIO DATETIME,@DIAS SMALLINT\n",
    "\n",
    "    SET @DIAS=30\n",
    "\n",
    "    SET @DTBASE=CONVERT(DATETIME,CAST(GETDATE() AS DATE),101)\n",
    "\n",
    "    SET @DTFIM=DATEADD(DAY,-1,@DTBASE)\n",
    "\n",
    "    SET @DTINICIO=DATEADD(DAY,@DIAS*-1,@DTFIM)\n",
    "\n",
    "    SELECT * FROM netfeira.vw_targetestatico\n",
    "    WHERE [Data de Faturamento] BETWEEN @DTINICIO AND @DTFIM AND [Tipo de Operação]<>'OUTROS'\n",
    "\n",
    "    \n",
    "    \"\"\"\n",
    "}"
   ]
  },
  {
   "cell_type": "code",
   "execution_count": 4,
   "id": "da45be69",
   "metadata": {},
   "outputs": [],
   "source": [
    "tabelas_df=sql.CriarTabela(kwargs=querys)"
   ]
  },
  {
   "cell_type": "code",
   "execution_count": 5,
   "id": "bce7f445",
   "metadata": {},
   "outputs": [
    {
     "data": {
      "text/plain": [
       "Index(['Local', 'Tipo', 'SKU', 'Cód. Fabricante', 'Produto', 'Fabricante',\n",
       "       'Departamento', 'Seção', 'Categoria', 'Linha', 'Fator CX', 'Unid. CMP',\n",
       "       'Estoque', 'Qtde Pendente', 'Qtde Disponível', 'Caixa Disponível',\n",
       "       'Peso Disponível', 'Qtde CMP'],\n",
       "      dtype='object')"
      ]
     },
     "execution_count": 5,
     "metadata": {},
     "output_type": "execute_result"
    }
   ],
   "source": [
    "tabelas_df['Estoque'].columns"
   ]
  },
  {
   "cell_type": "code",
   "execution_count": 6,
   "id": "131853b9",
   "metadata": {},
   "outputs": [
    {
     "data": {
      "text/plain": [
       "Index(['Origem', 'Situação Entrega', 'Usuário', 'Equipe Usuário',\n",
       "       'Data de Emissão', 'Data de Faturamento', 'Pedido', 'Nfe', 'ID Empresa',\n",
       "       'ID Cliente', 'ID Vendedor', 'Tipo de Pedido', 'Tipo de Operação',\n",
       "       'Tabelas', 'SKU', 'Qtde', 'Unid. VDA', 'Qtde VDA', 'Valor VDA',\n",
       "       'Total Geral', 'Total Venda', 'Comissão R$', 'Margem Bruta R$',\n",
       "       'Cad Vendedor', 'Situação', 'Peso Bruto KG', 'Peso Líquido KG'],\n",
       "      dtype='object')"
      ]
     },
     "execution_count": 6,
     "metadata": {},
     "output_type": "execute_result"
    }
   ],
   "source": [
    "tabelas_df['Vendas'].columns"
   ]
  },
  {
   "cell_type": "code",
   "execution_count": 7,
   "id": "88d8e713",
   "metadata": {},
   "outputs": [],
   "source": [
    "def Classificao(perc):\n",
    "    \n",
    "    if(perc<=80):\n",
    "        \n",
    "        retorno='A'\n",
    "        \n",
    "        pass\n",
    "    \n",
    "    elif(perc<=95):\n",
    "        \n",
    "        retorno='B'\n",
    "        \n",
    "        pass\n",
    "    \n",
    "    else:\n",
    "        \n",
    "        retorno='C'\n",
    "        \n",
    "        pass\n",
    "    \n",
    "    return retorno\n",
    "    \n",
    "    pass"
   ]
  },
  {
   "cell_type": "code",
   "execution_count": 8,
   "id": "ab151ea4",
   "metadata": {},
   "outputs": [
    {
     "data": {
      "text/html": [
       "<div>\n",
       "<style scoped>\n",
       "    .dataframe tbody tr th:only-of-type {\n",
       "        vertical-align: middle;\n",
       "    }\n",
       "\n",
       "    .dataframe tbody tr th {\n",
       "        vertical-align: top;\n",
       "    }\n",
       "\n",
       "    .dataframe thead th {\n",
       "        text-align: right;\n",
       "    }\n",
       "</style>\n",
       "<table border=\"1\" class=\"dataframe\">\n",
       "  <thead>\n",
       "    <tr style=\"text-align: right;\">\n",
       "      <th></th>\n",
       "      <th>SKU</th>\n",
       "      <th>Qtde</th>\n",
       "      <th>Qtde Empresa</th>\n",
       "      <th>Qtde Acumulado</th>\n",
       "      <th>Perc</th>\n",
       "      <th>Classificação</th>\n",
       "    </tr>\n",
       "  </thead>\n",
       "  <tbody>\n",
       "    <tr>\n",
       "      <th>0</th>\n",
       "      <td>1113</td>\n",
       "      <td>13025.0</td>\n",
       "      <td>195752.9328</td>\n",
       "      <td>13025.0000</td>\n",
       "      <td>6.65</td>\n",
       "      <td>A</td>\n",
       "    </tr>\n",
       "    <tr>\n",
       "      <th>1</th>\n",
       "      <td>9549</td>\n",
       "      <td>7768.0</td>\n",
       "      <td>195752.9328</td>\n",
       "      <td>20793.0000</td>\n",
       "      <td>10.62</td>\n",
       "      <td>A</td>\n",
       "    </tr>\n",
       "    <tr>\n",
       "      <th>2</th>\n",
       "      <td>1106</td>\n",
       "      <td>6578.0</td>\n",
       "      <td>195752.9328</td>\n",
       "      <td>27371.0000</td>\n",
       "      <td>13.98</td>\n",
       "      <td>A</td>\n",
       "    </tr>\n",
       "    <tr>\n",
       "      <th>3</th>\n",
       "      <td>594</td>\n",
       "      <td>5829.0</td>\n",
       "      <td>195752.9328</td>\n",
       "      <td>33200.0000</td>\n",
       "      <td>16.96</td>\n",
       "      <td>A</td>\n",
       "    </tr>\n",
       "    <tr>\n",
       "      <th>4</th>\n",
       "      <td>9337</td>\n",
       "      <td>5576.0</td>\n",
       "      <td>195752.9328</td>\n",
       "      <td>38776.0000</td>\n",
       "      <td>19.81</td>\n",
       "      <td>A</td>\n",
       "    </tr>\n",
       "    <tr>\n",
       "      <th>...</th>\n",
       "      <td>...</td>\n",
       "      <td>...</td>\n",
       "      <td>...</td>\n",
       "      <td>...</td>\n",
       "      <td>...</td>\n",
       "      <td>...</td>\n",
       "    </tr>\n",
       "    <tr>\n",
       "      <th>336</th>\n",
       "      <td>9344</td>\n",
       "      <td>1.0</td>\n",
       "      <td>195752.9328</td>\n",
       "      <td>195748.9328</td>\n",
       "      <td>100.00</td>\n",
       "      <td>C</td>\n",
       "    </tr>\n",
       "    <tr>\n",
       "      <th>337</th>\n",
       "      <td>719</td>\n",
       "      <td>1.0</td>\n",
       "      <td>195752.9328</td>\n",
       "      <td>195749.9328</td>\n",
       "      <td>100.00</td>\n",
       "      <td>C</td>\n",
       "    </tr>\n",
       "    <tr>\n",
       "      <th>338</th>\n",
       "      <td>463</td>\n",
       "      <td>1.0</td>\n",
       "      <td>195752.9328</td>\n",
       "      <td>195750.9328</td>\n",
       "      <td>100.00</td>\n",
       "      <td>C</td>\n",
       "    </tr>\n",
       "    <tr>\n",
       "      <th>339</th>\n",
       "      <td>473</td>\n",
       "      <td>1.0</td>\n",
       "      <td>195752.9328</td>\n",
       "      <td>195751.9328</td>\n",
       "      <td>100.00</td>\n",
       "      <td>C</td>\n",
       "    </tr>\n",
       "    <tr>\n",
       "      <th>340</th>\n",
       "      <td>9548</td>\n",
       "      <td>1.0</td>\n",
       "      <td>195752.9328</td>\n",
       "      <td>195752.9328</td>\n",
       "      <td>100.00</td>\n",
       "      <td>C</td>\n",
       "    </tr>\n",
       "  </tbody>\n",
       "</table>\n",
       "<p>341 rows × 6 columns</p>\n",
       "</div>"
      ],
      "text/plain": [
       "      SKU     Qtde  Qtde Empresa  Qtde Acumulado    Perc Classificação\n",
       "0    1113  13025.0   195752.9328      13025.0000    6.65             A\n",
       "1    9549   7768.0   195752.9328      20793.0000   10.62             A\n",
       "2    1106   6578.0   195752.9328      27371.0000   13.98             A\n",
       "3     594   5829.0   195752.9328      33200.0000   16.96             A\n",
       "4    9337   5576.0   195752.9328      38776.0000   19.81             A\n",
       "..    ...      ...           ...             ...     ...           ...\n",
       "336  9344      1.0   195752.9328     195748.9328  100.00             C\n",
       "337   719      1.0   195752.9328     195749.9328  100.00             C\n",
       "338   463      1.0   195752.9328     195750.9328  100.00             C\n",
       "339   473      1.0   195752.9328     195751.9328  100.00             C\n",
       "340  9548      1.0   195752.9328     195752.9328  100.00             C\n",
       "\n",
       "[341 rows x 6 columns]"
      ]
     },
     "execution_count": 8,
     "metadata": {},
     "output_type": "execute_result"
    }
   ],
   "source": [
    "vendas_df=pd.DataFrame()\n",
    "\n",
    "vendas_df=tabelas_df['Vendas'][['SKU','Qtde']].groupby(['SKU'],as_index=False).sum()\n",
    "\n",
    "vendas_df.sort_values('Qtde',ascending=False,ignore_index=True,inplace=True)\n",
    "\n",
    "qtde=vendas_df['Qtde'].sum()\n",
    "\n",
    "vendas_df['Qtde Empresa']=qtde\n",
    "\n",
    "vendas_df=vendas_df.loc[vendas_df['Qtde']>0]\n",
    "\n",
    "res=0\n",
    "\n",
    "valores=[]\n",
    "\n",
    "for indice,linha in vendas_df.iterrows():\n",
    "    \n",
    "    res+=linha['Qtde'].sum()\n",
    "    \n",
    "    valores.append(res)\n",
    "    \n",
    "    pass\n",
    "\n",
    "vendas_df['Qtde Acumulado']=valores\n",
    "\n",
    "vendas_df['Perc']=vendas_df.apply(lambda info: round(info['Qtde Acumulado']/info['Qtde Empresa'],4)*100,axis=1)\n",
    "\n",
    "vendas_df['Classificação']=vendas_df['Perc'].apply(Classificao)\n",
    "\n",
    "vendas_df"
   ]
  },
  {
   "cell_type": "code",
   "execution_count": 9,
   "id": "f4e64100",
   "metadata": {},
   "outputs": [],
   "source": [
    "estoque_df=pd.DataFrame()\n",
    "\n",
    "estoque_df=tabelas_df['Estoque'].merge(vendas_df,on='SKU',how='left')[['Local', 'Tipo', 'SKU', 'Cód. Fabricante', 'Produto', 'Fabricante',\n",
    "       'Departamento', 'Seção', 'Categoria', 'Linha', 'Fator CX', 'Unid. CMP',\n",
    "       'Qtde Disponível', 'Caixa Disponível', 'Peso Disponível', 'Qtde CMP','Classificação','Perc']]"
   ]
  },
  {
   "cell_type": "code",
   "execution_count": 10,
   "id": "5dc929bc",
   "metadata": {},
   "outputs": [],
   "source": [
    "local_df=pd.DataFrame()\n",
    "\n",
    "local_df=estoque_df[['Local','Qtde Disponível']].groupby(['Local'],as_index=False).sum()\n",
    "\n",
    "local_df=local_df.loc[local_df['Qtde Disponível']>0]\n",
    "\n",
    "locais=local_df['Local'].tolist()"
   ]
  },
  {
   "cell_type": "code",
   "execution_count": 11,
   "id": "027aa287",
   "metadata": {},
   "outputs": [],
   "source": [
    "estoque_df=estoque_df.loc[estoque_df['Local'].isin(locais)]"
   ]
  },
  {
   "cell_type": "code",
   "execution_count": 12,
   "id": "b354ff39",
   "metadata": {},
   "outputs": [
    {
     "data": {
      "text/plain": [
       "Index(['Local', 'Tipo', 'SKU', 'Cód. Fabricante', 'Produto', 'Fabricante',\n",
       "       'Departamento', 'Seção', 'Categoria', 'Linha', 'Fator CX', 'Unid. CMP',\n",
       "       'Qtde Disponível', 'Caixa Disponível', 'Peso Disponível', 'Qtde CMP',\n",
       "       'Classificação', 'Perc'],\n",
       "      dtype='object')"
      ]
     },
     "execution_count": 12,
     "metadata": {},
     "output_type": "execute_result"
    }
   ],
   "source": [
    "estoque_df.columns"
   ]
  },
  {
   "cell_type": "code",
   "execution_count": 13,
   "id": "9a916f04",
   "metadata": {},
   "outputs": [],
   "source": [
    "estoque_df=estoque_df[['SKU', 'Cód. Fabricante', 'Produto', 'Fabricante',\n",
    "       'Departamento', 'Seção', 'Categoria', 'Linha','Classificação','Perc','Qtde Disponível']].groupby(['SKU', 'Cód. Fabricante', 'Produto', 'Fabricante',\n",
    "       'Departamento', 'Seção', 'Categoria', 'Linha','Classificação','Perc'],as_index=False).sum()"
   ]
  },
  {
   "cell_type": "code",
   "execution_count": 14,
   "id": "230d787f",
   "metadata": {},
   "outputs": [
    {
     "data": {
      "text/plain": [
       "338"
      ]
     },
     "execution_count": 14,
     "metadata": {},
     "output_type": "execute_result"
    }
   ],
   "source": [
    "qtde_prod=len(estoque_df['SKU'].unique().tolist())\n",
    "\n",
    "qtde_prod"
   ]
  },
  {
   "cell_type": "code",
   "execution_count": 15,
   "id": "0e6a48be",
   "metadata": {},
   "outputs": [
    {
     "data": {
      "text/plain": [
       "74"
      ]
     },
     "execution_count": 15,
     "metadata": {},
     "output_type": "execute_result"
    }
   ],
   "source": [
    "len(estoque_df['SKU'].loc[estoque_df['Classificação']=='A'].unique().tolist())"
   ]
  },
  {
   "cell_type": "code",
   "execution_count": 16,
   "id": "e7c83c36",
   "metadata": {},
   "outputs": [
    {
     "data": {
      "text/plain": [
       "68"
      ]
     },
     "execution_count": 16,
     "metadata": {},
     "output_type": "execute_result"
    }
   ],
   "source": [
    "len(estoque_df['SKU'].loc[estoque_df['Classificação']=='B'].unique().tolist())"
   ]
  },
  {
   "cell_type": "code",
   "execution_count": 17,
   "id": "641899ec",
   "metadata": {},
   "outputs": [
    {
     "data": {
      "text/plain": [
       "196"
      ]
     },
     "execution_count": 17,
     "metadata": {},
     "output_type": "execute_result"
    }
   ],
   "source": [
    "len(estoque_df['SKU'].loc[estoque_df['Classificação']=='C'].unique().tolist())"
   ]
  },
  {
   "cell_type": "code",
   "execution_count": 18,
   "id": "00322ae2",
   "metadata": {},
   "outputs": [
    {
     "data": {
      "text/html": [
       "<div>\n",
       "<style scoped>\n",
       "    .dataframe tbody tr th:only-of-type {\n",
       "        vertical-align: middle;\n",
       "    }\n",
       "\n",
       "    .dataframe tbody tr th {\n",
       "        vertical-align: top;\n",
       "    }\n",
       "\n",
       "    .dataframe thead th {\n",
       "        text-align: right;\n",
       "    }\n",
       "</style>\n",
       "<table border=\"1\" class=\"dataframe\">\n",
       "  <thead>\n",
       "    <tr style=\"text-align: right;\">\n",
       "      <th></th>\n",
       "      <th>Classificação</th>\n",
       "      <th>SKU</th>\n",
       "      <th>Contagem</th>\n",
       "      <th>Perc</th>\n",
       "    </tr>\n",
       "  </thead>\n",
       "  <tbody>\n",
       "    <tr>\n",
       "      <th>0</th>\n",
       "      <td>A</td>\n",
       "      <td>74</td>\n",
       "      <td>338</td>\n",
       "      <td>21.89</td>\n",
       "    </tr>\n",
       "    <tr>\n",
       "      <th>1</th>\n",
       "      <td>B</td>\n",
       "      <td>68</td>\n",
       "      <td>338</td>\n",
       "      <td>20.12</td>\n",
       "    </tr>\n",
       "    <tr>\n",
       "      <th>2</th>\n",
       "      <td>C</td>\n",
       "      <td>196</td>\n",
       "      <td>338</td>\n",
       "      <td>57.99</td>\n",
       "    </tr>\n",
       "  </tbody>\n",
       "</table>\n",
       "</div>"
      ],
      "text/plain": [
       "  Classificação  SKU  Contagem   Perc\n",
       "0             A   74       338  21.89\n",
       "1             B   68       338  20.12\n",
       "2             C  196       338  57.99"
      ]
     },
     "execution_count": 18,
     "metadata": {},
     "output_type": "execute_result"
    }
   ],
   "source": [
    "classificacao_df=pd.DataFrame()\n",
    "\n",
    "classificacao_df=estoque_df[['Classificação','SKU']].groupby(['Classificação'],as_index=False).count()\n",
    "\n",
    "classificacao_df['Contagem']=qtde_prod\n",
    "\n",
    "classificacao_df['Perc']=classificacao_df.apply(lambda info: round(info['SKU']/info['Contagem'],4)*100,axis=1)\n",
    "\n",
    "classificacao_df"
   ]
  },
  {
   "cell_type": "code",
   "execution_count": 31,
   "id": "b776c651",
   "metadata": {},
   "outputs": [
    {
     "data": {
      "text/html": [
       "<div>\n",
       "<style scoped>\n",
       "    .dataframe tbody tr th:only-of-type {\n",
       "        vertical-align: middle;\n",
       "    }\n",
       "\n",
       "    .dataframe tbody tr th {\n",
       "        vertical-align: top;\n",
       "    }\n",
       "\n",
       "    .dataframe thead th {\n",
       "        text-align: right;\n",
       "    }\n",
       "</style>\n",
       "<table border=\"1\" class=\"dataframe\">\n",
       "  <thead>\n",
       "    <tr style=\"text-align: right;\">\n",
       "      <th></th>\n",
       "      <th>SKU</th>\n",
       "      <th>Produto</th>\n",
       "      <th>Perc</th>\n",
       "    </tr>\n",
       "  </thead>\n",
       "  <tbody>\n",
       "    <tr>\n",
       "      <th>0</th>\n",
       "      <td>95</td>\n",
       "      <td>IQF FRAMBOESA CONGELADOS 1,200 KG</td>\n",
       "      <td>73.44</td>\n",
       "    </tr>\n",
       "    <tr>\n",
       "      <th>1</th>\n",
       "      <td>9566</td>\n",
       "      <td>CONGELADO BROCOLIS DE MARCHI FG ( 1,2KG )</td>\n",
       "      <td>45.16</td>\n",
       "    </tr>\n",
       "    <tr>\n",
       "      <th>2</th>\n",
       "      <td>9568</td>\n",
       "      <td>SUCO PINK LEMONADE 300ML DEMARCHI</td>\n",
       "      <td>22.33</td>\n",
       "    </tr>\n",
       "  </tbody>\n",
       "</table>\n",
       "</div>"
      ],
      "text/plain": [
       "    SKU                                    Produto   Perc\n",
       "0    95          IQF FRAMBOESA CONGELADOS 1,200 KG  73.44\n",
       "1  9566  CONGELADO BROCOLIS DE MARCHI FG ( 1,2KG )  45.16\n",
       "2  9568          SUCO PINK LEMONADE 300ML DEMARCHI  22.33"
      ]
     },
     "execution_count": 31,
     "metadata": {},
     "output_type": "execute_result"
    }
   ],
   "source": [
    "df=estoque_df[['SKU','Produto','Perc']].loc[(estoque_df['Classificação']=='A')&(estoque_df['Qtde Disponível']<=0)]\n",
    "\n",
    "df.sort_values('Perc',ascending=False,ignore_index=True,inplace=True)\n",
    "\n",
    "df"
   ]
  },
  {
   "cell_type": "code",
   "execution_count": 20,
   "id": "7d0a45f0",
   "metadata": {},
   "outputs": [
    {
     "data": {
      "text/plain": [
       "2745.0"
      ]
     },
     "execution_count": 20,
     "metadata": {},
     "output_type": "execute_result"
    }
   ],
   "source": [
    "tabelas_df['Estoque']['Qtde Pendente'].loc[tabelas_df['Estoque']['Local'].isin(locais)].sum()"
   ]
  },
  {
   "cell_type": "code",
   "execution_count": 21,
   "id": "a6566cf9",
   "metadata": {},
   "outputs": [
    {
     "data": {
      "text/plain": [
       "338"
      ]
     },
     "execution_count": 21,
     "metadata": {},
     "output_type": "execute_result"
    }
   ],
   "source": [
    "len(estoque_df['SKU'].unique().tolist())"
   ]
  },
  {
   "cell_type": "code",
   "execution_count": 22,
   "id": "3fc2ab77",
   "metadata": {},
   "outputs": [],
   "source": [
    "prod_disp=len(estoque_df['SKU'].loc[estoque_df['Qtde Disponível']<=0].unique().tolist())"
   ]
  },
  {
   "cell_type": "code",
   "execution_count": 26,
   "id": "a205eb48",
   "metadata": {},
   "outputs": [],
   "source": [
    "prod_ativo=qtde_prod-prod_disp"
   ]
  },
  {
   "cell_type": "code",
   "execution_count": 27,
   "id": "9292b5c2",
   "metadata": {},
   "outputs": [],
   "source": [
    "perc=round(prod_ativo/qtde_prod,4)*100"
   ]
  },
  {
   "cell_type": "code",
   "execution_count": 28,
   "id": "4521ddf6",
   "metadata": {},
   "outputs": [
    {
     "data": {
      "text/plain": [
       "84.32"
      ]
     },
     "execution_count": 28,
     "metadata": {},
     "output_type": "execute_result"
    }
   ],
   "source": [
    "perc"
   ]
  },
  {
   "cell_type": "code",
   "execution_count": 25,
   "id": "38219363",
   "metadata": {},
   "outputs": [
    {
     "data": {
      "text/plain": [
       "3"
      ]
     },
     "execution_count": 25,
     "metadata": {},
     "output_type": "execute_result"
    }
   ],
   "source": [
    "len(estoque_df['SKU'].loc[(estoque_df['Classificação']=='A')&(estoque_df['Qtde Disponível']<=0)].unique().tolist())"
   ]
  },
  {
   "cell_type": "code",
   "execution_count": null,
   "id": "af764327",
   "metadata": {},
   "outputs": [],
   "source": []
  }
 ],
 "metadata": {
  "kernelspec": {
   "display_name": "Python 3 (ipykernel)",
   "language": "python",
   "name": "python3"
  },
  "language_info": {
   "codemirror_mode": {
    "name": "ipython",
    "version": 3
   },
   "file_extension": ".py",
   "mimetype": "text/x-python",
   "name": "python",
   "nbconvert_exporter": "python",
   "pygments_lexer": "ipython3",
   "version": "3.9.7"
  }
 },
 "nbformat": 4,
 "nbformat_minor": 5
}
