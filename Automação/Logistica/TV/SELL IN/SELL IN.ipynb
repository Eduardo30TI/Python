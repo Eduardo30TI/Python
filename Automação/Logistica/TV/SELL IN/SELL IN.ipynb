{
 "cells": [
  {
   "cell_type": "code",
   "execution_count": 1,
   "id": "ed648d92",
   "metadata": {},
   "outputs": [],
   "source": [
    "import pandas as pd\n",
    "from Acesso import Login\n",
    "from Query import Query\n",
    "from datetime import datetime,timedelta\n",
    "\n",
    "pd.set_option('display.max_columns',None)\n",
    "\n",
    "s=Login()\n",
    "\n",
    "sql=Query(s.usuario,s.senha,s.database,s.server)"
   ]
  },
  {
   "cell_type": "code",
   "execution_count": 19,
   "id": "87c97d25",
   "metadata": {},
   "outputs": [],
   "source": [
    "querys={\n",
    "    \n",
    "    'TabMargem':\n",
    "    \n",
    "    \"\"\"\n",
    "    \n",
    "    SELECT * FROM netfeira.vw_targetmargem\n",
    "    \n",
    "    \"\"\",\n",
    "    \n",
    "    'SELLIN':\n",
    "    \n",
    "    \"\"\"\n",
    "    \n",
    "    SELECT * FROM netfeira.vw_sellin\n",
    "    WHERE Empresa='NETFEIRA'\n",
    "\n",
    "    \"\"\",\n",
    "    \n",
    "    'Metas':\n",
    "    \n",
    "    \"\"\"\n",
    "    \n",
    "    SELECT * FROM netfeira.vw_metas\n",
    "    \n",
    "    \"\"\",\n",
    "    \n",
    "    'Calendario':\n",
    "    \n",
    "    \"\"\"\n",
    "    \n",
    "    SELECT * FROM netfeira.vw_calend\n",
    "    WHERE Ano=YEAR(GETDATE()) AND [ID Mês]=MONTH(GETDATE())\n",
    "    \n",
    "    \"\"\"\n",
    "    \n",
    "    \n",
    "}"
   ]
  },
  {
   "cell_type": "code",
   "execution_count": 20,
   "id": "d8754d3c",
   "metadata": {},
   "outputs": [],
   "source": [
    "tabelas_df=sql.CriarTabela(kwargs=querys)"
   ]
  },
  {
   "cell_type": "code",
   "execution_count": 21,
   "id": "a8dfbddd",
   "metadata": {},
   "outputs": [],
   "source": [
    "def Classificacao(val):\n",
    "    \n",
    "    if(val<=80):\n",
    "        \n",
    "        tipo='A'\n",
    "        \n",
    "        pass\n",
    "    \n",
    "    elif(val<=95):\n",
    "        \n",
    "        tipo='B'\n",
    "        \n",
    "        pass\n",
    "    \n",
    "    else:\n",
    "        \n",
    "        tipo='C'\n",
    "        \n",
    "        pass\n",
    "    \n",
    "    return tipo\n",
    "    \n",
    "    \n",
    "    pass"
   ]
  },
  {
   "cell_type": "code",
   "execution_count": 22,
   "id": "77b80bff",
   "metadata": {},
   "outputs": [
    {
     "data": {
      "text/plain": [
       "0.6656"
      ]
     },
     "execution_count": 22,
     "metadata": {},
     "output_type": "execute_result"
    }
   ],
   "source": [
    "perc_meta=1-round(tabelas_df['TabMargem']['Margem Média'].mean(),4)\n",
    "\n",
    "perc_meta"
   ]
  },
  {
   "cell_type": "code",
   "execution_count": 23,
   "id": "2eb3aa48",
   "metadata": {},
   "outputs": [
    {
     "data": {
      "text/plain": [
       "0.0"
      ]
     },
     "execution_count": 23,
     "metadata": {},
     "output_type": "execute_result"
    }
   ],
   "source": [
    "total=tabelas_df['Metas']['Meta R$'].sum()\n",
    "\n",
    "val_meta=round(total*perc_meta,2)\n",
    "\n",
    "val_meta"
   ]
  },
  {
   "cell_type": "code",
   "execution_count": 24,
   "id": "ff9fb514",
   "metadata": {},
   "outputs": [
    {
     "data": {
      "text/plain": [
       "Index(['Data', 'Dia Útil', 'Data Trabalhada', 'Ano', 'ID Mês', 'Mês',\n",
       "       'Mês Resumido', 'Dia', 'Mês Meta', 'ID Semana', 'Semana',\n",
       "       'Trimestre Ano', 'Semestre Ano', 'Semana Ano'],\n",
       "      dtype='object')"
      ]
     },
     "execution_count": 24,
     "metadata": {},
     "output_type": "execute_result"
    }
   ],
   "source": [
    "tabelas_df['Calendario'].columns"
   ]
  },
  {
   "cell_type": "code",
   "execution_count": 25,
   "id": "13c83a07",
   "metadata": {},
   "outputs": [
    {
     "data": {
      "text/plain": [
       "[Timestamp('2022-11-01 00:00:00'),\n",
       " Timestamp('2022-11-03 00:00:00'),\n",
       " Timestamp('2022-11-04 00:00:00')]"
      ]
     },
     "execution_count": 25,
     "metadata": {},
     "output_type": "execute_result"
    }
   ],
   "source": [
    "semana_atu=tabelas_df['Calendario']['Semana Ano'].loc[(tabelas_df['Calendario']['Ano']==datetime.now().year)&(tabelas_df['Calendario']['ID Mês']==datetime.now().month)&(tabelas_df['Calendario']['Dia']==datetime.now().day)].max()\n",
    "\n",
    "list_datas=tabelas_df['Calendario']['Data'].loc[tabelas_df['Calendario']['Semana Ano']==semana_atu].loc[tabelas_df['Calendario']['Dia Útil']==True].tolist()\n",
    "\n",
    "list_datas"
   ]
  },
  {
   "cell_type": "code",
   "execution_count": 30,
   "id": "6c4b757e",
   "metadata": {},
   "outputs": [
    {
     "data": {
      "text/html": [
       "<div>\n",
       "<style scoped>\n",
       "    .dataframe tbody tr th:only-of-type {\n",
       "        vertical-align: middle;\n",
       "    }\n",
       "\n",
       "    .dataframe tbody tr th {\n",
       "        vertical-align: top;\n",
       "    }\n",
       "\n",
       "    .dataframe thead th {\n",
       "        text-align: right;\n",
       "    }\n",
       "</style>\n",
       "<table border=\"1\" class=\"dataframe\">\n",
       "  <thead>\n",
       "    <tr style=\"text-align: right;\">\n",
       "      <th></th>\n",
       "      <th>Semana Ano</th>\n",
       "      <th>Dia</th>\n",
       "      <th>Data Trabalhada</th>\n",
       "      <th>Positivado</th>\n",
       "      <th>Meta Semanal</th>\n",
       "      <th>Valor Semanal</th>\n",
       "      <th>Dif Semanal</th>\n",
       "      <th>Perc %</th>\n",
       "    </tr>\n",
       "  </thead>\n",
       "  <tbody>\n",
       "    <tr>\n",
       "      <th>0</th>\n",
       "      <td>45</td>\n",
       "      <td>3</td>\n",
       "      <td>1</td>\n",
       "      <td>0</td>\n",
       "      <td>0.0</td>\n",
       "      <td>0.0</td>\n",
       "      <td>0.0</td>\n",
       "      <td>0.0</td>\n",
       "    </tr>\n",
       "    <tr>\n",
       "      <th>1</th>\n",
       "      <td>46</td>\n",
       "      <td>5</td>\n",
       "      <td>0</td>\n",
       "      <td>0</td>\n",
       "      <td>0.0</td>\n",
       "      <td>0.0</td>\n",
       "      <td>0.0</td>\n",
       "      <td>0.0</td>\n",
       "    </tr>\n",
       "    <tr>\n",
       "      <th>2</th>\n",
       "      <td>47</td>\n",
       "      <td>4</td>\n",
       "      <td>0</td>\n",
       "      <td>0</td>\n",
       "      <td>0.0</td>\n",
       "      <td>0.0</td>\n",
       "      <td>0.0</td>\n",
       "      <td>0.0</td>\n",
       "    </tr>\n",
       "    <tr>\n",
       "      <th>3</th>\n",
       "      <td>48</td>\n",
       "      <td>5</td>\n",
       "      <td>0</td>\n",
       "      <td>0</td>\n",
       "      <td>0.0</td>\n",
       "      <td>0.0</td>\n",
       "      <td>0.0</td>\n",
       "      <td>0.0</td>\n",
       "    </tr>\n",
       "    <tr>\n",
       "      <th>4</th>\n",
       "      <td>49</td>\n",
       "      <td>3</td>\n",
       "      <td>0</td>\n",
       "      <td>0</td>\n",
       "      <td>0.0</td>\n",
       "      <td>0.0</td>\n",
       "      <td>0.0</td>\n",
       "      <td>0.0</td>\n",
       "    </tr>\n",
       "  </tbody>\n",
       "</table>\n",
       "</div>"
      ],
      "text/plain": [
       "   Semana Ano  Dia  Data Trabalhada  Positivado  Meta Semanal  Valor Semanal  \\\n",
       "0          45    3                1           0           0.0            0.0   \n",
       "1          46    5                0           0           0.0            0.0   \n",
       "2          47    4                0           0           0.0            0.0   \n",
       "3          48    5                0           0           0.0            0.0   \n",
       "4          49    3                0           0           0.0            0.0   \n",
       "\n",
       "   Dif Semanal  Perc %  \n",
       "0          0.0     0.0  \n",
       "1          0.0     0.0  \n",
       "2          0.0     0.0  \n",
       "3          0.0     0.0  \n",
       "4          0.0     0.0  "
      ]
     },
     "execution_count": 30,
     "metadata": {},
     "output_type": "execute_result"
    }
   ],
   "source": [
    "tabelas_df['Semana Ano']=tabelas_df['Calendario'][['Semana Ano','Dia','Data Trabalhada']].loc[tabelas_df['Calendario']['Dia Útil']==True].groupby(['Semana Ano'],as_index=False).count()\n",
    "\n",
    "tabelas_df['Semana Ano']['Positivado']=tabelas_df['Semana Ano'].apply(lambda info: 1 if info['Dia']==info['Data Trabalhada'] else 0,axis=1)\n",
    "\n",
    "semana_util=tabelas_df['Semana Ano']['Semana Ano'].count()\n",
    "\n",
    "semana_trab=tabelas_df['Semana Ano']['Semana Ano'].loc[tabelas_df['Semana Ano']['Positivado']==1].count()\n",
    "\n",
    "dia_util=tabelas_df['Semana Ano']['Dia'].sum()\n",
    "\n",
    "valores=[]\n",
    "\n",
    "for i in tabelas_df['Semana Ano']['Semana Ano'].tolist():\n",
    "    \n",
    "    list_datas=tabelas_df['Calendario']['Data'].loc[tabelas_df['Calendario']['Semana Ano']==i].loc[tabelas_df['Calendario']['Dia Útil']==True].tolist()\n",
    "    \n",
    "    val_semana=round(tabelas_df['SELLIN']['Total NFe'].loc[(tabelas_df['SELLIN']['Tipo']=='PADRAO')&(tabelas_df['SELLIN']['Data de Recebimento'].isin(list_datas))].sum(),2)\n",
    "    \n",
    "    valores.append(val_semana)\n",
    "    \n",
    "    pass\n",
    "\n",
    "tabelas_df['Semana Ano']['Meta Semanal']=round((val_meta/dia_util)*tabelas_df['Semana Ano']['Dia'],2)\n",
    "\n",
    "tabelas_df['Semana Ano']['Valor Semanal']=valores\n",
    "\n",
    "tabelas_df['Semana Ano']['Dif Semanal']=tabelas_df['Semana Ano']['Meta Semanal']-tabelas_df['Semana Ano']['Valor Semanal']\n",
    "\n",
    "for i,val in enumerate(tabelas_df['Semana Ano']['Semana Ano'].tolist()):\n",
    "    \n",
    "    if(i==0):\n",
    "        \n",
    "        valores.append(0)\n",
    "        \n",
    "        pass\n",
    "    \n",
    "    else:\n",
    "        \n",
    "        soma=tabelas_df['Semana Ano']['Dif Semanal'].loc[tabelas_df['Semana Ano']['Semana Ano']==(val-1)].sum()\n",
    "                \n",
    "        tabelas_df['Semana Ano'].loc[tabelas_df['Semana Ano']['Semana Ano']==val,'Meta Semanal']=tabelas_df['Semana Ano']['Meta Semanal'].loc[tabelas_df['Semana Ano']['Semana Ano']==val]+soma\n",
    "        \n",
    "        pass\n",
    "    \n",
    "    pass\n",
    "\n",
    "tabelas_df['Semana Ano']['Dif Semanal']=tabelas_df['Semana Ano']['Meta Semanal']-tabelas_df['Semana Ano']['Valor Semanal']\n",
    "\n",
    "tabelas_df['Semana Ano']['Perc %']=round(tabelas_df['Semana Ano']['Valor Semanal']/tabelas_df['Semana Ano']['Meta Semanal'],4)*100\n",
    "\n",
    "tabelas_df['Semana Ano'].loc[tabelas_df['Semana Ano']['Perc %'].isnull(),'Perc %']=0\n",
    "\n",
    "tabelas_df['Semana Ano']"
   ]
  },
  {
   "cell_type": "code",
   "execution_count": 31,
   "id": "c6615524",
   "metadata": {},
   "outputs": [
    {
     "data": {
      "text/plain": [
       "0.0"
      ]
     },
     "execution_count": 31,
     "metadata": {},
     "output_type": "execute_result"
    }
   ],
   "source": [
    "val_semana=round(tabelas_df['SELLIN']['Total NFe'].loc[(tabelas_df['SELLIN']['Tipo']=='PADRAO')&(tabelas_df['SELLIN']['Data de Recebimento'].isin(list_datas))].sum(),2)\n",
    "\n",
    "val_semana"
   ]
  },
  {
   "cell_type": "code",
   "execution_count": 32,
   "id": "cf4c1a8b",
   "metadata": {},
   "outputs": [
    {
     "data": {
      "text/plain": [
       "0.0"
      ]
     },
     "execution_count": 32,
     "metadata": {},
     "output_type": "execute_result"
    }
   ],
   "source": [
    "meta_semanal=round((val_meta/dia_util)*len(list_datas),2)\n",
    "\n",
    "meta_semanal"
   ]
  },
  {
   "cell_type": "code",
   "execution_count": 33,
   "id": "db4eee0d",
   "metadata": {},
   "outputs": [
    {
     "data": {
      "text/plain": [
       "Index(['Empresa', 'ID Fornecedor', 'CNPJ', 'Fornecedor', 'NFe',\n",
       "       'Data de Emissão', 'Data de Recebimento', 'Local de Estoque',\n",
       "       'Tipo de Entrada', 'Tipo', 'SKU', 'Cód. Fabricante', 'Produto',\n",
       "       'Fabricante', 'Status', 'Seq', 'Unid. CMP', 'Qtde Total',\n",
       "       'Valor Unitário', 'Total dos Produtos', 'Peso Bruto', 'Peso Líquido',\n",
       "       'PIS R$', 'COFINS R$', 'IPI R$', 'ICMS R$', 'ICMS ST R$', 'Frete R$',\n",
       "       'Total NFe'],\n",
       "      dtype='object')"
      ]
     },
     "execution_count": 33,
     "metadata": {},
     "output_type": "execute_result"
    }
   ],
   "source": [
    "tabelas_df['SELLIN'].columns"
   ]
  },
  {
   "cell_type": "code",
   "execution_count": 34,
   "id": "7845faac",
   "metadata": {},
   "outputs": [],
   "source": [
    "dt_atual=datetime.now()-timedelta(days=1)\n",
    "\n",
    "dt_ant=datetime.now()-timedelta(days=7)"
   ]
  },
  {
   "cell_type": "code",
   "execution_count": 37,
   "id": "da8031b9",
   "metadata": {},
   "outputs": [
    {
     "data": {
      "text/html": [
       "<div>\n",
       "<style scoped>\n",
       "    .dataframe tbody tr th:only-of-type {\n",
       "        vertical-align: middle;\n",
       "    }\n",
       "\n",
       "    .dataframe tbody tr th {\n",
       "        vertical-align: top;\n",
       "    }\n",
       "\n",
       "    .dataframe thead th {\n",
       "        text-align: right;\n",
       "    }\n",
       "</style>\n",
       "<table border=\"1\" class=\"dataframe\">\n",
       "  <thead>\n",
       "    <tr style=\"text-align: right;\">\n",
       "      <th></th>\n",
       "      <th>Classificação</th>\n",
       "      <th>Total NFe</th>\n",
       "      <th>SKU</th>\n",
       "    </tr>\n",
       "  </thead>\n",
       "  <tbody>\n",
       "    <tr>\n",
       "      <th>0</th>\n",
       "      <td>A</td>\n",
       "      <td>388208.40</td>\n",
       "      <td>13</td>\n",
       "    </tr>\n",
       "    <tr>\n",
       "      <th>1</th>\n",
       "      <td>B</td>\n",
       "      <td>73622.69</td>\n",
       "      <td>22</td>\n",
       "    </tr>\n",
       "    <tr>\n",
       "      <th>2</th>\n",
       "      <td>C</td>\n",
       "      <td>25124.04</td>\n",
       "      <td>23</td>\n",
       "    </tr>\n",
       "  </tbody>\n",
       "</table>\n",
       "</div>"
      ],
      "text/plain": [
       "  Classificação  Total NFe  SKU\n",
       "0             A  388208.40   13\n",
       "1             B   73622.69   22\n",
       "2             C   25124.04   23"
      ]
     },
     "execution_count": 37,
     "metadata": {},
     "output_type": "execute_result"
    }
   ],
   "source": [
    "tabelas_df['Consolidado']=tabelas_df['SELLIN'].loc[(tabelas_df['SELLIN']['Tipo']=='PADRAO')&(tabelas_df['SELLIN']['Data de Recebimento'].between(dt_ant,dt_atual))]\n",
    "\n",
    "tabelas_df['Consolidado']=tabelas_df['Consolidado'][['SKU','Produto','Fabricante','Total NFe']].groupby(['SKU','Produto','Fabricante'],as_index=False).sum()\n",
    "\n",
    "tabelas_df['Consolidado'].sort_values('Total NFe',ascending=False,ignore_index=True,inplace=True)\n",
    "\n",
    "valores=[]\n",
    "\n",
    "soma=0\n",
    "\n",
    "total=tabelas_df['Consolidado']['Total NFe'].sum()\n",
    "\n",
    "for val in tabelas_df['Consolidado']['Total NFe'].tolist():\n",
    "    \n",
    "    soma+=val\n",
    "    \n",
    "    valores.append(soma)    \n",
    "    \n",
    "    pass\n",
    "\n",
    "tabelas_df['Consolidado']['Acumulado']=valores\n",
    "\n",
    "tabelas_df['Consolidado']['Total']=total\n",
    "\n",
    "tabelas_df['Consolidado']['Perc %']=round(tabelas_df['Consolidado']['Acumulado']/tabelas_df['Consolidado']['Total'],4)*100\n",
    "\n",
    "tabelas_df['Consolidado']['Classificação']=tabelas_df['Consolidado']['Perc %'].apply(Classificacao)\n",
    "\n",
    "tabelas_df['Classificação ABC']=tabelas_df['Consolidado'].groupby(['Classificação'],as_index=False).agg({'Total NFe':'sum','SKU':'count'})\n",
    "\n",
    "tabelas_df['Classificação ABC']"
   ]
  },
  {
   "cell_type": "code",
   "execution_count": 39,
   "id": "046d67dd",
   "metadata": {},
   "outputs": [
    {
     "data": {
      "text/plain": [
       "0"
      ]
     },
     "execution_count": 39,
     "metadata": {},
     "output_type": "execute_result"
    }
   ],
   "source": [
    "perc_real=round(val_semana/meta_semanal,4)*100 if meta_semanal>0 else 0\n",
    "\n",
    "perc_real"
   ]
  },
  {
   "cell_type": "code",
   "execution_count": 40,
   "id": "95631eaf",
   "metadata": {},
   "outputs": [
    {
     "data": {
      "text/plain": [
       "0.0"
      ]
     },
     "execution_count": 40,
     "metadata": {},
     "output_type": "execute_result"
    }
   ],
   "source": [
    "dif_semanal=val_semana-meta_semanal\n",
    "\n",
    "\n",
    "dif_semanal"
   ]
  },
  {
   "cell_type": "code",
   "execution_count": 41,
   "id": "029f6afd",
   "metadata": {},
   "outputs": [
    {
     "data": {
      "text/plain": [
       "0.0"
      ]
     },
     "execution_count": 41,
     "metadata": {},
     "output_type": "execute_result"
    }
   ],
   "source": [
    "val_total=round(tabelas_df['SELLIN']['Total NFe'].loc[(tabelas_df['SELLIN']['Tipo']=='PADRAO')&(tabelas_df['SELLIN']['Data de Recebimento'].dt.year==datetime.now().year)&(tabelas_df['SELLIN']['Data de Recebimento'].dt.month==datetime.now().month)].sum(),2)\n",
    "\n",
    "val_total"
   ]
  },
  {
   "cell_type": "code",
   "execution_count": 43,
   "id": "d62d3e7a",
   "metadata": {},
   "outputs": [
    {
     "data": {
      "text/plain": [
       "0"
      ]
     },
     "execution_count": 43,
     "metadata": {},
     "output_type": "execute_result"
    }
   ],
   "source": [
    "perc_total=round(val_total/val_meta,4)*100 if val_meta>0 else 0\n",
    "\n",
    "perc_total"
   ]
  },
  {
   "cell_type": "code",
   "execution_count": 45,
   "id": "3a1b6bce",
   "metadata": {},
   "outputs": [
    {
     "data": {
      "text/plain": [
       "0.0"
      ]
     },
     "execution_count": 45,
     "metadata": {},
     "output_type": "execute_result"
    }
   ],
   "source": [
    "dif_mes=val_total-val_meta\n",
    "\n",
    "dif_mes"
   ]
  },
  {
   "cell_type": "code",
   "execution_count": 46,
   "id": "6a0ee908",
   "metadata": {},
   "outputs": [
    {
     "data": {
      "text/html": [
       "<div>\n",
       "<style scoped>\n",
       "    .dataframe tbody tr th:only-of-type {\n",
       "        vertical-align: middle;\n",
       "    }\n",
       "\n",
       "    .dataframe tbody tr th {\n",
       "        vertical-align: top;\n",
       "    }\n",
       "\n",
       "    .dataframe thead th {\n",
       "        text-align: right;\n",
       "    }\n",
       "</style>\n",
       "<table border=\"1\" class=\"dataframe\">\n",
       "  <thead>\n",
       "    <tr style=\"text-align: right;\">\n",
       "      <th></th>\n",
       "      <th>Produto</th>\n",
       "      <th>Fabricante</th>\n",
       "      <th>Total NFe</th>\n",
       "      <th>SKU</th>\n",
       "      <th>Classificação</th>\n",
       "    </tr>\n",
       "  </thead>\n",
       "  <tbody>\n",
       "  </tbody>\n",
       "</table>\n",
       "</div>"
      ],
      "text/plain": [
       "Empty DataFrame\n",
       "Columns: [Produto, Fabricante, Total NFe, SKU, Classificação]\n",
       "Index: []"
      ]
     },
     "execution_count": 46,
     "metadata": {},
     "output_type": "execute_result"
    }
   ],
   "source": [
    "tabelas_df['Lista']=tabelas_df['SELLIN'][['SKU','Produto','Fabricante','Total NFe']].loc[(tabelas_df['SELLIN']['Tipo']=='PADRAO')&(tabelas_df['SELLIN']['Data de Recebimento'].isin(list_datas))].groupby(['SKU','Produto','Fabricante'],as_index=False).sum()\n",
    "\n",
    "tabelas_df['Consolidado']=tabelas_df['Consolidado'][['SKU','Classificação']]\n",
    "\n",
    "tabelas_df['Lista']=tabelas_df['Lista'].merge(tabelas_df['Consolidado'],on='SKU',how='left')\n",
    "\n",
    "tabelas_df['Lista'].loc[tabelas_df['Lista']['Classificação'].isnull(),'Classificação']='C'\n",
    "\n",
    "tabelas_df['Lista'].sort_values('Total NFe',ascending=False,ignore_index=True,inplace=True)\n",
    "\n",
    "tabelas_df['Lista']#.loc[tabelas_df['Lista']['Classificação']!='C']"
   ]
  },
  {
   "cell_type": "code",
   "execution_count": 47,
   "id": "4561ea4b",
   "metadata": {},
   "outputs": [],
   "source": [
    "tabelas_df['Classificação ABC']['Entradas']=tabelas_df['Classificação ABC']['Classificação'].apply(lambda info: tabelas_df['Lista']['Total NFe'].loc[tabelas_df['Lista']['Classificação']==info].sum())\n",
    "\n",
    "tabelas_df['Classificação ABC']['Produtos']=tabelas_df['Classificação ABC']['Classificação'].apply(lambda info: len(tabelas_df['Lista']['SKU'].loc[tabelas_df['Lista']['Classificação']==info].unique().tolist()))\n",
    "\n",
    "tabelas_df['Classificação ABC']=tabelas_df['Classificação ABC'][['Classificação','Entradas','Produtos']]"
   ]
  },
  {
   "cell_type": "code",
   "execution_count": 48,
   "id": "962cb8ba",
   "metadata": {},
   "outputs": [
    {
     "name": "stderr",
     "output_type": "stream",
     "text": [
      "C:\\Users\\eduardo\\AppData\\Local\\Temp/ipykernel_6052/531074667.py:3: SettingWithCopyWarning: \n",
      "A value is trying to be set on a copy of a slice from a DataFrame.\n",
      "Try using .loc[row_indexer,col_indexer] = value instead\n",
      "\n",
      "See the caveats in the documentation: https://pandas.pydata.org/pandas-docs/stable/user_guide/indexing.html#returning-a-view-versus-a-copy\n",
      "  tabelas_df['Classificação ABC']['Perc %']=round(tabelas_df['Classificação ABC']['Entradas']/total,4)*100\n",
      "C:\\ProgramData\\Anaconda3\\lib\\site-packages\\pandas\\core\\indexing.py:1817: SettingWithCopyWarning: \n",
      "A value is trying to be set on a copy of a slice from a DataFrame.\n",
      "Try using .loc[row_indexer,col_indexer] = value instead\n",
      "\n",
      "See the caveats in the documentation: https://pandas.pydata.org/pandas-docs/stable/user_guide/indexing.html#returning-a-view-versus-a-copy\n",
      "  self._setitem_single_column(loc, value, pi)\n"
     ]
    },
    {
     "data": {
      "text/html": [
       "<div>\n",
       "<style scoped>\n",
       "    .dataframe tbody tr th:only-of-type {\n",
       "        vertical-align: middle;\n",
       "    }\n",
       "\n",
       "    .dataframe tbody tr th {\n",
       "        vertical-align: top;\n",
       "    }\n",
       "\n",
       "    .dataframe thead th {\n",
       "        text-align: right;\n",
       "    }\n",
       "</style>\n",
       "<table border=\"1\" class=\"dataframe\">\n",
       "  <thead>\n",
       "    <tr style=\"text-align: right;\">\n",
       "      <th></th>\n",
       "      <th>Classificação</th>\n",
       "      <th>Entradas</th>\n",
       "      <th>Produtos</th>\n",
       "      <th>Perc %</th>\n",
       "    </tr>\n",
       "  </thead>\n",
       "  <tbody>\n",
       "    <tr>\n",
       "      <th>0</th>\n",
       "      <td>A</td>\n",
       "      <td>0.0</td>\n",
       "      <td>0</td>\n",
       "      <td>0.0</td>\n",
       "    </tr>\n",
       "    <tr>\n",
       "      <th>1</th>\n",
       "      <td>B</td>\n",
       "      <td>0.0</td>\n",
       "      <td>0</td>\n",
       "      <td>0.0</td>\n",
       "    </tr>\n",
       "    <tr>\n",
       "      <th>2</th>\n",
       "      <td>C</td>\n",
       "      <td>0.0</td>\n",
       "      <td>0</td>\n",
       "      <td>0.0</td>\n",
       "    </tr>\n",
       "  </tbody>\n",
       "</table>\n",
       "</div>"
      ],
      "text/plain": [
       "  Classificação  Entradas  Produtos  Perc %\n",
       "0             A       0.0         0     0.0\n",
       "1             B       0.0         0     0.0\n",
       "2             C       0.0         0     0.0"
      ]
     },
     "execution_count": 48,
     "metadata": {},
     "output_type": "execute_result"
    }
   ],
   "source": [
    "total=round(tabelas_df['Classificação ABC']['Entradas'].sum(),2)\n",
    "\n",
    "tabelas_df['Classificação ABC']['Perc %']=round(tabelas_df['Classificação ABC']['Entradas']/total,4)*100\n",
    "\n",
    "tabelas_df['Classificação ABC'].loc[tabelas_df['Classificação ABC']['Perc %'].isnull(),'Perc %']=0\n",
    "\n",
    "tabelas_df['Classificação ABC']"
   ]
  },
  {
   "cell_type": "code",
   "execution_count": null,
   "id": "50597a97",
   "metadata": {},
   "outputs": [],
   "source": []
  },
  {
   "cell_type": "code",
   "execution_count": null,
   "id": "668b5dea",
   "metadata": {},
   "outputs": [],
   "source": []
  }
 ],
 "metadata": {
  "kernelspec": {
   "display_name": "Python 3 (ipykernel)",
   "language": "python",
   "name": "python3"
  },
  "language_info": {
   "codemirror_mode": {
    "name": "ipython",
    "version": 3
   },
   "file_extension": ".py",
   "mimetype": "text/x-python",
   "name": "python",
   "nbconvert_exporter": "python",
   "pygments_lexer": "ipython3",
   "version": "3.9.7"
  }
 },
 "nbformat": 4,
 "nbformat_minor": 5
}
