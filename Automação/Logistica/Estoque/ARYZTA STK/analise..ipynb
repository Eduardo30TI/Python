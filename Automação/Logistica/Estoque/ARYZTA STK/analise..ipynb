{
 "cells": [
  {
   "cell_type": "code",
   "execution_count": 1,
   "metadata": {},
   "outputs": [],
   "source": [
    "from Query import Query\n",
    "from Email import Email\n",
    "from glob import glob\n",
    "import os\n",
    "from Tempo import DataHora\n",
    "from Acesso import Login\n",
    "import pandas as pd\n",
    "\n",
    "data=DataHora()\n",
    "\n",
    "s=Login()\n",
    "\n",
    "sql=Query(s.usuario,s.senha,s.database,s.server)"
   ]
  },
  {
   "cell_type": "code",
   "execution_count": null,
   "metadata": {},
   "outputs": [],
   "source": [
    "querys={\n",
    "\n",
    "    'MetaFabric':\n",
    "\n",
    "    \"\"\"\n",
    "    \n",
    "    SELECT * FROM netfeira.vw_meta_fabric\n",
    "    WHERE YEAR(Data)=YEAR(GETDATE())\n",
    "    \n",
    "    \"\"\",\n",
    "\n",
    "    \n",
    "}"
   ]
  }
 ],
 "metadata": {
  "kernelspec": {
   "display_name": "Python 3",
   "language": "python",
   "name": "python3"
  },
  "language_info": {
   "codemirror_mode": {
    "name": "ipython",
    "version": 3
   },
   "file_extension": ".py",
   "mimetype": "text/x-python",
   "name": "python",
   "nbconvert_exporter": "python",
   "pygments_lexer": "ipython3",
   "version": "3.11.1"
  },
  "orig_nbformat": 4
 },
 "nbformat": 4,
 "nbformat_minor": 2
}
