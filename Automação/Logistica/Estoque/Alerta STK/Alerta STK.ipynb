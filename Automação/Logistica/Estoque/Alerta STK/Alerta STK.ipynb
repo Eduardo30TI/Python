{
 "cells": [
  {
   "cell_type": "code",
   "execution_count": 1,
   "id": "00a2447d",
   "metadata": {},
   "outputs": [],
   "source": [
    "import pandas as pd\n",
    "from Acesso import Login\n",
    "from Query import Query\n",
    "from Email import Email\n",
    "from Moeda import Moeda\n",
    "from RemoverArquivo import Remover\n",
    "import os\n",
    "from glob import glob\n",
    "\n",
    "s=Login()\n",
    "\n",
    "sql=Query(s.usuario,s.senha,s.database,s.server)\n",
    "\n",
    "pd.set_option('display.max_columns',None)\n",
    "\n",
    "querys={\n",
    "\n",
    "    'Alerta':\n",
    "\n",
    "    \"\"\"\n",
    "\n",
    "    SELECT * FROM netfeira.vw_alertastk\n",
    "    \n",
    "    \"\"\",\n",
    "\n",
    "    'Supervisor':\n",
    "\n",
    "    \"\"\"\n",
    "    \n",
    "    SELECT * FROM netfeira.vw_supervisor\n",
    "    \n",
    "    \"\"\"\n",
    "\n",
    "}"
   ]
  },
  {
   "cell_type": "code",
   "execution_count": 2,
   "id": "5a5e4c67",
   "metadata": {},
   "outputs": [],
   "source": [
    "tabela_df=sql.CriarTabela(kwargs=querys)"
   ]
  },
  {
   "cell_type": "code",
   "execution_count": 3,
   "id": "8b3f6a71",
   "metadata": {},
   "outputs": [
    {
     "data": {
      "text/plain": [
       "Index(['Última Movimentação', 'Local', 'SKU', 'Produto', 'Fabricante',\n",
       "       'Departamento', 'Seção', 'Categoria', 'Linha', 'Qtde Entrada',\n",
       "       'Qtde Pendente', 'Qtde Saldo', 'Penúltima Movimentação',\n",
       "       'Saldo Anterior', 'Alerta'],\n",
       "      dtype='object')"
      ]
     },
     "execution_count": 3,
     "metadata": {},
     "output_type": "execute_result"
    }
   ],
   "source": [
    "tabela_df['Alerta'].columns"
   ]
  },
  {
   "cell_type": "code",
   "execution_count": 14,
   "id": "f1a465ba",
   "metadata": {},
   "outputs": [],
   "source": [
    "base_df=pd.DataFrame()\n",
    "\n",
    "base_df=tabela_df['Alerta'][['SKU', 'Produto', 'Fabricante','Departamento', 'Seção', 'Categoria', 'Linha','Qtde Saldo','Alerta']].loc[tabela_df['Alerta']['Alerta']!='OK']"
   ]
  },
  {
   "cell_type": "code",
   "execution_count": 20,
   "id": "a1465e85",
   "metadata": {},
   "outputs": [
    {
     "data": {
      "text/plain": [
       "135"
      ]
     },
     "execution_count": 20,
     "metadata": {},
     "output_type": "execute_result"
    }
   ],
   "source": [
    "len(base_df['SKU'].loc[base_df['Alerta']=='INDISPONÍVEL'].unique().tolist())"
   ]
  },
  {
   "cell_type": "code",
   "execution_count": 21,
   "id": "28a3d8fd",
   "metadata": {},
   "outputs": [
    {
     "data": {
      "text/plain": [
       "7"
      ]
     },
     "execution_count": 21,
     "metadata": {},
     "output_type": "execute_result"
    }
   ],
   "source": [
    "len(base_df['SKU'].loc[base_df['Alerta']=='DISPONÍVEL'].unique().tolist())"
   ]
  },
  {
   "cell_type": "code",
   "execution_count": null,
   "id": "4df40a10",
   "metadata": {},
   "outputs": [],
   "source": []
  }
 ],
 "metadata": {
  "kernelspec": {
   "display_name": "Python 3 (ipykernel)",
   "language": "python",
   "name": "python3"
  },
  "language_info": {
   "codemirror_mode": {
    "name": "ipython",
    "version": 3
   },
   "file_extension": ".py",
   "mimetype": "text/x-python",
   "name": "python",
   "nbconvert_exporter": "python",
   "pygments_lexer": "ipython3",
   "version": "3.9.7"
  }
 },
 "nbformat": 4,
 "nbformat_minor": 5
}
