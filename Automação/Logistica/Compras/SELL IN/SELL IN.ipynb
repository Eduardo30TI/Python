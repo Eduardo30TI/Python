{
 "cells": [
  {
   "cell_type": "code",
   "execution_count": 1,
   "id": "5e10b936",
   "metadata": {},
   "outputs": [],
   "source": [
    "from ConectionSQL import SQL\n",
    "from Tempo import DataHora\n",
    "import pandas as pd\n",
    "\n",
    "sql=SQL('Netfeira','sqlserver','MOINHO','192.168.0.252')\n",
    "\n",
    "conectando=sql.ConexaoSQL()"
   ]
  },
  {
   "cell_type": "code",
   "execution_count": 2,
   "id": "7581917d",
   "metadata": {},
   "outputs": [],
   "source": [
    "querys={\n",
    "    \n",
    "    \n",
    "    'SELL IN':\"\"\"\n",
    "    \n",
    "    \n",
    "    SELECT * FROM netfeira.vw_sellin\n",
    "    \n",
    "    \"\"\"\n",
    "    \n",
    "}"
   ]
  },
  {
   "cell_type": "code",
   "execution_count": 3,
   "id": "e6060c06",
   "metadata": {},
   "outputs": [],
   "source": [
    "tabelas_df=dict()\n",
    "\n",
    "for tabela,query in querys.items():\n",
    "    \n",
    "    tabelas_df[tabela]=pd.read_sql(query,conectando)    \n",
    "    \n",
    "    pass"
   ]
  },
  {
   "cell_type": "code",
   "execution_count": 4,
   "id": "d4e7d832",
   "metadata": {},
   "outputs": [],
   "source": [
    "data=DataHora()\n",
    "\n",
    "data_atual=data.HoraAtual()\n",
    "\n",
    "ano=data_atual.year\n",
    "\n",
    "mes=data_atual.month"
   ]
  },
  {
   "cell_type": "code",
   "execution_count": 5,
   "id": "a2d25a0f",
   "metadata": {},
   "outputs": [
    {
     "data": {
      "text/plain": [
       "Index(['Empresa', 'ID Fornecedor', 'CNPJ', 'Fornecedor', 'NFe',\n",
       "       'Data de Emissão', 'Data de Recebimento', 'Local de Estoque',\n",
       "       'Tipo de Entrada', 'Tipo', 'SKU', 'Cód. Fabricante', 'Produto',\n",
       "       'Fabricante', 'Status do Produto', 'Seq', 'Unid. CMP', 'Qtde Total',\n",
       "       'Valor Unitário', 'Total dos Produtos', 'Peso Bruto', 'Peso Líquido',\n",
       "       'PIS R$', 'COFINS R$', 'IPI R$', 'ICMS R$', 'ICMS ST R$', 'Frete R$',\n",
       "       'Total NFe'],\n",
       "      dtype='object')"
      ]
     },
     "execution_count": 5,
     "metadata": {},
     "output_type": "execute_result"
    }
   ],
   "source": [
    "tabelas_df['SELL IN'].columns"
   ]
  },
  {
   "cell_type": "code",
   "execution_count": 6,
   "id": "eb9e52b1",
   "metadata": {},
   "outputs": [],
   "source": [
    "tabelas_df['SELL IN']=tabelas_df['SELL IN'].loc[(~tabelas_df['SELL IN']['Tipo de Entrada'].isnull())&(tabelas_df['SELL IN']['Tipo de Entrada'].str.contains('BONIFI'))|(tabelas_df['SELL IN']['Tipo de Entrada'].str.contains('PADRAO'))]\n",
    "\n",
    "consolidado_df=tabelas_df['SELL IN'][['Fornecedor','NFe','Data de Emissão', 'Data de Recebimento','Total NFe']].loc[(tabelas_df['SELL IN']['Data de Recebimento'].dt.year==ano)&(tabelas_df['SELL IN']['Data de Recebimento'].dt.month==mes)].groupby(['Fornecedor','NFe','Data de Emissão', 'Data de Recebimento'],as_index=False).agg({'Total NFe':'sum'})"
   ]
  },
  {
   "cell_type": "code",
   "execution_count": 7,
   "id": "93cf7020",
   "metadata": {},
   "outputs": [
    {
     "data": {
      "text/plain": [
       "661303.01"
      ]
     },
     "execution_count": 7,
     "metadata": {},
     "output_type": "execute_result"
    }
   ],
   "source": [
    "consolidado_df['Total NFe'].sum()"
   ]
  },
  {
   "cell_type": "code",
   "execution_count": null,
   "id": "cb7a11d3",
   "metadata": {},
   "outputs": [],
   "source": []
  }
 ],
 "metadata": {
  "kernelspec": {
   "display_name": "Python 3 (ipykernel)",
   "language": "python",
   "name": "python3"
  },
  "language_info": {
   "codemirror_mode": {
    "name": "ipython",
    "version": 3
   },
   "file_extension": ".py",
   "mimetype": "text/x-python",
   "name": "python",
   "nbconvert_exporter": "python",
   "pygments_lexer": "ipython3",
   "version": "3.9.7"
  }
 },
 "nbformat": 4,
 "nbformat_minor": 5
}
