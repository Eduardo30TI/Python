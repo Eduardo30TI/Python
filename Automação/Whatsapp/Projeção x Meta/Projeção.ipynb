{
 "cells": [
  {
   "cell_type": "code",
   "execution_count": 1,
   "id": "5d14eed6",
   "metadata": {},
   "outputs": [],
   "source": [
    "from Acesso import Login\n",
    "from Query import  Query\n",
    "import pandas as pd"
   ]
  },
  {
   "cell_type": "code",
   "execution_count": 2,
   "id": "8e19a281",
   "metadata": {},
   "outputs": [],
   "source": [
    "pd.set_option('display.max_columns',None)"
   ]
  },
  {
   "cell_type": "code",
   "execution_count": 3,
   "id": "33eac866",
   "metadata": {},
   "outputs": [],
   "source": [
    "querys={\n",
    "    \n",
    "    'Vendas':\n",
    "    \n",
    "    \"\"\"\n",
    "    \n",
    "    DECLARE @DTBASE DATETIME,@DTFIM DATETIME,@DTINICIO DATETIME,@DIAS SMALLINT\n",
    "\n",
    "    SET @DTBASE=CONVERT(DATETIME,CAST(GETDATE() AS date),101)\n",
    "\n",
    "    SET @DIAS=DAY(@DTBASE)\n",
    "\n",
    "    SET @DTFIM=@DTBASE\n",
    "\n",
    "    SET @DTINICIO=DATEADD(MONTH,-1,DATEADD(DAY,1,DATEADD(DAY,@DIAS*-1,@DTFIM)))\n",
    "\n",
    "    SELECT * FROM netfeira.vw_venda_estatico\n",
    "    WHERE [Data de Faturamento] BETWEEN @DTINICIO AND @DTFIM AND [Tipo de Operação]='VENDAS'\n",
    "    ORDER BY [Data de Faturamento]  \n",
    "    \n",
    "    \"\"\",\n",
    "    \n",
    "    'Meta':\n",
    "    \n",
    "    \"\"\"\n",
    "    \n",
    "    SELECT * FROM netfeira.vw_metas\n",
    "    WHERE [Meta R$]>0\n",
    "    \n",
    "    \"\"\",\n",
    "    \n",
    "    'Vendedor':\n",
    "    \n",
    "    \"\"\"\n",
    "\n",
    "    SELECT v.[ID Vendedor],v.[Nome Resumido],s.Equipe,s.[ID Sup],s.Supervisor,s.[DDD Sup],s.[Telefone Sup],\n",
    "    s.[ID Gerente],s.Gerente,s.[DDD Gerente],s.[Telefone Gerente]\n",
    "    FROM netfeira.vw_vendedor v\n",
    "    INNER JOIN netfeira.vw_supervisor s ON v.[ID Equipe]=s.[ID Equipe]\n",
    "    WHERE v.[Status do Vendedor]='ATIVO'\n",
    "\n",
    "    \"\"\",\n",
    "    \n",
    "    'Cliente':\n",
    "    \n",
    "    \"\"\"\n",
    "    \n",
    "    SELECT * FROM netfeira.vw_cliente\n",
    "    \n",
    "    \"\"\",\n",
    "    \n",
    "    'Calendario':\n",
    "    \n",
    "    \"\"\"\n",
    "    \n",
    "    DECLARE @DTBASE DATETIME\n",
    "\n",
    "    SET @DTBASE=CONVERT(DATETIME,CAST(GETDATE() AS date),101)\n",
    "\n",
    "    SELECT COUNT(Data) AS [Útil],COUNT([Data Trabalhada])-1 AS [Trabalhado],COUNT(Data)-(COUNT([Data Trabalhada])-1) AS [Restante]\n",
    "    FROM netfeira.vw_calend\n",
    "    WHERE YEAR(Data)=YEAR(@DTBASE) AND MONTH(Data)=MONTH(@DTBASE) AND [Dia Útil]=1    \n",
    "\n",
    "    \"\"\"\n",
    "    \n",
    "}"
   ]
  },
  {
   "cell_type": "code",
   "execution_count": 4,
   "id": "0f9f5e76",
   "metadata": {},
   "outputs": [],
   "source": [
    "s=Login()\n",
    "\n",
    "sql=Query(s.usuario,s.senha,s.database,s.server)"
   ]
  },
  {
   "cell_type": "code",
   "execution_count": 5,
   "id": "6670f9d4",
   "metadata": {},
   "outputs": [
    {
     "name": "stderr",
     "output_type": "stream",
     "text": [
      "C:\\Users\\TI\\Anaconda3\\lib\\site-packages\\pandas\\io\\sql.py:762: UserWarning: pandas only support SQLAlchemy connectable(engine/connection) ordatabase string URI or sqlite3 DBAPI2 connectionother DBAPI2 objects are not tested, please consider using SQLAlchemy\n",
      "  warnings.warn(\n",
      "C:\\Users\\TI\\Anaconda3\\lib\\site-packages\\pandas\\io\\sql.py:762: UserWarning: pandas only support SQLAlchemy connectable(engine/connection) ordatabase string URI or sqlite3 DBAPI2 connectionother DBAPI2 objects are not tested, please consider using SQLAlchemy\n",
      "  warnings.warn(\n",
      "C:\\Users\\TI\\Anaconda3\\lib\\site-packages\\pandas\\io\\sql.py:762: UserWarning: pandas only support SQLAlchemy connectable(engine/connection) ordatabase string URI or sqlite3 DBAPI2 connectionother DBAPI2 objects are not tested, please consider using SQLAlchemy\n",
      "  warnings.warn(\n",
      "C:\\Users\\TI\\Anaconda3\\lib\\site-packages\\pandas\\io\\sql.py:762: UserWarning: pandas only support SQLAlchemy connectable(engine/connection) ordatabase string URI or sqlite3 DBAPI2 connectionother DBAPI2 objects are not tested, please consider using SQLAlchemy\n",
      "  warnings.warn(\n",
      "C:\\Users\\TI\\Anaconda3\\lib\\site-packages\\pandas\\io\\sql.py:762: UserWarning: pandas only support SQLAlchemy connectable(engine/connection) ordatabase string URI or sqlite3 DBAPI2 connectionother DBAPI2 objects are not tested, please consider using SQLAlchemy\n",
      "  warnings.warn(\n"
     ]
    }
   ],
   "source": [
    "df=sql.CriarTabela(kwargs=querys)"
   ]
  },
  {
   "cell_type": "code",
   "execution_count": 6,
   "id": "3ce191f6",
   "metadata": {},
   "outputs": [
    {
     "data": {
      "text/plain": [
       "Index(['ID Empresa', 'Pedido', 'NFe', 'Tipo de Pedido', 'Tipo de Operação',\n",
       "       'Tabelas', 'Origem', 'Situação', 'Data de Emissão',\n",
       "       'Data de Faturamento', 'ID Cliente', 'ID Vendedor', 'SKU', 'Seq',\n",
       "       'Qtde', 'Unid. VDA', 'Qtde VDA', 'Valor de VDA', 'Total Geral',\n",
       "       'Total Venda', 'Comissão R$', 'COFINS R$', 'PIS R$', 'ICMS R$',\n",
       "       'ICMS ST R$', 'Peso Bruto KG', 'Peso Líquido KG', 'Margem Bruta R$'],\n",
       "      dtype='object')"
      ]
     },
     "execution_count": 6,
     "metadata": {},
     "output_type": "execute_result"
    }
   ],
   "source": [
    "df['Vendas'].columns"
   ]
  },
  {
   "cell_type": "code",
   "execution_count": 7,
   "id": "a68d63a8",
   "metadata": {},
   "outputs": [
    {
     "data": {
      "text/plain": [
       "Index(['ID Vendedor', 'Nome Resumido', 'Equipe', 'ID Sup', 'Supervisor',\n",
       "       'DDD Sup', 'Telefone Sup', 'ID Gerente', 'Gerente', 'DDD Gerente',\n",
       "       'Telefone Gerente'],\n",
       "      dtype='object')"
      ]
     },
     "execution_count": 7,
     "metadata": {},
     "output_type": "execute_result"
    }
   ],
   "source": [
    "df['Vendedor'].columns"
   ]
  },
  {
   "cell_type": "code",
   "execution_count": 8,
   "id": "9e48cf9d",
   "metadata": {},
   "outputs": [
    {
     "data": {
      "text/plain": [
       "Index(['ID Vendedor', 'Meta R$'], dtype='object')"
      ]
     },
     "execution_count": 8,
     "metadata": {},
     "output_type": "execute_result"
    }
   ],
   "source": [
    "df['Meta'].columns"
   ]
  },
  {
   "cell_type": "code",
   "execution_count": 9,
   "id": "0a80dffd",
   "metadata": {},
   "outputs": [
    {
     "data": {
      "text/plain": [
       "Index(['ID Cliente', 'CNPJ', 'Rede', 'CNPJ Base', 'CNPJ Caracter',\n",
       "       'Razão Social', 'Nome Fantasia', 'Tipo de Cliente', 'Status do Cliente',\n",
       "       'ID Segmento', 'Matriz', 'Crédito', 'Data de Cadastro',\n",
       "       'Primeira Compra', 'Última Compra', 'Dias Compra', 'Tabela',\n",
       "       'Condição de Pagto', 'Prazo Pagto', 'Pagamento', 'CEP', 'Endereço',\n",
       "       'Bairro', 'Município', 'Numero', 'Complemento', 'Região', 'UF', 'DDD',\n",
       "       'Contato', 'Limite de Crédito', 'Principal', 'E-mail Cliente',\n",
       "       'Tributação do Cliente', 'ID Rota', 'Latitude', 'Longitude',\n",
       "       'Desc Financeiro'],\n",
       "      dtype='object')"
      ]
     },
     "execution_count": 9,
     "metadata": {},
     "output_type": "execute_result"
    }
   ],
   "source": [
    "df['Cliente'].columns"
   ]
  },
  {
   "cell_type": "code",
   "execution_count": 10,
   "id": "3008ac5d",
   "metadata": {},
   "outputs": [
    {
     "data": {
      "text/plain": [
       "Index(['Útil', 'Trabalhado', 'Restante'], dtype='object')"
      ]
     },
     "execution_count": 10,
     "metadata": {},
     "output_type": "execute_result"
    }
   ],
   "source": [
    "df['Calendario'].columns"
   ]
  },
  {
   "cell_type": "code",
   "execution_count": 11,
   "id": "02b8eef7",
   "metadata": {},
   "outputs": [],
   "source": [
    "from datetime import datetime"
   ]
  },
  {
   "cell_type": "code",
   "execution_count": 12,
   "id": "709372de",
   "metadata": {},
   "outputs": [],
   "source": [
    "dt_atu=datetime.now().date()\n",
    "\n",
    "dia_util=df['Calendario']['Útil'].values[-1]\n",
    "\n",
    "dia_trab=df['Calendario']['Trabalhado'].values[-1]\n",
    "\n",
    "dia_restante=df['Calendario']['Restante'].values[-1]"
   ]
  },
  {
   "cell_type": "code",
   "execution_count": 13,
   "id": "47b58f48",
   "metadata": {},
   "outputs": [
    {
     "ename": "ValueError",
     "evalue": "Expected a 1D array, got an array with shape (0, 4)",
     "output_type": "error",
     "traceback": [
      "\u001b[1;31m---------------------------------------------------------------------------\u001b[0m",
      "\u001b[1;31mKeyError\u001b[0m                                  Traceback (most recent call last)",
      "\u001b[1;32m~\\Anaconda3\\lib\\site-packages\\pandas\\core\\indexes\\base.py\u001b[0m in \u001b[0;36mget_loc\u001b[1;34m(self, key, method, tolerance)\u001b[0m\n\u001b[0;32m   3628\u001b[0m             \u001b[1;32mtry\u001b[0m\u001b[1;33m:\u001b[0m\u001b[1;33m\u001b[0m\u001b[1;33m\u001b[0m\u001b[0m\n\u001b[1;32m-> 3629\u001b[1;33m                 \u001b[1;32mreturn\u001b[0m \u001b[0mself\u001b[0m\u001b[1;33m.\u001b[0m\u001b[0m_engine\u001b[0m\u001b[1;33m.\u001b[0m\u001b[0mget_loc\u001b[0m\u001b[1;33m(\u001b[0m\u001b[0mcasted_key\u001b[0m\u001b[1;33m)\u001b[0m\u001b[1;33m\u001b[0m\u001b[1;33m\u001b[0m\u001b[0m\n\u001b[0m\u001b[0;32m   3630\u001b[0m             \u001b[1;32mexcept\u001b[0m \u001b[0mKeyError\u001b[0m \u001b[1;32mas\u001b[0m \u001b[0merr\u001b[0m\u001b[1;33m:\u001b[0m\u001b[1;33m\u001b[0m\u001b[1;33m\u001b[0m\u001b[0m\n",
      "\u001b[1;32m~\\Anaconda3\\lib\\site-packages\\pandas\\_libs\\index.pyx\u001b[0m in \u001b[0;36mpandas._libs.index.IndexEngine.get_loc\u001b[1;34m()\u001b[0m\n",
      "\u001b[1;32m~\\Anaconda3\\lib\\site-packages\\pandas\\_libs\\index.pyx\u001b[0m in \u001b[0;36mpandas._libs.index.IndexEngine.get_loc\u001b[1;34m()\u001b[0m\n",
      "\u001b[1;32mpandas\\_libs\\hashtable_class_helper.pxi\u001b[0m in \u001b[0;36mpandas._libs.hashtable.PyObjectHashTable.get_item\u001b[1;34m()\u001b[0m\n",
      "\u001b[1;32mpandas\\_libs\\hashtable_class_helper.pxi\u001b[0m in \u001b[0;36mpandas._libs.hashtable.PyObjectHashTable.get_item\u001b[1;34m()\u001b[0m\n",
      "\u001b[1;31mKeyError\u001b[0m: 'Status'",
      "\nThe above exception was the direct cause of the following exception:\n",
      "\u001b[1;31mKeyError\u001b[0m                                  Traceback (most recent call last)",
      "\u001b[1;32m~\\Anaconda3\\lib\\site-packages\\pandas\\core\\frame.py\u001b[0m in \u001b[0;36m_set_item_mgr\u001b[1;34m(self, key, value)\u001b[0m\n\u001b[0;32m   3798\u001b[0m         \u001b[1;32mtry\u001b[0m\u001b[1;33m:\u001b[0m\u001b[1;33m\u001b[0m\u001b[1;33m\u001b[0m\u001b[0m\n\u001b[1;32m-> 3799\u001b[1;33m             \u001b[0mloc\u001b[0m \u001b[1;33m=\u001b[0m \u001b[0mself\u001b[0m\u001b[1;33m.\u001b[0m\u001b[0m_info_axis\u001b[0m\u001b[1;33m.\u001b[0m\u001b[0mget_loc\u001b[0m\u001b[1;33m(\u001b[0m\u001b[0mkey\u001b[0m\u001b[1;33m)\u001b[0m\u001b[1;33m\u001b[0m\u001b[1;33m\u001b[0m\u001b[0m\n\u001b[0m\u001b[0;32m   3800\u001b[0m         \u001b[1;32mexcept\u001b[0m \u001b[0mKeyError\u001b[0m\u001b[1;33m:\u001b[0m\u001b[1;33m\u001b[0m\u001b[1;33m\u001b[0m\u001b[0m\n",
      "\u001b[1;32m~\\Anaconda3\\lib\\site-packages\\pandas\\core\\indexes\\base.py\u001b[0m in \u001b[0;36mget_loc\u001b[1;34m(self, key, method, tolerance)\u001b[0m\n\u001b[0;32m   3630\u001b[0m             \u001b[1;32mexcept\u001b[0m \u001b[0mKeyError\u001b[0m \u001b[1;32mas\u001b[0m \u001b[0merr\u001b[0m\u001b[1;33m:\u001b[0m\u001b[1;33m\u001b[0m\u001b[1;33m\u001b[0m\u001b[0m\n\u001b[1;32m-> 3631\u001b[1;33m                 \u001b[1;32mraise\u001b[0m \u001b[0mKeyError\u001b[0m\u001b[1;33m(\u001b[0m\u001b[0mkey\u001b[0m\u001b[1;33m)\u001b[0m \u001b[1;32mfrom\u001b[0m \u001b[0merr\u001b[0m\u001b[1;33m\u001b[0m\u001b[1;33m\u001b[0m\u001b[0m\n\u001b[0m\u001b[0;32m   3632\u001b[0m             \u001b[1;32mexcept\u001b[0m \u001b[0mTypeError\u001b[0m\u001b[1;33m:\u001b[0m\u001b[1;33m\u001b[0m\u001b[1;33m\u001b[0m\u001b[0m\n",
      "\u001b[1;31mKeyError\u001b[0m: 'Status'",
      "\nDuring handling of the above exception, another exception occurred:\n",
      "\u001b[1;31mValueError\u001b[0m                                Traceback (most recent call last)",
      "\u001b[1;32m~\\AppData\\Local\\Temp\\ipykernel_10288\\2489624478.py\u001b[0m in \u001b[0;36m<module>\u001b[1;34m\u001b[0m\n\u001b[0;32m     13\u001b[0m \u001b[0mdf\u001b[0m\u001b[1;33m[\u001b[0m\u001b[1;34m'Temp'\u001b[0m\u001b[1;33m]\u001b[0m\u001b[1;33m[\u001b[0m\u001b[1;34m'Projeção'\u001b[0m\u001b[1;33m]\u001b[0m\u001b[1;33m=\u001b[0m\u001b[0mround\u001b[0m\u001b[1;33m(\u001b[0m\u001b[1;33m(\u001b[0m\u001b[0mdf\u001b[0m\u001b[1;33m[\u001b[0m\u001b[1;34m'Temp'\u001b[0m\u001b[1;33m]\u001b[0m\u001b[1;33m[\u001b[0m\u001b[1;34m'Total Venda'\u001b[0m\u001b[1;33m]\u001b[0m\u001b[1;33m/\u001b[0m\u001b[0mdia_trab\u001b[0m\u001b[1;33m)\u001b[0m\u001b[1;33m*\u001b[0m\u001b[0mdia_util\u001b[0m\u001b[1;33m,\u001b[0m\u001b[1;36m2\u001b[0m\u001b[1;33m)\u001b[0m\u001b[1;33m\u001b[0m\u001b[1;33m\u001b[0m\u001b[0m\n\u001b[0;32m     14\u001b[0m \u001b[1;33m\u001b[0m\u001b[0m\n\u001b[1;32m---> 15\u001b[1;33m \u001b[0mdf\u001b[0m\u001b[1;33m[\u001b[0m\u001b[1;34m'Temp'\u001b[0m\u001b[1;33m]\u001b[0m\u001b[1;33m[\u001b[0m\u001b[1;34m'Status'\u001b[0m\u001b[1;33m]\u001b[0m\u001b[1;33m=\u001b[0m\u001b[0mdf\u001b[0m\u001b[1;33m[\u001b[0m\u001b[1;34m'Temp'\u001b[0m\u001b[1;33m]\u001b[0m\u001b[1;33m.\u001b[0m\u001b[0mapply\u001b[0m\u001b[1;33m(\u001b[0m\u001b[1;32mlambda\u001b[0m \u001b[0minfo\u001b[0m\u001b[1;33m:\u001b[0m \u001b[1;36m1\u001b[0m \u001b[1;32mif\u001b[0m \u001b[0minfo\u001b[0m\u001b[1;33m[\u001b[0m\u001b[1;34m'Projeção'\u001b[0m\u001b[1;33m]\u001b[0m\u001b[1;33m>=\u001b[0m\u001b[0minfo\u001b[0m\u001b[1;33m[\u001b[0m\u001b[1;34m'Meta R$'\u001b[0m\u001b[1;33m]\u001b[0m \u001b[1;32melse\u001b[0m \u001b[1;36m0\u001b[0m\u001b[1;33m,\u001b[0m\u001b[0maxis\u001b[0m\u001b[1;33m=\u001b[0m\u001b[1;36m1\u001b[0m\u001b[1;33m)\u001b[0m\u001b[1;33m\u001b[0m\u001b[1;33m\u001b[0m\u001b[0m\n\u001b[0m\u001b[0;32m     16\u001b[0m \u001b[1;33m\u001b[0m\u001b[0m\n\u001b[0;32m     17\u001b[0m \u001b[0mdf\u001b[0m\u001b[1;33m[\u001b[0m\u001b[1;34m'Temp'\u001b[0m\u001b[1;33m]\u001b[0m\u001b[1;33m=\u001b[0m\u001b[0mdf\u001b[0m\u001b[1;33m[\u001b[0m\u001b[1;34m'Temp'\u001b[0m\u001b[1;33m]\u001b[0m\u001b[1;33m.\u001b[0m\u001b[0mloc\u001b[0m\u001b[1;33m[\u001b[0m\u001b[0mdf\u001b[0m\u001b[1;33m[\u001b[0m\u001b[1;34m'Temp'\u001b[0m\u001b[1;33m]\u001b[0m\u001b[1;33m[\u001b[0m\u001b[1;34m'Status'\u001b[0m\u001b[1;33m]\u001b[0m\u001b[1;33m==\u001b[0m\u001b[1;36m0\u001b[0m\u001b[1;33m]\u001b[0m\u001b[1;33m\u001b[0m\u001b[1;33m\u001b[0m\u001b[0m\n",
      "\u001b[1;32m~\\Anaconda3\\lib\\site-packages\\pandas\\core\\frame.py\u001b[0m in \u001b[0;36m__setitem__\u001b[1;34m(self, key, value)\u001b[0m\n\u001b[0;32m   3643\u001b[0m             \u001b[0mself\u001b[0m\u001b[1;33m.\u001b[0m\u001b[0m_setitem_array\u001b[0m\u001b[1;33m(\u001b[0m\u001b[0mkey\u001b[0m\u001b[1;33m,\u001b[0m \u001b[0mvalue\u001b[0m\u001b[1;33m)\u001b[0m\u001b[1;33m\u001b[0m\u001b[1;33m\u001b[0m\u001b[0m\n\u001b[0;32m   3644\u001b[0m         \u001b[1;32melif\u001b[0m \u001b[0misinstance\u001b[0m\u001b[1;33m(\u001b[0m\u001b[0mvalue\u001b[0m\u001b[1;33m,\u001b[0m \u001b[0mDataFrame\u001b[0m\u001b[1;33m)\u001b[0m\u001b[1;33m:\u001b[0m\u001b[1;33m\u001b[0m\u001b[1;33m\u001b[0m\u001b[0m\n\u001b[1;32m-> 3645\u001b[1;33m             \u001b[0mself\u001b[0m\u001b[1;33m.\u001b[0m\u001b[0m_set_item_frame_value\u001b[0m\u001b[1;33m(\u001b[0m\u001b[0mkey\u001b[0m\u001b[1;33m,\u001b[0m \u001b[0mvalue\u001b[0m\u001b[1;33m)\u001b[0m\u001b[1;33m\u001b[0m\u001b[1;33m\u001b[0m\u001b[0m\n\u001b[0m\u001b[0;32m   3646\u001b[0m         elif (\n\u001b[0;32m   3647\u001b[0m             \u001b[0mis_list_like\u001b[0m\u001b[1;33m(\u001b[0m\u001b[0mvalue\u001b[0m\u001b[1;33m)\u001b[0m\u001b[1;33m\u001b[0m\u001b[1;33m\u001b[0m\u001b[0m\n",
      "\u001b[1;32m~\\Anaconda3\\lib\\site-packages\\pandas\\core\\frame.py\u001b[0m in \u001b[0;36m_set_item_frame_value\u001b[1;34m(self, key, value)\u001b[0m\n\u001b[0;32m   3786\u001b[0m         \u001b[1;31m# now align rows\u001b[0m\u001b[1;33m\u001b[0m\u001b[1;33m\u001b[0m\u001b[0m\n\u001b[0;32m   3787\u001b[0m         \u001b[0marraylike\u001b[0m \u001b[1;33m=\u001b[0m \u001b[0m_reindex_for_setitem\u001b[0m\u001b[1;33m(\u001b[0m\u001b[0mvalue\u001b[0m\u001b[1;33m,\u001b[0m \u001b[0mself\u001b[0m\u001b[1;33m.\u001b[0m\u001b[0mindex\u001b[0m\u001b[1;33m)\u001b[0m\u001b[1;33m\u001b[0m\u001b[1;33m\u001b[0m\u001b[0m\n\u001b[1;32m-> 3788\u001b[1;33m         \u001b[0mself\u001b[0m\u001b[1;33m.\u001b[0m\u001b[0m_set_item_mgr\u001b[0m\u001b[1;33m(\u001b[0m\u001b[0mkey\u001b[0m\u001b[1;33m,\u001b[0m \u001b[0marraylike\u001b[0m\u001b[1;33m)\u001b[0m\u001b[1;33m\u001b[0m\u001b[1;33m\u001b[0m\u001b[0m\n\u001b[0m\u001b[0;32m   3789\u001b[0m \u001b[1;33m\u001b[0m\u001b[0m\n\u001b[0;32m   3790\u001b[0m     def _iset_item_mgr(\n",
      "\u001b[1;32m~\\Anaconda3\\lib\\site-packages\\pandas\\core\\frame.py\u001b[0m in \u001b[0;36m_set_item_mgr\u001b[1;34m(self, key, value)\u001b[0m\n\u001b[0;32m   3800\u001b[0m         \u001b[1;32mexcept\u001b[0m \u001b[0mKeyError\u001b[0m\u001b[1;33m:\u001b[0m\u001b[1;33m\u001b[0m\u001b[1;33m\u001b[0m\u001b[0m\n\u001b[0;32m   3801\u001b[0m             \u001b[1;31m# This item wasn't present, just insert at end\u001b[0m\u001b[1;33m\u001b[0m\u001b[1;33m\u001b[0m\u001b[0m\n\u001b[1;32m-> 3802\u001b[1;33m             \u001b[0mself\u001b[0m\u001b[1;33m.\u001b[0m\u001b[0m_mgr\u001b[0m\u001b[1;33m.\u001b[0m\u001b[0minsert\u001b[0m\u001b[1;33m(\u001b[0m\u001b[0mlen\u001b[0m\u001b[1;33m(\u001b[0m\u001b[0mself\u001b[0m\u001b[1;33m.\u001b[0m\u001b[0m_info_axis\u001b[0m\u001b[1;33m)\u001b[0m\u001b[1;33m,\u001b[0m \u001b[0mkey\u001b[0m\u001b[1;33m,\u001b[0m \u001b[0mvalue\u001b[0m\u001b[1;33m)\u001b[0m\u001b[1;33m\u001b[0m\u001b[1;33m\u001b[0m\u001b[0m\n\u001b[0m\u001b[0;32m   3803\u001b[0m         \u001b[1;32melse\u001b[0m\u001b[1;33m:\u001b[0m\u001b[1;33m\u001b[0m\u001b[1;33m\u001b[0m\u001b[0m\n\u001b[0;32m   3804\u001b[0m             \u001b[0mself\u001b[0m\u001b[1;33m.\u001b[0m\u001b[0m_iset_item_mgr\u001b[0m\u001b[1;33m(\u001b[0m\u001b[0mloc\u001b[0m\u001b[1;33m,\u001b[0m \u001b[0mvalue\u001b[0m\u001b[1;33m)\u001b[0m\u001b[1;33m\u001b[0m\u001b[1;33m\u001b[0m\u001b[0m\n",
      "\u001b[1;32m~\\Anaconda3\\lib\\site-packages\\pandas\\core\\internals\\managers.py\u001b[0m in \u001b[0;36minsert\u001b[1;34m(self, loc, item, value)\u001b[0m\n\u001b[0;32m   1243\u001b[0m             \u001b[0mvalue\u001b[0m \u001b[1;33m=\u001b[0m \u001b[0mvalue\u001b[0m\u001b[1;33m.\u001b[0m\u001b[0mT\u001b[0m\u001b[1;33m\u001b[0m\u001b[1;33m\u001b[0m\u001b[0m\n\u001b[0;32m   1244\u001b[0m             \u001b[1;32mif\u001b[0m \u001b[0mlen\u001b[0m\u001b[1;33m(\u001b[0m\u001b[0mvalue\u001b[0m\u001b[1;33m)\u001b[0m \u001b[1;33m>\u001b[0m \u001b[1;36m1\u001b[0m\u001b[1;33m:\u001b[0m\u001b[1;33m\u001b[0m\u001b[1;33m\u001b[0m\u001b[0m\n\u001b[1;32m-> 1245\u001b[1;33m                 raise ValueError(\n\u001b[0m\u001b[0;32m   1246\u001b[0m                     \u001b[1;34mf\"Expected a 1D array, got an array with shape {value.T.shape}\"\u001b[0m\u001b[1;33m\u001b[0m\u001b[1;33m\u001b[0m\u001b[0m\n\u001b[0;32m   1247\u001b[0m                 )\n",
      "\u001b[1;31mValueError\u001b[0m: Expected a 1D array, got an array with shape (0, 4)"
     ]
    }
   ],
   "source": [
    "#criar base de dados\n",
    "\n",
    "df['Temp']=df['Vendas'].loc[(df['Vendas']['Data de Faturamento'].dt.year==dt_atu.year)&(df['Vendas']['Data de Faturamento'].dt.month==dt_atu.month)]\n",
    "\n",
    "df['Temp']=df['Temp'].groupby(['ID Vendedor'],as_index=False).agg({'Total Venda':'sum'})\n",
    "\n",
    "df['Temp']=df['Temp'].merge(df['Meta'],on='ID Vendedor',how='inner')\n",
    "\n",
    "df['Temp']=df['Temp'].merge(df['Vendedor'],on='ID Vendedor',how='inner')\n",
    "\n",
    "df['Temp']=df['Temp'].groupby(['Equipe'],as_index=False).agg({'Total Venda':'sum','Meta R$':'sum'})\n",
    "\n",
    "df['Temp']['Projeção']=round((df['Temp']['Total Venda']/dia_trab)*dia_util,2)\n",
    "\n",
    "df['Temp']['Status']=df['Temp'].apply(lambda info: 1 if info['Projeção']>=info['Meta R$'] else 0,axis=1)\n",
    "\n",
    "df['Temp']=df['Temp'].loc[df['Temp']['Status']==0]\n",
    "\n",
    "equipes=df['Temp']['Equipe'].tolist()\n",
    "\n",
    "codigos=df['Vendedor']['ID Vendedor'].loc[df['Vendedor']['Equipe'].isin(equipes)].tolist()"
   ]
  },
  {
   "cell_type": "code",
   "execution_count": null,
   "id": "d77c527a",
   "metadata": {},
   "outputs": [],
   "source": [
    "#consolidado dados\n",
    "\n",
    "df['Temp']=df['Vendas'].loc[(df['Vendas']['Data de Faturamento'].dt.year==dt_atu.year)&(df['Vendas']['Data de Faturamento'].dt.month==dt_atu.month)&(df['Vendas']['ID Vendedor'].isin(codigos))]\n",
    "\n",
    "df['Temp']=df['Temp'].groupby(['ID Vendedor'],as_index=False).agg({'Total Venda':'sum'})\n",
    "\n",
    "df['Temp']=df['Temp'].merge(df['Meta'],on='ID Vendedor',how='inner')\n",
    "\n",
    "df['Temp']=df['Temp'].merge(df['Vendedor'],on='ID Vendedor',how='inner')[['ID Vendedor', 'Nome Resumido', 'Equipe', 'ID Sup', 'Supervisor',\n",
    "       'DDD Sup', 'Telefone Sup', 'ID Gerente', 'Gerente', 'DDD Gerente',\n",
    "       'Telefone Gerente','Total Venda','Meta R$']]\n",
    "\n",
    "df['Temp']['Projeção']=round((df['Temp']['Total Venda']/dia_trab)*dia_util,2)\n",
    "\n",
    "df['Temp']['Status']=df['Temp'].apply(lambda info: 1 if info['Projeção']>=info['Meta R$'] else 0,axis=1)\n",
    "\n",
    "df['Temp']=df['Temp'].loc[df['Temp']['Status']==0]\n",
    "\n",
    "df['Temp'].sort_values('Total Venda',ascending=False,inplace=True)\n",
    "\n",
    "codigos=df['Temp']['ID Vendedor'].tolist()"
   ]
  },
  {
   "cell_type": "code",
   "execution_count": null,
   "id": "021c7a3e",
   "metadata": {},
   "outputs": [],
   "source": [
    "valores=[]\n",
    "\n",
    "diferenca=[]\n",
    "\n",
    "for c in codigos:\n",
    "    \n",
    "    df['Diario']=df['Vendas'].loc[(df['Vendas']['Data de Faturamento'].dt.year==dt_atu.year)&(df['Vendas']['Data de Faturamento'].dt.month==dt_atu.month)&(df['Vendas']['ID Vendedor']==c)]\n",
    "    \n",
    "    meta=df['Temp']['Meta R$'].loc[df['Temp']['ID Vendedor']==c].values[-1]\n",
    "    \n",
    "    meta=round(meta/dia_util,2)\n",
    "    \n",
    "    df['Diario']=df['Diario'].groupby(['Data de Faturamento'],as_index=False).agg({'Total Venda':'sum'})\n",
    "    \n",
    "    df['Diario'].sort_values('Data de Faturamento',ascending=True,inplace=True)\n",
    "    \n",
    "    df['Diario']['Meta']=meta\n",
    "    \n",
    "    df['Diario']['Dif']=round(df['Diario']['Total Venda']-df['Diario']['Meta'],2)\n",
    "        \n",
    "    dif=df['Diario']['Dif'].sum()\n",
    "    \n",
    "    total=round(abs(dif)+meta if dif<0 else meta-dif,2)\n",
    "    \n",
    "    diferenca.append(dif)\n",
    "    \n",
    "    valores.append(total)\n",
    "    \n",
    "    pass\n",
    "\n",
    "df['Temp']['Meta Diária']=round(df['Temp']['Meta R$']/dia_util,2)\n",
    "\n",
    "df['Temp']['Débito Diário']=diferenca\n",
    "\n",
    "df['Temp']['Á Realizar']=valores\n",
    "\n",
    "df['Temp']['Á Realizar']=round(df['Temp']['Á Realizar']/dia_restante,2)\n",
    "\n",
    "df['Temp'].sort_values('Débito Diário',ascending=True,inplace=True,ignore_index=True)\n"
   ]
  },
  {
   "cell_type": "code",
   "execution_count": null,
   "id": "6d310ff2",
   "metadata": {},
   "outputs": [],
   "source": [
    "df['Temp'].loc[df['Temp']['Débito Diário']>0,'Meta Diária']=df['Temp'].loc[df['Temp']['Débito Diário']>0].apply(lambda info: round((info['Meta R$']-info['Total Venda'])/dia_restante,2),axis=1)"
   ]
  },
  {
   "cell_type": "code",
   "execution_count": null,
   "id": "499e815f",
   "metadata": {},
   "outputs": [],
   "source": [
    "df['Temp'].loc[df['Temp']['Débito Diário']>0,'Á Realizar']=df['Temp'].loc[df['Temp']['Débito Diário']>0,'Meta Diária']"
   ]
  },
  {
   "cell_type": "code",
   "execution_count": null,
   "id": "4d426dff",
   "metadata": {},
   "outputs": [],
   "source": [
    "codigos=df['Temp']['ID Vendedor'].tolist()"
   ]
  },
  {
   "cell_type": "code",
   "execution_count": null,
   "id": "110f9bea",
   "metadata": {},
   "outputs": [],
   "source": [
    "df['Vendas']['Mês']=df['Vendas']['Data de Faturamento'].dt.month"
   ]
  },
  {
   "cell_type": "code",
   "execution_count": null,
   "id": "f826010b",
   "metadata": {},
   "outputs": [],
   "source": [
    "#relação de clientes\n",
    "\n",
    "df['Lista']=df['Vendas'].loc[df['Vendas']['ID Vendedor'].isin(codigos)].groupby(['ID Cliente','ID Vendedor','Mês'],as_index=False).agg({'Total Venda':'sum'})\n",
    "\n",
    "df['Lista']=df['Lista'].pivot(index=['ID Cliente','ID Vendedor'],columns='Mês',values='Total Venda').reset_index()\n",
    "\n",
    "colunas=[l for l in df['Lista'].columns if str(l).isnumeric()]\n",
    "\n",
    "meses={1:'JAN',2:'FEV',3:'MAR',4:'ABR',5:'MAI',6:'JUN',7:'JUL',8:'AGOS',9:'SET',10:'OUT',11:'NOV',12:'DEZ'}\n",
    "\n",
    "for i,c in enumerate(colunas):\n",
    "    \n",
    "    if(i==0):\n",
    "        \n",
    "        df['Lista']=df['Lista'].loc[df['Lista'][c]>0]\n",
    "        \n",
    "        pass\n",
    "    \n",
    "    df['Lista'].loc[df['Lista'][c].isnull(),c]=0\n",
    "    \n",
    "    df['Lista'].rename(columns={c:meses[c]},inplace=True)\n",
    "    \n",
    "    pass\n",
    "\n",
    "df['Lista'].loc[df['Lista'][df['Lista'].columns[-1]]<=0,'Positivado']='N'\n",
    "\n",
    "df['Lista'].loc[df['Lista']['Positivado'].isnull(),'Positivado']='S'\n",
    "\n",
    "df['Lista']=df['Cliente'].merge(df['Lista'],on='ID Cliente',how='inner')\n",
    "\n",
    "df['Lista']=df['Vendedor'].merge(df['Lista'],on='ID Vendedor',how='inner')\n",
    "\n",
    "df['Lista']\n"
   ]
  },
  {
   "cell_type": "code",
   "execution_count": null,
   "id": "15a82d49",
   "metadata": {},
   "outputs": [],
   "source": [
    "colunas={'ID Sup':'ID Gerente','ID Gerente':'ID Gerente'}\n",
    "\n",
    "nomes={'ID Sup':'Supervisor','ID Gerente':'Gerente'}\n",
    "\n",
    "tel_ddd={'ID Sup':'DDD Sup','ID Gerente':'DDD Gerente'}\n",
    "\n",
    "tel_num={'ID Sup':'Telefone Sup','ID Gerente':'Telefone Gerente'}\n",
    "\n",
    "for col1,col2 in colunas.items():\n",
    "    \n",
    "    codigos=df['Temp'][col1].unique().tolist()\n",
    "    \n",
    "    for c in codigos:\n",
    "        \n",
    "        cod=df['Temp'][col2].loc[df['Temp'][col1]==c].unique().tolist()[-1]\n",
    "        \n",
    "        if(c==cod and col1=='ID Sup'):\n",
    "            \n",
    "            continue\n",
    "                \n",
    "        display(df['Lista'].loc[df['Lista'][col1]==c])\n",
    "        \n",
    "        pass\n",
    "    \n",
    "    pass\n"
   ]
  },
  {
   "cell_type": "code",
   "execution_count": null,
   "id": "0157d438",
   "metadata": {},
   "outputs": [],
   "source": []
  },
  {
   "cell_type": "code",
   "execution_count": null,
   "id": "b3d891ec",
   "metadata": {},
   "outputs": [],
   "source": []
  }
 ],
 "metadata": {
  "kernelspec": {
   "display_name": "Python 3 (ipykernel)",
   "language": "python",
   "name": "python3"
  },
  "language_info": {
   "codemirror_mode": {
    "name": "ipython",
    "version": 3
   },
   "file_extension": ".py",
   "mimetype": "text/x-python",
   "name": "python",
   "nbconvert_exporter": "python",
   "pygments_lexer": "ipython3",
   "version": "3.9.13"
  }
 },
 "nbformat": 4,
 "nbformat_minor": 5
}
