{
 "cells": [
  {
   "cell_type": "code",
   "execution_count": 37,
   "id": "b7dc98bf",
   "metadata": {},
   "outputs": [],
   "source": [
    "from Acesso import Login\n",
    "from Query import Query\n",
    "import pandas as pd\n",
    "from datetime import datetime,timedelta\n",
    "\n",
    "s=Login()\n",
    "\n",
    "sql=Query(s.usuario,s.senha,s.database,s.server)\n",
    "\n",
    "pd.set_option('display.max_columns',None)\n"
   ]
  },
  {
   "cell_type": "code",
   "execution_count": 22,
   "id": "597b66a3",
   "metadata": {},
   "outputs": [],
   "source": [
    "querys={\n",
    "    \n",
    "    'Vendas':\n",
    "    \n",
    "    \"\"\"\n",
    "    \n",
    "    SELECT ped.[Data de Emissão],cli.[Data de Cadastro],\n",
    "    CASE WHEN ped.[Data de Emissão]=cli.[Data de Cadastro] THEN 'S' ELSE 'N' END AS [Positivado],\n",
    "    ped.Pedido,ped.[ID Cliente],cli.[Razão Social],cli.[Nome Fantasia],\n",
    "    ped.[ID Vendedor],vend.[Nome Resumido],vend.DDD,vend.Telefone,sup.Equipe,\n",
    "    sup.[ID Sup],sup.Supervisor,sup.[DDD Sup],sup.[Telefone Sup],\n",
    "    sup.[ID Gerente],sup.Gerente,sup.[DDD Gerente],sup.[Telefone Gerente],\n",
    "    SUM(ped.[Total Venda]) AS [Total Venda]\n",
    "    FROM netfeira.vw_venda_estatico ped\n",
    "    INNER JOIN netfeira.vw_cliente cli ON ped.[ID Cliente]=cli.[ID Cliente]\n",
    "    INNER JOIN netfeira.vw_vendedor vend ON ped.[ID Vendedor]=vend.[ID Vendedor] --AND vend.Categoria='CLT'\n",
    "    INNER JOIN netfeira.vw_supervisor sup ON vend.[ID Equipe]=sup.[ID Equipe]\n",
    "    WHERE [Data de Emissão] BETWEEN DATEADD(DAY,1,\n",
    "    DATEADD(DAY,DAY(DATEADD(DAY,DAY(GETDATE())*-1,CONVERT(DATETIME,CAST(GETDATE() AS DATE),101)))*-1,\n",
    "    DATEADD(DAY,DAY(GETDATE())*-1,CONVERT(DATETIME,CAST(GETDATE() AS DATE),101)))) AND\n",
    "    DATEADD(DAY,DAY(GETDATE())*-1,CONVERT(DATETIME,CAST(GETDATE() AS DATE),101))\n",
    "    AND [Tipo de Operação]='VENDAS'\n",
    "    GROUP BY ped.[Data de Emissão],cli.[Data de Cadastro],ped.Pedido,ped.[ID Cliente],cli.[Razão Social],cli.[Nome Fantasia],\n",
    "    ped.[ID Vendedor],vend.[Nome Resumido],vend.DDD,vend.Telefone,sup.Equipe,\n",
    "    sup.[ID Sup],sup.Supervisor,sup.[DDD Sup],sup.[Telefone Sup],\n",
    "    sup.[ID Gerente],sup.Gerente,sup.[DDD Gerente],sup.[Telefone Gerente]    \n",
    "    \n",
    "    \"\"\"\n",
    "}"
   ]
  },
  {
   "cell_type": "code",
   "execution_count": 23,
   "id": "fcea3370",
   "metadata": {},
   "outputs": [],
   "source": [
    "df=sql.CriarTabela(kwargs=querys)"
   ]
  },
  {
   "cell_type": "code",
   "execution_count": 24,
   "id": "fb6daa91",
   "metadata": {},
   "outputs": [],
   "source": [
    "df['Lista']=df['Vendas'].groupby(['ID Cliente'],as_index=False).agg({'Total Venda':'sum'})"
   ]
  },
  {
   "cell_type": "code",
   "execution_count": 25,
   "id": "1d5af2b9",
   "metadata": {},
   "outputs": [],
   "source": [
    "codigos=df['Lista'].loc[df['Lista']['Total Venda']>0,'ID Cliente'].unique().tolist()"
   ]
  },
  {
   "cell_type": "code",
   "execution_count": 26,
   "id": "3d5c5634",
   "metadata": {},
   "outputs": [
    {
     "data": {
      "text/plain": [
       "Index(['Data de Emissão', 'Data de Cadastro', 'Positivado', 'Pedido',\n",
       "       'ID Cliente', 'Razão Social', 'Nome Fantasia', 'ID Vendedor',\n",
       "       'Nome Resumido', 'DDD', 'Telefone', 'Equipe', 'ID Sup', 'Supervisor',\n",
       "       'DDD Sup', 'Telefone Sup', 'ID Gerente', 'Gerente', 'DDD Gerente',\n",
       "       'Telefone Gerente', 'Total Venda'],\n",
       "      dtype='object')"
      ]
     },
     "execution_count": 26,
     "metadata": {},
     "output_type": "execute_result"
    }
   ],
   "source": [
    "df['Vendas'].columns"
   ]
  },
  {
   "cell_type": "code",
   "execution_count": 27,
   "id": "9e01f2b2",
   "metadata": {},
   "outputs": [],
   "source": [
    "df['Consolidado']=df['Vendas'].loc[(df['Vendas']['ID Cliente'].isin(codigos))&(df['Vendas']['Positivado']=='S')].groupby(['ID Cliente', 'Razão Social', 'Nome Fantasia','Data de Cadastro', 'ID Vendedor',\n",
    "       'Nome Resumido', 'DDD', 'Telefone', 'Equipe', 'ID Sup', 'Supervisor',\n",
    "       'DDD Sup', 'Telefone Sup', 'ID Gerente', 'Gerente', 'DDD Gerente',\n",
    "       'Telefone Gerente'],as_index=False).agg({'Total Venda':'sum'})"
   ]
  },
  {
   "cell_type": "code",
   "execution_count": 28,
   "id": "6bd222a1",
   "metadata": {},
   "outputs": [],
   "source": [
    "df['Consolidado']['Data Mín']=df['Consolidado']['ID Cliente'].apply(lambda info: df['Vendas'].loc[df['Vendas']['ID Cliente']==info,'Data de Emissão'].min())"
   ]
  },
  {
   "cell_type": "code",
   "execution_count": 29,
   "id": "3d5516bb",
   "metadata": {},
   "outputs": [],
   "source": [
    "df['Consolidado']['Pedido']=df['Consolidado']['ID Cliente'].apply(lambda info: df['Vendas'].loc[df['Vendas']['ID Cliente']==info,'Pedido'].min())"
   ]
  },
  {
   "cell_type": "code",
   "execution_count": 30,
   "id": "0d034f95",
   "metadata": {},
   "outputs": [],
   "source": [
    "df['Temp']=df['Consolidado'].groupby(['ID Vendedor',\n",
    "       'Nome Resumido', 'DDD', 'Telefone', 'Equipe', 'ID Sup', 'Supervisor',\n",
    "       'DDD Sup', 'Telefone Sup', 'ID Gerente', 'Gerente', 'DDD Gerente',\n",
    "       'Telefone Gerente'],as_index=False).agg({'ID Cliente':'count'}).sort_values('ID Cliente',ascending=False)"
   ]
  },
  {
   "cell_type": "code",
   "execution_count": 31,
   "id": "d7e4cca0",
   "metadata": {},
   "outputs": [],
   "source": [
    "df['Temp'].rename(columns={'ID Cliente':'Cliente'},inplace=True)"
   ]
  },
  {
   "cell_type": "code",
   "execution_count": 54,
   "id": "2754eb9e",
   "metadata": {},
   "outputs": [
    {
     "name": "stdout",
     "output_type": "stream",
     "text": [
      "\n",
      "        \n",
      "        Boa tarde;\n",
      "        \n",
      "        Raquel Sobrinho identificamos referente ao mês de Novembro de 2022, um total de 47 cliente(s) novo(s) na base de dados da empresa.\n",
      "        \n",
      "        \n",
      "\n",
      "        \n",
      "        Boa tarde;\n",
      "        \n",
      "        Ulisses Bacci identificamos referente ao mês de Novembro de 2022, um total de 5 cliente(s) novo(s) na base de dados da empresa.\n",
      "        \n",
      "        \n",
      "\n",
      "        \n",
      "        Boa tarde;\n",
      "        \n",
      "        Carlos Passos identificamos referente ao mês de Novembro de 2022, um total de 3 cliente(s) novo(s) na base de dados da empresa.\n",
      "        \n",
      "        \n",
      "\n",
      "        \n",
      "        Boa tarde;\n",
      "        \n",
      "        Douglas Tedeschi identificamos referente ao mês de Novembro de 2022, um total de 1 cliente(s) novo(s) na base de dados da empresa.\n",
      "        \n",
      "        \n",
      "\n",
      "        \n",
      "        Boa tarde;\n",
      "        \n",
      "        Rogerio Felipim identificamos referente ao mês de Novembro de 2022, um total de 68 cliente(s) novo(s) na base de dados da empresa.\n",
      "        \n",
      "        \n"
     ]
    }
   ],
   "source": [
    "colunas={'ID Sup':'ID Gerente','ID Gerente':'ID Gerente'}\n",
    "\n",
    "nomes={'ID Sup':'Supervisor','ID Gerente':'Gerente'}\n",
    "\n",
    "tel_ddd={'ID Sup':'DDD Sup','ID Gerente':'DDD Gerente'}\n",
    "\n",
    "tel_num={'ID Sup':'Telefone Sup','ID Gerente':'Telefone Gerente'}\n",
    "\n",
    "meses={1:'JANEIRO',2:'FEVEREIRO',3:'MARÇO',4:'ABRIL',5:'MAIO',6:'JUNHO',7:'JULHO',8:'AGOSTO',9:'SETEMBRO',10:'OUTUBRO',11:'NOVEMBRO',12:'DEZEMBRO'}\n",
    "\n",
    "for col1,col2 in colunas.items():\n",
    "    \n",
    "    codigos=df['Temp'][col1].unique().tolist()\n",
    "    \n",
    "    if(len(codigos)<=0):\n",
    "        \n",
    "        continue\n",
    "    \n",
    "    for c in codigos:\n",
    "        \n",
    "        temp_df=pd.DataFrame()\n",
    "        \n",
    "        cod=df['Temp'].loc[df['Temp'][col1]==c,col2].values[-1]\n",
    "        \n",
    "        if(cod==c and col1=='ID Sup'):\n",
    "            \n",
    "            continue        \n",
    "        \n",
    "        nome=str(df['Temp'].loc[df['Temp'][col1]==c,nomes[col1]].values[-1]).title()\n",
    "        \n",
    "        ddd=df['Temp'].loc[df['Temp'][col1]==c,tel_ddd[col1]].values[-1]\n",
    "        \n",
    "        telefone=df['Temp'].loc[df['Temp'][col1]==c,tel_num[col1]].values[-1]\n",
    "        \n",
    "        msg='Bom dia' if datetime.now().hour<12 else 'Boa tarde'\n",
    "        \n",
    "        dt_ant=datetime.now()-timedelta(days=datetime.now().date().day)\n",
    "        \n",
    "        temp_df=df['Temp'].loc[df['Temp'][col1]==c]\n",
    "        \n",
    "        clientes=temp_df['Cliente'].sum()\n",
    "            \n",
    "        mensagem=f\"\"\"\n",
    "        \n",
    "        {msg};\n",
    "        \n",
    "        {nome} identificamos referente ao mês de {str(meses[dt_ant.month]).title()} de {dt_ant.year}, um total de {clientes} cliente(s) novo(s) na base de dados da empresa.\n",
    "        \n",
    "        \"\"\"\n",
    "        \n",
    "        print(mensagem)\n",
    "       \n",
    "        pass\n",
    "    \n",
    "    \n",
    "    pass\n",
    "\n"
   ]
  },
  {
   "cell_type": "code",
   "execution_count": 44,
   "id": "bb87c701",
   "metadata": {},
   "outputs": [
    {
     "data": {
      "text/plain": [
       "datetime.datetime(2022, 11, 30, 17, 13, 47, 192212)"
      ]
     },
     "execution_count": 44,
     "metadata": {},
     "output_type": "execute_result"
    }
   ],
   "source": []
  },
  {
   "cell_type": "code",
   "execution_count": null,
   "id": "5c5594a3",
   "metadata": {},
   "outputs": [],
   "source": []
  },
  {
   "cell_type": "code",
   "execution_count": null,
   "id": "7b7ea44b",
   "metadata": {},
   "outputs": [],
   "source": []
  }
 ],
 "metadata": {
  "kernelspec": {
   "display_name": "Python 3 (ipykernel)",
   "language": "python",
   "name": "python3"
  },
  "language_info": {
   "codemirror_mode": {
    "name": "ipython",
    "version": 3
   },
   "file_extension": ".py",
   "mimetype": "text/x-python",
   "name": "python",
   "nbconvert_exporter": "python",
   "pygments_lexer": "ipython3",
   "version": "3.9.7"
  }
 },
 "nbformat": 4,
 "nbformat_minor": 5
}
