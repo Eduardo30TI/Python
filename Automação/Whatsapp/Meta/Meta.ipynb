{
 "cells": [
  {
   "cell_type": "code",
   "execution_count": 1,
   "id": "63522fc0",
   "metadata": {},
   "outputs": [],
   "source": [
    "from Acesso import Login\n",
    "from Query import Query\n",
    "from Moeda import Moeda\n",
    "import pandas as pd\n",
    "\n",
    "pd.set_option('display.max_columns',None)\n",
    "\n",
    "s=Login()\n",
    "\n",
    "sql=Query(s.usuario,s.senha,s.database,s.server)\n",
    "\n",
    "querys={\n",
    "\n",
    "    'Meta':\n",
    "\n",
    "    \"\"\"\n",
    "\n",
    "    SELECT * FROM netfeira.vw_metas\n",
    "    WHERE [Meta R$]>0\n",
    "    \n",
    "    \"\"\",\n",
    "\n",
    "    'Vendedor':\n",
    "\n",
    "    \"\"\"\n",
    "    \n",
    "    SELECT * FROM netfeira.vw_vendedor\n",
    "    WHERE Categoria='CLT' AND [Status do Vendedor]='ATIVO' AND Telefone IS NOT NULL\n",
    "    \n",
    "    \"\"\",\n",
    "\n",
    "    'Supervisor':\n",
    "\n",
    "    \"\"\"\n",
    "    \n",
    "    SELECT * FROM netfeira.vw_supervisor\n",
    "    WHERE NOT Equipe LIKE '%120%'\n",
    "    \n",
    "    \"\"\",\n",
    "\n",
    "    'Estatico':\n",
    "\n",
    "    \"\"\"\n",
    "    \n",
    "    DECLARE @DTBASE DATETIME, @DTFIM DATETIME,@DTINICIO DATETIME\n",
    "\n",
    "    SET @DTBASE=CONVERT(DATETIME,CAST(GETDATE() AS DATE),101)\n",
    "\n",
    "    SET @DTFIM=@DTBASE\n",
    "\n",
    "    SET @DTINICIO=CONCAT(YEAR(@DTFIM),'-',MONTH(@DTFIM),'-01')\n",
    "\n",
    "    SELECT * FROM netfeira.vw_targetestatico\n",
    "    WHERE [Data de Faturamento] BETWEEN @DTINICIO AND @DTFIM AND [Tipo de Operação]='VENDAS'\n",
    "    \n",
    "    \"\"\",\n",
    "\n",
    "    'Aberto':\n",
    "\n",
    "    \"\"\"\n",
    "    \n",
    "    DECLARE @DTBASE DATETIME\n",
    "\n",
    "    SET @DTBASE=CONVERT(DATETIME,CAST(GETDATE() AS DATE),101)\n",
    "\n",
    "    SELECT *\n",
    "\tFROM netfeira.vw_aberto\n",
    "    WHERE [Data do Pedido]=@DTBASE\n",
    "    \n",
    "    \"\"\",\n",
    "\n",
    "    'Calendario':\n",
    "\n",
    "    \"\"\"\n",
    "    \n",
    "    DECLARE @DTBASE DATETIME\n",
    "\n",
    "    SET @DTBASE=CONVERT(DATETIME,CAST(GETDATE() AS DATE),101)\n",
    "\n",
    "    SELECT COUNT(DATA) AS [Útil],COUNT([Data Trabalhada])-1 AS [Trabalhado],\n",
    "    COUNT(DATA)-(COUNT([Data Trabalhada])-1) AS [Restante]\n",
    "    FROM netfeira.vw_calend\n",
    "    WHERE YEAR(Data)=YEAR(@DTBASE) AND MONTH(Data)=MONTH(@DTBASE) AND [Dia Útil]=1    \n",
    "    \n",
    "    \"\"\"\n",
    "\n",
    "}"
   ]
  },
  {
   "cell_type": "code",
   "execution_count": 2,
   "id": "e12ee225",
   "metadata": {},
   "outputs": [
    {
     "name": "stderr",
     "output_type": "stream",
     "text": [
      "C:\\Users\\TI\\Anaconda3\\lib\\site-packages\\pandas\\io\\sql.py:762: UserWarning: pandas only support SQLAlchemy connectable(engine/connection) ordatabase string URI or sqlite3 DBAPI2 connectionother DBAPI2 objects are not tested, please consider using SQLAlchemy\n",
      "  warnings.warn(\n",
      "C:\\Users\\TI\\Anaconda3\\lib\\site-packages\\pandas\\io\\sql.py:762: UserWarning: pandas only support SQLAlchemy connectable(engine/connection) ordatabase string URI or sqlite3 DBAPI2 connectionother DBAPI2 objects are not tested, please consider using SQLAlchemy\n",
      "  warnings.warn(\n",
      "C:\\Users\\TI\\Anaconda3\\lib\\site-packages\\pandas\\io\\sql.py:762: UserWarning: pandas only support SQLAlchemy connectable(engine/connection) ordatabase string URI or sqlite3 DBAPI2 connectionother DBAPI2 objects are not tested, please consider using SQLAlchemy\n",
      "  warnings.warn(\n",
      "C:\\Users\\TI\\Anaconda3\\lib\\site-packages\\pandas\\io\\sql.py:762: UserWarning: pandas only support SQLAlchemy connectable(engine/connection) ordatabase string URI or sqlite3 DBAPI2 connectionother DBAPI2 objects are not tested, please consider using SQLAlchemy\n",
      "  warnings.warn(\n",
      "C:\\Users\\TI\\Anaconda3\\lib\\site-packages\\pandas\\io\\sql.py:762: UserWarning: pandas only support SQLAlchemy connectable(engine/connection) ordatabase string URI or sqlite3 DBAPI2 connectionother DBAPI2 objects are not tested, please consider using SQLAlchemy\n",
      "  warnings.warn(\n",
      "C:\\Users\\TI\\Anaconda3\\lib\\site-packages\\pandas\\io\\sql.py:762: UserWarning: pandas only support SQLAlchemy connectable(engine/connection) ordatabase string URI or sqlite3 DBAPI2 connectionother DBAPI2 objects are not tested, please consider using SQLAlchemy\n",
      "  warnings.warn(\n"
     ]
    }
   ],
   "source": [
    "df=sql.CriarTabela(kwargs=querys)"
   ]
  },
  {
   "cell_type": "code",
   "execution_count": 3,
   "id": "7e481ff0",
   "metadata": {},
   "outputs": [
    {
     "data": {
      "text/plain": [
       "Index(['ID Empresa', 'Pedido', 'Nfe', 'ID Cliente', 'ID Vendedor',\n",
       "       'Data de Emissão', 'Data de Faturamento', 'ID Motivo', 'Situação',\n",
       "       'Tipo de Pedido', 'Tipo de Operação', 'ID Roteiro', 'ID Usuário',\n",
       "       'Tabelas', 'Origem', 'Tipo de Entrega', 'Seq Roteiro', 'SKU', 'Seq',\n",
       "       'Qtde', 'Unid. VDA', 'Qtde VDA', 'Valor VDA', 'Total Venda', 'Total AV',\n",
       "       'Total Geral', 'Margem Bruta R$', 'Comissão R$', 'IPI R$', 'PIS R$',\n",
       "       'COFINS R$', 'ICMS R$', 'ICMS ST R$', 'Peso Bruto KG',\n",
       "       'Peso Líquido KG', 'Cad Vendedor'],\n",
       "      dtype='object')"
      ]
     },
     "execution_count": 3,
     "metadata": {},
     "output_type": "execute_result"
    }
   ],
   "source": [
    "df['Estatico'].columns"
   ]
  },
  {
   "cell_type": "code",
   "execution_count": 4,
   "id": "d3620bec",
   "metadata": {},
   "outputs": [],
   "source": [
    "df['Consolidado']=df['Estatico'].groupby(['ID Vendedor'],as_index=False).agg({'Total Venda':'sum'})\n",
    "\n",
    "df['Consolidado'].rename(columns={'Total Venda':'Faturado'},inplace=True)"
   ]
  },
  {
   "cell_type": "code",
   "execution_count": 5,
   "id": "595150f9",
   "metadata": {},
   "outputs": [],
   "source": [
    "df['Pendente']=df['Aberto'].loc[df['Aberto']['Situação']=='AB'].groupby(['ID Vendedor'],as_index=False).agg({'Total Venda':'sum'})\n",
    "\n",
    "df['Pendente'].rename(columns={'Total Venda':'Em Aberto'},inplace=True)"
   ]
  },
  {
   "cell_type": "code",
   "execution_count": 6,
   "id": "93a5ec46",
   "metadata": {},
   "outputs": [],
   "source": [
    "df['Meta']=df['Meta'].groupby(['ID Vendedor'],as_index=False).agg({'Meta R$':'sum'})"
   ]
  },
  {
   "cell_type": "code",
   "execution_count": 7,
   "id": "7f354e59",
   "metadata": {},
   "outputs": [],
   "source": [
    "df['Meta']=df['Meta'].merge(df['Consolidado'],on='ID Vendedor',how='left')\n",
    "\n",
    "df['Meta']=df['Meta'].merge(df['Pendente'],on='ID Vendedor',how='left')"
   ]
  },
  {
   "cell_type": "code",
   "execution_count": 8,
   "id": "91e76ec2",
   "metadata": {},
   "outputs": [
    {
     "data": {
      "text/html": [
       "<div>\n",
       "<style scoped>\n",
       "    .dataframe tbody tr th:only-of-type {\n",
       "        vertical-align: middle;\n",
       "    }\n",
       "\n",
       "    .dataframe tbody tr th {\n",
       "        vertical-align: top;\n",
       "    }\n",
       "\n",
       "    .dataframe thead th {\n",
       "        text-align: right;\n",
       "    }\n",
       "</style>\n",
       "<table border=\"1\" class=\"dataframe\">\n",
       "  <thead>\n",
       "    <tr style=\"text-align: right;\">\n",
       "      <th></th>\n",
       "      <th>Meta R$</th>\n",
       "      <th>Faturado</th>\n",
       "      <th>ID Vendedor</th>\n",
       "      <th>Em Aberto</th>\n",
       "    </tr>\n",
       "  </thead>\n",
       "  <tbody>\n",
       "  </tbody>\n",
       "</table>\n",
       "</div>"
      ],
      "text/plain": [
       "Empty DataFrame\n",
       "Columns: [Meta R$, Faturado, ID Vendedor, Em Aberto]\n",
       "Index: []"
      ]
     },
     "execution_count": 8,
     "metadata": {},
     "output_type": "execute_result"
    }
   ],
   "source": [
    "colunas=df['Meta'].columns[1:]\n",
    "\n",
    "for coluna in colunas:\n",
    "    \n",
    "    df['Meta'].loc[df['Meta'][coluna].isnull(),coluna]=0    \n",
    "    \n",
    "    pass\n",
    "\n",
    "df['Meta']"
   ]
  },
  {
   "cell_type": "code",
   "execution_count": 9,
   "id": "897f445e",
   "metadata": {},
   "outputs": [],
   "source": [
    "df['Meta']['Realizado R$']=round(df['Meta']['Faturado']+df['Meta']['Em Aberto'],2)"
   ]
  },
  {
   "cell_type": "code",
   "execution_count": 10,
   "id": "8dbb7d32",
   "metadata": {},
   "outputs": [],
   "source": [
    "df['Meta']['Dif']=round(df['Meta']['Realizado R$']-df['Meta']['Meta R$'],2)"
   ]
  },
  {
   "cell_type": "code",
   "execution_count": 11,
   "id": "2129b178",
   "metadata": {},
   "outputs": [],
   "source": [
    "df['Meta']['Perc']=round(df['Meta']['Realizado R$']/df['Meta']['Meta R$'],4)*100"
   ]
  },
  {
   "cell_type": "code",
   "execution_count": 12,
   "id": "c2e855b1",
   "metadata": {},
   "outputs": [],
   "source": [
    "util=df['Calendario']['Útil'].max()\n",
    "\n",
    "trabalhado=df['Calendario']['Trabalhado'].max()"
   ]
  },
  {
   "cell_type": "code",
   "execution_count": 13,
   "id": "f8197222",
   "metadata": {},
   "outputs": [],
   "source": [
    "df['Meta']['Projeção']=round((df['Meta']['Realizado R$']/trabalhado)*util,2)"
   ]
  },
  {
   "cell_type": "code",
   "execution_count": 14,
   "id": "34a61744",
   "metadata": {},
   "outputs": [],
   "source": [
    "df['Meta']['Perc Projeção']=round(df['Meta']['Projeção']/df['Meta']['Meta R$'],4)*100"
   ]
  },
  {
   "cell_type": "code",
   "execution_count": 15,
   "id": "46c6fc3f",
   "metadata": {},
   "outputs": [
    {
     "data": {
      "text/html": [
       "<div>\n",
       "<style scoped>\n",
       "    .dataframe tbody tr th:only-of-type {\n",
       "        vertical-align: middle;\n",
       "    }\n",
       "\n",
       "    .dataframe tbody tr th {\n",
       "        vertical-align: top;\n",
       "    }\n",
       "\n",
       "    .dataframe thead th {\n",
       "        text-align: right;\n",
       "    }\n",
       "</style>\n",
       "<table border=\"1\" class=\"dataframe\">\n",
       "  <thead>\n",
       "    <tr style=\"text-align: right;\">\n",
       "      <th></th>\n",
       "      <th>Meta R$</th>\n",
       "      <th>Faturado</th>\n",
       "      <th>ID Vendedor</th>\n",
       "      <th>Em Aberto</th>\n",
       "      <th>Realizado R$</th>\n",
       "      <th>Dif</th>\n",
       "      <th>Perc</th>\n",
       "      <th>Projeção</th>\n",
       "      <th>Perc Projeção</th>\n",
       "    </tr>\n",
       "  </thead>\n",
       "  <tbody>\n",
       "  </tbody>\n",
       "</table>\n",
       "</div>"
      ],
      "text/plain": [
       "Empty DataFrame\n",
       "Columns: [Meta R$, Faturado, ID Vendedor, Em Aberto, Realizado R$, Dif, Perc, Projeção, Perc Projeção]\n",
       "Index: []"
      ]
     },
     "execution_count": 15,
     "metadata": {},
     "output_type": "execute_result"
    }
   ],
   "source": [
    "colunas=df['Meta'].columns[1:]\n",
    "\n",
    "for coluna in colunas:\n",
    "    \n",
    "    df['Meta'].loc[df['Meta'][coluna].isnull(),coluna]=0    \n",
    "    \n",
    "    pass\n",
    "\n",
    "df['Meta']"
   ]
  },
  {
   "cell_type": "code",
   "execution_count": 16,
   "id": "b630e7d8",
   "metadata": {},
   "outputs": [
    {
     "data": {
      "text/plain": [
       "Index(['ID Vendedor', 'Vendedor', 'Nome Resumido', 'ID Equipe', 'E-mail',\n",
       "       'Categoria', 'Data de Cadastro', 'Status do Vendedor', 'DDD',\n",
       "       'Telefone'],\n",
       "      dtype='object')"
      ]
     },
     "execution_count": 16,
     "metadata": {},
     "output_type": "execute_result"
    }
   ],
   "source": [
    "df['Vendedor'].columns"
   ]
  },
  {
   "cell_type": "code",
   "execution_count": 17,
   "id": "3c07effc",
   "metadata": {},
   "outputs": [
    {
     "data": {
      "text/plain": [
       "Index(['ID Equipe', 'Equipe', 'ID Sup', 'Supervisor', 'Email Sup', 'DDD Sup',\n",
       "       'Telefone Sup', 'ID Gerente', 'Gerente', 'Email Gerente', 'DDD Gerente',\n",
       "       'Telefone Gerente'],\n",
       "      dtype='object')"
      ]
     },
     "execution_count": 17,
     "metadata": {},
     "output_type": "execute_result"
    }
   ],
   "source": [
    "df['Supervisor'].columns"
   ]
  },
  {
   "cell_type": "code",
   "execution_count": 18,
   "id": "a0989b94",
   "metadata": {},
   "outputs": [],
   "source": [
    "df['Vendedor']=df['Vendedor'].merge(df['Supervisor'],on='ID Equipe',how='inner')[['ID Vendedor', 'Vendedor', 'Nome Resumido', 'Equipe','DDD',\n",
    "       'Telefone']]"
   ]
  },
  {
   "cell_type": "code",
   "execution_count": 19,
   "id": "426b9466",
   "metadata": {},
   "outputs": [],
   "source": [
    "df['Vendedor']=df['Vendedor'].merge(df['Meta'],on='ID Vendedor',how='inner')"
   ]
  },
  {
   "cell_type": "code",
   "execution_count": null,
   "id": "8fb33cb3",
   "metadata": {},
   "outputs": [],
   "source": []
  },
  {
   "cell_type": "code",
   "execution_count": null,
   "id": "ec94e3cc",
   "metadata": {},
   "outputs": [],
   "source": []
  }
 ],
 "metadata": {
  "kernelspec": {
   "display_name": "base",
   "language": "python",
   "name": "python3"
  },
  "language_info": {
   "codemirror_mode": {
    "name": "ipython",
    "version": 3
   },
   "file_extension": ".py",
   "mimetype": "text/x-python",
   "name": "python",
   "nbconvert_exporter": "python",
   "pygments_lexer": "ipython3",
   "version": "3.9.13 (main, Aug 25 2022, 23:51:50) [MSC v.1916 64 bit (AMD64)]"
  },
  "vscode": {
   "interpreter": {
    "hash": "c5c4ffc3ed6ea4355b993cd53d9fc229a32d738a2ad7de1c82a9920ebf0ac84e"
   }
  }
 },
 "nbformat": 4,
 "nbformat_minor": 5
}
