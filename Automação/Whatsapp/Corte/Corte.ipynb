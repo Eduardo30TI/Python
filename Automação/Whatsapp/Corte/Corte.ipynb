{
 "cells": [
  {
   "cell_type": "code",
   "execution_count": 1,
   "id": "cf159fa5",
   "metadata": {},
   "outputs": [],
   "source": [
    "from Acesso import Login\n",
    "from Query import Query\n",
    "from Moeda import Moeda\n",
    "import pandas as pd\n",
    "\n",
    "pd.set_option('display.max_columns',None)\n",
    "\n",
    "s=Login()\n",
    "\n",
    "sql=Query(s.usuario,s.senha,s.database,s.server)\n",
    "\n",
    "querys={\n",
    "    \n",
    "    'Faltas':\"\"\"\n",
    "        \n",
    "    IF MONTH(GETDATE())=1\n",
    "\n",
    "        SELECT * FROM netfeira.vw_falta\n",
    "        WHERE YEAR([Data de Falta])=YEAR(GETDATE())-1 AND MONTH([Data de Falta])=12\n",
    "        \n",
    "    ELSE\n",
    "\n",
    "        IF DAY(GETDATE())=1\n",
    "\n",
    "            SELECT * FROM netfeira.vw_falta\n",
    "            WHERE YEAR([Data de Falta])=YEAR(GETDATE()) AND MONTH([Data de Falta])=MONTH(GETDATE())-1\n",
    "\n",
    "        ELSE\n",
    "                \n",
    "            SELECT * FROM netfeira.vw_falta\n",
    "            WHERE [Data de Falta]=CONVERT(DATETIME,CAST(GETDATE() AS DATE),101) \n",
    "    \n",
    "    \"\"\",\n",
    "    \n",
    "    'Vendedores':\"\"\"\n",
    "    \n",
    "    SELECT vend.[ID Vendedor],vend.[Nome Resumido],\n",
    "\tvend.[ID Equipe],vend.DDD,vend.Telefone\n",
    "\tFROM netfeira.vw_vendedor vend\n",
    "    WHERE Categoria='CLT' AND vend.[Status do Vendedor]='ATIVO' AND vend.Telefone IS NOT NULL\n",
    "    \n",
    "    \n",
    "    \"\"\",\n",
    "    \n",
    "    'Supervisor':\"\"\"\n",
    "    \n",
    "    SELECT * FROM netfeira.vw_supervisor\n",
    "    \n",
    "    \"\"\"\n",
    "    \n",
    "}"
   ]
  },
  {
   "cell_type": "code",
   "execution_count": 2,
   "id": "68b775db",
   "metadata": {},
   "outputs": [],
   "source": [
    "tabelas_df=sql.CriarTabela(kwargs=querys)"
   ]
  },
  {
   "cell_type": "code",
   "execution_count": 3,
   "id": "003ecd2b",
   "metadata": {},
   "outputs": [
    {
     "data": {
      "text/plain": [
       "Index(['Data de Falta', 'ID Vendedor', 'ID Cliente', 'Nome Fantasia', 'Pedido',\n",
       "       'SKU', 'Produto', 'Unid. VDA', 'Qtde. VDA', 'Valor Unitário',\n",
       "       'Total do Pedido'],\n",
       "      dtype='object')"
      ]
     },
     "execution_count": 3,
     "metadata": {},
     "output_type": "execute_result"
    }
   ],
   "source": [
    "tabelas_df['Faltas'].columns"
   ]
  },
  {
   "cell_type": "code",
   "execution_count": 4,
   "id": "d2236cb2",
   "metadata": {},
   "outputs": [
    {
     "data": {
      "text/plain": [
       "Index(['ID Vendedor', 'Nome Resumido', 'ID Equipe', 'DDD', 'Telefone'], dtype='object')"
      ]
     },
     "execution_count": 4,
     "metadata": {},
     "output_type": "execute_result"
    }
   ],
   "source": [
    "tabelas_df['Vendedores'].columns"
   ]
  },
  {
   "cell_type": "code",
   "execution_count": 5,
   "id": "4686661d",
   "metadata": {},
   "outputs": [
    {
     "data": {
      "text/plain": [
       "Index(['ID Equipe', 'Equipe', 'ID Sup', 'Supervisor', 'Email Sup', 'DDD Sup',\n",
       "       'Telefone Sup', 'ID Gerente', 'Gerente', 'Email Gerente', 'DDD Gerente',\n",
       "       'Telefone Gerente'],\n",
       "      dtype='object')"
      ]
     },
     "execution_count": 5,
     "metadata": {},
     "output_type": "execute_result"
    }
   ],
   "source": [
    "tabelas_df['Supervisor'].columns"
   ]
  },
  {
   "cell_type": "code",
   "execution_count": 6,
   "id": "d69e0382",
   "metadata": {},
   "outputs": [],
   "source": [
    "tabelas_df['Vendedores']=tabelas_df['Vendedores'].merge(tabelas_df['Supervisor'],on='ID Equipe',how='inner')"
   ]
  },
  {
   "cell_type": "code",
   "execution_count": 7,
   "id": "395787db",
   "metadata": {},
   "outputs": [],
   "source": [
    "tabelas_df['Faltas']=tabelas_df['Faltas'].merge(tabelas_df['Vendedores'],on='ID Vendedor',how='inner')"
   ]
  },
  {
   "cell_type": "code",
   "execution_count": 8,
   "id": "f006d330",
   "metadata": {},
   "outputs": [],
   "source": [
    "tabelas_df['Consolidado']=tabelas_df['Faltas'][['ID Vendedor','Nome Resumido','Equipe','Supervisor','DDD','Telefone','Total do Pedido']].groupby(['ID Vendedor','Nome Resumido','Equipe','Supervisor','DDD','Telefone'],as_index=False).sum()"
   ]
  },
  {
   "cell_type": "code",
   "execution_count": 9,
   "id": "17b3fe09",
   "metadata": {},
   "outputs": [],
   "source": [
    "tabelas_df['Consolidado'].sort_values('Total do Pedido',ascending=False,ignore_index=True,inplace=True)"
   ]
  },
  {
   "cell_type": "code",
   "execution_count": 10,
   "id": "dfd75a47",
   "metadata": {},
   "outputs": [],
   "source": [
    "tabelas_df['Consolidado']['Pedidos']=tabelas_df['Consolidado']['ID Vendedor'].apply(lambda info: len(tabelas_df['Faltas']['Pedido'].loc[tabelas_df['Faltas']['ID Vendedor']==info].unique().tolist()))"
   ]
  },
  {
   "cell_type": "code",
   "execution_count": 11,
   "id": "d5659557",
   "metadata": {},
   "outputs": [],
   "source": [
    "tabelas_df['Consolidado']['MIX']=tabelas_df['Consolidado']['ID Vendedor'].apply(lambda info: len(tabelas_df['Faltas']['SKU'].loc[tabelas_df['Faltas']['ID Vendedor']==info].unique().tolist()))"
   ]
  },
  {
   "cell_type": "code",
   "execution_count": 12,
   "id": "ee6e0997",
   "metadata": {},
   "outputs": [],
   "source": [
    "codigos=tabelas_df['Consolidado']['ID Vendedor'].tolist()\n",
    "\n",
    "temp=[]\n",
    "\n",
    "for c in codigos:\n",
    "    \n",
    "    df=pd.DataFrame()\n",
    "    \n",
    "    df=tabelas_df['Consolidado'].loc[tabelas_df['Consolidado']['ID Vendedor']==c]\n",
    "    \n",
    "    vendedor=df['Nome Resumido'].tolist()\n",
    "           \n",
    "    vendedor=str(vendedor[-1]).title()\n",
    "    \n",
    "    total=df['Total do Pedido'].sum()\n",
    "    \n",
    "    total=Moeda.FormatarMoeda(total)\n",
    "    \n",
    "    mensagem=f\"\"\"\n",
    "    \n",
    "    Bom dia;\n",
    "    \n",
    "    {vendedor} tudo bem, estou aqui para te informar que identificamos que houve corte no valor de R$ {total}.\n",
    "        \n",
    "    \n",
    "    \"\"\"\n",
    "    \n",
    "    temp.append(mensagem)\n",
    "    \n",
    "    pass\n",
    "\n",
    "\n",
    "tabelas_df['Consolidado']['Mensagens']=temp\n"
   ]
  },
  {
   "cell_type": "code",
   "execution_count": 13,
   "id": "b576df5b",
   "metadata": {},
   "outputs": [],
   "source": [
    "def Telefone(num):\n",
    "    \n",
    "    num=str(num)\n",
    "    \n",
    "    num=num.split('.')\n",
    "    \n",
    "    return num[0]\n",
    "    \n",
    "    pass"
   ]
  },
  {
   "cell_type": "code",
   "execution_count": 14,
   "id": "5e23c2ef",
   "metadata": {},
   "outputs": [],
   "source": [
    "tabelas_df['Consolidado']['DDD']=tabelas_df['Consolidado']['DDD'].apply(Telefone)"
   ]
  },
  {
   "cell_type": "code",
   "execution_count": 15,
   "id": "2423d048",
   "metadata": {},
   "outputs": [],
   "source": [
    "tabelas_df['Consolidado']['Telefone']=tabelas_df['Consolidado']['Telefone'].apply(Telefone)"
   ]
  },
  {
   "cell_type": "code",
   "execution_count": 16,
   "id": "f6a8e0f2",
   "metadata": {},
   "outputs": [
    {
     "ename": "KeyError",
     "evalue": "'Cliente'",
     "output_type": "error",
     "traceback": [
      "\u001b[1;31m---------------------------------------------------------------------------\u001b[0m",
      "\u001b[1;31mKeyError\u001b[0m                                  Traceback (most recent call last)",
      "\u001b[1;32m~\\AppData\\Local\\Temp/ipykernel_15568/3295041894.py\u001b[0m in \u001b[0;36m<module>\u001b[1;34m\u001b[0m\n\u001b[1;32m----> 1\u001b[1;33m \u001b[0mtabelas_df\u001b[0m\u001b[1;33m[\u001b[0m\u001b[1;34m'Faltas'\u001b[0m\u001b[1;33m]\u001b[0m\u001b[1;33m=\u001b[0m\u001b[0mtabelas_df\u001b[0m\u001b[1;33m[\u001b[0m\u001b[1;34m'Faltas'\u001b[0m\u001b[1;33m]\u001b[0m\u001b[1;33m.\u001b[0m\u001b[0mmerge\u001b[0m\u001b[1;33m(\u001b[0m\u001b[0mtabelas_df\u001b[0m\u001b[1;33m[\u001b[0m\u001b[1;34m'Cliente'\u001b[0m\u001b[1;33m]\u001b[0m\u001b[1;33m,\u001b[0m\u001b[0mon\u001b[0m\u001b[1;33m=\u001b[0m\u001b[1;34m'ID Cliente'\u001b[0m\u001b[1;33m,\u001b[0m\u001b[0mhow\u001b[0m\u001b[1;33m=\u001b[0m\u001b[1;34m'inner'\u001b[0m\u001b[1;33m)\u001b[0m\u001b[1;33m\u001b[0m\u001b[1;33m\u001b[0m\u001b[0m\n\u001b[0m",
      "\u001b[1;31mKeyError\u001b[0m: 'Cliente'"
     ]
    }
   ],
   "source": [
    "tabelas_df['Faltas']=tabelas_df['Faltas'].merge(tabelas_df['Cliente'],on='ID Cliente',how='inner')"
   ]
  },
  {
   "cell_type": "code",
   "execution_count": null,
   "id": "4e821b17",
   "metadata": {},
   "outputs": [],
   "source": [
    "tabelas_df['Vendedores'].columns"
   ]
  },
  {
   "cell_type": "code",
   "execution_count": 17,
   "id": "908a679e",
   "metadata": {},
   "outputs": [
    {
     "data": {
      "text/plain": [
       "Index(['Data de Falta', 'ID Vendedor', 'ID Cliente', 'Nome Fantasia', 'Pedido',\n",
       "       'SKU', 'Produto', 'Unid. VDA', 'Qtde. VDA', 'Valor Unitário',\n",
       "       'Total do Pedido', 'Nome Resumido', 'ID Equipe', 'DDD', 'Telefone',\n",
       "       'Equipe', 'ID Sup', 'Supervisor', 'Email Sup', 'DDD Sup',\n",
       "       'Telefone Sup', 'ID Gerente', 'Gerente', 'Email Gerente', 'DDD Gerente',\n",
       "       'Telefone Gerente'],\n",
       "      dtype='object')"
      ]
     },
     "execution_count": 17,
     "metadata": {},
     "output_type": "execute_result"
    }
   ],
   "source": [
    "tabelas_df['Faltas'].columns"
   ]
  },
  {
   "cell_type": "code",
   "execution_count": null,
   "id": "798ea763",
   "metadata": {},
   "outputs": [],
   "source": []
  }
 ],
 "metadata": {
  "kernelspec": {
   "display_name": "Python 3 (ipykernel)",
   "language": "python",
   "name": "python3"
  },
  "language_info": {
   "codemirror_mode": {
    "name": "ipython",
    "version": 3
   },
   "file_extension": ".py",
   "mimetype": "text/x-python",
   "name": "python",
   "nbconvert_exporter": "python",
   "pygments_lexer": "ipython3",
   "version": "3.9.7"
  }
 },
 "nbformat": 4,
 "nbformat_minor": 5
}
