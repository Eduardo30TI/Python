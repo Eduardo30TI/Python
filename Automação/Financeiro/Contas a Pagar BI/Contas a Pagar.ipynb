{
 "cells": [
  {
   "cell_type": "code",
   "execution_count": 1,
   "id": "0d291782",
   "metadata": {},
   "outputs": [],
   "source": [
    "from Query import Query\n",
    "import os\n",
    "from glob import glob\n",
    "import pandas as pd\n",
    "from Tempo import DataHora"
   ]
  },
  {
   "cell_type": "code",
   "execution_count": 2,
   "id": "99a1b990",
   "metadata": {},
   "outputs": [],
   "source": [
    "sql=Query('Netfeira','sqlserver','MOINHO','192.168.0.252')"
   ]
  },
  {
   "cell_type": "code",
   "execution_count": 3,
   "id": "ad25c23f",
   "metadata": {},
   "outputs": [],
   "source": [
    "data=DataHora()\n",
    "\n",
    "data_atual=data.HoraAtual()"
   ]
  },
  {
   "cell_type": "code",
   "execution_count": 4,
   "id": "eac0abb8",
   "metadata": {},
   "outputs": [],
   "source": [
    "pd.set_option('display.max_columns',None)\n",
    "\n",
    "pd.set_option('float_format','{:2f}'.format)"
   ]
  },
  {
   "cell_type": "code",
   "execution_count": 5,
   "id": "f119b94c",
   "metadata": {},
   "outputs": [],
   "source": [
    "tabelas_df=sql.CriarTabela()"
   ]
  },
  {
   "cell_type": "code",
   "execution_count": 6,
   "id": "90f65cca",
   "metadata": {},
   "outputs": [
    {
     "data": {
      "text/plain": [
       "Index(['Data de Emissão', 'Data de Vencimento', 'Data de Pagamento', 'Título',\n",
       "       'NFe', 'ID Fornecedor', 'Razão Social', 'Nome Fantasia', 'CNPJ',\n",
       "       'ID Conta', 'Contas', 'ID Tipo Conta', 'Tipo de Conta',\n",
       "       'ID Grupo Conta', 'Grupo', 'ID Situação', 'Situação do Título',\n",
       "       'Título R$', 'Saldo R$', 'Valor Pago R$', 'Desconto R$', 'Total R$'],\n",
       "      dtype='object')"
      ]
     },
     "execution_count": 6,
     "metadata": {},
     "output_type": "execute_result"
    }
   ],
   "source": [
    "tabelas_df['Pagar'].columns"
   ]
  },
  {
   "cell_type": "code",
   "execution_count": 7,
   "id": "7986b442",
   "metadata": {},
   "outputs": [
    {
     "data": {
      "text/plain": [
       "1324689.5899999999"
      ]
     },
     "execution_count": 7,
     "metadata": {},
     "output_type": "execute_result"
    }
   ],
   "source": [
    "len(tabelas_df['Pagar']['Título'].loc[(tabelas_df['Pagar']['Data de Vencimento'].dt.year==data_atual.year)&(tabelas_df['Pagar']['Data de Vencimento'].dt.month==data_atual.month)&(tabelas_df['Pagar']['ID Situação'].isin(['AB','PL']))].unique().tolist())\n",
    "\n",
    "tabelas_df['Pagar']['Título R$'].loc[(tabelas_df['Pagar']['Data de Vencimento'].dt.year==data_atual.year)&(tabelas_df['Pagar']['Data de Vencimento'].dt.month==data_atual.month)&(tabelas_df['Pagar']['ID Situação'].isin(['AB','PL']))].sum()"
   ]
  },
  {
   "cell_type": "code",
   "execution_count": 8,
   "id": "ac15d2e2",
   "metadata": {},
   "outputs": [
    {
     "data": {
      "text/plain": [
       "864773.81"
      ]
     },
     "execution_count": 8,
     "metadata": {},
     "output_type": "execute_result"
    }
   ],
   "source": [
    "faturado=round(tabelas_df['Estatico']['Total Geral'].loc[(tabelas_df['Estatico']['Tipo de Operação']=='VENDAS')&(tabelas_df['Estatico']['Status do Pedido']!='EM ABERTO')&(tabelas_df['Estatico']['Data de Faturamento'].dt.year==data_atual.year)&(tabelas_df['Estatico']['Data de Faturamento'].dt.month==data_atual.month)].sum(),2)\n",
    "\n",
    "faturado"
   ]
  },
  {
   "cell_type": "code",
   "execution_count": 9,
   "id": "a29cacec",
   "metadata": {},
   "outputs": [
    {
     "data": {
      "text/plain": [
       "71564"
      ]
     },
     "execution_count": 9,
     "metadata": {},
     "output_type": "execute_result"
    }
   ],
   "source": [
    "aberto=round(tabelas_df['Aberto']['Total Geral'].loc[(tabelas_df['Aberto']['Data do Pedido'].dt.year==data_atual.year)&(tabelas_df['Aberto']['Data do Pedido'].dt.month==data_atual.month)&(tabelas_df['Aberto']['Data do Pedido'].dt.day==data_atual.day)&(tabelas_df['Aberto']['Situação']=='AB')].sum())\n",
    "\n",
    "aberto"
   ]
  },
  {
   "cell_type": "code",
   "execution_count": 10,
   "id": "b66004d5",
   "metadata": {},
   "outputs": [
    {
     "data": {
      "text/plain": [
       "936337.81"
      ]
     },
     "execution_count": 10,
     "metadata": {},
     "output_type": "execute_result"
    }
   ],
   "source": [
    "total=faturado+aberto\n",
    "\n",
    "total"
   ]
  },
  {
   "cell_type": "code",
   "execution_count": 11,
   "id": "e253cc4f",
   "metadata": {},
   "outputs": [
    {
     "data": {
      "text/plain": [
       "['CAIXA-CONSORCIO',\n",
       " 'DISTRIBUICAO DE LUCRO',\n",
       " 'FORNECEDORES',\n",
       " 'RECIFE',\n",
       " 'SALVADOR']"
      ]
     },
     "execution_count": 11,
     "metadata": {},
     "output_type": "execute_result"
    }
   ],
   "source": [
    "base_contas=['CAIXA-CONSORCIO','DISTRIBUICAO DE LUCRO','FORNECEDORES','RECIFE','SALVADOR','BELEM','CAMBIO','CONSORCIO','LITORAL','NUMERARIO','PARANA']\n",
    "\n",
    "base_contas"
   ]
  },
  {
   "cell_type": "code",
   "execution_count": 17,
   "id": "34bcd3d7",
   "metadata": {},
   "outputs": [],
   "source": [
    "tabelas_df['Pagar']['Contas']=tabelas_df['Pagar']['Contas'].apply(lambda info: str(info).strip())"
   ]
  },
  {
   "cell_type": "code",
   "execution_count": 11,
   "id": "dcd46dcb",
   "metadata": {},
   "outputs": [],
   "source": [
    "tabelas_df['Pagar']=tabelas_df['Pagar'].loc[~tabelas_df['Pagar']['Contas'].isin(base_contas)]"
   ]
  },
  {
   "cell_type": "code",
   "execution_count": 12,
   "id": "f41f5f99",
   "metadata": {},
   "outputs": [
    {
     "data": {
      "text/plain": [
       "Index(['Data de Emissão', 'Data de Vencimento', 'Data de Pagamento', 'Título',\n",
       "       'NFe', 'ID Fornecedor', 'Razão Social', 'Nome Fantasia', 'CNPJ',\n",
       "       'ID Conta', 'Contas', 'Tipo de Conta', 'Grupo', 'Situação do Título',\n",
       "       'Título R$', 'Saldo R$', 'Valor Pago R$', 'Desconto R$', 'Total R$'],\n",
       "      dtype='object')"
      ]
     },
     "execution_count": 12,
     "metadata": {},
     "output_type": "execute_result"
    }
   ],
   "source": [
    "tabelas_df['Pagar'].columns"
   ]
  },
  {
   "cell_type": "code",
   "execution_count": 13,
   "id": "44487705",
   "metadata": {},
   "outputs": [
    {
     "data": {
      "text/plain": [
       "65324.8"
      ]
     },
     "execution_count": 13,
     "metadata": {},
     "output_type": "execute_result"
    }
   ],
   "source": [
    "valor_pago=round(tabelas_df['Pagar']['Valor Pago R$'].loc[(tabelas_df['Pagar']['Data de Pagamento'].dt.year==data_atual.year)&(tabelas_df['Pagar']['Data de Pagamento'].dt.month==data_atual.month)].sum(),2)\n",
    "\n",
    "valor_pago"
   ]
  },
  {
   "cell_type": "code",
   "execution_count": 14,
   "id": "2c8acf3e",
   "metadata": {},
   "outputs": [
    {
     "data": {
      "text/plain": [
       "0.0"
      ]
     },
     "execution_count": 14,
     "metadata": {},
     "output_type": "execute_result"
    }
   ],
   "source": [
    "desconto=round(tabelas_df['Pagar']['Desconto R$'].loc[(tabelas_df['Pagar']['Data de Pagamento'].dt.year==data_atual.year)&(tabelas_df['Pagar']['Data de Pagamento'].dt.month==data_atual.month)].sum(),2)\n",
    "\n",
    "desconto"
   ]
  },
  {
   "cell_type": "code",
   "execution_count": 15,
   "id": "022161f0",
   "metadata": {},
   "outputs": [
    {
     "data": {
      "text/plain": [
       "27.42"
      ]
     },
     "execution_count": 15,
     "metadata": {},
     "output_type": "execute_result"
    }
   ],
   "source": [
    "despesa_rep=round(valor_pago/total,4)*100\n",
    "\n",
    "despesa_rep"
   ]
  },
  {
   "cell_type": "code",
   "execution_count": 16,
   "id": "9ccb8257",
   "metadata": {},
   "outputs": [
    {
     "data": {
      "text/plain": [
       "33"
      ]
     },
     "execution_count": 16,
     "metadata": {},
     "output_type": "execute_result"
    }
   ],
   "source": [
    "titulos_vencidos=len(tabelas_df['Pagar']['Título'].loc[(tabelas_df['Pagar']['Data de Vencimento'].dt.year==data_atual.year)&(tabelas_df['Pagar']['Data de Vencimento'].dt.month==data_atual.month)].unique().tolist())\n",
    "\n",
    "titulos_pagos=len(tabelas_df['Pagar']['Título'].loc[(tabelas_df['Pagar']['Data de Pagamento'].dt.year==data_atual.year)&(tabelas_df['Pagar']['Data de Pagamento'].dt.month==data_atual.month)].unique().tolist())\n",
    "\n",
    "titulos_emitidos=len(tabelas_df['Pagar']['Título'].loc[(tabelas_df['Pagar']['Data de Emissão'].dt.year==data_atual.year)&(tabelas_df['Pagar']['Data de Emissão'].dt.month==data_atual.month)].unique().tolist())\n",
    "\n",
    "titulos_emitidos"
   ]
  },
  {
   "cell_type": "code",
   "execution_count": 17,
   "id": "d110009a",
   "metadata": {},
   "outputs": [],
   "source": [
    "tit_venc_df=tabelas_df['Pagar'][['Data de Vencimento','Título R$']].loc[(tabelas_df['Pagar']['Data de Vencimento'].dt.year==data_atual.year)&(tabelas_df['Pagar']['Data de Vencimento'].dt.month==data_atual.month)].groupby(['Data de Vencimento','Título R$'],as_index=False).sum()\n",
    "\n",
    "valor_vencer=tit_venc_df['Título R$'].sum()"
   ]
  },
  {
   "cell_type": "code",
   "execution_count": 18,
   "id": "45352588",
   "metadata": {},
   "outputs": [
    {
     "data": {
      "text/plain": [
       "65324.8"
      ]
     },
     "execution_count": 18,
     "metadata": {},
     "output_type": "execute_result"
    }
   ],
   "source": [
    "total_pago=valor_pago+desconto\n",
    "\n",
    "total_pago"
   ]
  },
  {
   "cell_type": "code",
   "execution_count": 19,
   "id": "17cc9115",
   "metadata": {},
   "outputs": [
    {
     "data": {
      "text/plain": [
       "Index(['Data de Emissão', 'Data de Vencimento', 'Data de Pagamento', 'Título',\n",
       "       'Serie', 'Tipo de Pagamento', 'ID Cliente', 'Razão Social',\n",
       "       'Nome Fantasia', 'Matriz', 'Segmento', 'Situação', 'Valor',\n",
       "       'Desconto R$', 'Multa R$', 'Juros R$', 'Abatimento R$', 'Taxa R$',\n",
       "       'Pago R$'],\n",
       "      dtype='object')"
      ]
     },
     "execution_count": 19,
     "metadata": {},
     "output_type": "execute_result"
    }
   ],
   "source": [
    "tabelas_df['Receber'].columns"
   ]
  },
  {
   "cell_type": "code",
   "execution_count": 20,
   "id": "b775641b",
   "metadata": {},
   "outputs": [
    {
     "data": {
      "text/plain": [
       "122956.2"
      ]
     },
     "execution_count": 20,
     "metadata": {},
     "output_type": "execute_result"
    }
   ],
   "source": [
    "recebido=round(tabelas_df['Receber']['Pago R$'].loc[(tabelas_df['Receber']['Data de Pagamento'].dt.year==data_atual.year)&((tabelas_df['Receber']['Data de Pagamento'].dt.month==data_atual.month))].sum(),2)\n",
    "\n",
    "recebido"
   ]
  },
  {
   "cell_type": "code",
   "execution_count": 21,
   "id": "a97e4151",
   "metadata": {},
   "outputs": [
    {
     "data": {
      "text/plain": [
       "Index(['Data de Emissão', 'Data de Vencimento', 'Data de Pagamento', 'Título',\n",
       "       'NFe', 'ID Fornecedor', 'Razão Social', 'Nome Fantasia', 'CNPJ',\n",
       "       'ID Conta', 'Contas', 'Tipo de Conta', 'Grupo', 'Situação do Título',\n",
       "       'Título R$', 'Saldo R$', 'Valor Pago R$', 'Desconto R$', 'Total R$'],\n",
       "      dtype='object')"
      ]
     },
     "execution_count": 21,
     "metadata": {},
     "output_type": "execute_result"
    }
   ],
   "source": [
    "tabelas_df['Pagar'].columns"
   ]
  },
  {
   "cell_type": "code",
   "execution_count": 58,
   "id": "5a344c97",
   "metadata": {},
   "outputs": [
    {
     "data": {
      "text/html": [
       "<div>\n",
       "<style scoped>\n",
       "    .dataframe tbody tr th:only-of-type {\n",
       "        vertical-align: middle;\n",
       "    }\n",
       "\n",
       "    .dataframe tbody tr th {\n",
       "        vertical-align: top;\n",
       "    }\n",
       "\n",
       "    .dataframe thead th {\n",
       "        text-align: right;\n",
       "    }\n",
       "</style>\n",
       "<table border=\"1\" class=\"dataframe\">\n",
       "  <thead>\n",
       "    <tr style=\"text-align: right;\">\n",
       "      <th></th>\n",
       "      <th>Grupo</th>\n",
       "      <th>Valor Pago R$</th>\n",
       "      <th>Desconto R$</th>\n",
       "      <th>Total R$</th>\n",
       "      <th>Rep %</th>\n",
       "    </tr>\n",
       "  </thead>\n",
       "  <tbody>\n",
       "    <tr>\n",
       "      <th>0</th>\n",
       "      <td>DESPESAS FIXAS</td>\n",
       "      <td>517542.310000</td>\n",
       "      <td>0.000000</td>\n",
       "      <td>517542.310000</td>\n",
       "      <td>792.260000</td>\n",
       "    </tr>\n",
       "    <tr>\n",
       "      <th>1</th>\n",
       "      <td>DESPESAS VARIAVEIS</td>\n",
       "      <td>519993.920000</td>\n",
       "      <td>37.340000</td>\n",
       "      <td>520031.260000</td>\n",
       "      <td>796.010000</td>\n",
       "    </tr>\n",
       "    <tr>\n",
       "      <th>2</th>\n",
       "      <td>INVESTIMENTOS</td>\n",
       "      <td>7046.520000</td>\n",
       "      <td>0.000000</td>\n",
       "      <td>7046.520000</td>\n",
       "      <td>10.790000</td>\n",
       "    </tr>\n",
       "  </tbody>\n",
       "</table>\n",
       "</div>"
      ],
      "text/plain": [
       "                Grupo  Valor Pago R$  Desconto R$      Total R$      Rep %\n",
       "0      DESPESAS FIXAS  517542.310000     0.000000 517542.310000 792.260000\n",
       "1  DESPESAS VARIAVEIS  519993.920000    37.340000 520031.260000 796.010000\n",
       "2       INVESTIMENTOS    7046.520000     0.000000   7046.520000  10.790000"
      ]
     },
     "execution_count": 58,
     "metadata": {},
     "output_type": "execute_result"
    }
   ],
   "source": [
    "lista_valores=tabelas_df['Pagar'][['Valor Pago R$','Desconto R$','Total R$']].loc[(tabelas_df['Pagar']['Data de Pagamento'].dt.year==data_atual.year)&(tabelas_df['Pagar']['Data de Pagamento'].dt.month==data_atual.month)].sum().to_dict()\n",
    "\n",
    "grupo_df=tabelas_df['Pagar'][['Grupo','Valor Pago R$','Desconto R$','Total R$']].loc[(tabelas_df['Pagar']['Data de Pagamento'].dt.year==data_atual.year)&(tabelas_df['Pagar']['Data de Pagamento'].dt.month==data_atual.month-1)].groupby(['Grupo'],as_index=False).sum()\n",
    "\n",
    "grupo_df['Rep %']=grupo_df.apply(lambda info: round(info['Valor Pago R$']/lista_valores['Valor Pago R$'],4)*100,axis=1)\n",
    "\n",
    "grupo_df"
   ]
  },
  {
   "cell_type": "code",
   "execution_count": 72,
   "id": "34028e9d",
   "metadata": {},
   "outputs": [
    {
     "data": {
      "text/html": [
       "<div>\n",
       "<style scoped>\n",
       "    .dataframe tbody tr th:only-of-type {\n",
       "        vertical-align: middle;\n",
       "    }\n",
       "\n",
       "    .dataframe tbody tr th {\n",
       "        vertical-align: top;\n",
       "    }\n",
       "\n",
       "    .dataframe thead th {\n",
       "        text-align: right;\n",
       "    }\n",
       "</style>\n",
       "<table border=\"1\" class=\"dataframe\">\n",
       "  <thead>\n",
       "    <tr style=\"text-align: right;\">\n",
       "      <th></th>\n",
       "      <th>Tipo de Conta</th>\n",
       "      <th>Valor Pago R$</th>\n",
       "      <th>Desconto R$</th>\n",
       "      <th>Total R$</th>\n",
       "      <th>Rep %</th>\n",
       "    </tr>\n",
       "  </thead>\n",
       "  <tbody>\n",
       "    <tr>\n",
       "      <th>0</th>\n",
       "      <td>DESPESAS COM VENDAS</td>\n",
       "      <td>326946.860000</td>\n",
       "      <td>37.340000</td>\n",
       "      <td>326984.200000</td>\n",
       "      <td>62.880000</td>\n",
       "    </tr>\n",
       "    <tr>\n",
       "      <th>1</th>\n",
       "      <td>DESPESAS COM PESSOAL</td>\n",
       "      <td>322387.650000</td>\n",
       "      <td>0.000000</td>\n",
       "      <td>322387.650000</td>\n",
       "      <td>62.290000</td>\n",
       "    </tr>\n",
       "    <tr>\n",
       "      <th>2</th>\n",
       "      <td>IMPOSTOS</td>\n",
       "      <td>185933.660000</td>\n",
       "      <td>0.000000</td>\n",
       "      <td>185933.660000</td>\n",
       "      <td>35.760000</td>\n",
       "    </tr>\n",
       "    <tr>\n",
       "      <th>3</th>\n",
       "      <td>DESPESAS ADMINISTRATIVAS</td>\n",
       "      <td>163798.370000</td>\n",
       "      <td>0.000000</td>\n",
       "      <td>163798.370000</td>\n",
       "      <td>31.650000</td>\n",
       "    </tr>\n",
       "    <tr>\n",
       "      <th>4</th>\n",
       "      <td>IMOBILIZADO</td>\n",
       "      <td>7046.520000</td>\n",
       "      <td>0.000000</td>\n",
       "      <td>7046.520000</td>\n",
       "      <td>100.000000</td>\n",
       "    </tr>\n",
       "  </tbody>\n",
       "</table>\n",
       "</div>"
      ],
      "text/plain": [
       "              Tipo de Conta  Valor Pago R$  Desconto R$      Total R$  \\\n",
       "0       DESPESAS COM VENDAS  326946.860000    37.340000 326984.200000   \n",
       "1      DESPESAS COM PESSOAL  322387.650000     0.000000 322387.650000   \n",
       "2                  IMPOSTOS  185933.660000     0.000000 185933.660000   \n",
       "3  DESPESAS ADMINISTRATIVAS  163798.370000     0.000000 163798.370000   \n",
       "4               IMOBILIZADO    7046.520000     0.000000   7046.520000   \n",
       "\n",
       "       Rep %  \n",
       "0  62.880000  \n",
       "1  62.290000  \n",
       "2  35.760000  \n",
       "3  31.650000  \n",
       "4 100.000000  "
      ]
     },
     "execution_count": 72,
     "metadata": {},
     "output_type": "execute_result"
    }
   ],
   "source": [
    "tp_conta=pd.DataFrame()\n",
    "\n",
    "for g in grupo_df['Grupo'].tolist():\n",
    "    \n",
    "    vl_pago=grupo_df['Valor Pago R$'].loc[grupo_df['Grupo']==g].sum()\n",
    "        \n",
    "    temp_df=tabelas_df['Pagar'][['Tipo de Conta','Valor Pago R$','Desconto R$','Total R$']].loc[(tabelas_df['Pagar']['Data de Pagamento'].dt.year==data_atual.year)&(tabelas_df['Pagar']['Data de Pagamento'].dt.month==data_atual.month-1)&(tabelas_df['Pagar']['Grupo']==g)].groupby(['Tipo de Conta'],as_index=False).sum()\n",
    "        \n",
    "    temp_df.sort_values('Valor Pago R$',ascending=False,inplace=True,ignore_index=True)\n",
    "    \n",
    "    temp_df['Rep %']=round(temp_df['Valor Pago R$']/vl_pago,4)*100\n",
    "    \n",
    "    temp_df=temp_df.loc[temp_df['Rep %']>=5]\n",
    "    \n",
    "    tp_conta=pd.concat([tp_conta,temp_df],axis=0,ignore_index=True)\n",
    "    \n",
    "    pass\n",
    "\n",
    "tp_conta.sort_values('Valor Pago R$',ascending=False,inplace=True,ignore_index=True)\n",
    "\n",
    "tp_conta"
   ]
  },
  {
   "cell_type": "code",
   "execution_count": 74,
   "id": "abc6a9e8",
   "metadata": {},
   "outputs": [
    {
     "data": {
      "text/html": [
       "<div>\n",
       "<style scoped>\n",
       "    .dataframe tbody tr th:only-of-type {\n",
       "        vertical-align: middle;\n",
       "    }\n",
       "\n",
       "    .dataframe tbody tr th {\n",
       "        vertical-align: top;\n",
       "    }\n",
       "\n",
       "    .dataframe thead th {\n",
       "        text-align: right;\n",
       "    }\n",
       "</style>\n",
       "<table border=\"1\" class=\"dataframe\">\n",
       "  <thead>\n",
       "    <tr style=\"text-align: right;\">\n",
       "      <th></th>\n",
       "      <th>Contas</th>\n",
       "      <th>Valor Pago R$</th>\n",
       "      <th>Desconto R$</th>\n",
       "      <th>Total R$</th>\n",
       "      <th>Rep %</th>\n",
       "    </tr>\n",
       "  </thead>\n",
       "  <tbody>\n",
       "    <tr>\n",
       "      <th>0</th>\n",
       "      <td>COMISSAO</td>\n",
       "      <td>168382.280000</td>\n",
       "      <td>0.000000</td>\n",
       "      <td>168382.280000</td>\n",
       "      <td>51.500000</td>\n",
       "    </tr>\n",
       "    <tr>\n",
       "      <th>1</th>\n",
       "      <td>FRETE</td>\n",
       "      <td>151710.900000</td>\n",
       "      <td>0.000000</td>\n",
       "      <td>151710.900000</td>\n",
       "      <td>46.400000</td>\n",
       "    </tr>\n",
       "    <tr>\n",
       "      <th>2</th>\n",
       "      <td>SALARIOS</td>\n",
       "      <td>149332.110000</td>\n",
       "      <td>0.000000</td>\n",
       "      <td>149332.110000</td>\n",
       "      <td>46.320000</td>\n",
       "    </tr>\n",
       "    <tr>\n",
       "      <th>3</th>\n",
       "      <td>ICMS</td>\n",
       "      <td>83069.200000</td>\n",
       "      <td>0.000000</td>\n",
       "      <td>83069.200000</td>\n",
       "      <td>44.680000</td>\n",
       "    </tr>\n",
       "    <tr>\n",
       "      <th>4</th>\n",
       "      <td>INSS FUNCIONARIOS</td>\n",
       "      <td>64923.130000</td>\n",
       "      <td>0.000000</td>\n",
       "      <td>64923.130000</td>\n",
       "      <td>20.140000</td>\n",
       "    </tr>\n",
       "    <tr>\n",
       "      <th>5</th>\n",
       "      <td>COFINS</td>\n",
       "      <td>58134.070000</td>\n",
       "      <td>0.000000</td>\n",
       "      <td>58134.070000</td>\n",
       "      <td>31.270000</td>\n",
       "    </tr>\n",
       "    <tr>\n",
       "      <th>6</th>\n",
       "      <td>LUZ</td>\n",
       "      <td>40899.250000</td>\n",
       "      <td>0.000000</td>\n",
       "      <td>40899.250000</td>\n",
       "      <td>24.970000</td>\n",
       "    </tr>\n",
       "    <tr>\n",
       "      <th>7</th>\n",
       "      <td>VALE ALIMENTACAO/REFEICAO</td>\n",
       "      <td>30551.540000</td>\n",
       "      <td>0.000000</td>\n",
       "      <td>30551.540000</td>\n",
       "      <td>9.480000</td>\n",
       "    </tr>\n",
       "    <tr>\n",
       "      <th>8</th>\n",
       "      <td>ALUGUEL</td>\n",
       "      <td>29758.700000</td>\n",
       "      <td>0.000000</td>\n",
       "      <td>29758.700000</td>\n",
       "      <td>18.170000</td>\n",
       "    </tr>\n",
       "    <tr>\n",
       "      <th>9</th>\n",
       "      <td>IRPJ</td>\n",
       "      <td>20546.570000</td>\n",
       "      <td>0.000000</td>\n",
       "      <td>20546.570000</td>\n",
       "      <td>11.050000</td>\n",
       "    </tr>\n",
       "    <tr>\n",
       "      <th>10</th>\n",
       "      <td>ALUGUEL PARA ARMAZENAGEM</td>\n",
       "      <td>20457.910000</td>\n",
       "      <td>0.000000</td>\n",
       "      <td>20457.910000</td>\n",
       "      <td>12.490000</td>\n",
       "    </tr>\n",
       "    <tr>\n",
       "      <th>11</th>\n",
       "      <td>PROMOTORES</td>\n",
       "      <td>20425.660000</td>\n",
       "      <td>0.000000</td>\n",
       "      <td>20425.660000</td>\n",
       "      <td>6.340000</td>\n",
       "    </tr>\n",
       "    <tr>\n",
       "      <th>12</th>\n",
       "      <td>HONORARIOS CONTABEIS</td>\n",
       "      <td>19440.000000</td>\n",
       "      <td>0.000000</td>\n",
       "      <td>19440.000000</td>\n",
       "      <td>11.870000</td>\n",
       "    </tr>\n",
       "    <tr>\n",
       "      <th>13</th>\n",
       "      <td>TARIFAS BANCARIAS</td>\n",
       "      <td>15763.630000</td>\n",
       "      <td>0.000000</td>\n",
       "      <td>15763.630000</td>\n",
       "      <td>9.620000</td>\n",
       "    </tr>\n",
       "    <tr>\n",
       "      <th>14</th>\n",
       "      <td>CONTRATO DE MANUT DE SOFTWARE</td>\n",
       "      <td>14302.390000</td>\n",
       "      <td>0.000000</td>\n",
       "      <td>14302.390000</td>\n",
       "      <td>8.730000</td>\n",
       "    </tr>\n",
       "    <tr>\n",
       "      <th>15</th>\n",
       "      <td>PIS</td>\n",
       "      <td>12610.700000</td>\n",
       "      <td>0.000000</td>\n",
       "      <td>12610.700000</td>\n",
       "      <td>6.780000</td>\n",
       "    </tr>\n",
       "    <tr>\n",
       "      <th>16</th>\n",
       "      <td>MAQUINAS E EQUIPAMENTOS</td>\n",
       "      <td>4213.080000</td>\n",
       "      <td>0.000000</td>\n",
       "      <td>4213.080000</td>\n",
       "      <td>59.790000</td>\n",
       "    </tr>\n",
       "    <tr>\n",
       "      <th>17</th>\n",
       "      <td>MAQ E EQUI P/ ALUGUEL E COMODA</td>\n",
       "      <td>2733.440000</td>\n",
       "      <td>0.000000</td>\n",
       "      <td>2733.440000</td>\n",
       "      <td>38.790000</td>\n",
       "    </tr>\n",
       "  </tbody>\n",
       "</table>\n",
       "</div>"
      ],
      "text/plain": [
       "                            Contas  Valor Pago R$  Desconto R$      Total R$  \\\n",
       "0                         COMISSAO  168382.280000     0.000000 168382.280000   \n",
       "1                            FRETE  151710.900000     0.000000 151710.900000   \n",
       "2                         SALARIOS  149332.110000     0.000000 149332.110000   \n",
       "3                             ICMS   83069.200000     0.000000  83069.200000   \n",
       "4                INSS FUNCIONARIOS   64923.130000     0.000000  64923.130000   \n",
       "5                           COFINS   58134.070000     0.000000  58134.070000   \n",
       "6                              LUZ   40899.250000     0.000000  40899.250000   \n",
       "7        VALE ALIMENTACAO/REFEICAO   30551.540000     0.000000  30551.540000   \n",
       "8                          ALUGUEL   29758.700000     0.000000  29758.700000   \n",
       "9                             IRPJ   20546.570000     0.000000  20546.570000   \n",
       "10        ALUGUEL PARA ARMAZENAGEM   20457.910000     0.000000  20457.910000   \n",
       "11                      PROMOTORES   20425.660000     0.000000  20425.660000   \n",
       "12            HONORARIOS CONTABEIS   19440.000000     0.000000  19440.000000   \n",
       "13               TARIFAS BANCARIAS   15763.630000     0.000000  15763.630000   \n",
       "14   CONTRATO DE MANUT DE SOFTWARE   14302.390000     0.000000  14302.390000   \n",
       "15                             PIS   12610.700000     0.000000  12610.700000   \n",
       "16         MAQUINAS E EQUIPAMENTOS    4213.080000     0.000000   4213.080000   \n",
       "17  MAQ E EQUI P/ ALUGUEL E COMODA    2733.440000     0.000000   2733.440000   \n",
       "\n",
       "       Rep %  \n",
       "0  51.500000  \n",
       "1  46.400000  \n",
       "2  46.320000  \n",
       "3  44.680000  \n",
       "4  20.140000  \n",
       "5  31.270000  \n",
       "6  24.970000  \n",
       "7   9.480000  \n",
       "8  18.170000  \n",
       "9  11.050000  \n",
       "10 12.490000  \n",
       "11  6.340000  \n",
       "12 11.870000  \n",
       "13  9.620000  \n",
       "14  8.730000  \n",
       "15  6.780000  \n",
       "16 59.790000  \n",
       "17 38.790000  "
      ]
     },
     "execution_count": 74,
     "metadata": {},
     "output_type": "execute_result"
    }
   ],
   "source": [
    "contas_df=pd.DataFrame()\n",
    "\n",
    "for g in tp_conta['Tipo de Conta'].tolist():\n",
    "    \n",
    "    vl_pago=tp_conta['Valor Pago R$'].loc[tp_conta['Tipo de Conta']==g].sum()\n",
    "        \n",
    "    temp_df=tabelas_df['Pagar'][['Contas','Valor Pago R$','Desconto R$','Total R$']].loc[(tabelas_df['Pagar']['Data de Pagamento'].dt.year==data_atual.year)&(tabelas_df['Pagar']['Data de Pagamento'].dt.month==data_atual.month-1)&(tabelas_df['Pagar']['Tipo de Conta']==g)].groupby(['Contas'],as_index=False).sum()\n",
    "        \n",
    "    temp_df.sort_values('Valor Pago R$',ascending=False,inplace=True,ignore_index=True)\n",
    "    \n",
    "    temp_df['Rep %']=round(temp_df['Valor Pago R$']/vl_pago,4)*100\n",
    "    \n",
    "    temp_df=temp_df.loc[temp_df['Rep %']>=5]\n",
    "    \n",
    "    contas_df=pd.concat([contas_df,temp_df],axis=0,ignore_index=True)\n",
    "    \n",
    "    pass\n",
    "\n",
    "contas_df.sort_values('Valor Pago R$',ascending=False,inplace=True,ignore_index=True)\n",
    "\n",
    "contas_df"
   ]
  },
  {
   "cell_type": "code",
   "execution_count": 23,
   "id": "93a3be78",
   "metadata": {},
   "outputs": [],
   "source": [
    "def ValorAnterior(mes):\n",
    "            \n",
    "    if(mes==1):\n",
    "        \n",
    "        mes=12\n",
    "        \n",
    "        ano=data_atual.year-1\n",
    "        \n",
    "        pass\n",
    "    \n",
    "    else:\n",
    "        \n",
    "        mes-=1\n",
    "        \n",
    "        ano=data_atual.year\n",
    "        \n",
    "        pass\n",
    "    \n",
    "    total=tabelas_df['Pagar']['Valor Pago R$'].loc[(tabelas_df['Pagar']['Data de Pagamento'].dt.year==ano)&(tabelas_df['Pagar']['Data de Pagamento'].dt.month==mes)].sum()\n",
    "    \n",
    "    return total\n",
    "        \n",
    "    \n",
    "    pass"
   ]
  },
  {
   "cell_type": "code",
   "execution_count": 24,
   "id": "896326ec",
   "metadata": {},
   "outputs": [],
   "source": [
    "def TotalVendido(mes):\n",
    "\n",
    "    faturado=round(tabelas_df['Estatico']['Total Geral'].loc[(tabelas_df['Estatico']['Tipo de Operação']=='VENDAS')&(tabelas_df['Estatico']['Status do Pedido']!='EM ABERTO')&(tabelas_df['Estatico']['Data de Faturamento'].dt.year==data_atual.year)&((tabelas_df['Estatico']['Data de Faturamento'].dt.month==mes))].sum(),2)\n",
    "    \n",
    "    return faturado\n",
    "    \n",
    "    pass"
   ]
  },
  {
   "cell_type": "code",
   "execution_count": 28,
   "id": "c4fa9cf7",
   "metadata": {},
   "outputs": [
    {
     "data": {
      "text/html": [
       "<div>\n",
       "<style scoped>\n",
       "    .dataframe tbody tr th:only-of-type {\n",
       "        vertical-align: middle;\n",
       "    }\n",
       "\n",
       "    .dataframe tbody tr th {\n",
       "        vertical-align: top;\n",
       "    }\n",
       "\n",
       "    .dataframe thead th {\n",
       "        text-align: right;\n",
       "    }\n",
       "</style>\n",
       "<table border=\"1\" class=\"dataframe\">\n",
       "  <thead>\n",
       "    <tr style=\"text-align: right;\">\n",
       "      <th></th>\n",
       "      <th>ID Mês</th>\n",
       "      <th>Mês</th>\n",
       "      <th>Valor Pago R$</th>\n",
       "      <th>Pago Anterior R$</th>\n",
       "      <th>Cresc %</th>\n",
       "      <th>Vendas R$</th>\n",
       "      <th>Rep %</th>\n",
       "    </tr>\n",
       "  </thead>\n",
       "  <tbody>\n",
       "    <tr>\n",
       "      <th>0</th>\n",
       "      <td>1</td>\n",
       "      <td>JANEIRO</td>\n",
       "      <td>857825.000000</td>\n",
       "      <td>1043556.660000</td>\n",
       "      <td>-17.800000</td>\n",
       "      <td>3214772.920000</td>\n",
       "      <td>26.680000</td>\n",
       "    </tr>\n",
       "    <tr>\n",
       "      <th>1</th>\n",
       "      <td>2</td>\n",
       "      <td>FEVEREIRO</td>\n",
       "      <td>846418.800000</td>\n",
       "      <td>857825.000000</td>\n",
       "      <td>-1.330000</td>\n",
       "      <td>3259230.880000</td>\n",
       "      <td>25.970000</td>\n",
       "    </tr>\n",
       "    <tr>\n",
       "      <th>2</th>\n",
       "      <td>3</td>\n",
       "      <td>MARÇO</td>\n",
       "      <td>1027288.830000</td>\n",
       "      <td>846418.800000</td>\n",
       "      <td>21.370000</td>\n",
       "      <td>4443762.790000</td>\n",
       "      <td>23.120000</td>\n",
       "    </tr>\n",
       "    <tr>\n",
       "      <th>3</th>\n",
       "      <td>4</td>\n",
       "      <td>ABRIL</td>\n",
       "      <td>1065778.200000</td>\n",
       "      <td>1027288.830000</td>\n",
       "      <td>3.750000</td>\n",
       "      <td>3841883.070000</td>\n",
       "      <td>27.740000</td>\n",
       "    </tr>\n",
       "    <tr>\n",
       "      <th>4</th>\n",
       "      <td>5</td>\n",
       "      <td>MAIO</td>\n",
       "      <td>1064962.750000</td>\n",
       "      <td>1065778.200000</td>\n",
       "      <td>-0.080000</td>\n",
       "      <td>4151137.640000</td>\n",
       "      <td>25.650000</td>\n",
       "    </tr>\n",
       "    <tr>\n",
       "      <th>5</th>\n",
       "      <td>6</td>\n",
       "      <td>JUNHO</td>\n",
       "      <td>1044582.750000</td>\n",
       "      <td>1064962.750000</td>\n",
       "      <td>-1.910000</td>\n",
       "      <td>3614827.780000</td>\n",
       "      <td>28.900000</td>\n",
       "    </tr>\n",
       "    <tr>\n",
       "      <th>6</th>\n",
       "      <td>7</td>\n",
       "      <td>JULHO</td>\n",
       "      <td>65324.800000</td>\n",
       "      <td>1044582.750000</td>\n",
       "      <td>-93.750000</td>\n",
       "      <td>121731.610000</td>\n",
       "      <td>53.660000</td>\n",
       "    </tr>\n",
       "  </tbody>\n",
       "</table>\n",
       "</div>"
      ],
      "text/plain": [
       "   ID Mês        Mês  Valor Pago R$  Pago Anterior R$    Cresc %  \\\n",
       "0       1    JANEIRO  857825.000000    1043556.660000 -17.800000   \n",
       "1       2  FEVEREIRO  846418.800000     857825.000000  -1.330000   \n",
       "2       3      MARÇO 1027288.830000     846418.800000  21.370000   \n",
       "3       4      ABRIL 1065778.200000    1027288.830000   3.750000   \n",
       "4       5       MAIO 1064962.750000    1065778.200000  -0.080000   \n",
       "5       6      JUNHO 1044582.750000    1064962.750000  -1.910000   \n",
       "6       7      JULHO   65324.800000    1044582.750000 -93.750000   \n",
       "\n",
       "       Vendas R$     Rep %  \n",
       "0 3214772.920000 26.680000  \n",
       "1 3259230.880000 25.970000  \n",
       "2 4443762.790000 23.120000  \n",
       "3 3841883.070000 27.740000  \n",
       "4 4151137.640000 25.650000  \n",
       "5 3614827.780000 28.900000  \n",
       "6  121731.610000 53.660000  "
      ]
     },
     "execution_count": 28,
     "metadata": {},
     "output_type": "execute_result"
    }
   ],
   "source": [
    "mensal_df=tabelas_df['Pagar'].loc[tabelas_df['Pagar']['Data de Pagamento'].dt.year==data_atual.year]\n",
    "\n",
    "mensal_df=mensal_df[['Data de Pagamento','Valor Pago R$']].groupby(['Data de Pagamento'],as_index=False).sum()\n",
    "\n",
    "mensal_df['ID Mês']=mensal_df['Data de Pagamento'].dt.month\n",
    "\n",
    "mensal_df['Mês']=mensal_df.apply(lambda info: data.Mes(info['ID Mês']),axis=1)\n",
    "\n",
    "mensal_df=mensal_df[['ID Mês','Mês','Valor Pago R$']].groupby(['ID Mês','Mês'],as_index=False).sum()\n",
    "\n",
    "mensal_df['Pago Anterior R$']=mensal_df['ID Mês'].apply(ValorAnterior)\n",
    "\n",
    "mensal_df['Cresc %']=mensal_df.apply(lambda info: round(((info['Valor Pago R$']/info['Pago Anterior R$'])-1),4)*100,axis=1)\n",
    "\n",
    "mensal_df['Vendas R$']=mensal_df['ID Mês'].apply(TotalVendido)\n",
    "\n",
    "mensal_df['Rep %']=mensal_df.apply(lambda info: round(((info['Valor Pago R$']/info['Vendas R$'])),4)*100,axis=1)\n",
    "\n",
    "mensal_df.sort_values('ID Mês',ascending=True,inplace=True)\n",
    "\n",
    "mensal_df"
   ]
  },
  {
   "cell_type": "code",
   "execution_count": null,
   "id": "21dfee25",
   "metadata": {},
   "outputs": [],
   "source": []
  },
  {
   "cell_type": "code",
   "execution_count": null,
   "id": "fd194fda",
   "metadata": {},
   "outputs": [],
   "source": []
  }
 ],
 "metadata": {
  "kernelspec": {
   "display_name": "Python 3 (ipykernel)",
   "language": "python",
   "name": "python3"
  },
  "language_info": {
   "codemirror_mode": {
    "name": "ipython",
    "version": 3
   },
   "file_extension": ".py",
   "mimetype": "text/x-python",
   "name": "python",
   "nbconvert_exporter": "python",
   "pygments_lexer": "ipython3",
   "version": "3.9.7"
  }
 },
 "nbformat": 4,
 "nbformat_minor": 5
}
