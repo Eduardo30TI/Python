{
 "cells": [
  {
   "cell_type": "code",
   "execution_count": 31,
   "id": "b450324a",
   "metadata": {},
   "outputs": [],
   "source": [
    "from Acesso import Login\n",
    "from Email import Email\n",
    "from Moeda import Moeda\n",
    "from RemoverArquivo import Remover\n",
    "from Tempo import DataHora\n",
    "import os\n",
    "from glob import glob\n",
    "from Query import Query\n",
    "import pandas as pd\n",
    "\n",
    "pd.set_option('display.max_columns',None)\n",
    "\n",
    "s=Login()\n",
    "\n",
    "sql=Query(s.usuario,s.senha,s.database,s.server)\n",
    "\n",
    "data=DataHora()\n",
    "\n",
    "querys={\n",
    "\n",
    "    'Pagar':\n",
    "\n",
    "    \"\"\"\n",
    "\n",
    "    DECLARE @DTBASE DATETIME,@DTINICIO DATETIME,@DTFIM DATETIME,@DIAS SMALLINT\n",
    "\n",
    "    SET @DTBASE=CONVERT(DATETIME,CAST(GETDATE() AS DATE),101)\n",
    "\n",
    "    SET @DIAS=DAY(@DTBASE)\n",
    "\n",
    "    SET @DTFIM=DATEADD(DAY,@DIAS*-1,@DTBASE)\n",
    "\n",
    "    SET @DTINICIO=DATEADD(DAY,(DAY(DATEADD(MM,-1,@DTFIM))-1)*-1,DATEADD(MM,-1,@DTFIM))\n",
    "\n",
    "    SELECT *\n",
    "    FROM netfeira.vw_contapagar\n",
    "    WHERE [Data de Pagamento] BETWEEN @DTINICIO AND @DTFIM AND [ID Situação]='LQ'\n",
    "\n",
    "\n",
    "    \"\"\",\n",
    "\n",
    "    'Contas':\n",
    "\n",
    "    \"\"\"\n",
    "    \n",
    "    SELECT * FROM netfeira.vw_planocontas\n",
    "    ORDER BY 1    \n",
    "        \n",
    "    \"\"\"\n",
    "\n",
    "}"
   ]
  },
  {
   "cell_type": "code",
   "execution_count": 32,
   "id": "13bb26bd",
   "metadata": {},
   "outputs": [],
   "source": [
    "tabelas_df=sql.CriarTabela(kwargs=querys)"
   ]
  },
  {
   "cell_type": "code",
   "execution_count": 33,
   "id": "cb71e6f7",
   "metadata": {},
   "outputs": [],
   "source": [
    "listagem=['CAIXA-CONSORCIO','FORNECEDORES','DISTRIBUICAO DE LUCRO','RECIFE','SALVADOR']"
   ]
  },
  {
   "cell_type": "code",
   "execution_count": 34,
   "id": "bc1b1201",
   "metadata": {},
   "outputs": [
    {
     "data": {
      "text/plain": [
       "Index(['Data de Emissão', 'Data de Vencimento', 'Data de Pagamento', 'Título',\n",
       "       'NFe', 'ID Fornecedor', 'Razão Social', 'Nome Fantasia', 'CNPJ',\n",
       "       'ID Conta', 'Contas', 'ID Tipo Conta', 'Tipo de Conta',\n",
       "       'ID Grupo Conta', 'Grupo', 'ID Situação', 'Situação do Título',\n",
       "       'Título R$', 'Saldo R$', 'Valor Pago R$', 'Desconto R$', 'Total R$'],\n",
       "      dtype='object')"
      ]
     },
     "execution_count": 34,
     "metadata": {},
     "output_type": "execute_result"
    }
   ],
   "source": [
    "tabelas_df['Pagar'].columns"
   ]
  },
  {
   "cell_type": "code",
   "execution_count": 35,
   "id": "bdb9e0e5",
   "metadata": {},
   "outputs": [
    {
     "data": {
      "text/plain": [
       "Index(['ID Contas', 'Plano de Contas'], dtype='object')"
      ]
     },
     "execution_count": 35,
     "metadata": {},
     "output_type": "execute_result"
    }
   ],
   "source": [
    "tabelas_df['Contas'].columns"
   ]
  },
  {
   "cell_type": "code",
   "execution_count": 36,
   "id": "dfd026d7",
   "metadata": {},
   "outputs": [],
   "source": [
    "tabelas_df['Contas']['Plano de Contas']=tabelas_df['Contas']['Plano de Contas'].apply(lambda info: str(info).strip())"
   ]
  },
  {
   "cell_type": "code",
   "execution_count": 37,
   "id": "d944848f",
   "metadata": {},
   "outputs": [],
   "source": [
    "tabelas_df['Contas']=tabelas_df['Contas'].loc[~tabelas_df['Contas']['Plano de Contas'].isin(listagem)]"
   ]
  },
  {
   "cell_type": "code",
   "execution_count": 38,
   "id": "4507e26b",
   "metadata": {},
   "outputs": [],
   "source": [
    "tabelas_df['Pagar']['Contas']=tabelas_df['Pagar']['Contas'].apply(lambda info: str(info).strip())\n",
    "\n",
    "tabelas_df['Pagar']=tabelas_df['Pagar'].loc[~tabelas_df['Pagar']['Contas'].isin(listagem)]"
   ]
  },
  {
   "cell_type": "code",
   "execution_count": 39,
   "id": "9e6f0ed5",
   "metadata": {},
   "outputs": [],
   "source": [
    "tabelas_df['Pagar']['ID Mês']=tabelas_df['Pagar']['Data de Pagamento'].dt.month"
   ]
  },
  {
   "cell_type": "code",
   "execution_count": 40,
   "id": "d675b89f",
   "metadata": {},
   "outputs": [],
   "source": [
    "tabelas_df['Pagar']['Mês']=tabelas_df['Pagar']['ID Mês'].apply(data.Mes)"
   ]
  },
  {
   "cell_type": "code",
   "execution_count": 41,
   "id": "2ce99453",
   "metadata": {},
   "outputs": [
    {
     "data": {
      "text/plain": [
       "Index(['Data de Emissão', 'Data de Vencimento', 'Data de Pagamento', 'Título',\n",
       "       'NFe', 'ID Fornecedor', 'Razão Social', 'Nome Fantasia', 'CNPJ',\n",
       "       'ID Conta', 'Contas', 'ID Tipo Conta', 'Tipo de Conta',\n",
       "       'ID Grupo Conta', 'Grupo', 'ID Situação', 'Situação do Título',\n",
       "       'Título R$', 'Saldo R$', 'Valor Pago R$', 'Desconto R$', 'Total R$',\n",
       "       'ID Mês', 'Mês'],\n",
       "      dtype='object')"
      ]
     },
     "execution_count": 41,
     "metadata": {},
     "output_type": "execute_result"
    }
   ],
   "source": [
    "tabelas_df['Pagar'].columns"
   ]
  },
  {
   "cell_type": "code",
   "execution_count": 42,
   "id": "fe2c6615",
   "metadata": {},
   "outputs": [],
   "source": [
    "pagos_df=pd.DataFrame()\n",
    "\n",
    "pagos_df=tabelas_df['Pagar']"
   ]
  },
  {
   "cell_type": "code",
   "execution_count": 46,
   "id": "112818f8",
   "metadata": {},
   "outputs": [],
   "source": [
    "colunas=[l for l in pagos_df.columns.tolist() if l=='ID Conta']"
   ]
  },
  {
   "cell_type": "code",
   "execution_count": 47,
   "id": "e6637f61",
   "metadata": {},
   "outputs": [],
   "source": [
    "temp_df=pd.DataFrame()\n",
    "\n",
    "for coluna in colunas:\n",
    "    \n",
    "    df=pagos_df[[coluna,'ID Mês','Valor Pago R$']].groupby([coluna,'ID Mês'],as_index=False).sum()\n",
    "    \n",
    "    df.rename(columns={coluna:'ID Contas'},inplace=True)\n",
    "    \n",
    "    temp_df=pd.concat([temp_df,df],axis=0,ignore_index=True)\n",
    "            \n",
    "    #break\n",
    "    \n",
    "    pass\n",
    "\n",
    "temp_df.sort_values('ID Contas',ascending=True,inplace=True)"
   ]
  },
  {
   "cell_type": "code",
   "execution_count": 48,
   "id": "3c57893d",
   "metadata": {},
   "outputs": [],
   "source": [
    "temp_df['Mês']=temp_df['ID Mês'].apply(data.Mes)\n",
    "\n",
    "temp_df['Mês']=temp_df.apply(lambda info: str(info['ID Mês'])+' - '+info['Mês'],axis=1)"
   ]
  },
  {
   "cell_type": "code",
   "execution_count": 49,
   "id": "8b9f0fb1",
   "metadata": {},
   "outputs": [],
   "source": [
    "if(temp_df['ID Mês'].max()==12):\n",
    "    \n",
    "    temp_df.sort_values('Mês',ascending=False,inplace=True)\n",
    "    \n",
    "    pass\n",
    "\n",
    "else:\n",
    "    \n",
    "    temp_df.sort_values('Mês',ascending=True,inplace=True)\n",
    "    \n",
    "    pass"
   ]
  },
  {
   "cell_type": "code",
   "execution_count": 50,
   "id": "4580a323",
   "metadata": {},
   "outputs": [],
   "source": [
    "temp_df=temp_df[['ID Contas','Mês','Valor Pago R$']].pivot(index='ID Contas',columns='Mês',values='Valor Pago R$').reset_index()"
   ]
  },
  {
   "cell_type": "code",
   "execution_count": 51,
   "id": "3317c307",
   "metadata": {},
   "outputs": [],
   "source": [
    "tabelas_df['Contas']=tabelas_df['Contas'].merge(temp_df,on='ID Contas',how='inner')"
   ]
  },
  {
   "cell_type": "code",
   "execution_count": 52,
   "id": "921cdd31",
   "metadata": {},
   "outputs": [],
   "source": [
    "tabelas_df['Contas'].loc[tabelas_df['Contas'].iloc[:,-1].isnull(),tabelas_df['Contas'].columns[-1]]=0"
   ]
  },
  {
   "cell_type": "code",
   "execution_count": 53,
   "id": "1100194a",
   "metadata": {},
   "outputs": [],
   "source": [
    "tabelas_df['Contas'].loc[tabelas_df['Contas'].iloc[:,-2].isnull(),tabelas_df['Contas'].columns[-2]]=0"
   ]
  },
  {
   "cell_type": "code",
   "execution_count": 54,
   "id": "48c82a69",
   "metadata": {},
   "outputs": [],
   "source": [
    "#tabelas_df['Contas']=tabelas_df['Contas'].loc[~(tabelas_df['Contas'][tabelas_df['Contas'].columns[-2]]==0)|~(tabelas_df['Contas'][tabelas_df['Contas'].columns[-1]]==0)]"
   ]
  },
  {
   "cell_type": "code",
   "execution_count": 55,
   "id": "1cfe0dac",
   "metadata": {},
   "outputs": [],
   "source": [
    "tabelas_df['Contas'].loc[tabelas_df['Contas'].iloc[:,-1]==0,'Rep %']=0"
   ]
  },
  {
   "cell_type": "code",
   "execution_count": 56,
   "id": "e1916a86",
   "metadata": {},
   "outputs": [],
   "source": [
    "tabelas_df['Contas'].loc[tabelas_df['Contas'].iloc[:,-2]==0,'Rep %']=0"
   ]
  },
  {
   "cell_type": "code",
   "execution_count": 57,
   "id": "6ab414e3",
   "metadata": {},
   "outputs": [],
   "source": [
    "tabelas_df['Contas'].loc[tabelas_df['Contas']['Rep %'].isnull(),'Rep %']=tabelas_df['Contas'].loc[tabelas_df['Contas']['Rep %'].isnull()].apply(lambda info: round((info[-2]/info[-3])-1,4)*100 if info[-2]>0 and info[-3]>0 else 0,axis=1)"
   ]
  },
  {
   "cell_type": "code",
   "execution_count": 58,
   "id": "39666a12",
   "metadata": {},
   "outputs": [
    {
     "data": {
      "text/html": [
       "<div>\n",
       "<style scoped>\n",
       "    .dataframe tbody tr th:only-of-type {\n",
       "        vertical-align: middle;\n",
       "    }\n",
       "\n",
       "    .dataframe tbody tr th {\n",
       "        vertical-align: top;\n",
       "    }\n",
       "\n",
       "    .dataframe thead th {\n",
       "        text-align: right;\n",
       "    }\n",
       "</style>\n",
       "<table border=\"1\" class=\"dataframe\">\n",
       "  <thead>\n",
       "    <tr style=\"text-align: right;\">\n",
       "      <th></th>\n",
       "      <th>ID Contas</th>\n",
       "      <th>Plano de Contas</th>\n",
       "      <th>6 - JUNHO</th>\n",
       "      <th>7 - JULHO</th>\n",
       "      <th>Rep %</th>\n",
       "    </tr>\n",
       "  </thead>\n",
       "  <tbody>\n",
       "    <tr>\n",
       "      <th>0</th>\n",
       "      <td>1.1.1</td>\n",
       "      <td>ALUGUEL</td>\n",
       "      <td>29758.70</td>\n",
       "      <td>35439.30</td>\n",
       "      <td>19.09</td>\n",
       "    </tr>\n",
       "    <tr>\n",
       "      <th>1</th>\n",
       "      <td>1.1.10</td>\n",
       "      <td>MATERIAL DE ESCRITORIO</td>\n",
       "      <td>3334.41</td>\n",
       "      <td>3191.56</td>\n",
       "      <td>-4.28</td>\n",
       "    </tr>\n",
       "    <tr>\n",
       "      <th>2</th>\n",
       "      <td>1.1.12</td>\n",
       "      <td>MATERIAL DE LIMPEZA</td>\n",
       "      <td>1925.77</td>\n",
       "      <td>2052.81</td>\n",
       "      <td>6.60</td>\n",
       "    </tr>\n",
       "    <tr>\n",
       "      <th>3</th>\n",
       "      <td>1.1.13</td>\n",
       "      <td>SEGURO DE VIDA</td>\n",
       "      <td>0.00</td>\n",
       "      <td>2613.20</td>\n",
       "      <td>0.00</td>\n",
       "    </tr>\n",
       "    <tr>\n",
       "      <th>4</th>\n",
       "      <td>1.1.14</td>\n",
       "      <td>TARIFAS BANCARIAS</td>\n",
       "      <td>15803.73</td>\n",
       "      <td>11921.54</td>\n",
       "      <td>-24.57</td>\n",
       "    </tr>\n",
       "    <tr>\n",
       "      <th>...</th>\n",
       "      <td>...</td>\n",
       "      <td>...</td>\n",
       "      <td>...</td>\n",
       "      <td>...</td>\n",
       "      <td>...</td>\n",
       "    </tr>\n",
       "    <tr>\n",
       "      <th>60</th>\n",
       "      <td>2.6.8</td>\n",
       "      <td>IRPJ</td>\n",
       "      <td>20546.57</td>\n",
       "      <td>19063.37</td>\n",
       "      <td>-7.22</td>\n",
       "    </tr>\n",
       "    <tr>\n",
       "      <th>61</th>\n",
       "      <td>2.6.9</td>\n",
       "      <td>FUNRURAL</td>\n",
       "      <td>522.75</td>\n",
       "      <td>191.25</td>\n",
       "      <td>-63.41</td>\n",
       "    </tr>\n",
       "    <tr>\n",
       "      <th>62</th>\n",
       "      <td>4.2.3</td>\n",
       "      <td>MAQUINAS E EQUIPAMENTOS</td>\n",
       "      <td>4213.08</td>\n",
       "      <td>2531.07</td>\n",
       "      <td>-39.92</td>\n",
       "    </tr>\n",
       "    <tr>\n",
       "      <th>63</th>\n",
       "      <td>4.2.4</td>\n",
       "      <td>MAQ E EQUI P/ ALUGUEL E COMODA</td>\n",
       "      <td>2733.44</td>\n",
       "      <td>6509.83</td>\n",
       "      <td>138.16</td>\n",
       "    </tr>\n",
       "    <tr>\n",
       "      <th>64</th>\n",
       "      <td>4.2.6</td>\n",
       "      <td>VEICULOS</td>\n",
       "      <td>100.00</td>\n",
       "      <td>0.00</td>\n",
       "      <td>0.00</td>\n",
       "    </tr>\n",
       "  </tbody>\n",
       "</table>\n",
       "<p>65 rows × 5 columns</p>\n",
       "</div>"
      ],
      "text/plain": [
       "          ID Contas                 Plano de Contas  6 - JUNHO  7 - JULHO  \\\n",
       "0   1.1.1                                   ALUGUEL   29758.70   35439.30   \n",
       "1   1.1.10                   MATERIAL DE ESCRITORIO    3334.41    3191.56   \n",
       "2   1.1.12                      MATERIAL DE LIMPEZA    1925.77    2052.81   \n",
       "3   1.1.13                           SEGURO DE VIDA       0.00    2613.20   \n",
       "4   1.1.14                        TARIFAS BANCARIAS   15803.73   11921.54   \n",
       "..              ...                             ...        ...        ...   \n",
       "60  2.6.8                                      IRPJ   20546.57   19063.37   \n",
       "61  2.6.9                                  FUNRURAL     522.75     191.25   \n",
       "62  4.2.3                   MAQUINAS E EQUIPAMENTOS    4213.08    2531.07   \n",
       "63  4.2.4            MAQ E EQUI P/ ALUGUEL E COMODA    2733.44    6509.83   \n",
       "64  4.2.6                                  VEICULOS     100.00       0.00   \n",
       "\n",
       "     Rep %  \n",
       "0    19.09  \n",
       "1    -4.28  \n",
       "2     6.60  \n",
       "3     0.00  \n",
       "4   -24.57  \n",
       "..     ...  \n",
       "60   -7.22  \n",
       "61  -63.41  \n",
       "62  -39.92  \n",
       "63  138.16  \n",
       "64    0.00  \n",
       "\n",
       "[65 rows x 5 columns]"
      ]
     },
     "execution_count": 58,
     "metadata": {},
     "output_type": "execute_result"
    }
   ],
   "source": [
    "tabelas_df['Contas']"
   ]
  },
  {
   "cell_type": "code",
   "execution_count": 59,
   "id": "4bd4b6d4",
   "metadata": {},
   "outputs": [],
   "source": [
    "tabelas_df['Contas']['Diferença R$']=tabelas_df['Contas'].iloc[:,-2]-tabelas_df['Contas'].iloc[:,-3]"
   ]
  },
  {
   "cell_type": "code",
   "execution_count": 60,
   "id": "72cea51e",
   "metadata": {},
   "outputs": [],
   "source": [
    "tabelas_df['Contas'].loc[tabelas_df['Contas']['Rep %'].isnull(),'Rep %']=0"
   ]
  },
  {
   "cell_type": "code",
   "execution_count": 61,
   "id": "ea2b1127",
   "metadata": {},
   "outputs": [
    {
     "data": {
      "text/html": [
       "<div>\n",
       "<style scoped>\n",
       "    .dataframe tbody tr th:only-of-type {\n",
       "        vertical-align: middle;\n",
       "    }\n",
       "\n",
       "    .dataframe tbody tr th {\n",
       "        vertical-align: top;\n",
       "    }\n",
       "\n",
       "    .dataframe thead th {\n",
       "        text-align: right;\n",
       "    }\n",
       "</style>\n",
       "<table border=\"1\" class=\"dataframe\">\n",
       "  <thead>\n",
       "    <tr style=\"text-align: right;\">\n",
       "      <th></th>\n",
       "      <th>ID Contas</th>\n",
       "      <th>Plano de Contas</th>\n",
       "      <th>6 - JUNHO</th>\n",
       "      <th>7 - JULHO</th>\n",
       "      <th>Rep %</th>\n",
       "      <th>Diferença R$</th>\n",
       "    </tr>\n",
       "  </thead>\n",
       "  <tbody>\n",
       "    <tr>\n",
       "      <th>0</th>\n",
       "      <td>1.1.1</td>\n",
       "      <td>ALUGUEL</td>\n",
       "      <td>29758.70</td>\n",
       "      <td>35439.30</td>\n",
       "      <td>19.09</td>\n",
       "      <td>5680.60</td>\n",
       "    </tr>\n",
       "    <tr>\n",
       "      <th>1</th>\n",
       "      <td>1.1.10</td>\n",
       "      <td>MATERIAL DE ESCRITORIO</td>\n",
       "      <td>3334.41</td>\n",
       "      <td>3191.56</td>\n",
       "      <td>-4.28</td>\n",
       "      <td>-142.85</td>\n",
       "    </tr>\n",
       "    <tr>\n",
       "      <th>2</th>\n",
       "      <td>1.1.12</td>\n",
       "      <td>MATERIAL DE LIMPEZA</td>\n",
       "      <td>1925.77</td>\n",
       "      <td>2052.81</td>\n",
       "      <td>6.60</td>\n",
       "      <td>127.04</td>\n",
       "    </tr>\n",
       "    <tr>\n",
       "      <th>3</th>\n",
       "      <td>1.1.13</td>\n",
       "      <td>SEGURO DE VIDA</td>\n",
       "      <td>0.00</td>\n",
       "      <td>2613.20</td>\n",
       "      <td>0.00</td>\n",
       "      <td>2613.20</td>\n",
       "    </tr>\n",
       "    <tr>\n",
       "      <th>4</th>\n",
       "      <td>1.1.14</td>\n",
       "      <td>TARIFAS BANCARIAS</td>\n",
       "      <td>15803.73</td>\n",
       "      <td>11921.54</td>\n",
       "      <td>-24.57</td>\n",
       "      <td>-3882.19</td>\n",
       "    </tr>\n",
       "    <tr>\n",
       "      <th>...</th>\n",
       "      <td>...</td>\n",
       "      <td>...</td>\n",
       "      <td>...</td>\n",
       "      <td>...</td>\n",
       "      <td>...</td>\n",
       "      <td>...</td>\n",
       "    </tr>\n",
       "    <tr>\n",
       "      <th>60</th>\n",
       "      <td>2.6.8</td>\n",
       "      <td>IRPJ</td>\n",
       "      <td>20546.57</td>\n",
       "      <td>19063.37</td>\n",
       "      <td>-7.22</td>\n",
       "      <td>-1483.20</td>\n",
       "    </tr>\n",
       "    <tr>\n",
       "      <th>61</th>\n",
       "      <td>2.6.9</td>\n",
       "      <td>FUNRURAL</td>\n",
       "      <td>522.75</td>\n",
       "      <td>191.25</td>\n",
       "      <td>-63.41</td>\n",
       "      <td>-331.50</td>\n",
       "    </tr>\n",
       "    <tr>\n",
       "      <th>62</th>\n",
       "      <td>4.2.3</td>\n",
       "      <td>MAQUINAS E EQUIPAMENTOS</td>\n",
       "      <td>4213.08</td>\n",
       "      <td>2531.07</td>\n",
       "      <td>-39.92</td>\n",
       "      <td>-1682.01</td>\n",
       "    </tr>\n",
       "    <tr>\n",
       "      <th>63</th>\n",
       "      <td>4.2.4</td>\n",
       "      <td>MAQ E EQUI P/ ALUGUEL E COMODA</td>\n",
       "      <td>2733.44</td>\n",
       "      <td>6509.83</td>\n",
       "      <td>138.16</td>\n",
       "      <td>3776.39</td>\n",
       "    </tr>\n",
       "    <tr>\n",
       "      <th>64</th>\n",
       "      <td>4.2.6</td>\n",
       "      <td>VEICULOS</td>\n",
       "      <td>100.00</td>\n",
       "      <td>0.00</td>\n",
       "      <td>0.00</td>\n",
       "      <td>-100.00</td>\n",
       "    </tr>\n",
       "  </tbody>\n",
       "</table>\n",
       "<p>65 rows × 6 columns</p>\n",
       "</div>"
      ],
      "text/plain": [
       "          ID Contas                 Plano de Contas  6 - JUNHO  7 - JULHO  \\\n",
       "0   1.1.1                                   ALUGUEL   29758.70   35439.30   \n",
       "1   1.1.10                   MATERIAL DE ESCRITORIO    3334.41    3191.56   \n",
       "2   1.1.12                      MATERIAL DE LIMPEZA    1925.77    2052.81   \n",
       "3   1.1.13                           SEGURO DE VIDA       0.00    2613.20   \n",
       "4   1.1.14                        TARIFAS BANCARIAS   15803.73   11921.54   \n",
       "..              ...                             ...        ...        ...   \n",
       "60  2.6.8                                      IRPJ   20546.57   19063.37   \n",
       "61  2.6.9                                  FUNRURAL     522.75     191.25   \n",
       "62  4.2.3                   MAQUINAS E EQUIPAMENTOS    4213.08    2531.07   \n",
       "63  4.2.4            MAQ E EQUI P/ ALUGUEL E COMODA    2733.44    6509.83   \n",
       "64  4.2.6                                  VEICULOS     100.00       0.00   \n",
       "\n",
       "     Rep %  Diferença R$  \n",
       "0    19.09       5680.60  \n",
       "1    -4.28       -142.85  \n",
       "2     6.60        127.04  \n",
       "3     0.00       2613.20  \n",
       "4   -24.57      -3882.19  \n",
       "..     ...           ...  \n",
       "60   -7.22      -1483.20  \n",
       "61  -63.41       -331.50  \n",
       "62  -39.92      -1682.01  \n",
       "63  138.16       3776.39  \n",
       "64    0.00       -100.00  \n",
       "\n",
       "[65 rows x 6 columns]"
      ]
     },
     "execution_count": 61,
     "metadata": {},
     "output_type": "execute_result"
    }
   ],
   "source": [
    "tabelas_df['Contas']"
   ]
  },
  {
   "cell_type": "code",
   "execution_count": null,
   "id": "ca414d98",
   "metadata": {},
   "outputs": [],
   "source": []
  },
  {
   "cell_type": "code",
   "execution_count": null,
   "id": "8b4263f3",
   "metadata": {},
   "outputs": [],
   "source": []
  }
 ],
 "metadata": {
  "kernelspec": {
   "display_name": "Python 3 (ipykernel)",
   "language": "python",
   "name": "python3"
  },
  "language_info": {
   "codemirror_mode": {
    "name": "ipython",
    "version": 3
   },
   "file_extension": ".py",
   "mimetype": "text/x-python",
   "name": "python",
   "nbconvert_exporter": "python",
   "pygments_lexer": "ipython3",
   "version": "3.9.7"
  }
 },
 "nbformat": 4,
 "nbformat_minor": 5
}
