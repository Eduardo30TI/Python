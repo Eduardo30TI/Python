{
 "cells": [
  {
   "cell_type": "code",
   "execution_count": 29,
   "id": "67615725",
   "metadata": {},
   "outputs": [],
   "source": [
    "from Acesso import Login\n",
    "from Query import Query\n",
    "from Email import Email\n",
    "from RemoverArquivo import Remover\n",
    "from Moeda import Moeda\n",
    "from Tempo import DataHora\n",
    "import os\n",
    "from glob import glob\n",
    "import pandas as pd\n",
    "\n",
    "s=Login()\n",
    "\n",
    "sql=Query(s.usuario,s.senha,s.database,s.server)\n",
    "\n",
    "\n",
    "querys={\n",
    "\n",
    "    'Receber':\n",
    "\n",
    "    \"\"\"\n",
    "\n",
    "    SELECT * FROM netfeira.vw_contareceber\n",
    "    ORDER BY [Data de Vencimento]    \n",
    "        \n",
    "    \"\"\",\n",
    "\n",
    "    'Segmento':\n",
    "\n",
    "    \"\"\"\n",
    "\n",
    "    SELECT * FROM netfeira.vw_segmento\n",
    "    \n",
    "    \"\"\",\n",
    "\n",
    "    'Cliente':\n",
    "\n",
    "    \"\"\"\n",
    "\n",
    "    SELECT * FROM netfeira.vw_cliente\n",
    "    \n",
    "    \"\"\"\n",
    "\n",
    "}"
   ]
  },
  {
   "cell_type": "code",
   "execution_count": 30,
   "id": "dd36a4be",
   "metadata": {},
   "outputs": [],
   "source": [
    "tabelas_df=sql.CriarTabela(kwargs=querys)"
   ]
  },
  {
   "cell_type": "code",
   "execution_count": 31,
   "id": "0f0ed93a",
   "metadata": {},
   "outputs": [
    {
     "data": {
      "text/plain": [
       "Index(['ID Cliente', 'CNPJ', 'CNPJ Caracter', 'Razão Social', 'Nome Fantasia',\n",
       "       'Tipo de Cliente', 'Status do Cliente', 'ID Segmento', 'Matriz',\n",
       "       'Crédito', 'Data de Cadastro', 'Primeira Compra', 'Última Compra',\n",
       "       'Dias Compra', 'Tabela', 'Condição de Pagto', 'Prazo Pagto',\n",
       "       'Pagamento', 'CEP', 'Endereço', 'Bairro', 'Município', 'Numero',\n",
       "       'Complemento', 'Região', 'UF', 'DDD', 'Contato', 'Limite de Crédito',\n",
       "       'Principal'],\n",
       "      dtype='object')"
      ]
     },
     "execution_count": 31,
     "metadata": {},
     "output_type": "execute_result"
    }
   ],
   "source": [
    "tabelas_df['Cliente'].columns"
   ]
  },
  {
   "cell_type": "code",
   "execution_count": 32,
   "id": "c66ee6b6",
   "metadata": {},
   "outputs": [
    {
     "data": {
      "text/plain": [
       "Index(['ID Segmento', 'Segmento', 'Canal'], dtype='object')"
      ]
     },
     "execution_count": 32,
     "metadata": {},
     "output_type": "execute_result"
    }
   ],
   "source": [
    "tabelas_df['Segmento'].columns"
   ]
  },
  {
   "cell_type": "code",
   "execution_count": 33,
   "id": "bb2e90d6",
   "metadata": {},
   "outputs": [
    {
     "data": {
      "text/plain": [
       "Index(['Data de Emissão', 'Data de Vencimento', 'Data de Pagamento', 'Título',\n",
       "       'Serie', 'Tipo de Pagamento', 'ID Cliente', 'Razão Social',\n",
       "       'Nome Fantasia', 'Matriz', 'ID Segmento', 'Situação', 'Valor',\n",
       "       'Desconto R$', 'Multa R$', 'Juros R$', 'Abatimento R$', 'Taxa R$',\n",
       "       'Valor Líquido', 'Pago R$', 'Status do Título', 'Dias', 'Alerta'],\n",
       "      dtype='object')"
      ]
     },
     "execution_count": 33,
     "metadata": {},
     "output_type": "execute_result"
    }
   ],
   "source": [
    "tabelas_df['Receber'].columns"
   ]
  },
  {
   "cell_type": "code",
   "execution_count": 34,
   "id": "f4eef43e",
   "metadata": {},
   "outputs": [],
   "source": [
    "tabelas_df['Cliente']=tabelas_df['Cliente'].merge(tabelas_df['Segmento'],on='ID Segmento',how='inner')[['ID Cliente', 'CNPJ', 'CNPJ Caracter', 'Razão Social', 'Nome Fantasia',\n",
    "       'Tipo de Cliente', 'Status do Cliente', 'Segmento','Canal', 'Matriz',\n",
    "       'Crédito', 'Data de Cadastro', 'Primeira Compra', 'Última Compra',\n",
    "       'Dias Compra', 'Tabela', 'Condição de Pagto', 'Prazo Pagto',\n",
    "       'Pagamento', 'CEP', 'Endereço', 'Bairro', 'Município', 'Numero',\n",
    "       'Complemento', 'Região', 'UF', 'DDD', 'Contato', 'Limite de Crédito',\n",
    "       'Principal']]"
   ]
  },
  {
   "cell_type": "code",
   "execution_count": 35,
   "id": "937e8a01",
   "metadata": {},
   "outputs": [
    {
     "data": {
      "text/plain": [
       "Index(['ID Cliente', 'CNPJ', 'CNPJ Caracter', 'Razão Social', 'Nome Fantasia',\n",
       "       'Tipo de Cliente', 'Status do Cliente', 'Segmento', 'Canal', 'Matriz',\n",
       "       'Crédito', 'Data de Cadastro', 'Primeira Compra', 'Última Compra',\n",
       "       'Dias Compra', 'Tabela', 'Condição de Pagto', 'Prazo Pagto',\n",
       "       'Pagamento', 'CEP', 'Endereço', 'Bairro', 'Município', 'Numero',\n",
       "       'Complemento', 'Região', 'UF', 'DDD', 'Contato', 'Limite de Crédito',\n",
       "       'Principal'],\n",
       "      dtype='object')"
      ]
     },
     "execution_count": 35,
     "metadata": {},
     "output_type": "execute_result"
    }
   ],
   "source": [
    "tabelas_df['Cliente'].columns"
   ]
  },
  {
   "cell_type": "code",
   "execution_count": 36,
   "id": "8636ae60",
   "metadata": {},
   "outputs": [],
   "source": [
    "tabelas_df['Receber']=tabelas_df['Receber'][['Data de Emissão', 'Data de Vencimento', 'Data de Pagamento', 'Título',\n",
    "       'Serie', 'Tipo de Pagamento', 'ID Cliente', 'Situação', 'Valor',\n",
    "       'Desconto R$', 'Multa R$', 'Juros R$', 'Abatimento R$', 'Taxa R$',\n",
    "       'Valor Líquido', 'Pago R$', 'Status do Título', 'Dias', 'Alerta']]"
   ]
  },
  {
   "cell_type": "code",
   "execution_count": 37,
   "id": "524cd642",
   "metadata": {},
   "outputs": [
    {
     "data": {
      "text/plain": [
       "Index(['Data de Emissão', 'Data de Vencimento', 'Data de Pagamento', 'Título',\n",
       "       'Serie', 'Tipo de Pagamento', 'ID Cliente', 'Situação', 'Valor',\n",
       "       'Desconto R$', 'Multa R$', 'Juros R$', 'Abatimento R$', 'Taxa R$',\n",
       "       'Valor Líquido', 'Pago R$', 'Status do Título', 'Dias', 'Alerta'],\n",
       "      dtype='object')"
      ]
     },
     "execution_count": 37,
     "metadata": {},
     "output_type": "execute_result"
    }
   ],
   "source": [
    "tabelas_df['Receber'].columns"
   ]
  },
  {
   "cell_type": "code",
   "execution_count": 38,
   "id": "82e49f92",
   "metadata": {},
   "outputs": [],
   "source": [
    "tabelas_df['Receber']=tabelas_df['Receber'].merge(tabelas_df['Cliente'],on='ID Cliente',how='inner')[['Data de Emissão', 'Data de Vencimento', 'Data de Pagamento', 'Título',\n",
    "       'Serie', 'Tipo de Pagamento', 'ID Cliente','CNPJ', 'CNPJ Caracter', 'Razão Social', 'Nome Fantasia',\n",
    "       'Tipo de Cliente', 'Status do Cliente', 'Segmento', 'Canal', 'Matriz',\n",
    "       'Crédito', 'Data de Cadastro', 'Primeira Compra', 'Última Compra',\n",
    "       'Dias Compra', 'Tabela', 'Condição de Pagto', 'Prazo Pagto',\n",
    "       'Pagamento', 'CEP', 'Endereço', 'Bairro', 'Município', 'Numero',\n",
    "       'Complemento', 'Região', 'UF', 'DDD', 'Contato', 'Limite de Crédito',\n",
    "       'Principal', 'Situação', 'Valor',\n",
    "       'Desconto R$', 'Multa R$', 'Juros R$', 'Abatimento R$', 'Taxa R$',\n",
    "       'Valor Líquido', 'Pago R$', 'Status do Título', 'Dias', 'Alerta']]"
   ]
  },
  {
   "cell_type": "code",
   "execution_count": 41,
   "id": "da30a4e1",
   "metadata": {},
   "outputs": [],
   "source": [
    "titulos_df=pd.DataFrame()\n",
    "\n",
    "titulos_df=tabelas_df['Receber']"
   ]
  },
  {
   "cell_type": "code",
   "execution_count": 42,
   "id": "af39a704",
   "metadata": {},
   "outputs": [],
   "source": [
    "titulos_df['Saldo R$']=titulos_df.apply(lambda info: info['Valor Líquido']-info['Pago R$'],axis=1)"
   ]
  },
  {
   "cell_type": "code",
   "execution_count": 47,
   "id": "9479f1e7",
   "metadata": {},
   "outputs": [],
   "source": [
    "titulos_df=titulos_df.loc[titulos_df['Status do Título']=='VENCIDO']"
   ]
  },
  {
   "cell_type": "code",
   "execution_count": 52,
   "id": "82f68599",
   "metadata": {},
   "outputs": [],
   "source": [
    "grupo_df=pd.DataFrame()\n",
    "\n",
    "grupo_df=titulos_df[['Alerta','Saldo R$']].groupby(['Alerta'],as_index=False).sum()"
   ]
  },
  {
   "cell_type": "code",
   "execution_count": 56,
   "id": "5224051e",
   "metadata": {},
   "outputs": [],
   "source": [
    "grupo_df['Título']=grupo_df['Alerta'].apply(lambda info: len(titulos_df['Título'].loc[titulos_df['Alerta']==info].unique().tolist()))"
   ]
  },
  {
   "cell_type": "code",
   "execution_count": 58,
   "id": "7e110926",
   "metadata": {},
   "outputs": [],
   "source": [
    "grupo_df.sort_values('Saldo R$',ascending=False,ignore_index=True,inplace=True)"
   ]
  },
  {
   "cell_type": "code",
   "execution_count": 59,
   "id": "1e251c55",
   "metadata": {},
   "outputs": [
    {
     "data": {
      "text/html": [
       "<div>\n",
       "<style scoped>\n",
       "    .dataframe tbody tr th:only-of-type {\n",
       "        vertical-align: middle;\n",
       "    }\n",
       "\n",
       "    .dataframe tbody tr th {\n",
       "        vertical-align: top;\n",
       "    }\n",
       "\n",
       "    .dataframe thead th {\n",
       "        text-align: right;\n",
       "    }\n",
       "</style>\n",
       "<table border=\"1\" class=\"dataframe\">\n",
       "  <thead>\n",
       "    <tr style=\"text-align: right;\">\n",
       "      <th></th>\n",
       "      <th>Alerta</th>\n",
       "      <th>Saldo R$</th>\n",
       "      <th>Título</th>\n",
       "    </tr>\n",
       "  </thead>\n",
       "  <tbody>\n",
       "    <tr>\n",
       "      <th>0</th>\n",
       "      <td>+ 90 DIAS</td>\n",
       "      <td>608696.72</td>\n",
       "      <td>441</td>\n",
       "    </tr>\n",
       "    <tr>\n",
       "      <th>1</th>\n",
       "      <td>6 A 15 DIAS</td>\n",
       "      <td>131953.09</td>\n",
       "      <td>291</td>\n",
       "    </tr>\n",
       "    <tr>\n",
       "      <th>2</th>\n",
       "      <td>ATÉ 5 DIAS</td>\n",
       "      <td>117208.92</td>\n",
       "      <td>182</td>\n",
       "    </tr>\n",
       "    <tr>\n",
       "      <th>3</th>\n",
       "      <td>16 A 30 DIAS</td>\n",
       "      <td>100322.29</td>\n",
       "      <td>295</td>\n",
       "    </tr>\n",
       "    <tr>\n",
       "      <th>4</th>\n",
       "      <td>31 A 60 DIAS</td>\n",
       "      <td>56377.63</td>\n",
       "      <td>110</td>\n",
       "    </tr>\n",
       "    <tr>\n",
       "      <th>5</th>\n",
       "      <td>61 A 90 DIAS</td>\n",
       "      <td>27302.35</td>\n",
       "      <td>46</td>\n",
       "    </tr>\n",
       "  </tbody>\n",
       "</table>\n",
       "</div>"
      ],
      "text/plain": [
       "         Alerta   Saldo R$  Título\n",
       "0     + 90 DIAS  608696.72     441\n",
       "1   6 A 15 DIAS  131953.09     291\n",
       "2    ATÉ 5 DIAS  117208.92     182\n",
       "3  16 A 30 DIAS  100322.29     295\n",
       "4  31 A 60 DIAS   56377.63     110\n",
       "5  61 A 90 DIAS   27302.35      46"
      ]
     },
     "execution_count": 59,
     "metadata": {},
     "output_type": "execute_result"
    }
   ],
   "source": [
    "grupo_df"
   ]
  },
  {
   "cell_type": "code",
   "execution_count": null,
   "id": "3f38f831",
   "metadata": {},
   "outputs": [],
   "source": []
  }
 ],
 "metadata": {
  "kernelspec": {
   "display_name": "Python 3 (ipykernel)",
   "language": "python",
   "name": "python3"
  },
  "language_info": {
   "codemirror_mode": {
    "name": "ipython",
    "version": 3
   },
   "file_extension": ".py",
   "mimetype": "text/x-python",
   "name": "python",
   "nbconvert_exporter": "python",
   "pygments_lexer": "ipython3",
   "version": "3.9.7"
  }
 },
 "nbformat": 4,
 "nbformat_minor": 5
}
