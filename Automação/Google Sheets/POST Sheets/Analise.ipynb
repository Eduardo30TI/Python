{
 "cells": [
  {
   "cell_type": "code",
   "execution_count": 1,
   "id": "72a7bc5b",
   "metadata": {},
   "outputs": [],
   "source": [
    "import pandas as pd\n",
    "from Acesso import Login\n",
    "from Query import Query\n",
    "from datetime import datetime\n",
    "\n",
    "s=Login()\n",
    "\n",
    "sql=Query(s.usuario,s.senha,s.database,s.server)\n",
    "\n",
    "querys={\n",
    "\n",
    "    'Roteiro':\n",
    "\n",
    "    \"\"\"\n",
    "    \n",
    "    SELECT r.nu_rom AS [Roteiro],nf.nome_motor AS [Motorista],\n",
    "    CONVERT(DATETIME,CAST(r.dt_montagem AS DATE),101) AS [Data da Montagem],\n",
    "    it.nu_ped AS [Pedido],nf.nu_nf_emp_fat AS [NFe],cli.[ID Cliente],cli.[Nome Fantasia],cli.Matriz,nf.vl_tot_nf AS [Total NFe]\n",
    "    FROM romaneio r\n",
    "    INNER JOIN it_rom it ON r.nu_rom=it.nu_rom\n",
    "    INNER JOIN nota nf ON it.nu_nf=nf.nu_nf AND it.nu_ped=nf.nu_ped AND it.cd_emp=nf.cd_emp\n",
    "    INNER JOIN netfeira.vw_cliente cli ON nf.cd_clien=cli.[ID Cliente]\n",
    "    WHERE YEAR(r.dt_montagem)=YEAR(GETDATE())\n",
    "    ORDER BY it.nu_ped\n",
    "    \n",
    "    \"\"\",\n",
    "\n",
    "    'Pendente':\n",
    "\n",
    "    \"\"\"\n",
    "\n",
    "    SELECT r.nu_rom AS [Roteiro],nf.nome_motor AS [Motorista],\n",
    "    CONVERT(DATETIME,CAST(r.dt_montagem AS DATE),101) AS [Data da Montagem],\n",
    "    it.nu_ped AS [Pedido],nf.nu_nf_emp_fat AS [NFe],cli.[ID Cliente],cli.[Nome Fantasia],cli.Matriz,nf.vl_tot_nf AS [Total NFe]\n",
    "\t,nf.cond_pagto AS [Condição de Pagamento],f.descricao AS [Forma de Pagamento],\n",
    "\tCASE WHEN r.situacao='EN' THEN 'ENCERRADO' WHEN r.situacao='CA' THEN 'CANCELADO' WHEN r.situacao='AB' THEN 'ABERTO'\n",
    "\tWHEN r.situacao='PE' THEN 'PENDENTE' END AS [Situação do Roteiro]\n",
    "    FROM romaneio r\n",
    "    INNER JOIN it_rom it ON r.nu_rom=it.nu_rom\n",
    "    INNER JOIN nota nf ON it.nu_nf=nf.nu_nf AND it.nu_ped=nf.nu_ped AND it.cd_emp=nf.cd_emp\n",
    "    INNER JOIN netfeira.vw_cliente cli ON nf.cd_clien=cli.[ID Cliente]\n",
    "\tINNER JOIN formpgto f ON nf.formpgto=f.formpgto\n",
    "\tWHERE r.situacao='AB' AND LTRIM(RTRIM([Condição de Pagto]))='A VISTA'\n",
    "    ORDER BY it.nu_ped\n",
    "    \n",
    "    \"\"\",\n",
    "\n",
    "    'Realizado':\n",
    "\n",
    "    \"\"\"\n",
    "    \n",
    "    SELECT r.nu_rom AS [Roteiro],nf.nome_motor AS [Motorista],\n",
    "    CONVERT(DATETIME,CAST(r.dt_montagem AS DATE),101) AS [Data da Montagem],\n",
    "\tCONVERT(DATETIME,CAST(r.dt_retorno AS DATE),101) AS [Data de Retorno],\n",
    "    it.nu_ped AS [Pedido],nf.nu_nf_emp_fat AS [NFe],cli.[ID Cliente],cli.[Nome Fantasia],cli.Matriz,nf.vl_tot_nf AS [Total NFe]\n",
    "\t,nf.cond_pagto AS [Condição de Pagamento],f.descricao AS [Forma de Pagamento],\n",
    "\tCASE WHEN r.situacao='EN' THEN 'ENCERRADO' WHEN r.situacao='CA' THEN 'CANCELADO' WHEN r.situacao='AB' THEN 'ABERTO'\n",
    "\tWHEN r.situacao='PE' THEN 'PENDENTE' END AS [Situação do Roteiro]\n",
    "    FROM romaneio r\n",
    "    INNER JOIN it_rom it ON r.nu_rom=it.nu_rom\n",
    "    INNER JOIN nota nf ON it.nu_nf=nf.nu_nf AND it.nu_ped=nf.nu_ped AND it.cd_emp=nf.cd_emp\n",
    "    INNER JOIN netfeira.vw_cliente cli ON nf.cd_clien=cli.[ID Cliente]\n",
    "\tINNER JOIN formpgto f ON nf.formpgto=f.formpgto\n",
    "\tWHERE YEAR(r.dt_retorno)=YEAR(GETDATE()) AND LTRIM(RTRIM([Condição de Pagto]))='A VISTA'\n",
    "\t--WHERE r.situacao='AB' AND LTRIM(RTRIM([Condição de Pagto]))='A VISTA'\n",
    "    ORDER BY it.nu_ped\n",
    "\n",
    "    \"\"\"\n",
    "\n",
    "}"
   ]
  },
  {
   "cell_type": "code",
   "execution_count": 2,
   "id": "aaed2c3c",
   "metadata": {},
   "outputs": [
    {
     "name": "stderr",
     "output_type": "stream",
     "text": [
      "c:\\Users\\eduardo\\OneDrive - NETFEIRA PONTOCOM LTDA\\Python\\Automação\\Google Sheets\\POST Sheets\\Query\\sql_query.py:23: UserWarning: pandas only supports SQLAlchemy connectable (engine/connection) or database string URI or sqlite3 DBAPI2 connection. Other DBAPI2 objects are not tested. Please consider using SQLAlchemy.\n",
      "  tabelas_df[tabela]=pd.read_sql(query,self.conectando)\n",
      "c:\\Users\\eduardo\\OneDrive - NETFEIRA PONTOCOM LTDA\\Python\\Automação\\Google Sheets\\POST Sheets\\Query\\sql_query.py:23: UserWarning: pandas only supports SQLAlchemy connectable (engine/connection) or database string URI or sqlite3 DBAPI2 connection. Other DBAPI2 objects are not tested. Please consider using SQLAlchemy.\n",
      "  tabelas_df[tabela]=pd.read_sql(query,self.conectando)\n",
      "c:\\Users\\eduardo\\OneDrive - NETFEIRA PONTOCOM LTDA\\Python\\Automação\\Google Sheets\\POST Sheets\\Query\\sql_query.py:23: UserWarning: pandas only supports SQLAlchemy connectable (engine/connection) or database string URI or sqlite3 DBAPI2 connection. Other DBAPI2 objects are not tested. Please consider using SQLAlchemy.\n",
      "  tabelas_df[tabela]=pd.read_sql(query,self.conectando)\n"
     ]
    }
   ],
   "source": [
    "df=sql.CriarTabela(kwargs=querys)"
   ]
  },
  {
   "cell_type": "code",
   "execution_count": 7,
   "id": "43f4b52f",
   "metadata": {},
   "outputs": [],
   "source": [
    "colunas=[l for l in df['Realizado'].columns.tolist() if str(l).find('Data')>=0]"
   ]
  },
  {
   "cell_type": "code",
   "execution_count": 8,
   "id": "3e2226a1",
   "metadata": {},
   "outputs": [
    {
     "data": {
      "text/plain": [
       "['Data da Montagem', 'Data de Retorno']"
      ]
     },
     "execution_count": 8,
     "metadata": {},
     "output_type": "execute_result"
    }
   ],
   "source": [
    "colunas"
   ]
  },
  {
   "cell_type": "code",
   "execution_count": null,
   "id": "b1d7b83d",
   "metadata": {},
   "outputs": [],
   "source": []
  }
 ],
 "metadata": {
  "kernelspec": {
   "display_name": "Python 3 (ipykernel)",
   "language": "python",
   "name": "python3"
  },
  "language_info": {
   "codemirror_mode": {
    "name": "ipython",
    "version": 3
   },
   "file_extension": ".py",
   "mimetype": "text/x-python",
   "name": "python",
   "nbconvert_exporter": "python",
   "pygments_lexer": "ipython3",
   "version": "3.11.1"
  }
 },
 "nbformat": 4,
 "nbformat_minor": 5
}
