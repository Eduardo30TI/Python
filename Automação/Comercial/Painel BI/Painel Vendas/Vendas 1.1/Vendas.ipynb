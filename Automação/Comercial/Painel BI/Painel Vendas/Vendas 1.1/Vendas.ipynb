{
 "cells": [
  {
   "cell_type": "code",
   "execution_count": 3,
   "id": "4fd7b7f7",
   "metadata": {},
   "outputs": [],
   "source": [
    "from Acesso import Login\n",
    "from Query import Query\n",
    "import pandas as pd\n",
    "\n",
    "s=Login()\n",
    "\n",
    "sql=Query(s.usuario,s.senha,s.database,s.server)\n",
    "\n",
    "pd.set_option('display.max_columns',None)\n",
    "\n",
    "querys={\n",
    "\n",
    "    'TargetEstatico':\n",
    "\n",
    "    \"\"\"\n",
    "    \n",
    "    DECLARE @DTBASE DATETIME,@DTFIM DATETIME,@DTINICIO DATETIME\n",
    "\n",
    "    SET @DTBASE=CONVERT(DATETIME,CAST(GETDATE() AS DATE),101)\n",
    "\n",
    "    SET @DTFIM=@DTBASE\n",
    "\n",
    "    SET @DTINICIO=CONCAT(YEAR(@DTFIM),'-',MONTH(@DTFIM),'-01')\n",
    "\n",
    "    SELECT * FROM netfeira.vw_targetestatico\n",
    "    WHERE [Data de Faturamento] BETWEEN @DTINICIO AND @DTFIM\n",
    "    ORDER BY [Data de Faturamento]\n",
    "\n",
    "    \n",
    "    \"\"\",\n",
    "    \n",
    "    'Aberto':\n",
    "    \n",
    "    \"\"\"\n",
    "    \n",
    "    SELECT * FROM netfeira.vw_aberto\n",
    "    WHERE [Data do Pedido]=CONVERT(DATETIME,CAST(GETDATE() AS DATE),101)\n",
    "    \n",
    "    \"\"\",\n",
    "    \n",
    "    'Meta':\n",
    "    \n",
    "    \"\"\"\n",
    "    \n",
    "    SELECT * FROM netfeira.vw_metas\n",
    "    \n",
    "    \"\"\",\n",
    "    \n",
    "    'Calendario':\n",
    "    \n",
    "    \n",
    "    \"\"\"\n",
    "    \n",
    "    SELECT * FROM netfeira.vw_calend\n",
    "    WHERE YEAR(Data)=YEAR(GETDATE()) AND MONTH(Data)=MONTH(GETDATE())\n",
    "    \n",
    "    \"\"\",\n",
    "    \n",
    "    'Vendedor':\n",
    "    \n",
    "    \"\"\"\n",
    "    \n",
    "    SELECT * FROM netfeira.vw_vendedor\n",
    "    \n",
    "    \"\"\",\n",
    "    \n",
    "    \n",
    "    'Supervisor':\n",
    "    \n",
    "    \n",
    "    \"\"\"\n",
    "    \n",
    "    SELECT * FROM netfeira.vw_supervisor\n",
    "    \n",
    "    \"\"\"\n",
    "\n",
    "}"
   ]
  },
  {
   "cell_type": "code",
   "execution_count": 4,
   "id": "26d4f095",
   "metadata": {},
   "outputs": [],
   "source": [
    "tabelas_df=sql.CriarTabela(kwargs=querys)"
   ]
  },
  {
   "cell_type": "code",
   "execution_count": 5,
   "id": "008e7539",
   "metadata": {},
   "outputs": [],
   "source": [
    "vendas_df=pd.DataFrame()\n",
    "\n",
    "vendas_df=tabelas_df['TargetEstatico'].loc[tabelas_df['TargetEstatico']['Tipo de Operação']=='VENDAS']"
   ]
  },
  {
   "cell_type": "code",
   "execution_count": 6,
   "id": "20593286",
   "metadata": {},
   "outputs": [],
   "source": [
    "base_df=pd.DataFrame()\n",
    "\n",
    "base_df=vendas_df[['Situação','Total Venda']].groupby(['Situação'],as_index=False).sum()"
   ]
  },
  {
   "cell_type": "code",
   "execution_count": 7,
   "id": "52a8b365",
   "metadata": {},
   "outputs": [],
   "source": [
    "base_df['Pedido']=base_df['Situação'].apply(lambda info: len(vendas_df['Pedido'].loc[vendas_df['Situação']==info].unique().tolist()))\n",
    "\n",
    "base_df['Cliente']=base_df['Situação'].apply(lambda info: len(vendas_df['ID Cliente'].loc[vendas_df['Situação']==info].unique().tolist()))\n",
    "\n",
    "base_df['MIX']=base_df['Situação'].apply(lambda info: len(vendas_df['SKU'].loc[vendas_df['Situação']==info].unique().tolist()))"
   ]
  },
  {
   "cell_type": "code",
   "execution_count": 8,
   "id": "57589457",
   "metadata": {},
   "outputs": [],
   "source": [
    "base_df.loc[base_df['Situação']!='FATURADO','Pedido']=base_df.loc[base_df['Situação']!='FATURADO','Pedido']*-1\n",
    "\n",
    "base_df.loc[base_df['Situação']!='FATURADO','Cliente']=base_df.loc[base_df['Situação']!='FATURADO','Cliente']*-1\n",
    "\n",
    "base_df.loc[base_df['Situação']!='FATURADO','MIX']=base_df.loc[base_df['Situação']!='FATURADO','MIX']*-1"
   ]
  },
  {
   "cell_type": "code",
   "execution_count": 15,
   "id": "e4c7a589",
   "metadata": {},
   "outputs": [],
   "source": [
    "pedido=base_df['Pedido'].sum()\n",
    "\n",
    "cliente=base_df['Cliente'].sum()\n",
    "\n",
    "faturado=round(base_df['Total Venda'].sum(),2)\n",
    "\n",
    "meta=round(tabelas_df['Meta']['Meta R$'].sum(),2)\n",
    "\n",
    "perc_meta=round(faturado/meta,4)*100 if meta>0 else 0\n",
    "\n",
    "dif_meta=faturado-meta\n",
    "\n",
    "ticket=round(faturado/pedido,2)"
   ]
  },
  {
   "cell_type": "code",
   "execution_count": 16,
   "id": "e4fb3fe9",
   "metadata": {},
   "outputs": [],
   "source": [
    "calend_df=pd.DataFrame()\n",
    "\n",
    "calend_df=tabelas_df['Calendario']\n",
    "\n",
    "uteis=len(calend_df['Data'].loc[calend_df['Dia Útil']==True].unique().tolist())\n",
    "\n",
    "trabalhado=len(calend_df['Data Trabalhada'].loc[(calend_df['Dia Útil']==True)&(~calend_df['Data Trabalhada'].isnull())].unique().tolist())-1\n",
    "\n",
    "restante=uteis-trabalhado"
   ]
  },
  {
   "cell_type": "code",
   "execution_count": 31,
   "id": "c3027224",
   "metadata": {},
   "outputs": [
    {
     "data": {
      "text/plain": [
       "0"
      ]
     },
     "execution_count": 31,
     "metadata": {},
     "output_type": "execute_result"
    }
   ],
   "source": [
    "projecao=(faturado/trabalhado)*uteis if trabalhado>0 else 0\n",
    "\n",
    "meta_diaria=round(meta/uteis,2)"
   ]
  },
  {
   "cell_type": "code",
   "execution_count": 32,
   "id": "28d125f0",
   "metadata": {},
   "outputs": [],
   "source": [
    "aberto_df=pd.DataFrame()\n",
    "\n",
    "aberto_df=tabelas_df['Aberto']\n",
    "\n",
    "atendimento=len(aberto_df['ID Cliente'].unique().tolist())\n",
    "\n",
    "realizado=round(aberto_df['Total Geral'].sum(),2)\n",
    "\n",
    "ped_realizado=len(aberto_df['Pedido'].unique().tolist())\n",
    "\n",
    "perc_diario=round(realizado/meta_diaria,4)*100 if meta_diaria>0 else 0\n",
    "\n",
    "real_aberto=round(aberto_df['Total Geral'].loc[aberto_df['Situação']=='AB'].sum(),2)\n",
    "\n",
    "total=faturado+real_aberto\n",
    "\n",
    "kg_real=round(aberto_df['Peso Bruto KG'].sum(),3)\n",
    "\n",
    "mix=len(aberto_df['SKU'].unique().tolist())\n",
    "\n",
    "dif_diario=round(total-meta_diaria,2)"
   ]
  },
  {
   "cell_type": "code",
   "execution_count": 33,
   "id": "638c4afa",
   "metadata": {},
   "outputs": [
    {
     "data": {
      "text/plain": [
       "Index(['ID Vendedor', 'Vendedor', 'Nome Resumido', 'ID Equipe', 'E-mail',\n",
       "       'Categoria', 'Data de Cadastro', 'Status do Vendedor'],\n",
       "      dtype='object')"
      ]
     },
     "execution_count": 33,
     "metadata": {},
     "output_type": "execute_result"
    }
   ],
   "source": [
    "tabelas_df['Vendedor'].columns"
   ]
  },
  {
   "cell_type": "code",
   "execution_count": 34,
   "id": "aa1f9a9d",
   "metadata": {},
   "outputs": [
    {
     "data": {
      "text/plain": [
       "Index(['ID Equipe', 'Equipe', 'ID Sup', 'Supervisor', 'Email Sup',\n",
       "       'ID Gerente', 'Gerente', 'Email Gerente'],\n",
       "      dtype='object')"
      ]
     },
     "execution_count": 34,
     "metadata": {},
     "output_type": "execute_result"
    }
   ],
   "source": [
    "tabelas_df['Supervisor'].columns"
   ]
  },
  {
   "cell_type": "code",
   "execution_count": 35,
   "id": "e976500f",
   "metadata": {},
   "outputs": [],
   "source": [
    "equipes_df=pd.DataFrame()\n",
    "\n",
    "equipes_df=tabelas_df['Vendedor'].merge(tabelas_df['Supervisor'],on='ID Equipe',how='inner')[['ID Vendedor', 'Vendedor', 'Nome Resumido', 'Equipe','Supervisor']]"
   ]
  },
  {
   "cell_type": "code",
   "execution_count": 36,
   "id": "af5327ec",
   "metadata": {},
   "outputs": [],
   "source": [
    "equipes_df=equipes_df.merge(tabelas_df['Meta'],on='ID Vendedor',how='inner')"
   ]
  },
  {
   "cell_type": "code",
   "execution_count": 37,
   "id": "7cb1f8ac",
   "metadata": {},
   "outputs": [],
   "source": [
    "equipes_df=equipes_df.loc[equipes_df['Meta R$']>0]"
   ]
  },
  {
   "cell_type": "code",
   "execution_count": 38,
   "id": "f464e936",
   "metadata": {},
   "outputs": [],
   "source": [
    "equipes_df.loc[:,'Diário']=round(equipes_df['Meta R$']/uteis,2)"
   ]
  },
  {
   "cell_type": "code",
   "execution_count": 39,
   "id": "0920fdf3",
   "metadata": {},
   "outputs": [
    {
     "data": {
      "text/html": [
       "<div>\n",
       "<style scoped>\n",
       "    .dataframe tbody tr th:only-of-type {\n",
       "        vertical-align: middle;\n",
       "    }\n",
       "\n",
       "    .dataframe tbody tr th {\n",
       "        vertical-align: top;\n",
       "    }\n",
       "\n",
       "    .dataframe thead th {\n",
       "        text-align: right;\n",
       "    }\n",
       "</style>\n",
       "<table border=\"1\" class=\"dataframe\">\n",
       "  <thead>\n",
       "    <tr style=\"text-align: right;\">\n",
       "      <th></th>\n",
       "      <th>ID Vendedor</th>\n",
       "      <th>Vendedor</th>\n",
       "      <th>Nome Resumido</th>\n",
       "      <th>Equipe</th>\n",
       "      <th>Supervisor</th>\n",
       "      <th>Meta R$</th>\n",
       "      <th>Diário</th>\n",
       "    </tr>\n",
       "  </thead>\n",
       "  <tbody>\n",
       "  </tbody>\n",
       "</table>\n",
       "</div>"
      ],
      "text/plain": [
       "Empty DataFrame\n",
       "Columns: [ID Vendedor, Vendedor, Nome Resumido, Equipe, Supervisor, Meta R$, Diário]\n",
       "Index: []"
      ]
     },
     "execution_count": 39,
     "metadata": {},
     "output_type": "execute_result"
    }
   ],
   "source": [
    "equipes_df"
   ]
  },
  {
   "cell_type": "code",
   "execution_count": 40,
   "id": "0720c1ac",
   "metadata": {},
   "outputs": [
    {
     "data": {
      "text/plain": [
       "Index(['ID Empresa', 'Pedido', 'ID Cliente', 'ID Vendedor', 'Data do Pedido',\n",
       "       'SKU', 'Qtde', 'Unid. VDA', 'Qtde VDA', 'Valor VDA', 'Total Venda',\n",
       "       'Total AV', 'Total Geral', 'Margem Bruta R$', 'Margem Bruta CRP',\n",
       "       'Situação', 'Peso Bruto KG', 'Peso Líquido KG'],\n",
       "      dtype='object')"
      ]
     },
     "execution_count": 40,
     "metadata": {},
     "output_type": "execute_result"
    }
   ],
   "source": [
    "aberto_df.columns"
   ]
  },
  {
   "cell_type": "code",
   "execution_count": 41,
   "id": "23bd70ab",
   "metadata": {},
   "outputs": [],
   "source": [
    "vendedores_df=pd.DataFrame()\n",
    "\n",
    "vendedores_df=aberto_df[['ID Vendedor','Total Venda']].groupby(['ID Vendedor'],as_index=False).sum()"
   ]
  },
  {
   "cell_type": "code",
   "execution_count": 42,
   "id": "f59e371b",
   "metadata": {},
   "outputs": [],
   "source": [
    "equipes_df=equipes_df.merge(vendedores_df,on='ID Vendedor',how='left')"
   ]
  },
  {
   "cell_type": "code",
   "execution_count": 43,
   "id": "08f58f15",
   "metadata": {},
   "outputs": [],
   "source": [
    "equipes_df.loc[equipes_df['Total Venda'].isnull(),'Total Venda']=0"
   ]
  },
  {
   "cell_type": "code",
   "execution_count": 49,
   "id": "c82fc762",
   "metadata": {},
   "outputs": [],
   "source": [
    "equipes_df.loc['Diferença']=0\n",
    "\n",
    "if(len(equipes_df)>0):\n",
    "\n",
    "    equipes_df['Diferença']=equipes_df.apply(lambda info: info['Total Venda']-info['Diário'],axis=1)\n",
    "    \n",
    "    pass"
   ]
  },
  {
   "cell_type": "code",
   "execution_count": 50,
   "id": "2dc61ee9",
   "metadata": {},
   "outputs": [],
   "source": [
    "consolidado_df=pd.DataFrame()\n",
    "\n",
    "consolidado_df=equipes_df[['Supervisor','Diferença']].groupby(['Supervisor'],as_index=False).sum()"
   ]
  },
  {
   "cell_type": "code",
   "execution_count": 51,
   "id": "5ee02248",
   "metadata": {},
   "outputs": [],
   "source": [
    "consolidado_df['Diferença']=consolidado_df['Diferença']*-1"
   ]
  },
  {
   "cell_type": "code",
   "execution_count": 52,
   "id": "c5924e4e",
   "metadata": {},
   "outputs": [],
   "source": [
    "consolidado_df.sort_values('Diferença',ascending=False,inplace=True)"
   ]
  },
  {
   "cell_type": "code",
   "execution_count": 53,
   "id": "35cd9b07",
   "metadata": {},
   "outputs": [],
   "source": [
    "consolidado_df=consolidado_df.loc[consolidado_df['Diferença']>0]"
   ]
  },
  {
   "cell_type": "code",
   "execution_count": 54,
   "id": "96f0440f",
   "metadata": {},
   "outputs": [],
   "source": [
    "consolidado_df=equipes_df[['Equipe','Total Venda','Diferença']].groupby(['Equipe'],as_index=False).sum()\n",
    "\n",
    "consolidado_df.rename(columns={'Total Venda':'Realizado R$'},inplace=True)\n",
    "\n",
    "consolidado_df.sort_values('Realizado R$',ascending=False,inplace=True)\n",
    "\n",
    "consolidado_df=consolidado_df[['Equipe','Realizado R$']].loc[consolidado_df['Diferença']>0]"
   ]
  },
  {
   "cell_type": "code",
   "execution_count": 55,
   "id": "6bed6099",
   "metadata": {},
   "outputs": [
    {
     "data": {
      "text/plain": [
       "Index(['ID Empresa', 'Pedido', 'ID Cliente', 'ID Vendedor', 'Data do Pedido',\n",
       "       'SKU', 'Qtde', 'Unid. VDA', 'Qtde VDA', 'Valor VDA', 'Total Venda',\n",
       "       'Total AV', 'Total Geral', 'Margem Bruta R$', 'Margem Bruta CRP',\n",
       "       'Situação', 'Peso Bruto KG', 'Peso Líquido KG'],\n",
       "      dtype='object')"
      ]
     },
     "execution_count": 55,
     "metadata": {},
     "output_type": "execute_result"
    }
   ],
   "source": [
    "aberto_df.columns"
   ]
  },
  {
   "cell_type": "code",
   "execution_count": 56,
   "id": "26c1e239",
   "metadata": {},
   "outputs": [],
   "source": [
    "vendas_df=vendas_df.merge(tabelas_df['Vendedor'],on='ID Vendedor',how='inner')[['ID Empresa', 'Pedido', 'Nfe', 'ID Cliente', 'ID Vendedor',\n",
    "       'Data de Emissão', 'Data de Faturamento', 'ID Motivo', 'Situação',\n",
    "       'Tipo de Pedido', 'Tipo de Operação', 'ID Roteiro', 'ID Usuário',\n",
    "       'Tabelas', 'Origem', 'Tipo de Entrega', 'Seq Roteiro', 'SKU', 'Seq',\n",
    "       'Qtde', 'Unid. VDA', 'Qtde VDA', 'Valor VDA', 'Total Venda', 'Total AV',\n",
    "       'Total Geral', 'Margem Bruta R$', 'Comissão R$', 'IPI R$', 'PIS R$',\n",
    "       'COFINS R$', 'ICMS R$', 'ICMS ST R$', 'Peso Bruto KG',\n",
    "       'Peso Líquido KG', 'Cad Vendedor','ID Equipe']]"
   ]
  },
  {
   "cell_type": "code",
   "execution_count": 58,
   "id": "4c50f605",
   "metadata": {},
   "outputs": [],
   "source": [
    "aberto_df=aberto_df.merge(tabelas_df['Vendedor'],on='ID Vendedor',how='inner')[['ID Empresa', 'Pedido', 'ID Cliente', 'ID Vendedor', 'Data do Pedido',\n",
    "       'SKU', 'Qtde', 'Unid. VDA', 'Qtde VDA', 'Valor VDA', 'Total Venda',\n",
    "       'Total AV', 'Total Geral', 'Margem Bruta R$', 'Margem Bruta CRP',\n",
    "       'Situação', 'Peso Bruto KG', 'Peso Líquido KG','ID Equipe']]"
   ]
  },
  {
   "cell_type": "code",
   "execution_count": 59,
   "id": "3dcdc0cd",
   "metadata": {},
   "outputs": [],
   "source": [
    "tabelas_df['Meta']=tabelas_df['Meta'].merge(tabelas_df['Vendedor'],on='ID Vendedor',how='inner')[['ID Vendedor','Meta R$','ID Equipe']]"
   ]
  },
  {
   "cell_type": "code",
   "execution_count": 60,
   "id": "dfd16743",
   "metadata": {},
   "outputs": [
    {
     "data": {
      "text/html": [
       "<div>\n",
       "<style scoped>\n",
       "    .dataframe tbody tr th:only-of-type {\n",
       "        vertical-align: middle;\n",
       "    }\n",
       "\n",
       "    .dataframe tbody tr th {\n",
       "        vertical-align: top;\n",
       "    }\n",
       "\n",
       "    .dataframe thead th {\n",
       "        text-align: right;\n",
       "    }\n",
       "</style>\n",
       "<table border=\"1\" class=\"dataframe\">\n",
       "  <thead>\n",
       "    <tr style=\"text-align: right;\">\n",
       "      <th></th>\n",
       "      <th>ID Vendedor</th>\n",
       "      <th>Meta R$</th>\n",
       "      <th>ID Equipe</th>\n",
       "    </tr>\n",
       "  </thead>\n",
       "  <tbody>\n",
       "  </tbody>\n",
       "</table>\n",
       "</div>"
      ],
      "text/plain": [
       "Empty DataFrame\n",
       "Columns: [ID Vendedor, Meta R$, ID Equipe]\n",
       "Index: []"
      ]
     },
     "execution_count": 60,
     "metadata": {},
     "output_type": "execute_result"
    }
   ],
   "source": [
    "tabelas_df['Meta']"
   ]
  },
  {
   "cell_type": "code",
   "execution_count": null,
   "id": "771d967e",
   "metadata": {},
   "outputs": [],
   "source": []
  }
 ],
 "metadata": {
  "kernelspec": {
   "display_name": "Python 3 (ipykernel)",
   "language": "python",
   "name": "python3"
  },
  "language_info": {
   "codemirror_mode": {
    "name": "ipython",
    "version": 3
   },
   "file_extension": ".py",
   "mimetype": "text/x-python",
   "name": "python",
   "nbconvert_exporter": "python",
   "pygments_lexer": "ipython3",
   "version": "3.9.7"
  }
 },
 "nbformat": 4,
 "nbformat_minor": 5
}
