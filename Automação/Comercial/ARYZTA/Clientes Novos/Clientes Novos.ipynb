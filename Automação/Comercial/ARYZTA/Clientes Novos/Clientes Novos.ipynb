{
 "cells": [
  {
   "cell_type": "code",
   "execution_count": 1,
   "id": "37fd7164",
   "metadata": {},
   "outputs": [],
   "source": [
    "from Query import Query\n",
    "import pandas as pd\n",
    "from Tempo import DataHora\n",
    "from Acesso import Login\n",
    "\n",
    "s=Login()\n",
    "\n",
    "pd.set_option('display.max_columns',None)"
   ]
  },
  {
   "cell_type": "code",
   "execution_count": 2,
   "id": "288235a4",
   "metadata": {},
   "outputs": [],
   "source": [
    "sql=Query(s.usuario,s.senha,s.database,s.server)"
   ]
  },
  {
   "cell_type": "code",
   "execution_count": 3,
   "id": "6d0b3724",
   "metadata": {},
   "outputs": [],
   "source": [
    "querys={\n",
    "    \n",
    "    'TargetEstatistico':\n",
    "    \n",
    "    \"\"\"\n",
    "    \n",
    "    SELECT * FROM netfeira.vw_targetestatistico\n",
    "    WHERE [Situação] IN ('FATURADO','EM ABERTO') AND [Tipo de Operação] IN ('VENDAS','BONIFICAÇÃO','AMOSTRA')    \n",
    "    \n",
    "    \"\"\",\n",
    "    \n",
    "    'Produto':\n",
    "    \n",
    "    \"\"\"\n",
    "    \n",
    "    SELECT * FROM netfeira.vw_produto\n",
    "    \n",
    "    \"\"\",\n",
    "    \n",
    "    'Cliente':\n",
    "    \n",
    "    \"\"\"\n",
    "    \n",
    "    SELECT * FROM netfeira.vw_cliente\n",
    "    \n",
    "    \"\"\",\n",
    "    \n",
    "    'Segmento':\n",
    "    \n",
    "    \"\"\"\n",
    "    \n",
    "    SELECT * FROM netfeira.vw_segmento\n",
    "    \n",
    "    \"\"\",\n",
    "    \n",
    "    'Calendário':\n",
    "    \n",
    "    \"\"\"\n",
    "        \n",
    "    DECLARE @DTInicial AS DATETIME,@DTFinal AS DATETIME\n",
    "\n",
    "    SET @DTInicial='2018-01-01'\n",
    "    SET @DTFinal= CONCAT(YEAR(GETDATE())+1,'-01-','01')\n",
    "\n",
    "    ;WITH Calendario (Datas) AS(\n",
    "\n",
    "    SELECT @DTInicial\n",
    "    UNION ALL\n",
    "    SELECT Datas+1\n",
    "    FROM Calendario WHERE  Datas+1<@DTFinal\n",
    "    )\n",
    "\n",
    "    SELECT CONVERT(DATETIME,CAST(Datas AS DATE),101) AS 'Data',YEAR(Datas) AS 'Ano',MONTH(Datas) AS 'Cód. Mês',\n",
    "    CHOOSE(MONTH(Datas),'JANEIRO','FEVEREIRO','MARÇO','ABRIL','MAIO','JUNHO','JULHO','AGOSTO','SETEMBRO','OUTUBRO','NOVEMBRO','DEZEMBRO') AS 'Mês',\n",
    "    CHOOSE(MONTH(Datas),'JAN','FEV','MAR','ABR','MAI','JUN','JUL','AGO','SET','OUT','NOV','DEZ') AS 'Mês Resumido',\n",
    "    DAY(Datas) AS 'Dia',CONVERT(VARCHAR(7),Datas,120) AS 'Mês Meta',\n",
    "    DATEPART(DW,Datas) AS 'Cód. Semana',CHOOSE(DATEPART(DW,Datas),'DOM','SEG','TER','QUAR','QUI','SEX','SÁB') AS 'Semana',\n",
    "    CASE WHEN DATEPART(DW,Datas) IN (7,1) THEN 0 ELSE 1 END AS 'Dias Úteis',\n",
    "    CASE WHEN MONTH(Datas)<=3 THEN '1º TRIM' WHEN MONTH(Datas)<=6 THEN '2º TRIM' WHEN MONTH(Datas)<=9 THEN '3º TRIM' WHEN MONTH(Datas)<=12 THEN '4º TRIM' END AS 'Trimestre Ano',\n",
    "    CASE WHEN MONTH(Datas)<=6 THEN '1º SEM' ELSE '2º SEM' END AS 'Semestre Ano',DATEPART(WEEK,Datas) AS 'Semana Ano',\n",
    "    CONVERT(VARCHAR,DAY(Datas))+'/'+CONVERT(VARCHAR,MONTH(Datas)) AS 'Mês Base'\n",
    "    FROM Calendario OPTION(MAXRECURSION 10000)    \n",
    "    \n",
    "    \n",
    "    \"\"\"\n",
    "    \n",
    "}"
   ]
  },
  {
   "cell_type": "code",
   "execution_count": 4,
   "id": "aec53410",
   "metadata": {},
   "outputs": [],
   "source": [
    "tabela_df=sql.CriarTabela(kwargs=querys)"
   ]
  },
  {
   "cell_type": "code",
   "execution_count": 5,
   "id": "4a0347cf",
   "metadata": {},
   "outputs": [
    {
     "data": {
      "text/plain": [
       "Index(['Origem', 'ID Empresa', 'ID Cliente', 'ID Vendedor', 'Pedido', 'Nfe',\n",
       "       'Tipo de Pedido', 'Tipo de Operação', 'ID Cadastro', 'Data de Emissão',\n",
       "       'Data de Faturamento', 'SKU', 'Seq', 'Qtde', 'Unid. VDA', 'Fator VDA',\n",
       "       'Preço Tabela', 'Desc %', 'Desc R$', 'Valor VDA', 'Preço Unitário',\n",
       "       'Total Geral', 'Custo CUE', 'Margem Bruta R$', 'Custo Capado CUE',\n",
       "       'Total AV', 'PIS R$', 'COFINS R$', 'ICMS R$', 'Verba R$',\n",
       "       'Margem CTB R$', 'Situação', 'Total Geral AV'],\n",
       "      dtype='object')"
      ]
     },
     "execution_count": 5,
     "metadata": {},
     "output_type": "execute_result"
    }
   ],
   "source": [
    "tabela_df['TargetEstatistico'].columns"
   ]
  },
  {
   "cell_type": "code",
   "execution_count": 6,
   "id": "f36806df",
   "metadata": {},
   "outputs": [
    {
     "data": {
      "text/plain": [
       "Index(['ID Segmento', 'Segmento', 'Canal'], dtype='object')"
      ]
     },
     "execution_count": 6,
     "metadata": {},
     "output_type": "execute_result"
    }
   ],
   "source": [
    "tabela_df['Segmento'].columns"
   ]
  },
  {
   "cell_type": "code",
   "execution_count": 7,
   "id": "c48a76c3",
   "metadata": {},
   "outputs": [
    {
     "data": {
      "text/plain": [
       "Index(['ID Cliente', 'CNPJ', 'CNPJ Caracter', 'Razão Social', 'Nome Fantasia',\n",
       "       'Tipo de Cliente', 'Status do Cliente', 'ID Segmento', 'Matriz',\n",
       "       'Crédito', 'Data de Cadastro', 'Primeira Compra', 'Última Compra',\n",
       "       'Dias Compra', 'Tabela', 'Condição de Pagto', 'Prazo Pagto',\n",
       "       'Pagamento', 'CEP', 'Endereço', 'Bairro', 'Município', 'Numero',\n",
       "       'Complemento', 'Região', 'UF', 'DDD', 'Contato'],\n",
       "      dtype='object')"
      ]
     },
     "execution_count": 7,
     "metadata": {},
     "output_type": "execute_result"
    }
   ],
   "source": [
    "tabela_df['Cliente'].columns"
   ]
  },
  {
   "cell_type": "code",
   "execution_count": 8,
   "id": "556c92d5",
   "metadata": {},
   "outputs": [
    {
     "data": {
      "text/plain": [
       "Index(['SKU', 'Cód. Fabricante', 'Produto', 'Status', 'Fabricante',\n",
       "       'Departamento', 'Seção', 'Categoria', 'Linha', 'Grupo de Produtos',\n",
       "       'Grupo Indústria', 'Grupo de Meta', 'Grupo MCCAIN', 'Linha Fabrica',\n",
       "       'Grupo de Promotores', 'Peso Liquido', 'Peso Bruto', 'Fator CX'],\n",
       "      dtype='object')"
      ]
     },
     "execution_count": 8,
     "metadata": {},
     "output_type": "execute_result"
    }
   ],
   "source": [
    "tabela_df['Produto'].columns"
   ]
  },
  {
   "cell_type": "code",
   "execution_count": 9,
   "id": "6be52318",
   "metadata": {},
   "outputs": [],
   "source": [
    "tabela_df['Cliente']=tabela_df['Cliente'].loc[tabela_df['Cliente']['Tipo de Cliente']=='J']"
   ]
  },
  {
   "cell_type": "code",
   "execution_count": 10,
   "id": "d2040793",
   "metadata": {},
   "outputs": [],
   "source": [
    "tabela_df['Cliente']=tabela_df['Cliente'].merge(tabela_df['Segmento'],on='ID Segmento',how='inner')[['ID Cliente', 'CNPJ', 'CNPJ Caracter', 'Razão Social', 'Nome Fantasia',\n",
    "       'Tipo de Cliente', 'Status do Cliente', 'Segmento','Canal', 'Matriz',\n",
    "       'Crédito', 'Data de Cadastro', 'Primeira Compra', 'Última Compra',\n",
    "       'Dias Compra', 'Tabela', 'Condição de Pagto', 'Prazo Pagto',\n",
    "       'Pagamento', 'CEP', 'Endereço', 'Bairro', 'Município', 'Numero',\n",
    "       'Complemento', 'Região', 'UF', 'DDD', 'Contato']]"
   ]
  },
  {
   "cell_type": "code",
   "execution_count": 11,
   "id": "fccb29a5",
   "metadata": {},
   "outputs": [
    {
     "data": {
      "text/plain": [
       "Index(['ID Cliente', 'CNPJ', 'CNPJ Caracter', 'Razão Social', 'Nome Fantasia',\n",
       "       'Tipo de Cliente', 'Status do Cliente', 'Segmento', 'Canal', 'Matriz',\n",
       "       'Crédito', 'Data de Cadastro', 'Primeira Compra', 'Última Compra',\n",
       "       'Dias Compra', 'Tabela', 'Condição de Pagto', 'Prazo Pagto',\n",
       "       'Pagamento', 'CEP', 'Endereço', 'Bairro', 'Município', 'Numero',\n",
       "       'Complemento', 'Região', 'UF', 'DDD', 'Contato'],\n",
       "      dtype='object')"
      ]
     },
     "execution_count": 11,
     "metadata": {},
     "output_type": "execute_result"
    }
   ],
   "source": [
    "tabela_df['Cliente'].columns"
   ]
  },
  {
   "cell_type": "code",
   "execution_count": 12,
   "id": "14978bc1",
   "metadata": {},
   "outputs": [],
   "source": [
    "tabela_df['TargetEstatistico']=tabela_df['TargetEstatistico'].merge(tabela_df['Cliente'],on='ID Cliente',how='inner')[['Origem', 'ID Empresa', 'ID Cliente','CNPJ','Razão Social', 'Nome Fantasia','Segmento','Canal', 'ID Vendedor', 'Pedido', 'Nfe',\n",
    "       'Tipo de Pedido', 'Tipo de Operação', 'ID Cadastro', 'Data de Emissão',\n",
    "       'Data de Faturamento', 'SKU', 'Seq', 'Qtde', 'Unid. VDA', 'Fator VDA',\n",
    "       'Preço Tabela', 'Desc %', 'Desc R$', 'Valor VDA', 'Preço Unitário',\n",
    "       'Total Geral', 'Custo CUE', 'Margem Bruta R$', 'Custo Capado CUE',\n",
    "       'Total AV', 'PIS R$', 'COFINS R$', 'ICMS R$', 'Verba R$',\n",
    "       'Margem CTB R$', 'Situação', 'Total Geral AV']]"
   ]
  },
  {
   "cell_type": "code",
   "execution_count": 13,
   "id": "a96d6a2d",
   "metadata": {},
   "outputs": [
    {
     "data": {
      "text/plain": [
       "Index(['Origem', 'ID Empresa', 'ID Cliente', 'CNPJ', 'Razão Social',\n",
       "       'Nome Fantasia', 'Segmento', 'Canal', 'ID Vendedor', 'Pedido', 'Nfe',\n",
       "       'Tipo de Pedido', 'Tipo de Operação', 'ID Cadastro', 'Data de Emissão',\n",
       "       'Data de Faturamento', 'SKU', 'Seq', 'Qtde', 'Unid. VDA', 'Fator VDA',\n",
       "       'Preço Tabela', 'Desc %', 'Desc R$', 'Valor VDA', 'Preço Unitário',\n",
       "       'Total Geral', 'Custo CUE', 'Margem Bruta R$', 'Custo Capado CUE',\n",
       "       'Total AV', 'PIS R$', 'COFINS R$', 'ICMS R$', 'Verba R$',\n",
       "       'Margem CTB R$', 'Situação', 'Total Geral AV'],\n",
       "      dtype='object')"
      ]
     },
     "execution_count": 13,
     "metadata": {},
     "output_type": "execute_result"
    }
   ],
   "source": [
    "tabela_df['TargetEstatistico'].columns"
   ]
  },
  {
   "cell_type": "code",
   "execution_count": 14,
   "id": "5821bbed",
   "metadata": {},
   "outputs": [],
   "source": [
    "tabela_df['TargetEstatistico']=tabela_df['TargetEstatistico'].merge(tabela_df['Produto'],on='SKU',how='inner')[['Origem', 'ID Empresa', 'ID Cliente', 'CNPJ', 'Razão Social',\n",
    "       'Nome Fantasia', 'Segmento', 'Canal', 'ID Vendedor', 'Pedido', 'Nfe',\n",
    "       'Tipo de Pedido', 'Tipo de Operação', 'ID Cadastro', 'Data de Emissão',\n",
    "       'Data de Faturamento', 'SKU','Cód. Fabricante', 'Produto', 'Status', 'Fabricante',\n",
    "       'Departamento', 'Seção', 'Categoria', 'Linha','Seq', 'Qtde', 'Unid. VDA', 'Fator VDA',\n",
    "       'Preço Tabela', 'Desc %', 'Desc R$', 'Valor VDA', 'Preço Unitário',\n",
    "       'Total Geral', 'Custo CUE', 'Margem Bruta R$', 'Custo Capado CUE',\n",
    "       'Total AV', 'PIS R$', 'COFINS R$', 'ICMS R$', 'Verba R$',\n",
    "       'Margem CTB R$', 'Situação', 'Total Geral AV']]"
   ]
  },
  {
   "cell_type": "code",
   "execution_count": 15,
   "id": "27ee9bfe",
   "metadata": {},
   "outputs": [
    {
     "data": {
      "text/plain": [
       "Index(['Origem', 'ID Empresa', 'ID Cliente', 'CNPJ', 'Razão Social',\n",
       "       'Nome Fantasia', 'Segmento', 'Canal', 'ID Vendedor', 'Pedido', 'Nfe',\n",
       "       'Tipo de Pedido', 'Tipo de Operação', 'ID Cadastro', 'Data de Emissão',\n",
       "       'Data de Faturamento', 'SKU', 'Cód. Fabricante', 'Produto', 'Status',\n",
       "       'Fabricante', 'Departamento', 'Seção', 'Categoria', 'Linha', 'Seq',\n",
       "       'Qtde', 'Unid. VDA', 'Fator VDA', 'Preço Tabela', 'Desc %', 'Desc R$',\n",
       "       'Valor VDA', 'Preço Unitário', 'Total Geral', 'Custo CUE',\n",
       "       'Margem Bruta R$', 'Custo Capado CUE', 'Total AV', 'PIS R$',\n",
       "       'COFINS R$', 'ICMS R$', 'Verba R$', 'Margem CTB R$', 'Situação',\n",
       "       'Total Geral AV'],\n",
       "      dtype='object')"
      ]
     },
     "execution_count": 15,
     "metadata": {},
     "output_type": "execute_result"
    }
   ],
   "source": [
    "tabela_df['TargetEstatistico'].columns"
   ]
  },
  {
   "cell_type": "code",
   "execution_count": 16,
   "id": "ccbef2b4",
   "metadata": {},
   "outputs": [],
   "source": [
    "data=DataHora()\n",
    "\n",
    "data_atual=data.HoraAtual()\n",
    "\n",
    "ano=data_atual.year\n",
    "\n",
    "mes=data_atual.month"
   ]
  },
  {
   "cell_type": "code",
   "execution_count": 17,
   "id": "c94a3ef1",
   "metadata": {},
   "outputs": [
    {
     "data": {
      "text/plain": [
       "Timestamp('2022-07-01 00:00:00')"
      ]
     },
     "execution_count": 17,
     "metadata": {},
     "output_type": "execute_result"
    }
   ],
   "source": [
    "data_min=tabela_df['Calendário']['Data'].loc[(tabela_df['Calendário']['Data'].dt.year==ano)&(tabela_df['Calendário']['Data'].dt.month==mes)].min()\n",
    "\n",
    "data_min"
   ]
  },
  {
   "cell_type": "code",
   "execution_count": 18,
   "id": "a898259d",
   "metadata": {},
   "outputs": [],
   "source": [
    "vendas_df=tabela_df['TargetEstatistico']"
   ]
  },
  {
   "cell_type": "code",
   "execution_count": 19,
   "id": "fde983d9",
   "metadata": {},
   "outputs": [],
   "source": [
    "clientes_df=vendas_df[['ID Cliente','Fabricante','Total Geral']].loc[vendas_df['Data de Faturamento']<data_min].groupby(['ID Cliente','Fabricante'],as_index=False).sum()"
   ]
  },
  {
   "cell_type": "code",
   "execution_count": 20,
   "id": "c2a04ba2",
   "metadata": {},
   "outputs": [
    {
     "data": {
      "text/html": [
       "<div>\n",
       "<style scoped>\n",
       "    .dataframe tbody tr th:only-of-type {\n",
       "        vertical-align: middle;\n",
       "    }\n",
       "\n",
       "    .dataframe tbody tr th {\n",
       "        vertical-align: top;\n",
       "    }\n",
       "\n",
       "    .dataframe thead th {\n",
       "        text-align: right;\n",
       "    }\n",
       "</style>\n",
       "<table border=\"1\" class=\"dataframe\">\n",
       "  <thead>\n",
       "    <tr style=\"text-align: right;\">\n",
       "      <th></th>\n",
       "      <th>Segmento</th>\n",
       "      <th>ID Cliente</th>\n",
       "      <th>Razão Social</th>\n",
       "      <th>Fabricante</th>\n",
       "      <th>Linha</th>\n",
       "      <th>Total AV</th>\n",
       "    </tr>\n",
       "  </thead>\n",
       "  <tbody>\n",
       "    <tr>\n",
       "      <th>0</th>\n",
       "      <td>1 A 4 CHK</td>\n",
       "      <td>20830</td>\n",
       "      <td>MERCADINHO REAL EIRELI</td>\n",
       "      <td>ARYZTA</td>\n",
       "      <td>FLOWPACK</td>\n",
       "      <td>98.40</td>\n",
       "    </tr>\n",
       "    <tr>\n",
       "      <th>1</th>\n",
       "      <td>1 A 4 CHK</td>\n",
       "      <td>23462</td>\n",
       "      <td>MERCADO KAYANO LTDA</td>\n",
       "      <td>ARYZTA</td>\n",
       "      <td>FLOWPACK</td>\n",
       "      <td>49.20</td>\n",
       "    </tr>\n",
       "    <tr>\n",
       "      <th>2</th>\n",
       "      <td>5 A 9 CHK</td>\n",
       "      <td>19167</td>\n",
       "      <td>MERCADINHO NOVO LIDER LTDA</td>\n",
       "      <td>ARYZTA</td>\n",
       "      <td>FLOWPACK</td>\n",
       "      <td>10.43</td>\n",
       "    </tr>\n",
       "    <tr>\n",
       "      <th>3</th>\n",
       "      <td>BAR/LANCHONETE</td>\n",
       "      <td>16519</td>\n",
       "      <td>RECANTO DA PAMPLONA LANCHONETE LTDA EPP</td>\n",
       "      <td>ARYZTA</td>\n",
       "      <td>PÃO HB ESPECIAL</td>\n",
       "      <td>131.95</td>\n",
       "    </tr>\n",
       "    <tr>\n",
       "      <th>4</th>\n",
       "      <td>BOMBONIERE</td>\n",
       "      <td>16675</td>\n",
       "      <td>DOCES E EMBALAGENS GURI LTDA ME</td>\n",
       "      <td>ARYZTA</td>\n",
       "      <td>SOBREMESA</td>\n",
       "      <td>18.98</td>\n",
       "    </tr>\n",
       "    <tr>\n",
       "      <th>5</th>\n",
       "      <td>HAMBURGUERIA</td>\n",
       "      <td>23281</td>\n",
       "      <td>IMPERIO BARBECUE COMERCIO LTDA</td>\n",
       "      <td>ARYZTA</td>\n",
       "      <td>FLOWPACK</td>\n",
       "      <td>103.07</td>\n",
       "    </tr>\n",
       "    <tr>\n",
       "      <th>6</th>\n",
       "      <td>RESTAURANTE</td>\n",
       "      <td>28095</td>\n",
       "      <td>GABRIELLI GIOVANNA CORDEIRO MACENA DA SILVA 49...</td>\n",
       "      <td>ARYZTA</td>\n",
       "      <td>PÃO HB ESPECIAL</td>\n",
       "      <td>190.00</td>\n",
       "    </tr>\n",
       "  </tbody>\n",
       "</table>\n",
       "</div>"
      ],
      "text/plain": [
       "         Segmento  ID Cliente  \\\n",
       "0       1 A 4 CHK       20830   \n",
       "1       1 A 4 CHK       23462   \n",
       "2       5 A 9 CHK       19167   \n",
       "3  BAR/LANCHONETE       16519   \n",
       "4      BOMBONIERE       16675   \n",
       "5    HAMBURGUERIA       23281   \n",
       "6     RESTAURANTE       28095   \n",
       "\n",
       "                                        Razão Social Fabricante  \\\n",
       "0                             MERCADINHO REAL EIRELI     ARYZTA   \n",
       "1                                MERCADO KAYANO LTDA     ARYZTA   \n",
       "2                         MERCADINHO NOVO LIDER LTDA     ARYZTA   \n",
       "3            RECANTO DA PAMPLONA LANCHONETE LTDA EPP     ARYZTA   \n",
       "4                    DOCES E EMBALAGENS GURI LTDA ME     ARYZTA   \n",
       "5                     IMPERIO BARBECUE COMERCIO LTDA     ARYZTA   \n",
       "6  GABRIELLI GIOVANNA CORDEIRO MACENA DA SILVA 49...     ARYZTA   \n",
       "\n",
       "             Linha  Total AV  \n",
       "0         FLOWPACK     98.40  \n",
       "1         FLOWPACK     49.20  \n",
       "2         FLOWPACK     10.43  \n",
       "3  PÃO HB ESPECIAL    131.95  \n",
       "4        SOBREMESA     18.98  \n",
       "5         FLOWPACK    103.07  \n",
       "6  PÃO HB ESPECIAL    190.00  "
      ]
     },
     "execution_count": 20,
     "metadata": {},
     "output_type": "execute_result"
    }
   ],
   "source": [
    "codigos=clientes_df['ID Cliente'].loc[clientes_df['Fabricante'].str.contains('ARYZTA')].tolist()\n",
    "\n",
    "clientes_df=clientes_df.loc[~clientes_df['ID Cliente'].isin(codigos)]\n",
    "\n",
    "codigos=vendas_df['ID Cliente'].loc[(vendas_df['Data de Faturamento'].dt.year==ano)&(vendas_df['Data de Faturamento'].dt.month==mes)&((vendas_df['Fabricante'].str.contains('ARYZTA')))].unique().tolist()\n",
    "\n",
    "codigos=clientes_df['ID Cliente'].loc[clientes_df['ID Cliente'].isin(codigos)].unique().tolist()\n",
    "\n",
    "vendas_df[['Segmento','ID Cliente','Razão Social','Fabricante','Linha','Total AV']].loc[(vendas_df['Data de Faturamento'].dt.year==ano)&(vendas_df['Data de Faturamento'].dt.month==mes)&((vendas_df['Fabricante'].str.contains('ARYZTA')))&(vendas_df['ID Cliente'].isin(codigos))].groupby(['Segmento','ID Cliente','Razão Social','Fabricante','Linha'],as_index=False).sum()\n"
   ]
  },
  {
   "cell_type": "code",
   "execution_count": null,
   "id": "4af7fa29",
   "metadata": {},
   "outputs": [],
   "source": []
  },
  {
   "cell_type": "code",
   "execution_count": 21,
   "id": "3352ea92",
   "metadata": {},
   "outputs": [],
   "source": [
    "data_min=tabela_df['Calendário']['Data'].loc[(tabela_df['Calendário']['Data'].dt.year==ano)&(tabela_df['Calendário']['Data'].dt.month==mes-2)].min()\n",
    "\n",
    "data_max=tabela_df['Calendário']['Data'].loc[(tabela_df['Calendário']['Data'].dt.year==ano)&(tabela_df['Calendário']['Data'].dt.month==mes-1)].max()"
   ]
  },
  {
   "cell_type": "code",
   "execution_count": 22,
   "id": "af3c9b3b",
   "metadata": {},
   "outputs": [],
   "source": [
    "vendas_df=vendas_df.merge(tabela_df['Calendário'],left_on='Data de Faturamento',right_on='Data',how='inner')[['Origem', 'ID Empresa', 'ID Cliente', 'CNPJ', 'Razão Social',\n",
    "       'Nome Fantasia', 'Segmento', 'Canal', 'ID Vendedor', 'Pedido', 'Nfe',\n",
    "       'Tipo de Pedido', 'Tipo de Operação', 'ID Cadastro', 'Data de Emissão',\n",
    "       'Data de Faturamento','Ano','Cód. Mês','Mês', 'SKU', 'Cód. Fabricante', 'Produto', 'Status',\n",
    "       'Fabricante', 'Departamento', 'Seção', 'Categoria', 'Linha', 'Seq',\n",
    "       'Qtde', 'Unid. VDA', 'Fator VDA', 'Preço Tabela', 'Desc %', 'Desc R$',\n",
    "       'Valor VDA', 'Preço Unitário', 'Total Geral', 'Custo CUE',\n",
    "       'Margem Bruta R$', 'Custo Capado CUE', 'Total AV', 'PIS R$',\n",
    "       'COFINS R$', 'ICMS R$', 'Verba R$', 'Margem CTB R$', 'Situação',\n",
    "       'Total Geral AV']]"
   ]
  },
  {
   "cell_type": "code",
   "execution_count": 23,
   "id": "e958875b",
   "metadata": {},
   "outputs": [],
   "source": [
    "vendas_df=vendas_df.loc[(vendas_df['Data de Faturamento'].between(data_min,data_max))&(vendas_df['Fabricante'].str.contains('ARYZTA'))]"
   ]
  },
  {
   "cell_type": "code",
   "execution_count": 24,
   "id": "05fb09ee",
   "metadata": {},
   "outputs": [
    {
     "data": {
      "text/plain": [
       "Index(['Origem', 'ID Empresa', 'ID Cliente', 'CNPJ', 'Razão Social',\n",
       "       'Nome Fantasia', 'Segmento', 'Canal', 'ID Vendedor', 'Pedido', 'Nfe',\n",
       "       'Tipo de Pedido', 'Tipo de Operação', 'ID Cadastro', 'Data de Emissão',\n",
       "       'Data de Faturamento', 'Ano', 'Cód. Mês', 'Mês', 'SKU',\n",
       "       'Cód. Fabricante', 'Produto', 'Status', 'Fabricante', 'Departamento',\n",
       "       'Seção', 'Categoria', 'Linha', 'Seq', 'Qtde', 'Unid. VDA', 'Fator VDA',\n",
       "       'Preço Tabela', 'Desc %', 'Desc R$', 'Valor VDA', 'Preço Unitário',\n",
       "       'Total Geral', 'Custo CUE', 'Margem Bruta R$', 'Custo Capado CUE',\n",
       "       'Total AV', 'PIS R$', 'COFINS R$', 'ICMS R$', 'Verba R$',\n",
       "       'Margem CTB R$', 'Situação', 'Total Geral AV'],\n",
       "      dtype='object')"
      ]
     },
     "execution_count": 24,
     "metadata": {},
     "output_type": "execute_result"
    }
   ],
   "source": [
    "vendas_df.columns"
   ]
  },
  {
   "cell_type": "code",
   "execution_count": 25,
   "id": "c79253c7",
   "metadata": {},
   "outputs": [
    {
     "data": {
      "text/plain": [
       "Index(['Data', 'Ano', 'Cód. Mês', 'Mês', 'Mês Resumido', 'Dia', 'Mês Meta',\n",
       "       'Cód. Semana', 'Semana', 'Dias Úteis', 'Trimestre Ano', 'Semestre Ano',\n",
       "       'Semana Ano', 'Mês Base'],\n",
       "      dtype='object')"
      ]
     },
     "execution_count": 25,
     "metadata": {},
     "output_type": "execute_result"
    }
   ],
   "source": [
    "tabela_df['Calendário'].columns"
   ]
  },
  {
   "cell_type": "code",
   "execution_count": 26,
   "id": "7ef5a706",
   "metadata": {},
   "outputs": [],
   "source": [
    "vendas_df=vendas_df[['ID Cliente','Razão Social','Cód. Mês','Segmento','Canal','Total AV']].groupby(['ID Cliente','Razão Social','Cód. Mês','Segmento','Canal'],as_index=False).sum()"
   ]
  },
  {
   "cell_type": "code",
   "execution_count": 27,
   "id": "ff1a2611",
   "metadata": {},
   "outputs": [],
   "source": [
    "if((mes-1)==0):\n",
    "\n",
    "    vendas_df.sort_values('Cód. Mês',ascending=False,inplace=True)\n",
    "    \n",
    "    pass\n",
    "\n",
    "else:\n",
    "    \n",
    "    vendas_df.sort_values('Cód. Mês',ascending=True,inplace=True)\n",
    "    \n",
    "    pass"
   ]
  },
  {
   "cell_type": "code",
   "execution_count": 38,
   "id": "9d200050",
   "metadata": {},
   "outputs": [],
   "source": [
    "mes_df=vendas_df.pivot(index=['ID Cliente','Razão Social','Segmento','Canal'],columns='Cód. Mês',values='Total AV').reset_index()"
   ]
  },
  {
   "cell_type": "code",
   "execution_count": 39,
   "id": "fb97d26b",
   "metadata": {},
   "outputs": [],
   "source": [
    "colunas=mes_df.columns.tolist()\n",
    "\n",
    "for c in colunas[-2:]:\n",
    "    \n",
    "    mes_nome=data.Mes(c)\n",
    "    \n",
    "    mes_df.rename(columns={c:mes_nome.title()},inplace=True)\n",
    "    \n",
    "    pass"
   ]
  },
  {
   "cell_type": "code",
   "execution_count": 40,
   "id": "006395c2",
   "metadata": {
    "scrolled": true
   },
   "outputs": [
    {
     "data": {
      "text/html": [
       "<div>\n",
       "<style scoped>\n",
       "    .dataframe tbody tr th:only-of-type {\n",
       "        vertical-align: middle;\n",
       "    }\n",
       "\n",
       "    .dataframe tbody tr th {\n",
       "        vertical-align: top;\n",
       "    }\n",
       "\n",
       "    .dataframe thead th {\n",
       "        text-align: right;\n",
       "    }\n",
       "</style>\n",
       "<table border=\"1\" class=\"dataframe\">\n",
       "  <thead>\n",
       "    <tr style=\"text-align: right;\">\n",
       "      <th>Cód. Mês</th>\n",
       "      <th>ID Cliente</th>\n",
       "      <th>Razão Social</th>\n",
       "      <th>Segmento</th>\n",
       "      <th>Canal</th>\n",
       "      <th>Maio</th>\n",
       "      <th>Junho</th>\n",
       "    </tr>\n",
       "  </thead>\n",
       "  <tbody>\n",
       "    <tr>\n",
       "      <th>12</th>\n",
       "      <td>13448</td>\n",
       "      <td>COMERCIO DE HORTIFRUTI PINHEIRO LTDA ME</td>\n",
       "      <td>5 A 9 CHK</td>\n",
       "      <td>AS</td>\n",
       "      <td>626.48</td>\n",
       "      <td>NaN</td>\n",
       "    </tr>\n",
       "    <tr>\n",
       "      <th>15</th>\n",
       "      <td>14152</td>\n",
       "      <td>FERREIRA E SILVA OLIVEIRA BAR E LANCHES</td>\n",
       "      <td>BAR/LANCHONETE</td>\n",
       "      <td>FS</td>\n",
       "      <td>28.38</td>\n",
       "      <td>NaN</td>\n",
       "    </tr>\n",
       "    <tr>\n",
       "      <th>16</th>\n",
       "      <td>14950</td>\n",
       "      <td>LITTLE BOY S COM E SER EM MOTOCICLETAS B</td>\n",
       "      <td>RESTAURANTE</td>\n",
       "      <td>FS</td>\n",
       "      <td>100.28</td>\n",
       "      <td>NaN</td>\n",
       "    </tr>\n",
       "    <tr>\n",
       "      <th>17</th>\n",
       "      <td>15378</td>\n",
       "      <td>PADARIA CITY BREAD EIRELI EPP</td>\n",
       "      <td>PADARIA/DELICATÉSSEN</td>\n",
       "      <td>FS</td>\n",
       "      <td>78.70</td>\n",
       "      <td>NaN</td>\n",
       "    </tr>\n",
       "    <tr>\n",
       "      <th>18</th>\n",
       "      <td>15470</td>\n",
       "      <td>BOTECO DO ZOUTROS LTDA EPP</td>\n",
       "      <td>BAR/LANCHONETE</td>\n",
       "      <td>FS</td>\n",
       "      <td>189.20</td>\n",
       "      <td>NaN</td>\n",
       "    </tr>\n",
       "    <tr>\n",
       "      <th>...</th>\n",
       "      <td>...</td>\n",
       "      <td>...</td>\n",
       "      <td>...</td>\n",
       "      <td>...</td>\n",
       "      <td>...</td>\n",
       "      <td>...</td>\n",
       "    </tr>\n",
       "    <tr>\n",
       "      <th>323</th>\n",
       "      <td>27820</td>\n",
       "      <td>LOJAO DO RIC LTDA</td>\n",
       "      <td>1 A 4 CHK</td>\n",
       "      <td>AS</td>\n",
       "      <td>146.20</td>\n",
       "      <td>NaN</td>\n",
       "    </tr>\n",
       "    <tr>\n",
       "      <th>324</th>\n",
       "      <td>27831</td>\n",
       "      <td>JULIANA GOMES RODRIGUES 39439090855</td>\n",
       "      <td>EMPÓRIO</td>\n",
       "      <td>AS</td>\n",
       "      <td>72.73</td>\n",
       "      <td>NaN</td>\n",
       "    </tr>\n",
       "    <tr>\n",
       "      <th>325</th>\n",
       "      <td>27841</td>\n",
       "      <td>M. DAS DORES OLIVEIRA PINHEIRO</td>\n",
       "      <td>1 A 4 CHK</td>\n",
       "      <td>AS</td>\n",
       "      <td>209.76</td>\n",
       "      <td>NaN</td>\n",
       "    </tr>\n",
       "    <tr>\n",
       "      <th>328</th>\n",
       "      <td>27854</td>\n",
       "      <td>JACQUES CAFE ARENA LTDA</td>\n",
       "      <td>CAFETERIA</td>\n",
       "      <td>FS</td>\n",
       "      <td>189.20</td>\n",
       "      <td>NaN</td>\n",
       "    </tr>\n",
       "    <tr>\n",
       "      <th>330</th>\n",
       "      <td>27859</td>\n",
       "      <td>SILVANA JUREMA DE CAMPOS NOVAES 26334870840</td>\n",
       "      <td>SERVIÇOS COMPLEMENTARES</td>\n",
       "      <td>FS</td>\n",
       "      <td>569.20</td>\n",
       "      <td>NaN</td>\n",
       "    </tr>\n",
       "  </tbody>\n",
       "</table>\n",
       "<p>75 rows × 6 columns</p>\n",
       "</div>"
      ],
      "text/plain": [
       "Cód. Mês  ID Cliente                                 Razão Social  \\\n",
       "12             13448      COMERCIO DE HORTIFRUTI PINHEIRO LTDA ME   \n",
       "15             14152     FERREIRA E SILVA OLIVEIRA BAR E LANCHES    \n",
       "16             14950     LITTLE BOY S COM E SER EM MOTOCICLETAS B   \n",
       "17             15378                PADARIA CITY BREAD EIRELI EPP   \n",
       "18             15470                   BOTECO DO ZOUTROS LTDA EPP   \n",
       "..               ...                                          ...   \n",
       "323            27820                            LOJAO DO RIC LTDA   \n",
       "324            27831          JULIANA GOMES RODRIGUES 39439090855   \n",
       "325            27841               M. DAS DORES OLIVEIRA PINHEIRO   \n",
       "328            27854                      JACQUES CAFE ARENA LTDA   \n",
       "330            27859  SILVANA JUREMA DE CAMPOS NOVAES 26334870840   \n",
       "\n",
       "Cód. Mês                 Segmento Canal    Maio  Junho  \n",
       "12                      5 A 9 CHK    AS  626.48    NaN  \n",
       "15                 BAR/LANCHONETE    FS   28.38    NaN  \n",
       "16                    RESTAURANTE    FS  100.28    NaN  \n",
       "17           PADARIA/DELICATÉSSEN    FS   78.70    NaN  \n",
       "18                 BAR/LANCHONETE    FS  189.20    NaN  \n",
       "..                            ...   ...     ...    ...  \n",
       "323                     1 A 4 CHK    AS  146.20    NaN  \n",
       "324                       EMPÓRIO    AS   72.73    NaN  \n",
       "325                     1 A 4 CHK    AS  209.76    NaN  \n",
       "328                     CAFETERIA    FS  189.20    NaN  \n",
       "330       SERVIÇOS COMPLEMENTARES    FS  569.20    NaN  \n",
       "\n",
       "[75 rows x 6 columns]"
      ]
     },
     "execution_count": 40,
     "metadata": {},
     "output_type": "execute_result"
    }
   ],
   "source": [
    "mes_df.loc[mes_df.iloc[:,-1].isnull()]"
   ]
  },
  {
   "cell_type": "code",
   "execution_count": null,
   "id": "b3865d05",
   "metadata": {},
   "outputs": [],
   "source": []
  }
 ],
 "metadata": {
  "kernelspec": {
   "display_name": "Python 3 (ipykernel)",
   "language": "python",
   "name": "python3"
  },
  "language_info": {
   "codemirror_mode": {
    "name": "ipython",
    "version": 3
   },
   "file_extension": ".py",
   "mimetype": "text/x-python",
   "name": "python",
   "nbconvert_exporter": "python",
   "pygments_lexer": "ipython3",
   "version": "3.9.7"
  }
 },
 "nbformat": 4,
 "nbformat_minor": 5
}
