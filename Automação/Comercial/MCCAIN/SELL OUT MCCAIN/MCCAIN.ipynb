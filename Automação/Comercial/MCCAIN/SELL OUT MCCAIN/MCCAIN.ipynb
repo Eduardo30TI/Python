{
 "cells": [
  {
   "cell_type": "code",
   "execution_count": 1,
   "id": "b14ae3f5",
   "metadata": {},
   "outputs": [],
   "source": [
    "from Acesso import Login\n",
    "from Query import Query\n",
    "import pandas as pd\n",
    "\n",
    "s=Login()\n",
    "\n",
    "sql=Query(s.usuario,s.senha,s.database,s.server)\n",
    "\n",
    "pd.set_option('display.max_columns',None)"
   ]
  },
  {
   "cell_type": "code",
   "execution_count": 2,
   "id": "c4981bb7",
   "metadata": {},
   "outputs": [],
   "source": [
    "querys={\n",
    "    \n",
    "    'Estatico':\n",
    "    \n",
    "    \"\"\"\n",
    "    \n",
    "    DECLARE @DTBASE DATETIME,@DTFIM DATETIME,@DTINICIO DATETIME\n",
    "\n",
    "    SET @DTBASE=CONVERT(DATETIME,CAST(GETDATE() AS DATE),101)\n",
    "\n",
    "    SET @DTFIM=@DTBASE\n",
    "\n",
    "    SET @DTINICIO=CONCAT(YEAR(@DTFIM),'-',MONTH(@DTFIM),'-01')\n",
    "\n",
    "    SELECT * FROM netfeira.vw_targetestatico\n",
    "    WHERE [Data de Faturamento] BETWEEN @DTINICIO AND @DTFIM AND [Tipo de Operação]<>'OUTROS'\n",
    "    ORDER BY [Data de Faturamento]\n",
    "    \n",
    "    \"\"\",\n",
    "    \n",
    "    'Aberto':\n",
    "    \n",
    "    \"\"\"\n",
    "    \n",
    "    SELECT * FROM netfeira.vw_aberto\n",
    "    WHERE [Data do Pedido]=CONVERT(DATETIME,CAST(GETDATE() AS DATE),101)  \n",
    "    \n",
    "    \"\"\",\n",
    "    \n",
    "    'Produto':\n",
    "    \n",
    "    \"\"\"\n",
    "    \n",
    "    SELECT * FROM netfeira.vw_produto\n",
    "    WHERE Fabricante LIKE '%MCCAIN%'\n",
    "    \n",
    "    \"\"\",\n",
    "    \n",
    "    'Calendario':\n",
    "    \n",
    "    \"\"\"\n",
    "\n",
    "    SELECT * FROM netfeira.vw_calend\n",
    "    WHERE YEAR([Data])=YEAR(GETDATE()) AND MONTH([Data])=MONTH(GETDATE()) AND [Dia Útil]=1\n",
    "    \n",
    "    \"\"\"\n",
    "    \n",
    "}"
   ]
  },
  {
   "cell_type": "code",
   "execution_count": 3,
   "id": "4a874094",
   "metadata": {},
   "outputs": [],
   "source": [
    "tabelas_df=sql.CriarTabela(kwargs=querys)"
   ]
  },
  {
   "cell_type": "code",
   "execution_count": 4,
   "id": "f4a57715",
   "metadata": {},
   "outputs": [
    {
     "data": {
      "text/html": [
       "<div>\n",
       "<style scoped>\n",
       "    .dataframe tbody tr th:only-of-type {\n",
       "        vertical-align: middle;\n",
       "    }\n",
       "\n",
       "    .dataframe tbody tr th {\n",
       "        vertical-align: top;\n",
       "    }\n",
       "\n",
       "    .dataframe thead th {\n",
       "        text-align: right;\n",
       "    }\n",
       "</style>\n",
       "<table border=\"1\" class=\"dataframe\">\n",
       "  <thead>\n",
       "    <tr style=\"text-align: right;\">\n",
       "      <th></th>\n",
       "      <th>Grupo MCCAIN</th>\n",
       "      <th>Produto</th>\n",
       "      <th>Meta KG</th>\n",
       "    </tr>\n",
       "  </thead>\n",
       "  <tbody>\n",
       "    <tr>\n",
       "      <th>0</th>\n",
       "      <td>MCCAIN FOOD</td>\n",
       "      <td>57</td>\n",
       "      <td>80000.0</td>\n",
       "    </tr>\n",
       "    <tr>\n",
       "      <th>1</th>\n",
       "      <td>MCCAIN VAREJO</td>\n",
       "      <td>27</td>\n",
       "      <td>40000.0</td>\n",
       "    </tr>\n",
       "  </tbody>\n",
       "</table>\n",
       "</div>"
      ],
      "text/plain": [
       "    Grupo MCCAIN  Produto  Meta KG\n",
       "0    MCCAIN FOOD       57  80000.0\n",
       "1  MCCAIN VAREJO       27  40000.0"
      ]
     },
     "execution_count": 4,
     "metadata": {},
     "output_type": "execute_result"
    }
   ],
   "source": [
    "metas_df=pd.DataFrame()\n",
    "\n",
    "metas_df=tabelas_df['Produto'][['Grupo MCCAIN','Produto']].groupby(['Grupo MCCAIN'],as_index=False).count()\n",
    "\n",
    "metas_df.loc[metas_df['Grupo MCCAIN'].str.contains('FOOD'),'Meta KG']=(80*1000)\n",
    "\n",
    "metas_df.loc[metas_df['Grupo MCCAIN'].str.contains('VAREJO'),'Meta KG']=(40*1000)\n",
    "\n",
    "metas_df"
   ]
  },
  {
   "cell_type": "code",
   "execution_count": 5,
   "id": "8a7289a4",
   "metadata": {},
   "outputs": [],
   "source": [
    "vendas_df=pd.DataFrame()\n",
    "\n",
    "vendas_df=tabelas_df['Estatico']"
   ]
  },
  {
   "cell_type": "code",
   "execution_count": 6,
   "id": "e31b11ff",
   "metadata": {},
   "outputs": [],
   "source": [
    "vendas_df=vendas_df[['SKU','Total Venda','Peso Líquido KG','Peso Bruto KG']].groupby(['SKU'],as_index=False).sum()"
   ]
  },
  {
   "cell_type": "code",
   "execution_count": 7,
   "id": "efe510ac",
   "metadata": {},
   "outputs": [
    {
     "data": {
      "text/plain": [
       "Index(['SKU', 'Total Venda', 'Peso Líquido KG', 'Peso Bruto KG'], dtype='object')"
      ]
     },
     "execution_count": 7,
     "metadata": {},
     "output_type": "execute_result"
    }
   ],
   "source": [
    "vendas_df.columns"
   ]
  },
  {
   "cell_type": "code",
   "execution_count": 8,
   "id": "c0ef55ad",
   "metadata": {},
   "outputs": [],
   "source": [
    "vendas_df=vendas_df.merge(tabelas_df['Produto'],on='SKU',how='inner')[['SKU','Produto','Fabricante','Grupo MCCAIN','Categoria','Linha','Total Venda', 'Peso Líquido KG', 'Peso Bruto KG']]"
   ]
  },
  {
   "cell_type": "code",
   "execution_count": 9,
   "id": "1fa797cc",
   "metadata": {},
   "outputs": [],
   "source": [
    "aberto_df=pd.DataFrame()\n",
    "\n",
    "aberto_df=tabelas_df['Aberto'].loc[tabelas_df['Aberto']['Situação']=='AB']"
   ]
  },
  {
   "cell_type": "code",
   "execution_count": 10,
   "id": "53490eee",
   "metadata": {},
   "outputs": [],
   "source": [
    "aberto_df=aberto_df[['SKU','Total Venda','Peso Líquido KG','Peso Bruto KG']].groupby(['SKU'],as_index=False).sum()"
   ]
  },
  {
   "cell_type": "code",
   "execution_count": 11,
   "id": "7c0b2367",
   "metadata": {},
   "outputs": [],
   "source": [
    "aberto_df=aberto_df.merge(tabelas_df['Produto'],on='SKU',how='inner')[['SKU','Produto','Fabricante','Grupo MCCAIN','Categoria','Linha','Total Venda', 'Peso Líquido KG', 'Peso Bruto KG']]"
   ]
  },
  {
   "cell_type": "code",
   "execution_count": 12,
   "id": "1e026dba",
   "metadata": {},
   "outputs": [],
   "source": [
    "dia_df=pd.DataFrame()\n",
    "\n",
    "dia_df=tabelas_df['Aberto']\n",
    "\n",
    "dia_df=dia_df[['SKU','Total Venda','Peso Líquido KG','Peso Bruto KG']].groupby(['SKU'],as_index=False).sum()\n",
    "\n",
    "dia_df=dia_df.merge(tabelas_df['Produto'],on='SKU',how='inner')[['SKU','Produto','Fabricante','Grupo MCCAIN','Categoria','Linha','Total Venda', 'Peso Líquido KG', 'Peso Bruto KG']]"
   ]
  },
  {
   "cell_type": "code",
   "execution_count": 13,
   "id": "d4275deb",
   "metadata": {},
   "outputs": [],
   "source": [
    "metas_df['Faturado KG']=metas_df['Grupo MCCAIN'].apply(lambda info: vendas_df['Peso Líquido KG'].loc[vendas_df['Grupo MCCAIN']==info].sum())"
   ]
  },
  {
   "cell_type": "code",
   "execution_count": 14,
   "id": "9fb7a543",
   "metadata": {},
   "outputs": [],
   "source": [
    "metas_df['Total KG']=metas_df['Grupo MCCAIN'].apply(lambda info: dia_df['Peso Líquido KG'].loc[dia_df['Grupo MCCAIN']==info].sum())"
   ]
  },
  {
   "cell_type": "code",
   "execution_count": 15,
   "id": "7fa30d47",
   "metadata": {},
   "outputs": [],
   "source": [
    "metas_df['Aberto KG']=metas_df['Grupo MCCAIN'].apply(lambda info: aberto_df['Peso Líquido KG'].loc[aberto_df['Grupo MCCAIN']==info].sum())"
   ]
  },
  {
   "cell_type": "code",
   "execution_count": 16,
   "id": "61e924f6",
   "metadata": {},
   "outputs": [],
   "source": [
    "calend_df=pd.DataFrame()\n",
    "\n",
    "calend_df=tabelas_df['Calendario']\n",
    "\n",
    "util=len(calend_df['Data'].unique().tolist())\n",
    "\n",
    "trabalhado=len(calend_df['Data Trabalhada'].loc[~calend_df['Data Trabalhada'].isnull()].unique().tolist())-1\n",
    "\n",
    "restante=util-trabalhado"
   ]
  },
  {
   "cell_type": "code",
   "execution_count": 17,
   "id": "7be001d3",
   "metadata": {},
   "outputs": [],
   "source": [
    "metas_df['Realizado KG']=metas_df['Faturado KG']+metas_df['Aberto KG']"
   ]
  },
  {
   "cell_type": "code",
   "execution_count": 18,
   "id": "f18e5022",
   "metadata": {},
   "outputs": [],
   "source": [
    "metas_df['Projeção KG']=metas_df['Realizado KG'].apply(lambda info: round((info/trabalhado)*util,2))"
   ]
  },
  {
   "cell_type": "code",
   "execution_count": 19,
   "id": "0126396f",
   "metadata": {},
   "outputs": [],
   "source": [
    "metas_df['Meta %']=round(metas_df['Realizado KG']/metas_df['Meta KG'],4)*100"
   ]
  },
  {
   "cell_type": "code",
   "execution_count": 20,
   "id": "67807343",
   "metadata": {},
   "outputs": [],
   "source": [
    "metas_df['Projeção %']=round(metas_df['Projeção KG']/metas_df['Meta KG'],4)*100"
   ]
  },
  {
   "cell_type": "code",
   "execution_count": 21,
   "id": "eafde215",
   "metadata": {},
   "outputs": [],
   "source": [
    "metas_df['Diário KG']=round(metas_df['Meta KG']/util,2)"
   ]
  },
  {
   "cell_type": "code",
   "execution_count": 24,
   "id": "2f092674",
   "metadata": {},
   "outputs": [],
   "source": [
    "metas_df['Diário %']=round(metas_df['Total KG']/metas_df['Diário KG'],4)*100"
   ]
  },
  {
   "cell_type": "code",
   "execution_count": 26,
   "id": "52c5f5df",
   "metadata": {},
   "outputs": [],
   "source": [
    "metas_df['Meta (-)']=metas_df['Realizado KG']-metas_df['Meta KG']"
   ]
  },
  {
   "cell_type": "code",
   "execution_count": 28,
   "id": "01e536d2",
   "metadata": {},
   "outputs": [],
   "source": [
    "metas_df['Diário (-)']=metas_df['Total KG']-metas_df['Diário KG']"
   ]
  },
  {
   "cell_type": "code",
   "execution_count": 30,
   "id": "7065d343",
   "metadata": {},
   "outputs": [],
   "source": [
    "metas_df['Projeção (-)']=metas_df['Projeção KG']-metas_df['Meta KG']"
   ]
  },
  {
   "cell_type": "code",
   "execution_count": 31,
   "id": "4e43c245",
   "metadata": {},
   "outputs": [
    {
     "data": {
      "text/html": [
       "<div>\n",
       "<style scoped>\n",
       "    .dataframe tbody tr th:only-of-type {\n",
       "        vertical-align: middle;\n",
       "    }\n",
       "\n",
       "    .dataframe tbody tr th {\n",
       "        vertical-align: top;\n",
       "    }\n",
       "\n",
       "    .dataframe thead th {\n",
       "        text-align: right;\n",
       "    }\n",
       "</style>\n",
       "<table border=\"1\" class=\"dataframe\">\n",
       "  <thead>\n",
       "    <tr style=\"text-align: right;\">\n",
       "      <th></th>\n",
       "      <th>Grupo MCCAIN</th>\n",
       "      <th>Produto</th>\n",
       "      <th>Meta KG</th>\n",
       "      <th>Faturado KG</th>\n",
       "      <th>Total KG</th>\n",
       "      <th>Aberto KG</th>\n",
       "      <th>Realizado KG</th>\n",
       "      <th>Projeção KG</th>\n",
       "      <th>Meta %</th>\n",
       "      <th>Projeção %</th>\n",
       "      <th>Diário KG</th>\n",
       "      <th>Diário %</th>\n",
       "      <th>Meta (-)</th>\n",
       "      <th>Diário (-)</th>\n",
       "      <th>Projeção (-)</th>\n",
       "    </tr>\n",
       "  </thead>\n",
       "  <tbody>\n",
       "    <tr>\n",
       "      <th>0</th>\n",
       "      <td>MCCAIN FOOD</td>\n",
       "      <td>57</td>\n",
       "      <td>80000.0</td>\n",
       "      <td>28255.27</td>\n",
       "      <td>130.00</td>\n",
       "      <td>130.00</td>\n",
       "      <td>28385.27</td>\n",
       "      <td>49674.22</td>\n",
       "      <td>35.48</td>\n",
       "      <td>62.09</td>\n",
       "      <td>3809.52</td>\n",
       "      <td>3.41</td>\n",
       "      <td>-51614.73</td>\n",
       "      <td>-3679.52</td>\n",
       "      <td>-30325.78</td>\n",
       "    </tr>\n",
       "    <tr>\n",
       "      <th>1</th>\n",
       "      <td>MCCAIN VAREJO</td>\n",
       "      <td>27</td>\n",
       "      <td>40000.0</td>\n",
       "      <td>18229.66</td>\n",
       "      <td>242.24</td>\n",
       "      <td>242.24</td>\n",
       "      <td>18471.90</td>\n",
       "      <td>32325.83</td>\n",
       "      <td>46.18</td>\n",
       "      <td>80.81</td>\n",
       "      <td>1904.76</td>\n",
       "      <td>12.72</td>\n",
       "      <td>-21528.10</td>\n",
       "      <td>-1662.52</td>\n",
       "      <td>-7674.17</td>\n",
       "    </tr>\n",
       "  </tbody>\n",
       "</table>\n",
       "</div>"
      ],
      "text/plain": [
       "    Grupo MCCAIN  Produto  Meta KG  Faturado KG  Total KG  Aberto KG  \\\n",
       "0    MCCAIN FOOD       57  80000.0     28255.27    130.00     130.00   \n",
       "1  MCCAIN VAREJO       27  40000.0     18229.66    242.24     242.24   \n",
       "\n",
       "   Realizado KG  Projeção KG  Meta %  Projeção %  Diário KG  Diário %  \\\n",
       "0      28385.27     49674.22   35.48       62.09    3809.52      3.41   \n",
       "1      18471.90     32325.83   46.18       80.81    1904.76     12.72   \n",
       "\n",
       "   Meta (-)  Diário (-)  Projeção (-)  \n",
       "0 -51614.73    -3679.52     -30325.78  \n",
       "1 -21528.10    -1662.52      -7674.17  "
      ]
     },
     "execution_count": 31,
     "metadata": {},
     "output_type": "execute_result"
    }
   ],
   "source": [
    "metas_df"
   ]
  },
  {
   "cell_type": "code",
   "execution_count": null,
   "id": "679f4c4b",
   "metadata": {},
   "outputs": [],
   "source": []
  }
 ],
 "metadata": {
  "kernelspec": {
   "display_name": "Python 3 (ipykernel)",
   "language": "python",
   "name": "python3"
  },
  "language_info": {
   "codemirror_mode": {
    "name": "ipython",
    "version": 3
   },
   "file_extension": ".py",
   "mimetype": "text/x-python",
   "name": "python",
   "nbconvert_exporter": "python",
   "pygments_lexer": "ipython3",
   "version": "3.9.7"
  }
 },
 "nbformat": 4,
 "nbformat_minor": 5
}
