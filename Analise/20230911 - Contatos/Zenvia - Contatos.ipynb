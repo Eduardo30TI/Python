{
 "cells": [
  {
   "cell_type": "code",
   "execution_count": 14,
   "id": "1f799ee8",
   "metadata": {},
   "outputs": [],
   "source": [
    "import pandas as pd\n",
    "from glob import glob"
   ]
  },
  {
   "cell_type": "code",
   "execution_count": 15,
   "id": "44c8ef8d",
   "metadata": {},
   "outputs": [],
   "source": [
    "arq=glob('*.csv*')"
   ]
  },
  {
   "cell_type": "code",
   "execution_count": 16,
   "id": "0b217c72",
   "metadata": {},
   "outputs": [
    {
     "data": {
      "text/plain": [
       "['Arq 1.csv', 'Arq 2.csv', 'contacts.csv']"
      ]
     },
     "execution_count": 16,
     "metadata": {},
     "output_type": "execute_result"
    }
   ],
   "source": [
    "arq"
   ]
  },
  {
   "cell_type": "code",
   "execution_count": 17,
   "id": "c347cfc8",
   "metadata": {},
   "outputs": [],
   "source": [
    "df=pd.read_csv(arq[-1],encoding='UTF-8')"
   ]
  },
  {
   "cell_type": "code",
   "execution_count": 18,
   "id": "5a569e7d",
   "metadata": {},
   "outputs": [
    {
     "data": {
      "text/plain": [
       "Index(['Name', 'Given Name', 'Additional Name', 'Family Name', 'Yomi Name',\n",
       "       'Given Name Yomi', 'Additional Name Yomi', 'Family Name Yomi',\n",
       "       'Name Prefix', 'Name Suffix', 'Initials', 'Nickname', 'Short Name',\n",
       "       'Maiden Name', 'Birthday', 'Gender', 'Location', 'Billing Information',\n",
       "       'Directory Server', 'Mileage', 'Occupation', 'Hobby', 'Sensitivity',\n",
       "       'Priority', 'Subject', 'Notes', 'Language', 'Photo', 'Group Membership',\n",
       "       'Phone 1 - Type', 'Phone 1 - Value', 'Phone 2 - Type',\n",
       "       'Phone 2 - Value', 'Organization 1 - Type', 'Organization 1 - Name',\n",
       "       'Organization 1 - Yomi Name', 'Organization 1 - Title',\n",
       "       'Organization 1 - Department', 'Organization 1 - Symbol',\n",
       "       'Organization 1 - Location', 'Organization 1 - Job Description'],\n",
       "      dtype='object')"
      ]
     },
     "execution_count": 18,
     "metadata": {},
     "output_type": "execute_result"
    }
   ],
   "source": [
    "df.columns"
   ]
  },
  {
   "cell_type": "code",
   "execution_count": 19,
   "id": "3ce1becc",
   "metadata": {},
   "outputs": [
    {
     "data": {
      "text/plain": [
       "['Name', 'Phone 1 - Value', 'Phone 2 - Value']"
      ]
     },
     "execution_count": 19,
     "metadata": {},
     "output_type": "execute_result"
    }
   ],
   "source": [
    "colunas=[l for l in df.columns.tolist() if str(l).find('Value')>=0]\n",
    "\n",
    "colunas.append('Name')\n",
    "\n",
    "colunas.sort()\n",
    "\n",
    "colunas"
   ]
  },
  {
   "cell_type": "code",
   "execution_count": 20,
   "id": "fd9e6465",
   "metadata": {},
   "outputs": [],
   "source": [
    "df=df[colunas].loc[df['Name'].notnull()]"
   ]
  },
  {
   "cell_type": "code",
   "execution_count": 21,
   "id": "1914b334",
   "metadata": {},
   "outputs": [],
   "source": [
    "def contatos(val):\n",
    "    \n",
    "    val=str(val)\n",
    "    \n",
    "    for r in ['-',':']:\n",
    "        \n",
    "        val=val.replace(r,'')\n",
    "        \n",
    "        pass\n",
    "    \n",
    "    val=val.split()\n",
    "    \n",
    "    return val\n",
    "    \n",
    "    pass"
   ]
  },
  {
   "cell_type": "code",
   "execution_count": 22,
   "id": "544fe95f",
   "metadata": {},
   "outputs": [],
   "source": [
    "def telefone(val):\n",
    "    \n",
    "    val=str(val)\n",
    "    \n",
    "    for r in ['+','55']:\n",
    "        \n",
    "        val=val.replace(r,'')\n",
    "        \n",
    "        pass\n",
    "    \n",
    "    if len(val)!=11:\n",
    "        \n",
    "        val=f'11{val}'\n",
    "        \n",
    "        pass\n",
    "            \n",
    "    return val\n",
    "    \n",
    "    pass"
   ]
  },
  {
   "cell_type": "code",
   "execution_count": 23,
   "id": "b140f180",
   "metadata": {},
   "outputs": [
    {
     "data": {
      "text/plain": [
       "['Phone 1 - Value', 'Phone 2 - Value']"
      ]
     },
     "execution_count": 23,
     "metadata": {},
     "output_type": "execute_result"
    }
   ],
   "source": [
    "colunas=[l for l in df.columns.tolist() if str(l).find('Phone')>=0]\n",
    "\n",
    "colunas"
   ]
  },
  {
   "cell_type": "code",
   "execution_count": 24,
   "id": "2acdb291",
   "metadata": {},
   "outputs": [],
   "source": [
    "temp=[]\n",
    "\n",
    "temp_df=pd.DataFrame(columns=['nome','sobrenome','email','telefone','interesse','comentário'])\n",
    "\n",
    "for i in df.index.tolist():\n",
    "            \n",
    "    name=df.loc[i,'Name']\n",
    "    \n",
    "    for c in colunas:\n",
    "        \n",
    "        val=df.loc[i,c]\n",
    "        \n",
    "        lista=contatos(val)\n",
    "        \n",
    "        for l in lista:\n",
    "            \n",
    "            val=telefone(l)\n",
    "            \n",
    "            if val==None:\n",
    "                \n",
    "                continue\n",
    "                \n",
    "            if val in temp:\n",
    "                \n",
    "                continue\n",
    "                \n",
    "            temp.append(val)\n",
    "                        \n",
    "            temp_df.loc[len(temp_df)]=[name,'','net@demarchibrasil.com.br',val,'','']\n",
    "                                  \n",
    "            pass\n",
    "        \n",
    "        pass\n",
    "    \n",
    "    #break\n",
    "    \n",
    "    pass"
   ]
  },
  {
   "cell_type": "code",
   "execution_count": 26,
   "id": "5f91edde",
   "metadata": {},
   "outputs": [],
   "source": [
    "temp_df['Caracteres']=temp_df['telefone'].apply(lambda info: len(info))"
   ]
  },
  {
   "cell_type": "code",
   "execution_count": 27,
   "id": "ac32cacb",
   "metadata": {},
   "outputs": [],
   "source": [
    "temp_df=temp_df.loc[temp_df['Caracteres']==11]"
   ]
  },
  {
   "cell_type": "code",
   "execution_count": 28,
   "id": "1aa2827b",
   "metadata": {},
   "outputs": [
    {
     "data": {
      "text/plain": [
       "2"
      ]
     },
     "execution_count": 28,
     "metadata": {},
     "output_type": "execute_result"
    }
   ],
   "source": [
    "row=len(temp_df)\n",
    "\n",
    "val=str(round(row/1000,1))\n",
    "\n",
    "ponto=val.find('.')\n",
    "\n",
    "ponto+=int(val[0])\n",
    "\n",
    "ponto"
   ]
  },
  {
   "cell_type": "code",
   "execution_count": 29,
   "id": "3c5de9c7",
   "metadata": {},
   "outputs": [
    {
     "name": "stdout",
     "output_type": "stream",
     "text": [
      "Arquivo gerado com sucesso\n"
     ]
    }
   ],
   "source": [
    "temp=[]\n",
    "\n",
    "ind_max=0\n",
    "\n",
    "for p in range(0,ponto):\n",
    "                \n",
    "    if ind_max in temp:\n",
    "        \n",
    "        ind_min=temp[-1]+1\n",
    "        ind_max=temp_df.loc[ind_min:].head(1000).index.max()\n",
    "        \n",
    "        temp_df.loc[ind_min:ind_max].to_csv(f'Arq {p+1}.csv',index=False)\n",
    "        \n",
    "        pass\n",
    "    \n",
    "    else:\n",
    "        \n",
    "        ind_min=temp_df.head(1000).index.min()\n",
    "        ind_max=temp_df.head(1000).index.max()\n",
    "                        \n",
    "        temp_df.loc[temp_df.index<=ind_max].to_csv(f'Arq {p+1}.csv',index=False)\n",
    "        \n",
    "        pass\n",
    "    \n",
    "    temp.append(ind_max)\n",
    "    \n",
    "    #display(temp_df.loc[temp_df.index<=temp[-1]])\n",
    "    \n",
    "    #break\n",
    "    \n",
    "    pass\n",
    "\n",
    "print('Arquivo gerado com sucesso')"
   ]
  },
  {
   "cell_type": "code",
   "execution_count": null,
   "id": "19371333",
   "metadata": {},
   "outputs": [],
   "source": []
  }
 ],
 "metadata": {
  "kernelspec": {
   "display_name": "Python 3 (ipykernel)",
   "language": "python",
   "name": "python3"
  },
  "language_info": {
   "codemirror_mode": {
    "name": "ipython",
    "version": 3
   },
   "file_extension": ".py",
   "mimetype": "text/x-python",
   "name": "python",
   "nbconvert_exporter": "python",
   "pygments_lexer": "ipython3",
   "version": "3.9.7"
  }
 },
 "nbformat": 4,
 "nbformat_minor": 5
}
