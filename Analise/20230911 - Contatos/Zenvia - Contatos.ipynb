{
 "cells": [
  {
   "cell_type": "code",
   "execution_count": 37,
   "id": "1f799ee8",
   "metadata": {},
   "outputs": [],
   "source": [
    "import pandas as pd\n",
    "from glob import glob"
   ]
  },
  {
   "cell_type": "code",
   "execution_count": 38,
   "id": "44c8ef8d",
   "metadata": {},
   "outputs": [],
   "source": [
    "arq=glob('*.csv*')"
   ]
  },
  {
   "cell_type": "code",
   "execution_count": 39,
   "id": "0b217c72",
   "metadata": {},
   "outputs": [
    {
     "data": {
      "text/plain": [
       "['contacts.csv']"
      ]
     },
     "execution_count": 39,
     "metadata": {},
     "output_type": "execute_result"
    }
   ],
   "source": [
    "arq"
   ]
  },
  {
   "cell_type": "code",
   "execution_count": 40,
   "id": "c347cfc8",
   "metadata": {},
   "outputs": [],
   "source": [
    "df=pd.read_csv(arq[-1],encoding='UTF-8')"
   ]
  },
  {
   "cell_type": "code",
   "execution_count": 41,
   "id": "5a569e7d",
   "metadata": {},
   "outputs": [
    {
     "data": {
      "text/plain": [
       "Index(['Name', 'Given Name', 'Additional Name', 'Family Name', 'Yomi Name',\n",
       "       'Given Name Yomi', 'Additional Name Yomi', 'Family Name Yomi',\n",
       "       'Name Prefix', 'Name Suffix', 'Initials', 'Nickname', 'Short Name',\n",
       "       'Maiden Name', 'Birthday', 'Gender', 'Location', 'Billing Information',\n",
       "       'Directory Server', 'Mileage', 'Occupation', 'Hobby', 'Sensitivity',\n",
       "       'Priority', 'Subject', 'Notes', 'Language', 'Photo', 'Group Membership',\n",
       "       'Phone 1 - Type', 'Phone 1 - Value', 'Phone 2 - Type',\n",
       "       'Phone 2 - Value', 'Organization 1 - Type', 'Organization 1 - Name',\n",
       "       'Organization 1 - Yomi Name', 'Organization 1 - Title',\n",
       "       'Organization 1 - Department', 'Organization 1 - Symbol',\n",
       "       'Organization 1 - Location', 'Organization 1 - Job Description'],\n",
       "      dtype='object')"
      ]
     },
     "execution_count": 41,
     "metadata": {},
     "output_type": "execute_result"
    }
   ],
   "source": [
    "df.columns"
   ]
  },
  {
   "cell_type": "code",
   "execution_count": 42,
   "id": "3ce1becc",
   "metadata": {},
   "outputs": [
    {
     "data": {
      "text/plain": [
       "['Name', 'Phone 1 - Value', 'Phone 2 - Value']"
      ]
     },
     "execution_count": 42,
     "metadata": {},
     "output_type": "execute_result"
    }
   ],
   "source": [
    "colunas=[l for l in df.columns.tolist() if str(l).find('Value')>=0]\n",
    "\n",
    "colunas.append('Name')\n",
    "\n",
    "colunas.sort()\n",
    "\n",
    "colunas"
   ]
  },
  {
   "cell_type": "code",
   "execution_count": 43,
   "id": "fd9e6465",
   "metadata": {},
   "outputs": [],
   "source": [
    "df=df[colunas].loc[df['Name'].notnull()]"
   ]
  },
  {
   "cell_type": "code",
   "execution_count": 44,
   "id": "1914b334",
   "metadata": {},
   "outputs": [],
   "source": [
    "def contatos(val):\n",
    "    \n",
    "    val=str(val)\n",
    "    \n",
    "    for r in ['-',':']:\n",
    "        \n",
    "        val=val.replace(r,'')\n",
    "        \n",
    "        pass\n",
    "    \n",
    "    val=val.split()\n",
    "    \n",
    "    return val\n",
    "    \n",
    "    pass"
   ]
  },
  {
   "cell_type": "code",
   "execution_count": 45,
   "id": "544fe95f",
   "metadata": {},
   "outputs": [],
   "source": [
    "def telefone(val):\n",
    "    \n",
    "    val=str(val)\n",
    "    \n",
    "    for r in ['+','55']:\n",
    "        \n",
    "        val=val.replace(r,'')\n",
    "        \n",
    "        pass\n",
    "    \n",
    "    if len(val)!=11:\n",
    "        \n",
    "        val=f'11{val}'\n",
    "        \n",
    "        pass\n",
    "            \n",
    "    return val\n",
    "    \n",
    "    pass"
   ]
  },
  {
   "cell_type": "code",
   "execution_count": 46,
   "id": "b140f180",
   "metadata": {},
   "outputs": [
    {
     "data": {
      "text/plain": [
       "['Phone 1 - Value', 'Phone 2 - Value']"
      ]
     },
     "execution_count": 46,
     "metadata": {},
     "output_type": "execute_result"
    }
   ],
   "source": [
    "colunas=[l for l in df.columns.tolist() if str(l).find('Phone')>=0]\n",
    "\n",
    "colunas"
   ]
  },
  {
   "cell_type": "code",
   "execution_count": 48,
   "id": "2acdb291",
   "metadata": {},
   "outputs": [],
   "source": [
    "temp=[]\n",
    "\n",
    "temp_df=pd.DataFrame(columns=['Nome','Telefone'])\n",
    "\n",
    "for i in df.index.tolist():\n",
    "            \n",
    "    name=df.loc[i,'Name']\n",
    "    \n",
    "    for c in colunas:\n",
    "        \n",
    "        val=df.loc[i,c]\n",
    "        \n",
    "        lista=contatos(val)\n",
    "        \n",
    "        for l in lista:\n",
    "            \n",
    "            val=telefone(l)\n",
    "            \n",
    "            if val==None:\n",
    "                \n",
    "                continue\n",
    "                \n",
    "            if val in temp:\n",
    "                \n",
    "                continue\n",
    "                \n",
    "            temp.append(val)\n",
    "                        \n",
    "            temp_df.loc[len(temp_df)]=[name,val]\n",
    "                                  \n",
    "            pass\n",
    "        \n",
    "        pass\n",
    "    \n",
    "    #break\n",
    "    \n",
    "    pass"
   ]
  },
  {
   "cell_type": "code",
   "execution_count": 52,
   "id": "5f91edde",
   "metadata": {},
   "outputs": [],
   "source": [
    "temp_df['Caracteres']=temp_df['Telefone'].apply(lambda info: len(info))"
   ]
  },
  {
   "cell_type": "code",
   "execution_count": 55,
   "id": "ac32cacb",
   "metadata": {},
   "outputs": [],
   "source": [
    "temp_df=temp_df.loc[temp_df['Caracteres']==11]"
   ]
  },
  {
   "cell_type": "code",
   "execution_count": 72,
   "id": "1aa2827b",
   "metadata": {},
   "outputs": [
    {
     "data": {
      "text/plain": [
       "2"
      ]
     },
     "execution_count": 72,
     "metadata": {},
     "output_type": "execute_result"
    }
   ],
   "source": [
    "row=len(temp_df)\n",
    "\n",
    "val=str(round(row/1000,1))\n",
    "\n",
    "ponto=val.find('.')\n",
    "\n",
    "ponto+=int(val[0])\n",
    "\n",
    "ponto"
   ]
  },
  {
   "cell_type": "code",
   "execution_count": 111,
   "id": "3c5de9c7",
   "metadata": {},
   "outputs": [
    {
     "data": {
      "text/html": [
       "<div>\n",
       "<style scoped>\n",
       "    .dataframe tbody tr th:only-of-type {\n",
       "        vertical-align: middle;\n",
       "    }\n",
       "\n",
       "    .dataframe tbody tr th {\n",
       "        vertical-align: top;\n",
       "    }\n",
       "\n",
       "    .dataframe thead th {\n",
       "        text-align: right;\n",
       "    }\n",
       "</style>\n",
       "<table border=\"1\" class=\"dataframe\">\n",
       "  <thead>\n",
       "    <tr style=\"text-align: right;\">\n",
       "      <th></th>\n",
       "      <th>Nome</th>\n",
       "      <th>Telefone</th>\n",
       "      <th>Caracteres</th>\n",
       "    </tr>\n",
       "  </thead>\n",
       "  <tbody>\n",
       "    <tr>\n",
       "      <th>0</th>\n",
       "      <td>(91) 99601-4281</td>\n",
       "      <td>91996014281</td>\n",
       "      <td>11</td>\n",
       "    </tr>\n",
       "    <tr>\n",
       "      <th>2</th>\n",
       "      <td>00923148000106</td>\n",
       "      <td>11981861162</td>\n",
       "      <td>11</td>\n",
       "    </tr>\n",
       "    <tr>\n",
       "      <th>3</th>\n",
       "      <td>10524 Prospecçao Mayra</td>\n",
       "      <td>11940233856</td>\n",
       "      <td>11</td>\n",
       "    </tr>\n",
       "    <tr>\n",
       "      <th>5</th>\n",
       "      <td>109 Lanches / Chris</td>\n",
       "      <td>11970119760</td>\n",
       "      <td>11</td>\n",
       "    </tr>\n",
       "    <tr>\n",
       "      <th>6</th>\n",
       "      <td>10938</td>\n",
       "      <td>11984338324</td>\n",
       "      <td>11</td>\n",
       "    </tr>\n",
       "    <tr>\n",
       "      <th>...</th>\n",
       "      <td>...</td>\n",
       "      <td>...</td>\n",
       "      <td>...</td>\n",
       "    </tr>\n",
       "    <tr>\n",
       "      <th>1110</th>\n",
       "      <td>Pamonharia Dona Ziza</td>\n",
       "      <td>11945191804</td>\n",
       "      <td>11</td>\n",
       "    </tr>\n",
       "    <tr>\n",
       "      <th>1111</th>\n",
       "      <td>Panelao Prospecçao Mayra</td>\n",
       "      <td>11119402836</td>\n",
       "      <td>11</td>\n",
       "    </tr>\n",
       "    <tr>\n",
       "      <th>1112</th>\n",
       "      <td>Panificadora Bela Vista Prospecçao Mayra</td>\n",
       "      <td>11969806898</td>\n",
       "      <td>11</td>\n",
       "    </tr>\n",
       "    <tr>\n",
       "      <th>1113</th>\n",
       "      <td>Paparicos</td>\n",
       "      <td>11981860404</td>\n",
       "      <td>11</td>\n",
       "    </tr>\n",
       "    <tr>\n",
       "      <th>1115</th>\n",
       "      <td>Parati Prospecçao Mayra</td>\n",
       "      <td>11950018425</td>\n",
       "      <td>11</td>\n",
       "    </tr>\n",
       "  </tbody>\n",
       "</table>\n",
       "<p>1000 rows × 3 columns</p>\n",
       "</div>"
      ],
      "text/plain": [
       "                                          Nome     Telefone  Caracteres\n",
       "0                              (91) 99601-4281  91996014281          11\n",
       "2                               00923148000106  11981861162          11\n",
       "3                       10524 Prospecçao Mayra  11940233856          11\n",
       "5                          109 Lanches / Chris  11970119760          11\n",
       "6                                        10938  11984338324          11\n",
       "...                                        ...          ...         ...\n",
       "1110                      Pamonharia Dona Ziza  11945191804          11\n",
       "1111                  Panelao Prospecçao Mayra  11119402836          11\n",
       "1112  Panificadora Bela Vista Prospecçao Mayra  11969806898          11\n",
       "1113                                 Paparicos  11981860404          11\n",
       "1115                   Parati Prospecçao Mayra  11950018425          11\n",
       "\n",
       "[1000 rows x 3 columns]"
      ]
     },
     "metadata": {},
     "output_type": "display_data"
    },
    {
     "data": {
      "text/html": [
       "<div>\n",
       "<style scoped>\n",
       "    .dataframe tbody tr th:only-of-type {\n",
       "        vertical-align: middle;\n",
       "    }\n",
       "\n",
       "    .dataframe tbody tr th {\n",
       "        vertical-align: top;\n",
       "    }\n",
       "\n",
       "    .dataframe thead th {\n",
       "        text-align: right;\n",
       "    }\n",
       "</style>\n",
       "<table border=\"1\" class=\"dataframe\">\n",
       "  <thead>\n",
       "    <tr style=\"text-align: right;\">\n",
       "      <th></th>\n",
       "      <th>Nome</th>\n",
       "      <th>Telefone</th>\n",
       "      <th>Caracteres</th>\n",
       "    </tr>\n",
       "  </thead>\n",
       "  <tbody>\n",
       "    <tr>\n",
       "      <th>1116</th>\n",
       "      <td>Parece</td>\n",
       "      <td>11981414975</td>\n",
       "      <td>11</td>\n",
       "    </tr>\n",
       "    <tr>\n",
       "      <th>1118</th>\n",
       "      <td>Parmegio</td>\n",
       "      <td>11971022256</td>\n",
       "      <td>11</td>\n",
       "    </tr>\n",
       "    <tr>\n",
       "      <th>1119</th>\n",
       "      <td>Parque Wetn Wid</td>\n",
       "      <td>11943657654</td>\n",
       "      <td>11</td>\n",
       "    </tr>\n",
       "    <tr>\n",
       "      <th>1120</th>\n",
       "      <td>Pasteko</td>\n",
       "      <td>11978690505</td>\n",
       "      <td>11</td>\n",
       "    </tr>\n",
       "    <tr>\n",
       "      <th>1121</th>\n",
       "      <td>Patricia</td>\n",
       "      <td>11940361064</td>\n",
       "      <td>11</td>\n",
       "    </tr>\n",
       "    <tr>\n",
       "      <th>...</th>\n",
       "      <td>...</td>\n",
       "      <td>...</td>\n",
       "      <td>...</td>\n",
       "    </tr>\n",
       "    <tr>\n",
       "      <th>1401</th>\n",
       "      <td>Wilson 28579</td>\n",
       "      <td>11956545869</td>\n",
       "      <td>11</td>\n",
       "    </tr>\n",
       "    <tr>\n",
       "      <th>1402</th>\n",
       "      <td>Yanca</td>\n",
       "      <td>11998943581</td>\n",
       "      <td>11</td>\n",
       "    </tr>\n",
       "    <tr>\n",
       "      <th>1403</th>\n",
       "      <td>Yara 26642</td>\n",
       "      <td>11973812335</td>\n",
       "      <td>11</td>\n",
       "    </tr>\n",
       "    <tr>\n",
       "      <th>1406</th>\n",
       "      <td>Yoçanda Fabrica Dos Bolos</td>\n",
       "      <td>11970439793</td>\n",
       "      <td>11</td>\n",
       "    </tr>\n",
       "    <tr>\n",
       "      <th>1407</th>\n",
       "      <td>Young</td>\n",
       "      <td>11972673384</td>\n",
       "      <td>11</td>\n",
       "    </tr>\n",
       "  </tbody>\n",
       "</table>\n",
       "<p>250 rows × 3 columns</p>\n",
       "</div>"
      ],
      "text/plain": [
       "                           Nome     Telefone  Caracteres\n",
       "1116                     Parece  11981414975          11\n",
       "1118                   Parmegio  11971022256          11\n",
       "1119            Parque Wetn Wid  11943657654          11\n",
       "1120                    Pasteko  11978690505          11\n",
       "1121                   Patricia  11940361064          11\n",
       "...                         ...          ...         ...\n",
       "1401               Wilson 28579  11956545869          11\n",
       "1402                      Yanca  11998943581          11\n",
       "1403                 Yara 26642  11973812335          11\n",
       "1406  Yoçanda Fabrica Dos Bolos  11970439793          11\n",
       "1407                      Young  11972673384          11\n",
       "\n",
       "[250 rows x 3 columns]"
      ]
     },
     "metadata": {},
     "output_type": "display_data"
    }
   ],
   "source": [
    "temp=[]\n",
    "\n",
    "ind_max=0\n",
    "\n",
    "for p in range(0,ponto):\n",
    "                \n",
    "    if ind_max in temp:\n",
    "        \n",
    "        ind_min=temp[-1]+1\n",
    "        ind_max=temp_df.loc[ind_min:].head(1000).index.max()\n",
    "        \n",
    "        temp_df.loc[ind_min:ind_max].to_csv(f'Arq {p+1}.csv',index=False)\n",
    "        \n",
    "        pass\n",
    "    \n",
    "    else:\n",
    "        \n",
    "        ind_min=temp_df.head(1000).index.min()\n",
    "        ind_max=temp_df.head(1000).index.max()\n",
    "                        \n",
    "        temp_df.loc[temp_df.index<=ind_max].to_csv(f'Arq {p+1}.csv',index=False)\n",
    "        \n",
    "        pass\n",
    "    \n",
    "    temp.append(ind_max)\n",
    "    \n",
    "    #display(temp_df.loc[temp_df.index<=temp[-1]])\n",
    "    \n",
    "    #break\n",
    "    \n",
    "    pass"
   ]
  },
  {
   "cell_type": "code",
   "execution_count": null,
   "id": "19371333",
   "metadata": {},
   "outputs": [],
   "source": []
  }
 ],
 "metadata": {
  "kernelspec": {
   "display_name": "Python 3 (ipykernel)",
   "language": "python",
   "name": "python3"
  },
  "language_info": {
   "codemirror_mode": {
    "name": "ipython",
    "version": 3
   },
   "file_extension": ".py",
   "mimetype": "text/x-python",
   "name": "python",
   "nbconvert_exporter": "python",
   "pygments_lexer": "ipython3",
   "version": "3.9.7"
  }
 },
 "nbformat": 4,
 "nbformat_minor": 5
}
