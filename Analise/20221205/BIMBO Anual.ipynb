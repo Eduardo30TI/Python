{
 "cells": [
  {
   "cell_type": "code",
   "execution_count": 1,
   "id": "cb347ad0",
   "metadata": {},
   "outputs": [],
   "source": [
    "from Acesso import Login\n",
    "from Query import Query\n",
    "import pandas as pd\n",
    "\n",
    "s=Login()\n",
    "\n",
    "sql=Query(s.usuario,s.senha,s.database,s.server)\n",
    "\n",
    "pd.set_option('display.max_columns',None)\n"
   ]
  },
  {
   "cell_type": "code",
   "execution_count": 2,
   "id": "438e15d2",
   "metadata": {},
   "outputs": [],
   "source": [
    "querys={\n",
    "    \n",
    "    'Dados':\n",
    "    \n",
    "    \"\"\"\n",
    "    \n",
    "    SELECT cli.CNPJ,cli.Endereço,cli.Município,cli.UF,\n",
    "    Produto,\n",
    "    CONVERT(DECIMAL(15,2),COALESCE([Total Geral]/NULLIF(Qtde,0),0)) AS [Valor VDA],Qtde,\n",
    "    CONVERT(INT,Qtde/NULLIF([Fator CX],0)) AS [Caixas],\n",
    "    CHOOSE(Mês,'JANEIRO','FEVEREIRO','MARÇO','ABRIL','MAIO','JUNHO','JULHO','AGOSTO','SETEMBRO','OUTUBRO','NOVEMBRO','DEZEMBRO') AS 'Mês',\n",
    "    [Ano]\n",
    "    FROM (\n",
    "\n",
    "        SELECT ped.[ID Cliente],ped.SKU,prod.Produto,prod.[Fator CX],\n",
    "        SUM(ped.Qtde) AS [Qtde],sum([Total Geral]) AS [Total Geral],\n",
    "        MONTH([Data de Faturamento]) AS [Mês],YEAR([Data de Faturamento]) AS [Ano]\n",
    "        FROM netfeira.vw_targetestatico ped\n",
    "        INNER JOIN netfeira.vw_produto prod ON ped.SKU=prod.SKU AND prod.Fabricante='BIMBO'\n",
    "        WHERE ped.[Data de Faturamento] BETWEEN '2022-01-01' AND '2022-11-30' AND [Tipo de Operação]<>'OUTROS'\n",
    "        GROUP BY ped.[ID Cliente],ped.SKU,prod.Produto,prod.[Fator CX],MONTH([Data de Faturamento]),\n",
    "        YEAR([Data de Faturamento])\n",
    "\n",
    "    )ev\n",
    "    INNER JOIN netfeira.vw_cliente cli ON ev.[ID Cliente]=cli.[ID Cliente]\n",
    "    \n",
    "    \"\"\"\n",
    "    \n",
    "}"
   ]
  },
  {
   "cell_type": "code",
   "execution_count": 3,
   "id": "3ba4e390",
   "metadata": {},
   "outputs": [],
   "source": [
    "df=sql.CriarTabela(kwargs=querys)"
   ]
  },
  {
   "cell_type": "code",
   "execution_count": null,
   "id": "58497186",
   "metadata": {},
   "outputs": [],
   "source": []
  },
  {
   "cell_type": "code",
   "execution_count": 4,
   "id": "c6afb080",
   "metadata": {},
   "outputs": [],
   "source": [
    "df['Dados'].to_excel('Consolidado.xlsx',index=False,encoding='UTF-8')"
   ]
  },
  {
   "cell_type": "code",
   "execution_count": null,
   "id": "2da96513",
   "metadata": {},
   "outputs": [],
   "source": []
  }
 ],
 "metadata": {
  "kernelspec": {
   "display_name": "Python 3 (ipykernel)",
   "language": "python",
   "name": "python3"
  },
  "language_info": {
   "codemirror_mode": {
    "name": "ipython",
    "version": 3
   },
   "file_extension": ".py",
   "mimetype": "text/x-python",
   "name": "python",
   "nbconvert_exporter": "python",
   "pygments_lexer": "ipython3",
   "version": "3.9.7"
  }
 },
 "nbformat": 4,
 "nbformat_minor": 5
}
