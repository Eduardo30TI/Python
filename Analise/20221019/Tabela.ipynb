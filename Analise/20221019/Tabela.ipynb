{
 "cells": [
  {
   "cell_type": "code",
   "execution_count": 1,
   "id": "a0174b1a",
   "metadata": {},
   "outputs": [],
   "source": [
    "import pandas as pd\n",
    "from Acesso import Login\n",
    "from Query import Query\n",
    "from glob import glob\n",
    "\n",
    "s=Login()\n",
    "\n",
    "sql=Query(s.usuario,s.senha,s.database,s.server)\n",
    "\n",
    "pd.set_option('display.max_columns',None)"
   ]
  },
  {
   "cell_type": "code",
   "execution_count": 2,
   "id": "7e8a41f9",
   "metadata": {},
   "outputs": [],
   "source": [
    "querys={\n",
    "    \n",
    "    'Tabelas':\n",
    "    \n",
    "    \"\"\"\n",
    "    \n",
    "    SELECT * FROM tab_pre\n",
    "    \n",
    "    \"\"\",\n",
    "    \n",
    "    'Preços':\n",
    "    \n",
    "    \"\"\"\n",
    "    \n",
    "    SELECT * FROM preco\n",
    "    \n",
    "    \"\"\"\n",
    "    \n",
    "}"
   ]
  },
  {
   "cell_type": "code",
   "execution_count": 3,
   "id": "0a57385d",
   "metadata": {},
   "outputs": [],
   "source": [
    "df=sql.CriarTabela(kwargs=querys)"
   ]
  },
  {
   "cell_type": "code",
   "execution_count": 17,
   "id": "7301a560",
   "metadata": {},
   "outputs": [
    {
     "data": {
      "text/html": [
       "<div>\n",
       "<style scoped>\n",
       "    .dataframe tbody tr th:only-of-type {\n",
       "        vertical-align: middle;\n",
       "    }\n",
       "\n",
       "    .dataframe tbody tr th {\n",
       "        vertical-align: top;\n",
       "    }\n",
       "\n",
       "    .dataframe thead th {\n",
       "        text-align: right;\n",
       "    }\n",
       "</style>\n",
       "<table border=\"1\" class=\"dataframe\">\n",
       "  <thead>\n",
       "    <tr style=\"text-align: right;\">\n",
       "      <th></th>\n",
       "      <th>SKU</th>\n",
       "      <th>B2C</th>\n",
       "    </tr>\n",
       "  </thead>\n",
       "  <tbody>\n",
       "    <tr>\n",
       "      <th>0</th>\n",
       "      <td>3</td>\n",
       "      <td>26.57</td>\n",
       "    </tr>\n",
       "    <tr>\n",
       "      <th>1</th>\n",
       "      <td>8</td>\n",
       "      <td>28.51</td>\n",
       "    </tr>\n",
       "    <tr>\n",
       "      <th>2</th>\n",
       "      <td>12</td>\n",
       "      <td>25.10</td>\n",
       "    </tr>\n",
       "    <tr>\n",
       "      <th>3</th>\n",
       "      <td>34</td>\n",
       "      <td>73.17</td>\n",
       "    </tr>\n",
       "    <tr>\n",
       "      <th>4</th>\n",
       "      <td>35</td>\n",
       "      <td>98.92</td>\n",
       "    </tr>\n",
       "    <tr>\n",
       "      <th>...</th>\n",
       "      <td>...</td>\n",
       "      <td>...</td>\n",
       "    </tr>\n",
       "    <tr>\n",
       "      <th>455</th>\n",
       "      <td>9594</td>\n",
       "      <td>5.08</td>\n",
       "    </tr>\n",
       "    <tr>\n",
       "      <th>456</th>\n",
       "      <td>9596</td>\n",
       "      <td>274.72</td>\n",
       "    </tr>\n",
       "    <tr>\n",
       "      <th>457</th>\n",
       "      <td>9598</td>\n",
       "      <td>352.60</td>\n",
       "    </tr>\n",
       "    <tr>\n",
       "      <th>458</th>\n",
       "      <td>9599</td>\n",
       "      <td>24.56</td>\n",
       "    </tr>\n",
       "    <tr>\n",
       "      <th>459</th>\n",
       "      <td>9600</td>\n",
       "      <td>25.69</td>\n",
       "    </tr>\n",
       "  </tbody>\n",
       "</table>\n",
       "<p>432 rows × 2 columns</p>\n",
       "</div>"
      ],
      "text/plain": [
       "      SKU     B2C\n",
       "0       3   26.57\n",
       "1       8   28.51\n",
       "2      12   25.10\n",
       "3      34   73.17\n",
       "4      35   98.92\n",
       "..    ...     ...\n",
       "455  9594    5.08\n",
       "456  9596  274.72\n",
       "457  9598  352.60\n",
       "458  9599   24.56\n",
       "459  9600   25.69\n",
       "\n",
       "[432 rows x 2 columns]"
      ]
     },
     "execution_count": 17,
     "metadata": {},
     "output_type": "execute_result"
    }
   ],
   "source": [
    "arq=glob('*.xlsx')\n",
    "\n",
    "excel=pd.read_excel(arq[-1])\n",
    "\n",
    "excel=excel[['SKU','B2C']].loc[~excel['TABELA CONSUMIDOR FINAL'].isnull()]\n",
    "\n",
    "excel"
   ]
  },
  {
   "cell_type": "code",
   "execution_count": 25,
   "id": "2aa4a3f2",
   "metadata": {},
   "outputs": [
    {
     "data": {
      "text/html": [
       "<div>\n",
       "<style scoped>\n",
       "    .dataframe tbody tr th:only-of-type {\n",
       "        vertical-align: middle;\n",
       "    }\n",
       "\n",
       "    .dataframe tbody tr th {\n",
       "        vertical-align: top;\n",
       "    }\n",
       "\n",
       "    .dataframe thead th {\n",
       "        text-align: right;\n",
       "    }\n",
       "</style>\n",
       "<table border=\"1\" class=\"dataframe\">\n",
       "  <thead>\n",
       "    <tr style=\"text-align: right;\">\n",
       "      <th></th>\n",
       "      <th>cd_tabela</th>\n",
       "      <th>dt_cad</th>\n",
       "      <th>descricao</th>\n",
       "      <th>num_lock</th>\n",
       "      <th>ativo</th>\n",
       "      <th>venda_especial</th>\n",
       "      <th>cd_tabela_ant</th>\n",
       "      <th>cd_tabela_prox</th>\n",
       "      <th>desc_embutido</th>\n",
       "      <th>dt_validade</th>\n",
       "      <th>tp_entrega</th>\n",
       "      <th>nf_imp_desc_itens</th>\n",
       "      <th>estado</th>\n",
       "      <th>arq_consys</th>\n",
       "      <th>cd_tab_pre_categ</th>\n",
       "      <th>nf_preco_cheio_desc_bol</th>\n",
       "      <th>cd_texto</th>\n",
       "      <th>rowid</th>\n",
       "      <th>TabPreID</th>\n",
       "    </tr>\n",
       "  </thead>\n",
       "  <tbody>\n",
       "    <tr>\n",
       "      <th>43</th>\n",
       "      <td>00000050</td>\n",
       "      <td>2020-03-23</td>\n",
       "      <td>TABELA CONSUMIDOR FINAL</td>\n",
       "      <td>2</td>\n",
       "      <td>True</td>\n",
       "      <td>0</td>\n",
       "      <td>00000029</td>\n",
       "      <td>None</td>\n",
       "      <td>None</td>\n",
       "      <td>None</td>\n",
       "      <td>None</td>\n",
       "      <td>0</td>\n",
       "      <td></td>\n",
       "      <td>None</td>\n",
       "      <td>None</td>\n",
       "      <td>0</td>\n",
       "      <td>NaN</td>\n",
       "      <td>b'\\x00\\x00\\x00\\x00\\x1b\\xee\\x8es'</td>\n",
       "      <td>45</td>\n",
       "    </tr>\n",
       "  </tbody>\n",
       "</table>\n",
       "</div>"
      ],
      "text/plain": [
       "   cd_tabela     dt_cad                descricao  num_lock  ativo  \\\n",
       "43  00000050 2020-03-23  TABELA CONSUMIDOR FINAL         2   True   \n",
       "\n",
       "    venda_especial cd_tabela_ant cd_tabela_prox desc_embutido dt_validade  \\\n",
       "43               0      00000029           None          None        None   \n",
       "\n",
       "   tp_entrega  nf_imp_desc_itens estado arq_consys cd_tab_pre_categ  \\\n",
       "43       None                  0              None             None   \n",
       "\n",
       "    nf_preco_cheio_desc_bol  cd_texto                             rowid  \\\n",
       "43                        0       NaN  b'\\x00\\x00\\x00\\x00\\x1b\\xee\\x8es'   \n",
       "\n",
       "    TabPreID  \n",
       "43        45  "
      ]
     },
     "execution_count": 25,
     "metadata": {},
     "output_type": "execute_result"
    }
   ],
   "source": [
    "df['Tabelas'].loc[df['Tabelas']['descricao'].str.contains('CONSUMIDOR')]"
   ]
  },
  {
   "cell_type": "code",
   "execution_count": 22,
   "id": "de901167",
   "metadata": {},
   "outputs": [
    {
     "data": {
      "text/plain": [
       "'00000050'"
      ]
     },
     "execution_count": 22,
     "metadata": {},
     "output_type": "execute_result"
    }
   ],
   "source": [
    "tab=df['Tabelas']['cd_tabela'].loc[df['Tabelas']['descricao'].str.contains('CONSUMIDOR')].max()\n",
    "\n",
    "tab"
   ]
  },
  {
   "cell_type": "code",
   "execution_count": 27,
   "id": "81486f99",
   "metadata": {},
   "outputs": [
    {
     "name": "stdout",
     "output_type": "stream",
     "text": [
      "Atualizado\n"
     ]
    }
   ],
   "source": [
    "codigos=excel['SKU'].unique().tolist()\n",
    "\n",
    "for c in codigos:\n",
    "    \n",
    "    vl_preco=excel['B2C'].loc[excel['SKU']==c].max()\n",
    "    \n",
    "    query=f\"\"\"\n",
    "    \n",
    "    UPDATE preco\n",
    "    SET vl_preco={vl_preco}\n",
    "    WHERE cd_prod={c} AND cd_tabela='{tab}'\n",
    "    \n",
    "    \n",
    "    \"\"\"\n",
    "    \n",
    "    conecta=sql.ConexaoSQL()\n",
    "    \n",
    "    sql.Salvar(query,conecta)\n",
    "    \n",
    "    break\n",
    "    \n",
    "    pass\n",
    "\n",
    "print('Atualizado')"
   ]
  },
  {
   "cell_type": "code",
   "execution_count": null,
   "id": "5b9f69fb",
   "metadata": {},
   "outputs": [],
   "source": []
  }
 ],
 "metadata": {
  "kernelspec": {
   "display_name": "Python 3 (ipykernel)",
   "language": "python",
   "name": "python3"
  },
  "language_info": {
   "codemirror_mode": {
    "name": "ipython",
    "version": 3
   },
   "file_extension": ".py",
   "mimetype": "text/x-python",
   "name": "python",
   "nbconvert_exporter": "python",
   "pygments_lexer": "ipython3",
   "version": "3.9.7"
  }
 },
 "nbformat": 4,
 "nbformat_minor": 5
}
