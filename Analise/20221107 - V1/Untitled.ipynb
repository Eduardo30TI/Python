{
 "cells": [
  {
   "cell_type": "code",
   "execution_count": 1,
   "id": "4ca19488",
   "metadata": {},
   "outputs": [],
   "source": [
    "import pandas as pd\n",
    "from glob import glob"
   ]
  },
  {
   "cell_type": "code",
   "execution_count": 3,
   "id": "b2bbd5bc",
   "metadata": {},
   "outputs": [],
   "source": [
    "arq=glob('*.xlsx')\n",
    "\n",
    "excel=pd.read_excel(arq[-1])"
   ]
  },
  {
   "cell_type": "code",
   "execution_count": 8,
   "id": "de56a965",
   "metadata": {},
   "outputs": [],
   "source": [
    "def CEP(endereco):\n",
    "    \n",
    "    endereco=endereco.split()\n",
    "    \n",
    "    return endereco[-1]\n",
    "    \n",
    "    pass"
   ]
  },
  {
   "cell_type": "code",
   "execution_count": 9,
   "id": "1ab28383",
   "metadata": {},
   "outputs": [
    {
     "data": {
      "text/plain": [
       "0     07131-020\n",
       "1     07176-470\n",
       "2     07190-070\n",
       "3     07042-040\n",
       "4     07022-020\n",
       "5     07252-000\n",
       "6         07076\n",
       "7     07021-160\n",
       "8     07023-000\n",
       "9     07044-000\n",
       "10    07020-001\n",
       "11    07095-140\n",
       "12    07043-020\n",
       "13           SP\n",
       "14    07151-420\n",
       "15    07141-040\n",
       "16    07022-020\n",
       "17    07013-090\n",
       "18    07011-080\n",
       "19    07094-000\n",
       "20    07141-040\n",
       "21    07175-332\n",
       "22    07095-040\n",
       "23    07056-000\n",
       "24    07031-001\n",
       "25    07191-000\n",
       "26    07115-150\n",
       "27    07110-060\n",
       "28    07051-020\n",
       "29    07244-070\n",
       "30    07222-030\n",
       "31    07051-020\n",
       "32    07222-030\n",
       "33    07021-010\n",
       "34    07143-040\n",
       "35    07013-090\n",
       "36    07190-002\n",
       "37    07133-010\n",
       "38    07190-070\n",
       "39    07012-080\n",
       "40    07174-000\n",
       "41    07176-360\n",
       "42    07084-170\n",
       "43    07196-000\n",
       "Name: Endereço, dtype: object"
      ]
     },
     "execution_count": 9,
     "metadata": {},
     "output_type": "execute_result"
    }
   ],
   "source": [
    "excel['Endereço'].apply(CEP)"
   ]
  },
  {
   "cell_type": "code",
   "execution_count": 11,
   "id": "af49a3eb",
   "metadata": {},
   "outputs": [
    {
     "data": {
      "text/plain": [
       "Empresa                        CHURRASCARIA E RESTAURANTE VIANA\n",
       "Categoria                                          CHURRASCARIA\n",
       "Endereço      ESTR. DO ELENCO, N° 1619 - JARDIM SAO DOMINGOS...\n",
       "Telefone                                         (11) 2611-8766\n",
       "Avaliação                                                   4.5\n",
       "Comentário                                                  129\n",
       "Name: 13, dtype: object"
      ]
     },
     "execution_count": 11,
     "metadata": {},
     "output_type": "execute_result"
    }
   ],
   "source": [
    "excel.iloc[13]"
   ]
  },
  {
   "cell_type": "code",
   "execution_count": null,
   "id": "9a57406f",
   "metadata": {},
   "outputs": [],
   "source": []
  }
 ],
 "metadata": {
  "kernelspec": {
   "display_name": "Python 3 (ipykernel)",
   "language": "python",
   "name": "python3"
  },
  "language_info": {
   "codemirror_mode": {
    "name": "ipython",
    "version": 3
   },
   "file_extension": ".py",
   "mimetype": "text/x-python",
   "name": "python",
   "nbconvert_exporter": "python",
   "pygments_lexer": "ipython3",
   "version": "3.9.7"
  }
 },
 "nbformat": 4,
 "nbformat_minor": 5
}
