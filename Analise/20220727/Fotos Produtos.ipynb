{
 "cells": [
  {
   "cell_type": "code",
   "execution_count": 87,
   "id": "fbdfd54e",
   "metadata": {},
   "outputs": [],
   "source": [
    "from Acesso import Login\n",
    "from Query import Query\n",
    "import pandas as pd\n",
    "import os\n",
    "import shutil\n",
    "\n",
    "s=Login()\n",
    "\n",
    "sql=Query(s.usuario,s.senha,s.database,s.server)\n",
    "\n",
    "pd.set_option('display.max_columns',None)"
   ]
  },
  {
   "cell_type": "code",
   "execution_count": 88,
   "id": "9a745e57",
   "metadata": {},
   "outputs": [],
   "source": [
    "querys={\n",
    "    \n",
    "    'Produto':\n",
    "    \n",
    "    \"\"\"\n",
    "    \n",
    "    SELECT * FROM netfeira.vw_produto\n",
    "    \n",
    "    \"\"\"\n",
    "    \n",
    "}"
   ]
  },
  {
   "cell_type": "code",
   "execution_count": 89,
   "id": "85b983e5",
   "metadata": {},
   "outputs": [],
   "source": [
    "tabelas_df=sql.CriarTabela(kwargs=querys)"
   ]
  },
  {
   "cell_type": "code",
   "execution_count": 90,
   "id": "28b2d93e",
   "metadata": {},
   "outputs": [],
   "source": [
    "caminho=r'C:\\Users\\eduardo\\OneDrive - NETFEIRA PONTOCOM LTDA\\Logística\\Fotos'"
   ]
  },
  {
   "cell_type": "code",
   "execution_count": 72,
   "id": "c95bee17",
   "metadata": {},
   "outputs": [
    {
     "data": {
      "text/plain": [
       "'Logística'"
      ]
     },
     "execution_count": 72,
     "metadata": {},
     "output_type": "execute_result"
    }
   ],
   "source": [
    "subpasta=os.path.basename(caminho)\n",
    "\n",
    "contagem=len(caminho)-(len(subpasta)+1)\n",
    "\n",
    "pasta=os.path.basename(caminho[:contagem])\n",
    "\n",
    "pasta"
   ]
  },
  {
   "cell_type": "code",
   "execution_count": 73,
   "id": "962d35c5",
   "metadata": {},
   "outputs": [],
   "source": [
    "valores=[]\n",
    "\n",
    "for indice,linha in tabelas_df['Produto'].iterrows():\n",
    "    \n",
    "    try:\n",
    "    \n",
    "        origem=linha['Fotos']\n",
    "\n",
    "        arq=os.path.basename(origem)\n",
    "\n",
    "        destino=os.path.join(caminho,arq)\n",
    "\n",
    "        #shutil.copy(origem,destino)\n",
    "        \n",
    "        temp_path=os.path.join(pasta,subpasta,arq)\n",
    "        \n",
    "        valores.append(temp_path)\n",
    "                        \n",
    "        pass\n",
    "    \n",
    "    except Exception as erro:\n",
    "        \n",
    "        valores.append('')\n",
    "        \n",
    "        continue\n",
    "    \n",
    "    pass\n",
    "\n",
    "tabelas_df['Produto']['Fotos']=valores"
   ]
  },
  {
   "cell_type": "code",
   "execution_count": 84,
   "id": "648a7c31",
   "metadata": {},
   "outputs": [
    {
     "data": {
      "text/plain": [
       "'C:\\\\Users\\\\eduardo\\\\OneDrive - NETFEIRA PONTOCOM LTDA\\\\Logística\\\\Produtos.xlsx'"
      ]
     },
     "execution_count": 84,
     "metadata": {},
     "output_type": "execute_result"
    }
   ],
   "source": [
    "from glob import glob\n",
    "\n",
    "tabelas_df['Produto'].to_excel('Produtos.xlsx',index=False,encoding='UTF-8')\n",
    "\n",
    "temp_path=os.path.join(os.getcwd(),'*.xlsx')\n",
    "\n",
    "arquivo=glob(temp_path)\n",
    "\n",
    "arq=os.path.basename(arquivo[-1])\n",
    "\n",
    "contagem=len(caminho)-((len(subpasta)+1)+(len(pasta)+1))\n",
    "\n",
    "path_base=caminho[:contagem]\n",
    "\n",
    "destino=os.path.join(path_base,pasta,arq)\n",
    "\n",
    "shutil.move(arquivo[-1],destino)"
   ]
  },
  {
   "cell_type": "code",
   "execution_count": 94,
   "id": "82b5ca0b",
   "metadata": {},
   "outputs": [
    {
     "data": {
      "text/plain": [
       "Index(['SKU', 'Cód. Fabricante', 'Produto', 'Status', 'Fabricante',\n",
       "       'Departamento', 'Seção', 'Categoria', 'Linha', 'Grupo de Produtos',\n",
       "       'Grupo Indústria', 'Grupo de Meta', 'Grupo MCCAIN', 'Linha Fabrica',\n",
       "       'Grupo de Promotores', 'Peso Liquido', 'Peso Bruto', 'Fator CX',\n",
       "       'Unid. CMP', 'Unid. STK', 'Fator CMP', 'Fotos', 'EAN', 'DUN'],\n",
       "      dtype='object')"
      ]
     },
     "execution_count": 94,
     "metadata": {},
     "output_type": "execute_result"
    }
   ],
   "source": [
    "tabelas_df['Produto'].columns"
   ]
  },
  {
   "cell_type": "code",
   "execution_count": 97,
   "id": "a30195bf",
   "metadata": {},
   "outputs": [],
   "source": [
    "tabelas_df['Produto']=tabelas_df['Produto'][['SKU','Produto','Status','Fabricante','Peso Liquido','Peso Bruto','Fator CX','EAN','DUN','Fotos']]"
   ]
  },
  {
   "cell_type": "code",
   "execution_count": 108,
   "id": "96774132",
   "metadata": {},
   "outputs": [
    {
     "name": "stderr",
     "output_type": "stream",
     "text": [
      "C:\\Users\\eduardo\\AppData\\Local\\Temp/ipykernel_11568/571247167.py:13: SettingWithCopyWarning: \n",
      "A value is trying to be set on a copy of a slice from a DataFrame.\n",
      "Try using .loc[row_indexer,col_indexer] = value instead\n",
      "\n",
      "See the caveats in the documentation: https://pandas.pydata.org/pandas-docs/stable/user_guide/indexing.html#returning-a-view-versus-a-copy\n",
      "  tabelas_df['Produto']['Fotos']=valores\n"
     ]
    }
   ],
   "source": [
    "valores=[]\n",
    "\n",
    "for indice,linha in tabelas_df['Produto'].iterrows():\n",
    "    \n",
    "    codigo=linha['SKU']\n",
    "    \n",
    "    temp_path=f'fotos_dos_produtos/{codigo}.jpg'\n",
    "    \n",
    "    valores.append(temp_path)\n",
    "    \n",
    "    pass\n",
    "\n",
    "tabelas_df['Produto']['Fotos']=valores"
   ]
  },
  {
   "cell_type": "code",
   "execution_count": 109,
   "id": "d13ecbf6",
   "metadata": {},
   "outputs": [],
   "source": [
    "tabelas_df['Produto'].to_excel('Produtos.xlsx',index=False,encoding='UTF-8')"
   ]
  },
  {
   "cell_type": "code",
   "execution_count": null,
   "id": "c86a0fc0",
   "metadata": {},
   "outputs": [],
   "source": []
  }
 ],
 "metadata": {
  "kernelspec": {
   "display_name": "Python 3 (ipykernel)",
   "language": "python",
   "name": "python3"
  },
  "language_info": {
   "codemirror_mode": {
    "name": "ipython",
    "version": 3
   },
   "file_extension": ".py",
   "mimetype": "text/x-python",
   "name": "python",
   "nbconvert_exporter": "python",
   "pygments_lexer": "ipython3",
   "version": "3.9.7"
  }
 },
 "nbformat": 4,
 "nbformat_minor": 5
}
