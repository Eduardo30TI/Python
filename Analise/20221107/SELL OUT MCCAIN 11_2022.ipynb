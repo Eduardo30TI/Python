{
 "cells": [
  {
   "cell_type": "code",
   "execution_count": 1,
   "id": "a4ae25bc",
   "metadata": {},
   "outputs": [],
   "source": [
    "import pandas as pd\n",
    "from Acesso import Login\n",
    "from Query import Query\n",
    "from glob import glob\n",
    "from datetime import datetime\n",
    "\n",
    "s=Login()\n",
    "\n",
    "sql=Query(s.usuario,s.senha,s.database,s.server)\n",
    "\n",
    "pd.set_option('display.max_columns',None)"
   ]
  },
  {
   "cell_type": "code",
   "execution_count": 2,
   "id": "8d47dd01",
   "metadata": {},
   "outputs": [],
   "source": [
    "querys={\n",
    "    \n",
    "    'Produto':\n",
    "    \n",
    "    \"\"\"\n",
    "    \n",
    "    SELECT * FROM netfeira.vw_produto\n",
    "    \n",
    "    \"\"\"\n",
    "}"
   ]
  },
  {
   "cell_type": "code",
   "execution_count": 3,
   "id": "c859c54e",
   "metadata": {},
   "outputs": [],
   "source": [
    "tabelas_df=sql.CriarTabela(kwargs=querys)"
   ]
  },
  {
   "cell_type": "code",
   "execution_count": 13,
   "id": "6b7a3431",
   "metadata": {},
   "outputs": [
    {
     "data": {
      "text/html": [
       "<div>\n",
       "<style scoped>\n",
       "    .dataframe tbody tr th:only-of-type {\n",
       "        vertical-align: middle;\n",
       "    }\n",
       "\n",
       "    .dataframe tbody tr th {\n",
       "        vertical-align: top;\n",
       "    }\n",
       "\n",
       "    .dataframe thead th {\n",
       "        text-align: right;\n",
       "    }\n",
       "</style>\n",
       "<table border=\"1\" class=\"dataframe\">\n",
       "  <thead>\n",
       "    <tr style=\"text-align: right;\">\n",
       "      <th></th>\n",
       "      <th>systemId</th>\n",
       "      <th>Code</th>\n",
       "      <th>Quantity</th>\n",
       "      <th>Amount</th>\n",
       "      <th>Sale Date</th>\n",
       "      <th>Transaction ID</th>\n",
       "    </tr>\n",
       "  </thead>\n",
       "  <tbody>\n",
       "  </tbody>\n",
       "</table>\n",
       "</div>"
      ],
      "text/plain": [
       "Empty DataFrame\n",
       "Columns: [systemId, Code, Quantity, Amount, Sale Date, Transaction ID]\n",
       "Index: []"
      ]
     },
     "execution_count": 13,
     "metadata": {},
     "output_type": "execute_result"
    }
   ],
   "source": [
    "arq=glob('*.csv')\n",
    "\n",
    "sell_out_df=pd.read_csv(arq[-1])\n",
    "\n",
    "sell_out_df.loc[sell_out_df['Code']==9403]"
   ]
  },
  {
   "cell_type": "code",
   "execution_count": 5,
   "id": "315e36d6",
   "metadata": {},
   "outputs": [],
   "source": [
    "sell_out_df=sell_out_df.merge(tabelas_df['Produto'][['SKU','Produto','Grupo MCCAIN']],left_on='Code',right_on='SKU',how='inner')"
   ]
  },
  {
   "cell_type": "code",
   "execution_count": 6,
   "id": "e8c6d7e8",
   "metadata": {},
   "outputs": [
    {
     "data": {
      "text/plain": [
       "Index(['systemId', 'Code', 'Quantity', 'Amount', 'Sale Date', 'Transaction ID',\n",
       "       'SKU', 'Produto', 'Grupo MCCAIN'],\n",
       "      dtype='object')"
      ]
     },
     "execution_count": 6,
     "metadata": {},
     "output_type": "execute_result"
    }
   ],
   "source": [
    "sell_out_df.columns"
   ]
  },
  {
   "cell_type": "code",
   "execution_count": 7,
   "id": "20da6bb6",
   "metadata": {},
   "outputs": [],
   "source": [
    "sell_out_df=sell_out_df[['systemId','Code', 'Produto', 'Grupo MCCAIN','Quantity', 'Amount', 'Sale Date', 'Transaction ID',\n",
    "       ]]"
   ]
  },
  {
   "cell_type": "code",
   "execution_count": 8,
   "id": "d3e18eec",
   "metadata": {},
   "outputs": [],
   "source": [
    "sell_out_df=sell_out_df.loc[sell_out_df['Grupo MCCAIN'].str.contains('VAREJO')]"
   ]
  },
  {
   "cell_type": "code",
   "execution_count": 11,
   "id": "231e1650",
   "metadata": {},
   "outputs": [
    {
     "data": {
      "text/html": [
       "<div>\n",
       "<style scoped>\n",
       "    .dataframe tbody tr th:only-of-type {\n",
       "        vertical-align: middle;\n",
       "    }\n",
       "\n",
       "    .dataframe tbody tr th {\n",
       "        vertical-align: top;\n",
       "    }\n",
       "\n",
       "    .dataframe thead th {\n",
       "        text-align: right;\n",
       "    }\n",
       "</style>\n",
       "<table border=\"1\" class=\"dataframe\">\n",
       "  <thead>\n",
       "    <tr style=\"text-align: right;\">\n",
       "      <th></th>\n",
       "      <th>systemId</th>\n",
       "      <th>Code</th>\n",
       "      <th>Produto</th>\n",
       "      <th>Grupo MCCAIN</th>\n",
       "      <th>Quantity</th>\n",
       "      <th>Amount</th>\n",
       "      <th>Sale Date</th>\n",
       "      <th>Transaction ID</th>\n",
       "    </tr>\n",
       "  </thead>\n",
       "  <tbody>\n",
       "  </tbody>\n",
       "</table>\n",
       "</div>"
      ],
      "text/plain": [
       "Empty DataFrame\n",
       "Columns: [systemId, Code, Produto, Grupo MCCAIN, Quantity, Amount, Sale Date, Transaction ID]\n",
       "Index: []"
      ]
     },
     "execution_count": 11,
     "metadata": {},
     "output_type": "execute_result"
    }
   ],
   "source": [
    "sell_out_df.loc[sell_out_df['Produto'].str.contains('BINT')]"
   ]
  },
  {
   "cell_type": "code",
   "execution_count": 13,
   "id": "049b58e7",
   "metadata": {},
   "outputs": [],
   "source": [
    "sell_out_df.to_excel('MCCAIN EDI.xlsx',index=False,encoding='UTF-8')"
   ]
  },
  {
   "cell_type": "code",
   "execution_count": null,
   "id": "b812ffc6",
   "metadata": {},
   "outputs": [],
   "source": []
  }
 ],
 "metadata": {
  "kernelspec": {
   "display_name": "Python 3 (ipykernel)",
   "language": "python",
   "name": "python3"
  },
  "language_info": {
   "codemirror_mode": {
    "name": "ipython",
    "version": 3
   },
   "file_extension": ".py",
   "mimetype": "text/x-python",
   "name": "python",
   "nbconvert_exporter": "python",
   "pygments_lexer": "ipython3",
   "version": "3.9.7"
  }
 },
 "nbformat": 4,
 "nbformat_minor": 5
}
