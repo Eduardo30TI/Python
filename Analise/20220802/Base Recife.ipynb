{
 "cells": [
  {
   "cell_type": "code",
   "execution_count": 1,
   "id": "2fcbeb24",
   "metadata": {},
   "outputs": [],
   "source": [
    "import pandas as pd\n",
    "from glob import glob"
   ]
  },
  {
   "cell_type": "code",
   "execution_count": 2,
   "id": "112630f2",
   "metadata": {},
   "outputs": [
    {
     "data": {
      "text/plain": [
       "['base RECIFE.xls']"
      ]
     },
     "execution_count": 2,
     "metadata": {},
     "output_type": "execute_result"
    }
   ],
   "source": [
    "anexo=glob('*.xls')\n",
    "\n",
    "anexo"
   ]
  },
  {
   "cell_type": "code",
   "execution_count": 3,
   "id": "a024f6dc",
   "metadata": {},
   "outputs": [],
   "source": [
    "temp_df=pd.DataFrame()\n",
    "\n",
    "temp_df=pd.read_excel(anexo[-1])"
   ]
  },
  {
   "cell_type": "code",
   "execution_count": 4,
   "id": "312b7cb2",
   "metadata": {},
   "outputs": [],
   "source": [
    "def CNPJ(cnpj):\n",
    "    \n",
    "    cnpj=str(cnpj)\n",
    "            \n",
    "    if(len(cnpj)==13):\n",
    "        \n",
    "        cnpj=f'0{cnpj}'\n",
    "        \n",
    "        pass\n",
    "    \n",
    "    opc=['.','/','-']\n",
    "    \n",
    "    for c in opc:\n",
    "        \n",
    "        cnpj=cnpj.replace(c,'')\n",
    "        \n",
    "        pass\n",
    "    \n",
    "    return cnpj\n",
    "    \n",
    "    pass"
   ]
  },
  {
   "cell_type": "code",
   "execution_count": 5,
   "id": "4e98b997",
   "metadata": {},
   "outputs": [],
   "source": [
    "temp_df['CNPJ']=temp_df['CPF/CNPJ'].apply(CNPJ)"
   ]
  },
  {
   "cell_type": "code",
   "execution_count": 6,
   "id": "f0f8467d",
   "metadata": {},
   "outputs": [],
   "source": [
    "def ValidarCNPJ(cnpj):\n",
    "    \n",
    "    cnpj=str(cnpj)\n",
    "    \n",
    "    valido=0\n",
    "    \n",
    "    if(len(cnpj)==14):\n",
    "        \n",
    "        valido=1\n",
    "        \n",
    "        pass\n",
    "    \n",
    "    return valido\n",
    "    \n",
    "    pass"
   ]
  },
  {
   "cell_type": "code",
   "execution_count": 7,
   "id": "136d7740",
   "metadata": {},
   "outputs": [],
   "source": [
    "temp_df['Valido']=temp_df['CNPJ'].apply(ValidarCNPJ)"
   ]
  },
  {
   "cell_type": "code",
   "execution_count": 8,
   "id": "27ca0ee2",
   "metadata": {},
   "outputs": [],
   "source": [
    "temp_df['Cliente']='DE MARCHI SÃO PAULO'"
   ]
  },
  {
   "cell_type": "code",
   "execution_count": 9,
   "id": "6baba382",
   "metadata": {},
   "outputs": [],
   "source": [
    "temp_df[['CNPJ','Cliente']].loc[temp_df['Valido']==1].to_csv('Recife.csv',index=False,encoding='UTF-8')"
   ]
  },
  {
   "cell_type": "code",
   "execution_count": null,
   "id": "c7175a91",
   "metadata": {},
   "outputs": [],
   "source": []
  }
 ],
 "metadata": {
  "kernelspec": {
   "display_name": "Python 3 (ipykernel)",
   "language": "python",
   "name": "python3"
  },
  "language_info": {
   "codemirror_mode": {
    "name": "ipython",
    "version": 3
   },
   "file_extension": ".py",
   "mimetype": "text/x-python",
   "name": "python",
   "nbconvert_exporter": "python",
   "pygments_lexer": "ipython3",
   "version": "3.9.7"
  }
 },
 "nbformat": 4,
 "nbformat_minor": 5
}
