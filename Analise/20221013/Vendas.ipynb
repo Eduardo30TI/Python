{
 "cells": [
  {
   "cell_type": "code",
   "execution_count": 1,
   "id": "5b86a989",
   "metadata": {},
   "outputs": [],
   "source": [
    "import pandas as pd\n",
    "from Acesso import Login\n",
    "from Query import Query\n",
    "\n",
    "pd.set_option('display.max_columns',None)\n",
    "\n",
    "s=Login()\n",
    "\n",
    "sql=Query(s.usuario,s.senha,s.database,s.server)"
   ]
  },
  {
   "cell_type": "code",
   "execution_count": 2,
   "id": "fe59662b",
   "metadata": {},
   "outputs": [],
   "source": [
    "querys={\n",
    "    \n",
    "    'Vendas':\n",
    "    \n",
    "    \"\"\"\n",
    "    \n",
    "    SELECT * FROM netfeira.vw_targetestatico\n",
    "\n",
    "        \n",
    "    \"\"\",\n",
    "    \n",
    "    'Produto':\n",
    "    \n",
    "    \"\"\"\n",
    "    \n",
    "    SELECT * FROM netfeira.vw_produto\n",
    "    \n",
    "    \"\"\",\n",
    "    \n",
    "    'Vendedor':\n",
    "    \n",
    "    \"\"\"\n",
    "    \n",
    "    SELECT * FROM netfeira.vw_vendedor\n",
    "    \n",
    "    \"\"\",\n",
    "    \n",
    "    'Supervisor':\n",
    "    \n",
    "    \n",
    "    \"\"\"\n",
    "    \n",
    "    SELECT * FROM netfeira.vw_supervisor\n",
    "    \n",
    "    \"\"\",\n",
    "    \n",
    "    'Cliente':\n",
    "    \n",
    "    \"\"\"\n",
    "    \n",
    "    SELECT * FROM netfeira.vw_cliente\n",
    "    \n",
    "    \"\"\"\n",
    "    \n",
    "}"
   ]
  },
  {
   "cell_type": "code",
   "execution_count": 3,
   "id": "162de3e0",
   "metadata": {},
   "outputs": [],
   "source": [
    "tabelas_df=sql.CriarTabela(kwargs=querys)"
   ]
  },
  {
   "cell_type": "code",
   "execution_count": 4,
   "id": "78170747",
   "metadata": {},
   "outputs": [
    {
     "data": {
      "text/plain": [
       "Index(['ID Empresa', 'Pedido', 'Nfe', 'ID Cliente', 'ID Vendedor',\n",
       "       'Data de Emissão', 'Data de Faturamento', 'ID Motivo', 'Situação',\n",
       "       'Tipo de Pedido', 'Tipo de Operação', 'ID Roteiro', 'ID Usuário',\n",
       "       'Tabelas', 'Origem', 'Tipo de Entrega', 'Seq Roteiro', 'SKU', 'Seq',\n",
       "       'Qtde', 'Unid. VDA', 'Qtde VDA', 'Valor VDA', 'Total Venda', 'Total AV',\n",
       "       'Total Geral', 'Margem Bruta R$', 'Comissão R$', 'IPI R$', 'PIS R$',\n",
       "       'COFINS R$', 'ICMS R$', 'ICMS ST R$', 'Peso Bruto KG',\n",
       "       'Peso Líquido KG', 'Cad Vendedor'],\n",
       "      dtype='object')"
      ]
     },
     "execution_count": 4,
     "metadata": {},
     "output_type": "execute_result"
    }
   ],
   "source": [
    "tabelas_df['Vendas'].columns"
   ]
  },
  {
   "cell_type": "code",
   "execution_count": 5,
   "id": "bfba896d",
   "metadata": {},
   "outputs": [
    {
     "data": {
      "text/plain": [
       "Index(['SKU', 'Cód. Fabricante', 'Produto', 'Status', 'Fabricante',\n",
       "       'Departamento', 'Seção', 'Categoria', 'Linha', 'Grupo de Produtos',\n",
       "       'Grupo Indústria', 'Grupo de Meta', 'Grupo MCCAIN', 'Linha Fabrica',\n",
       "       'Grupo de Promotores', 'Peso Liquido', 'Peso Bruto', 'Fator CX',\n",
       "       'Unid. CMP', 'Unid. STK', 'Fator CMP', 'Fotos', 'EAN', 'DUN',\n",
       "       'Peso Liquido Caixa', 'Peso Bruto Caixa', 'Fator Unid CMP'],\n",
       "      dtype='object')"
      ]
     },
     "execution_count": 5,
     "metadata": {},
     "output_type": "execute_result"
    }
   ],
   "source": [
    "tabelas_df['Produto'].columns"
   ]
  },
  {
   "cell_type": "code",
   "execution_count": 6,
   "id": "3c9d0c69",
   "metadata": {},
   "outputs": [
    {
     "data": {
      "text/plain": [
       "Index(['ID Vendedor', 'Vendedor', 'Nome Resumido', 'ID Equipe', 'E-mail',\n",
       "       'Categoria', 'Data de Cadastro', 'Status do Vendedor'],\n",
       "      dtype='object')"
      ]
     },
     "execution_count": 6,
     "metadata": {},
     "output_type": "execute_result"
    }
   ],
   "source": [
    "tabelas_df['Vendedor'].columns"
   ]
  },
  {
   "cell_type": "code",
   "execution_count": 7,
   "id": "036f86d7",
   "metadata": {},
   "outputs": [
    {
     "data": {
      "text/plain": [
       "Index(['ID Equipe', 'Equipe', 'ID Sup', 'Supervisor', 'Email Sup',\n",
       "       'ID Gerente', 'Gerente', 'Email Gerente'],\n",
       "      dtype='object')"
      ]
     },
     "execution_count": 7,
     "metadata": {},
     "output_type": "execute_result"
    }
   ],
   "source": [
    "tabelas_df['Supervisor'].columns"
   ]
  },
  {
   "cell_type": "code",
   "execution_count": 8,
   "id": "b93674b0",
   "metadata": {},
   "outputs": [
    {
     "data": {
      "text/plain": [
       "Index(['ID Cliente', 'CNPJ', 'CNPJ Caracter', 'Razão Social', 'Nome Fantasia',\n",
       "       'Tipo de Cliente', 'Status do Cliente', 'ID Segmento', 'Matriz',\n",
       "       'Crédito', 'Data de Cadastro', 'Primeira Compra', 'Última Compra',\n",
       "       'Dias Compra', 'Tabela', 'Condição de Pagto', 'Prazo Pagto',\n",
       "       'Pagamento', 'CEP', 'Endereço', 'Bairro', 'Município', 'Numero',\n",
       "       'Complemento', 'Região', 'UF', 'DDD', 'Contato', 'Limite de Crédito',\n",
       "       'Principal', 'E-mail Cliente', 'Tributação do Cliente', 'ID Rota',\n",
       "       'Latitude', 'Longitude'],\n",
       "      dtype='object')"
      ]
     },
     "execution_count": 8,
     "metadata": {},
     "output_type": "execute_result"
    }
   ],
   "source": [
    "tabelas_df['Cliente'].columns"
   ]
  },
  {
   "cell_type": "code",
   "execution_count": 9,
   "id": "77af444d",
   "metadata": {},
   "outputs": [],
   "source": [
    "tabelas_df['Vendas']=tabelas_df['Vendas'].merge(tabelas_df['Cliente'],on='ID Cliente',how='inner')"
   ]
  },
  {
   "cell_type": "code",
   "execution_count": 10,
   "id": "b5ebf19c",
   "metadata": {},
   "outputs": [
    {
     "data": {
      "text/plain": [
       "Index(['ID Empresa', 'Pedido', 'Nfe', 'ID Cliente', 'ID Vendedor',\n",
       "       'Data de Emissão', 'Data de Faturamento', 'ID Motivo', 'Situação',\n",
       "       'Tipo de Pedido', 'Tipo de Operação', 'ID Roteiro', 'ID Usuário',\n",
       "       'Tabelas', 'Origem', 'Tipo de Entrega', 'Seq Roteiro', 'SKU', 'Seq',\n",
       "       'Qtde', 'Unid. VDA', 'Qtde VDA', 'Valor VDA', 'Total Venda', 'Total AV',\n",
       "       'Total Geral', 'Margem Bruta R$', 'Comissão R$', 'IPI R$', 'PIS R$',\n",
       "       'COFINS R$', 'ICMS R$', 'ICMS ST R$', 'Peso Bruto KG',\n",
       "       'Peso Líquido KG', 'Cad Vendedor', 'CNPJ', 'CNPJ Caracter',\n",
       "       'Razão Social', 'Nome Fantasia', 'Tipo de Cliente', 'Status do Cliente',\n",
       "       'ID Segmento', 'Matriz', 'Crédito', 'Data de Cadastro',\n",
       "       'Primeira Compra', 'Última Compra', 'Dias Compra', 'Tabela',\n",
       "       'Condição de Pagto', 'Prazo Pagto', 'Pagamento', 'CEP', 'Endereço',\n",
       "       'Bairro', 'Município', 'Numero', 'Complemento', 'Região', 'UF', 'DDD',\n",
       "       'Contato', 'Limite de Crédito', 'Principal', 'E-mail Cliente',\n",
       "       'Tributação do Cliente', 'ID Rota', 'Latitude', 'Longitude'],\n",
       "      dtype='object')"
      ]
     },
     "execution_count": 10,
     "metadata": {},
     "output_type": "execute_result"
    }
   ],
   "source": [
    "tabelas_df['Vendas'].columns"
   ]
  },
  {
   "cell_type": "code",
   "execution_count": 11,
   "id": "5a0fead9",
   "metadata": {},
   "outputs": [],
   "source": [
    "tabelas_df['Vendas']=tabelas_df['Vendas'].merge(tabelas_df['Produto'],on='SKU',how='inner')"
   ]
  },
  {
   "cell_type": "code",
   "execution_count": 12,
   "id": "5522b240",
   "metadata": {},
   "outputs": [
    {
     "data": {
      "text/plain": [
       "Index(['ID Empresa', 'Pedido', 'Nfe', 'ID Cliente', 'ID Vendedor',\n",
       "       'Data de Emissão', 'Data de Faturamento', 'ID Motivo', 'Situação',\n",
       "       'Tipo de Pedido', 'Tipo de Operação', 'ID Roteiro', 'ID Usuário',\n",
       "       'Tabelas', 'Origem', 'Tipo de Entrega', 'Seq Roteiro', 'SKU', 'Seq',\n",
       "       'Qtde', 'Unid. VDA', 'Qtde VDA', 'Valor VDA', 'Total Venda', 'Total AV',\n",
       "       'Total Geral', 'Margem Bruta R$', 'Comissão R$', 'IPI R$', 'PIS R$',\n",
       "       'COFINS R$', 'ICMS R$', 'ICMS ST R$', 'Peso Bruto KG',\n",
       "       'Peso Líquido KG', 'Cad Vendedor', 'CNPJ', 'CNPJ Caracter',\n",
       "       'Razão Social', 'Nome Fantasia', 'Tipo de Cliente', 'Status do Cliente',\n",
       "       'ID Segmento', 'Matriz', 'Crédito', 'Data de Cadastro',\n",
       "       'Primeira Compra', 'Última Compra', 'Dias Compra', 'Tabela',\n",
       "       'Condição de Pagto', 'Prazo Pagto', 'Pagamento', 'CEP', 'Endereço',\n",
       "       'Bairro', 'Município', 'Numero', 'Complemento', 'Região', 'UF', 'DDD',\n",
       "       'Contato', 'Limite de Crédito', 'Principal', 'E-mail Cliente',\n",
       "       'Tributação do Cliente', 'ID Rota', 'Latitude', 'Longitude',\n",
       "       'Cód. Fabricante', 'Produto', 'Status', 'Fabricante', 'Departamento',\n",
       "       'Seção', 'Categoria', 'Linha', 'Grupo de Produtos', 'Grupo Indústria',\n",
       "       'Grupo de Meta', 'Grupo MCCAIN', 'Linha Fabrica', 'Grupo de Promotores',\n",
       "       'Peso Liquido', 'Peso Bruto', 'Fator CX', 'Unid. CMP', 'Unid. STK',\n",
       "       'Fator CMP', 'Fotos', 'EAN', 'DUN', 'Peso Liquido Caixa',\n",
       "       'Peso Bruto Caixa', 'Fator Unid CMP'],\n",
       "      dtype='object')"
      ]
     },
     "execution_count": 12,
     "metadata": {},
     "output_type": "execute_result"
    }
   ],
   "source": [
    "tabelas_df['Vendas'].columns"
   ]
  },
  {
   "cell_type": "code",
   "execution_count": 13,
   "id": "04bbd5e1",
   "metadata": {},
   "outputs": [
    {
     "ename": "KeyError",
     "evalue": "\"['Equipe', 'ID Sup', 'Supervisor', 'Email Sup', 'ID Gerente', 'Gerente', 'Email Gerente'] not in index\"",
     "output_type": "error",
     "traceback": [
      "\u001b[1;31m---------------------------------------------------------------------------\u001b[0m",
      "\u001b[1;31mKeyError\u001b[0m                                  Traceback (most recent call last)",
      "\u001b[1;32m~\\AppData\\Local\\Temp/ipykernel_21580/4021718671.py\u001b[0m in \u001b[0;36m<module>\u001b[1;34m\u001b[0m\n\u001b[1;32m----> 1\u001b[1;33m tabelas_df['Vendedor']=tabelas_df['Vendedor'][['ID Vendedor', 'Vendedor', 'Nome Resumido', 'ID Equipe', 'E-mail','Data de Cadastro', 'Status do Vendedor', 'Equipe',\n\u001b[0m\u001b[0;32m      2\u001b[0m        \u001b[1;34m'ID Sup'\u001b[0m\u001b[1;33m,\u001b[0m \u001b[1;34m'Supervisor'\u001b[0m\u001b[1;33m,\u001b[0m \u001b[1;34m'Email Sup'\u001b[0m\u001b[1;33m,\u001b[0m \u001b[1;34m'ID Gerente'\u001b[0m\u001b[1;33m,\u001b[0m \u001b[1;34m'Gerente'\u001b[0m\u001b[1;33m,\u001b[0m\u001b[1;33m\u001b[0m\u001b[1;33m\u001b[0m\u001b[0m\n\u001b[0;32m      3\u001b[0m        'Email Gerente']]\n",
      "\u001b[1;32mC:\\ProgramData\\Anaconda3\\lib\\site-packages\\pandas\\core\\frame.py\u001b[0m in \u001b[0;36m__getitem__\u001b[1;34m(self, key)\u001b[0m\n\u001b[0;32m   3462\u001b[0m             \u001b[1;32mif\u001b[0m \u001b[0mis_iterator\u001b[0m\u001b[1;33m(\u001b[0m\u001b[0mkey\u001b[0m\u001b[1;33m)\u001b[0m\u001b[1;33m:\u001b[0m\u001b[1;33m\u001b[0m\u001b[1;33m\u001b[0m\u001b[0m\n\u001b[0;32m   3463\u001b[0m                 \u001b[0mkey\u001b[0m \u001b[1;33m=\u001b[0m \u001b[0mlist\u001b[0m\u001b[1;33m(\u001b[0m\u001b[0mkey\u001b[0m\u001b[1;33m)\u001b[0m\u001b[1;33m\u001b[0m\u001b[1;33m\u001b[0m\u001b[0m\n\u001b[1;32m-> 3464\u001b[1;33m             \u001b[0mindexer\u001b[0m \u001b[1;33m=\u001b[0m \u001b[0mself\u001b[0m\u001b[1;33m.\u001b[0m\u001b[0mloc\u001b[0m\u001b[1;33m.\u001b[0m\u001b[0m_get_listlike_indexer\u001b[0m\u001b[1;33m(\u001b[0m\u001b[0mkey\u001b[0m\u001b[1;33m,\u001b[0m \u001b[0maxis\u001b[0m\u001b[1;33m=\u001b[0m\u001b[1;36m1\u001b[0m\u001b[1;33m)\u001b[0m\u001b[1;33m[\u001b[0m\u001b[1;36m1\u001b[0m\u001b[1;33m]\u001b[0m\u001b[1;33m\u001b[0m\u001b[1;33m\u001b[0m\u001b[0m\n\u001b[0m\u001b[0;32m   3465\u001b[0m \u001b[1;33m\u001b[0m\u001b[0m\n\u001b[0;32m   3466\u001b[0m         \u001b[1;31m# take() does not accept boolean indexers\u001b[0m\u001b[1;33m\u001b[0m\u001b[1;33m\u001b[0m\u001b[0m\n",
      "\u001b[1;32mC:\\ProgramData\\Anaconda3\\lib\\site-packages\\pandas\\core\\indexing.py\u001b[0m in \u001b[0;36m_get_listlike_indexer\u001b[1;34m(self, key, axis)\u001b[0m\n\u001b[0;32m   1312\u001b[0m             \u001b[0mkeyarr\u001b[0m\u001b[1;33m,\u001b[0m \u001b[0mindexer\u001b[0m\u001b[1;33m,\u001b[0m \u001b[0mnew_indexer\u001b[0m \u001b[1;33m=\u001b[0m \u001b[0max\u001b[0m\u001b[1;33m.\u001b[0m\u001b[0m_reindex_non_unique\u001b[0m\u001b[1;33m(\u001b[0m\u001b[0mkeyarr\u001b[0m\u001b[1;33m)\u001b[0m\u001b[1;33m\u001b[0m\u001b[1;33m\u001b[0m\u001b[0m\n\u001b[0;32m   1313\u001b[0m \u001b[1;33m\u001b[0m\u001b[0m\n\u001b[1;32m-> 1314\u001b[1;33m         \u001b[0mself\u001b[0m\u001b[1;33m.\u001b[0m\u001b[0m_validate_read_indexer\u001b[0m\u001b[1;33m(\u001b[0m\u001b[0mkeyarr\u001b[0m\u001b[1;33m,\u001b[0m \u001b[0mindexer\u001b[0m\u001b[1;33m,\u001b[0m \u001b[0maxis\u001b[0m\u001b[1;33m)\u001b[0m\u001b[1;33m\u001b[0m\u001b[1;33m\u001b[0m\u001b[0m\n\u001b[0m\u001b[0;32m   1315\u001b[0m \u001b[1;33m\u001b[0m\u001b[0m\n\u001b[0;32m   1316\u001b[0m         if needs_i8_conversion(ax.dtype) or isinstance(\n",
      "\u001b[1;32mC:\\ProgramData\\Anaconda3\\lib\\site-packages\\pandas\\core\\indexing.py\u001b[0m in \u001b[0;36m_validate_read_indexer\u001b[1;34m(self, key, indexer, axis)\u001b[0m\n\u001b[0;32m   1375\u001b[0m \u001b[1;33m\u001b[0m\u001b[0m\n\u001b[0;32m   1376\u001b[0m             \u001b[0mnot_found\u001b[0m \u001b[1;33m=\u001b[0m \u001b[0mlist\u001b[0m\u001b[1;33m(\u001b[0m\u001b[0mensure_index\u001b[0m\u001b[1;33m(\u001b[0m\u001b[0mkey\u001b[0m\u001b[1;33m)\u001b[0m\u001b[1;33m[\u001b[0m\u001b[0mmissing_mask\u001b[0m\u001b[1;33m.\u001b[0m\u001b[0mnonzero\u001b[0m\u001b[1;33m(\u001b[0m\u001b[1;33m)\u001b[0m\u001b[1;33m[\u001b[0m\u001b[1;36m0\u001b[0m\u001b[1;33m]\u001b[0m\u001b[1;33m]\u001b[0m\u001b[1;33m.\u001b[0m\u001b[0munique\u001b[0m\u001b[1;33m(\u001b[0m\u001b[1;33m)\u001b[0m\u001b[1;33m)\u001b[0m\u001b[1;33m\u001b[0m\u001b[1;33m\u001b[0m\u001b[0m\n\u001b[1;32m-> 1377\u001b[1;33m             \u001b[1;32mraise\u001b[0m \u001b[0mKeyError\u001b[0m\u001b[1;33m(\u001b[0m\u001b[1;34mf\"{not_found} not in index\"\u001b[0m\u001b[1;33m)\u001b[0m\u001b[1;33m\u001b[0m\u001b[1;33m\u001b[0m\u001b[0m\n\u001b[0m\u001b[0;32m   1378\u001b[0m \u001b[1;33m\u001b[0m\u001b[0m\n\u001b[0;32m   1379\u001b[0m \u001b[1;33m\u001b[0m\u001b[0m\n",
      "\u001b[1;31mKeyError\u001b[0m: \"['Equipe', 'ID Sup', 'Supervisor', 'Email Sup', 'ID Gerente', 'Gerente', 'Email Gerente'] not in index\""
     ]
    }
   ],
   "source": [
    "tabelas_df['Vendedor']=tabelas_df['Vendedor'][['ID Vendedor', 'Vendedor', 'Nome Resumido', 'ID Equipe', 'E-mail','Data de Cadastro', 'Status do Vendedor', 'Equipe',\n",
    "       'ID Sup', 'Supervisor', 'Email Sup', 'ID Gerente', 'Gerente',\n",
    "       'Email Gerente']]"
   ]
  },
  {
   "cell_type": "code",
   "execution_count": null,
   "id": "ea54511a",
   "metadata": {},
   "outputs": [],
   "source": [
    "tabelas_df['Vendas']=tabelas_df['Vendas'].merge(tabelas_df['Vendedor'],on='ID Vendedor',how='inner')"
   ]
  },
  {
   "cell_type": "code",
   "execution_count": null,
   "id": "c1673994",
   "metadata": {},
   "outputs": [],
   "source": [
    "tabelas_df['Vendas'].columns"
   ]
  },
  {
   "cell_type": "code",
   "execution_count": null,
   "id": "af867919",
   "metadata": {},
   "outputs": [],
   "source": [
    "tabelas_df['Vendas']"
   ]
  },
  {
   "cell_type": "code",
   "execution_count": null,
   "id": "2b3ae258",
   "metadata": {},
   "outputs": [],
   "source": []
  }
 ],
 "metadata": {
  "kernelspec": {
   "display_name": "Python 3 (ipykernel)",
   "language": "python",
   "name": "python3"
  },
  "language_info": {
   "codemirror_mode": {
    "name": "ipython",
    "version": 3
   },
   "file_extension": ".py",
   "mimetype": "text/x-python",
   "name": "python",
   "nbconvert_exporter": "python",
   "pygments_lexer": "ipython3",
   "version": "3.9.7"
  }
 },
 "nbformat": 4,
 "nbformat_minor": 5
}
