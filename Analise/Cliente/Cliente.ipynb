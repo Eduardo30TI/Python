{
 "cells": [
  {
   "cell_type": "code",
   "execution_count": 1,
   "id": "22d5fcba",
   "metadata": {},
   "outputs": [],
   "source": [
    "import os\n",
    "import pandas as pd\n",
    "from Acesso import Login\n",
    "from Query import Query\n",
    "\n",
    "s=Login()\n",
    "\n",
    "sql=Query(s.usuario,s.senha,s.database,s.server)"
   ]
  },
  {
   "cell_type": "code",
   "execution_count": null,
   "id": "f3aadf96",
   "metadata": {},
   "outputs": [],
   "source": [
    "querys={\n",
    "    \n",
    "    'cliente':\n",
    "    \n",
    "    \"\"\"\n",
    "    \n",
    "    SELECT cd_clien,nome_res,e_mail \n",
    "    FROM cliente\n",
    "    \n",
    "    \"\"\",\n",
    "    \n",
    "    'contato':\n",
    "    \n",
    "    \"\"\"\n",
    "    \n",
    "    SELECT * \n",
    "    FROM (\n",
    "\n",
    "        SELECT cd_clien,seq,t.descricao AS tp_tel,ddd,numero,\n",
    "        MIN(seq)OVER(PARTITION BY cd_clien ORDER BY cd_clien) AS seq_max\n",
    "        FROM tel_cli c\n",
    "        INNER JOIN tp_tel t ON c.tp_tel=t.tp_tel\n",
    "        --WHERE cd_clien=6\n",
    "\n",
    "    )a\n",
    "    WHERE seq=seq_max    \n",
    "    \n",
    "    \"\"\"\n",
    "\n",
    "}"
   ]
  }
 ],
 "metadata": {
  "kernelspec": {
   "display_name": "Python 3 (ipykernel)",
   "language": "python",
   "name": "python3"
  },
  "language_info": {
   "codemirror_mode": {
    "name": "ipython",
    "version": 3
   },
   "file_extension": ".py",
   "mimetype": "text/x-python",
   "name": "python",
   "nbconvert_exporter": "python",
   "pygments_lexer": "ipython3",
   "version": "3.9.7"
  }
 },
 "nbformat": 4,
 "nbformat_minor": 5
}
