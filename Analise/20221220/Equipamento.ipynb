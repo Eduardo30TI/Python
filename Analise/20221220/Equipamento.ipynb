{
 "cells": [
  {
   "cell_type": "code",
   "execution_count": 1,
   "id": "f5a17e23",
   "metadata": {},
   "outputs": [],
   "source": [
    "from Acesso import Login\n",
    "from Query import Query\n",
    "import pandas as pd\n",
    "\n",
    "s=Login()\n",
    "\n",
    "sql=Query(s.usuario,s.senha,s.database,s.server)\n",
    "\n",
    "pd.set_option('display.max_columns',None)"
   ]
  },
  {
   "cell_type": "code",
   "execution_count": 2,
   "id": "ad36b1f6",
   "metadata": {},
   "outputs": [],
   "source": [
    "querys={\n",
    "    \n",
    "    'Equipamento':\n",
    "    \n",
    "    \"\"\"\n",
    "    \n",
    "    SELECT *\n",
    "    FROM netfeira.vw_venda_estatico ped\n",
    "    WHERE ped.[Tipo de Pedido] LIKE '%COMODATO%'    \n",
    "    \n",
    "    \"\"\",\n",
    "    \n",
    "    'Cliente':\n",
    "    \n",
    "    \"\"\"\n",
    "    \n",
    "    SELECT * \n",
    "    FROM netfeira.vw_cliente cli\n",
    "    INNER JOIN netfeira.vw_vendedor vend ON cli.Principal=vend.[ID Vendedor]\n",
    "    INNER JOIN netfeira.vw_supervisor sup ON vend.[ID Equipe]=sup.[ID Equipe]\n",
    "    \n",
    "    \"\"\"\n",
    "}"
   ]
  },
  {
   "cell_type": "code",
   "execution_count": 3,
   "id": "f2ab320f",
   "metadata": {},
   "outputs": [],
   "source": [
    "df=sql.CriarTabela(kwargs=querys)"
   ]
  },
  {
   "cell_type": "code",
   "execution_count": 6,
   "id": "05dd7509",
   "metadata": {},
   "outputs": [],
   "source": [
    "df['Temp']=df['Equipamento'].groupby(['ID Cliente'],as_index=False).agg({'Total Venda':'sum'})"
   ]
  },
  {
   "cell_type": "code",
   "execution_count": 9,
   "id": "1ee4aa38",
   "metadata": {},
   "outputs": [],
   "source": [
    "df['Temp']=df['Temp'].loc[df['Temp']['Total Venda']>0]"
   ]
  },
  {
   "cell_type": "code",
   "execution_count": 15,
   "id": "e88dad9e",
   "metadata": {},
   "outputs": [],
   "source": [
    "codigos=df['Temp']['ID Cliente'].unique().tolist()"
   ]
  },
  {
   "cell_type": "code",
   "execution_count": 16,
   "id": "89f78236",
   "metadata": {},
   "outputs": [
    {
     "data": {
      "text/plain": [
       "Index(['ID Cliente', 'CNPJ', 'Rede', 'CNPJ Base', 'CNPJ Caracter',\n",
       "       'Razão Social', 'Nome Fantasia', 'Tipo de Cliente', 'Status do Cliente',\n",
       "       'ID Segmento', 'Matriz', 'Crédito', 'Data de Cadastro',\n",
       "       'Primeira Compra', 'Última Compra', 'Dias Compra', 'Tabela',\n",
       "       'Condição de Pagto', 'Prazo Pagto', 'Pagamento', 'CEP', 'Endereço',\n",
       "       'Bairro', 'Município', 'Numero', 'Complemento', 'Região', 'UF', 'DDD',\n",
       "       'Contato', 'Limite de Crédito', 'Principal', 'E-mail Cliente',\n",
       "       'Tributação do Cliente', 'ID Rota', 'Latitude', 'Longitude',\n",
       "       'Desc Financeiro', 'ID Vendedor', 'Vendedor', 'Nome Resumido',\n",
       "       'ID Equipe', 'E-mail', 'Categoria', 'Data de Cadastro',\n",
       "       'Status do Vendedor', 'DDD', 'Telefone', 'ID Equipe', 'Equipe',\n",
       "       'ID Sup', 'Supervisor', 'Email Sup', 'DDD Sup', 'Telefone Sup',\n",
       "       'ID Gerente', 'Gerente', 'Email Gerente', 'DDD Gerente',\n",
       "       'Telefone Gerente'],\n",
       "      dtype='object')"
      ]
     },
     "execution_count": 16,
     "metadata": {},
     "output_type": "execute_result"
    }
   ],
   "source": [
    "df['Cliente'].columns"
   ]
  },
  {
   "cell_type": "code",
   "execution_count": 23,
   "id": "4b117bf9",
   "metadata": {},
   "outputs": [],
   "source": [
    "df['Temp']=df['Cliente'][['ID Cliente','Razão Social', 'Nome Fantasia','Matriz','CEP', 'Endereço',\n",
    "       'Bairro', 'Município', 'Numero', 'Complemento', 'Região', 'UF', 'DDD',\n",
    "       'Contato','ID Vendedor', 'Vendedor','Equipe','Supervisor']].loc[df['Cliente']['ID Cliente'].isin(codigos)]"
   ]
  },
  {
   "cell_type": "code",
   "execution_count": 26,
   "id": "4a28a6ae",
   "metadata": {},
   "outputs": [],
   "source": [
    "df['Temp']['Equipamentos']=df['Temp']['ID Cliente'].apply(lambda info: len(df['Equipamento']['SKU'].loc[df['Equipamento']['ID Cliente']==info].unique().tolist()))"
   ]
  },
  {
   "cell_type": "code",
   "execution_count": 29,
   "id": "4fe784fe",
   "metadata": {},
   "outputs": [],
   "source": [
    "df['Temp'].sort_values('Equipamentos',ascending=False,inplace=True)"
   ]
  },
  {
   "cell_type": "code",
   "execution_count": 32,
   "id": "dd18a7ae",
   "metadata": {},
   "outputs": [],
   "source": [
    "df['Temp']=df['Temp'].loc[df['Temp']['Supervisor'].str.contains('ULISSES')]"
   ]
  },
  {
   "cell_type": "code",
   "execution_count": 37,
   "id": "a74c7e30",
   "metadata": {},
   "outputs": [],
   "source": [
    "df['Temp'].to_excel('Equipamentos.xlsx',index=False,encoding='UTF-8')"
   ]
  },
  {
   "cell_type": "code",
   "execution_count": null,
   "id": "7dcf47ba",
   "metadata": {},
   "outputs": [],
   "source": []
  }
 ],
 "metadata": {
  "kernelspec": {
   "display_name": "Python 3 (ipykernel)",
   "language": "python",
   "name": "python3"
  },
  "language_info": {
   "codemirror_mode": {
    "name": "ipython",
    "version": 3
   },
   "file_extension": ".py",
   "mimetype": "text/x-python",
   "name": "python",
   "nbconvert_exporter": "python",
   "pygments_lexer": "ipython3",
   "version": "3.9.7"
  }
 },
 "nbformat": 4,
 "nbformat_minor": 5
}
