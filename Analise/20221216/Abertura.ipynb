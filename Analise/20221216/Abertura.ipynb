{
 "cells": [
  {
   "cell_type": "code",
   "execution_count": 1,
   "id": "b7dc98bf",
   "metadata": {},
   "outputs": [],
   "source": [
    "from Acesso import Login\n",
    "from Query import Query\n",
    "import pandas as pd\n",
    "\n",
    "s=Login()\n",
    "\n",
    "sql=Query(s.usuario,s.senha,s.database,s.server)\n",
    "\n",
    "pd.set_option('display.max_columns',None)\n"
   ]
  },
  {
   "cell_type": "code",
   "execution_count": 2,
   "id": "597b66a3",
   "metadata": {},
   "outputs": [],
   "source": [
    "querys={\n",
    "    \n",
    "    'Vendas':\n",
    "    \n",
    "    \"\"\"\n",
    "    \n",
    "    SELECT ped.[Data de Emissão],cli.[Data de Cadastro],\n",
    "    CASE WHEN ped.[Data de Emissão]=cli.[Data de Cadastro] THEN 'S' ELSE 'N' END AS [Positivado],\n",
    "    ped.Pedido,ped.[ID Cliente],cli.[Razão Social],cli.[Nome Fantasia],\n",
    "    ped.[ID Vendedor],vend.[Nome Resumido],vend.DDD,vend.Telefone,sup.Equipe,\n",
    "    sup.[ID Sup],sup.Supervisor,sup.[DDD Sup],sup.[Telefone Sup],\n",
    "    sup.[ID Gerente],sup.Gerente,sup.[DDD Gerente],sup.[Telefone Gerente],\n",
    "    SUM(ped.[Total Venda]) AS [Total Venda]\n",
    "    FROM netfeira.vw_venda_estatico ped\n",
    "    INNER JOIN netfeira.vw_cliente cli ON ped.[ID Cliente]=cli.[ID Cliente]\n",
    "    INNER JOIN netfeira.vw_vendedor vend ON ped.[ID Vendedor]=vend.[ID Vendedor] AND vend.Categoria='CLT'\n",
    "    INNER JOIN netfeira.vw_supervisor sup ON vend.[ID Equipe]=sup.[ID Equipe]\n",
    "    WHERE [Data de Emissão] BETWEEN DATEADD(DAY,1,\n",
    "    DATEADD(DAY,DAY(DATEADD(DAY,DAY(GETDATE())*-1,CONVERT(DATETIME,CAST(GETDATE() AS DATE),101)))*-1,\n",
    "    DATEADD(DAY,DAY(GETDATE())*-1,CONVERT(DATETIME,CAST(GETDATE() AS DATE),101)))) AND\n",
    "    DATEADD(DAY,DAY(GETDATE())*-1,CONVERT(DATETIME,CAST(GETDATE() AS DATE),101))\n",
    "    AND [Tipo de Operação]='VENDAS'\n",
    "    GROUP BY ped.[Data de Emissão],cli.[Data de Cadastro],ped.Pedido,ped.[ID Cliente],cli.[Razão Social],cli.[Nome Fantasia],\n",
    "    ped.[ID Vendedor],vend.[Nome Resumido],vend.DDD,vend.Telefone,sup.Equipe,\n",
    "    sup.[ID Sup],sup.Supervisor,sup.[DDD Sup],sup.[Telefone Sup],\n",
    "    sup.[ID Gerente],sup.Gerente,sup.[DDD Gerente],sup.[Telefone Gerente]    \n",
    "    \n",
    "    \"\"\"\n",
    "}"
   ]
  },
  {
   "cell_type": "code",
   "execution_count": null,
   "id": "fcea3370",
   "metadata": {},
   "outputs": [],
   "source": [
    "df=sql.CriarTabela(kwargs=querys)"
   ]
  },
  {
   "cell_type": "code",
   "execution_count": null,
   "id": "fb6daa91",
   "metadata": {},
   "outputs": [],
   "source": [
    "df['Lista']=df['Vendas'].groupby(['ID Cliente'],as_index=False).agg({'Total Venda':'sum'})"
   ]
  },
  {
   "cell_type": "code",
   "execution_count": null,
   "id": "1d5af2b9",
   "metadata": {},
   "outputs": [],
   "source": [
    "codigos=df['Lista'].loc[df['Lista']['Total Venda']>0,'ID Cliente'].unique().tolist()"
   ]
  },
  {
   "cell_type": "code",
   "execution_count": null,
   "id": "3d5c5634",
   "metadata": {},
   "outputs": [],
   "source": [
    "df['Vendas'].columns"
   ]
  },
  {
   "cell_type": "code",
   "execution_count": null,
   "id": "9e01f2b2",
   "metadata": {},
   "outputs": [],
   "source": [
    "df['Consolidado']=df['Vendas'].loc[(df['Vendas']['ID Cliente'].isin(codigos))&(df['Vendas']['Positivado']=='S')].groupby(['ID Cliente', 'Razão Social', 'Nome Fantasia','Data de Cadastro', 'ID Vendedor',\n",
    "       'Nome Resumido', 'DDD', 'Telefone', 'Equipe', 'ID Sup', 'Supervisor',\n",
    "       'DDD Sup', 'Telefone Sup', 'ID Gerente', 'Gerente', 'DDD Gerente',\n",
    "       'Telefone Gerente'],as_index=False).agg({'Total Venda':'sum'})"
   ]
  },
  {
   "cell_type": "code",
   "execution_count": null,
   "id": "6bd222a1",
   "metadata": {},
   "outputs": [],
   "source": [
    "df['Consolidado']['Data Mín']=df['Consolidado']['ID Cliente'].apply(lambda info: df['Vendas'].loc[df['Vendas']['ID Cliente']==info,'Data de Emissão'].min())"
   ]
  },
  {
   "cell_type": "code",
   "execution_count": null,
   "id": "3d5516bb",
   "metadata": {},
   "outputs": [],
   "source": [
    "df['Consolidado']['Pedido']=df['Consolidado']['ID Cliente'].apply(lambda info: df['Vendas'].loc[df['Vendas']['ID Cliente']==info,'Pedido'].min())"
   ]
  },
  {
   "cell_type": "code",
   "execution_count": null,
   "id": "0d034f95",
   "metadata": {},
   "outputs": [],
   "source": [
    "df['Temp']=df['Consolidado'].groupby(['ID Vendedor',\n",
    "       'Nome Resumido', 'DDD', 'Telefone', 'Equipe', 'ID Sup', 'Supervisor',\n",
    "       'DDD Sup', 'Telefone Sup', 'ID Gerente', 'Gerente', 'DDD Gerente',\n",
    "       'Telefone Gerente'],as_index=False).agg({'ID Cliente':'count'}).sort_values('ID Cliente',ascending=False)"
   ]
  },
  {
   "cell_type": "code",
   "execution_count": null,
   "id": "d7e4cca0",
   "metadata": {},
   "outputs": [],
   "source": [
    "df['Temp']"
   ]
  },
  {
   "cell_type": "code",
   "execution_count": null,
   "id": "2754eb9e",
   "metadata": {},
   "outputs": [],
   "source": []
  }
 ],
 "metadata": {
  "kernelspec": {
   "display_name": "Python 3 (ipykernel)",
   "language": "python",
   "name": "python3"
  },
  "language_info": {
   "codemirror_mode": {
    "name": "ipython",
    "version": 3
   },
   "file_extension": ".py",
   "mimetype": "text/x-python",
   "name": "python",
   "nbconvert_exporter": "python",
   "pygments_lexer": "ipython3",
   "version": "3.9.7"
  }
 },
 "nbformat": 4,
 "nbformat_minor": 5
}
