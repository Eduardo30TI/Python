{
 "cells": [
  {
   "cell_type": "code",
   "execution_count": 1,
   "id": "a0174b1a",
   "metadata": {},
   "outputs": [],
   "source": [
    "import pandas as pd\n",
    "from Acesso import Login\n",
    "from Query import Query\n",
    "\n",
    "s=Login()\n",
    "\n",
    "sql=Query(s.usuario,s.senha,s.database,s.server)\n",
    "\n",
    "pd.set_option('display.max_columns',None)"
   ]
  },
  {
   "cell_type": "code",
   "execution_count": 2,
   "id": "7e8a41f9",
   "metadata": {},
   "outputs": [],
   "source": [
    "querys={\n",
    "    \n",
    "    'Cliente':\n",
    "    \n",
    "    \"\"\"\n",
    "    \n",
    "    SELECT * FROM netfeira.vw_cliente\n",
    "    \n",
    "    \"\"\",\n",
    "    \n",
    "    'Segmento':\n",
    "    \n",
    "    \"\"\"\n",
    "    \n",
    "    SELECT * FROM netfeira.vw_segmento\n",
    "    \n",
    "    \"\"\"\n",
    "    \n",
    "}"
   ]
  },
  {
   "cell_type": "code",
   "execution_count": 3,
   "id": "0a57385d",
   "metadata": {},
   "outputs": [],
   "source": [
    "df=sql.CriarTabela(kwargs=querys)"
   ]
  },
  {
   "cell_type": "code",
   "execution_count": 4,
   "id": "c612bf61",
   "metadata": {},
   "outputs": [],
   "source": [
    "df['Cliente']=df['Cliente'].merge(df['Segmento'],on='ID Segmento',how='inner')"
   ]
  },
  {
   "cell_type": "code",
   "execution_count": 5,
   "id": "03e8168f",
   "metadata": {},
   "outputs": [],
   "source": [
    "df['Redes']=df['Cliente'].loc[(df['Cliente']['Tipo de Cliente']=='J')&(df['Cliente']['Rede']=='REDE')]\n",
    "\n",
    "df['Redes']=df['Redes'].sort_values('CNPJ Base',ascending=True,ignore_index=True)\n",
    "\n",
    "df['Redes']=df['Redes'].loc[df['Redes']['CNPJ Base']!='00000000']\n",
    "\n",
    "matriz=df['Redes']['Matriz'].loc[~df['Redes']['Matriz'].isnull()].unique().tolist()\n",
    "\n",
    "temp_df=pd.DataFrame()\n",
    "\n",
    "for m in matriz:\n",
    "    \n",
    "    base_df=pd.DataFrame()\n",
    "    \n",
    "    base_df=df['Redes'].loc[df['Redes']['Nome Fantasia'].str.contains(m)]\n",
    "    \n",
    "    temp_df=pd.concat([temp_df,base_df],axis=0,ignore_index=True)\n",
    "    \n",
    "    pass\n",
    "\n",
    "temp_df.to_excel('Consolidado.xlsx',index=False,encoding='ISO-8859-1')"
   ]
  },
  {
   "cell_type": "code",
   "execution_count": null,
   "id": "6e88c751",
   "metadata": {},
   "outputs": [],
   "source": []
  }
 ],
 "metadata": {
  "kernelspec": {
   "display_name": "Python 3 (ipykernel)",
   "language": "python",
   "name": "python3"
  },
  "language_info": {
   "codemirror_mode": {
    "name": "ipython",
    "version": 3
   },
   "file_extension": ".py",
   "mimetype": "text/x-python",
   "name": "python",
   "nbconvert_exporter": "python",
   "pygments_lexer": "ipython3",
   "version": "3.9.7"
  }
 },
 "nbformat": 4,
 "nbformat_minor": 5
}
