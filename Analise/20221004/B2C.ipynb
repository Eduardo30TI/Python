{
 "cells": [
  {
   "cell_type": "code",
   "execution_count": 1,
   "id": "c4949e08",
   "metadata": {},
   "outputs": [],
   "source": [
    "import pandas as pd\n",
    "from Acesso import Login\n",
    "from Query import Query\n",
    "\n",
    "pd.set_option('display.max_columns',None)\n",
    "\n",
    "s=Login()\n",
    "\n",
    "sql=Query(s.usuario,s.senha,s.database,s.server)"
   ]
  },
  {
   "cell_type": "code",
   "execution_count": 2,
   "id": "8ba8d12b",
   "metadata": {},
   "outputs": [],
   "source": [
    "querys={\n",
    "    \n",
    "    'Vendas':\n",
    "    \n",
    "    \"\"\"\n",
    "    \n",
    "    SELECT * FROM netfeira.vw_targetestatistico\n",
    "    \n",
    "    \"\"\",\n",
    "    \n",
    "    'Produto':\n",
    "    \n",
    "    \"\"\"\n",
    "    \n",
    "    SELECT * FROM netfeira.vw_produto\n",
    "    \n",
    "    \"\"\",\n",
    "    \n",
    "    'Cliente':\n",
    "    \n",
    "    \"\"\"\n",
    "    \n",
    "    SELECT * FROM netfeira.vw_cliente\n",
    "    \n",
    "    \"\"\"\n",
    "    \n",
    "}"
   ]
  },
  {
   "cell_type": "code",
   "execution_count": 3,
   "id": "16acc7a0",
   "metadata": {},
   "outputs": [],
   "source": [
    "tabelas_df=sql.CriarTabela(kwargs=querys)"
   ]
  },
  {
   "cell_type": "code",
   "execution_count": 7,
   "id": "1c140d54",
   "metadata": {},
   "outputs": [],
   "source": [
    "tabelas_df['Cliente']=tabelas_df['Cliente'].loc[(tabelas_df['Cliente']['Tipo de Cliente']=='F')&(tabelas_df['Cliente']['Status do Cliente']=='ATIVO')]"
   ]
  },
  {
   "cell_type": "code",
   "execution_count": 8,
   "id": "c7024cb6",
   "metadata": {},
   "outputs": [
    {
     "data": {
      "text/plain": [
       "Index(['ID Cliente', 'CNPJ', 'CNPJ Caracter', 'Razão Social', 'Nome Fantasia',\n",
       "       'Tipo de Cliente', 'Status do Cliente', 'ID Segmento', 'Matriz',\n",
       "       'Crédito', 'Data de Cadastro', 'Primeira Compra', 'Última Compra',\n",
       "       'Dias Compra', 'Tabela', 'Condição de Pagto', 'Prazo Pagto',\n",
       "       'Pagamento', 'CEP', 'Endereço', 'Bairro', 'Município', 'Numero',\n",
       "       'Complemento', 'Região', 'UF', 'DDD', 'Contato', 'Limite de Crédito',\n",
       "       'Principal', 'E-mail Cliente', 'Tributação do Cliente', 'ID Rota',\n",
       "       'Latitude', 'Longitude'],\n",
       "      dtype='object')"
      ]
     },
     "execution_count": 8,
     "metadata": {},
     "output_type": "execute_result"
    }
   ],
   "source": [
    "tabelas_df['Cliente'].columns"
   ]
  },
  {
   "cell_type": "code",
   "execution_count": 25,
   "id": "f2bde042",
   "metadata": {},
   "outputs": [
    {
     "data": {
      "text/plain": [
       "Index(['SKU', 'Cód. Fabricante', 'Produto', 'Status', 'Fabricante',\n",
       "       'Departamento', 'Seção', 'Categoria', 'Linha', 'Grupo de Produtos',\n",
       "       'Grupo Indústria', 'Grupo de Meta', 'Grupo MCCAIN', 'Linha Fabrica',\n",
       "       'Grupo de Promotores', 'Peso Liquido', 'Peso Bruto', 'Fator CX',\n",
       "       'Unid. CMP', 'Unid. STK', 'Fator CMP', 'Fotos', 'EAN', 'DUN',\n",
       "       'Peso Liquido Caixa', 'Peso Bruto Caixa', 'Fator Unid CMP'],\n",
       "      dtype='object')"
      ]
     },
     "execution_count": 25,
     "metadata": {},
     "output_type": "execute_result"
    }
   ],
   "source": [
    "tabelas_df['Produto'].columns"
   ]
  },
  {
   "cell_type": "code",
   "execution_count": 17,
   "id": "f82c501d",
   "metadata": {},
   "outputs": [],
   "source": [
    "vendas_df=pd.DataFrame()\n",
    "\n",
    "vendas_df=tabelas_df['Vendas'].loc[(tabelas_df['Vendas']['Tipo de Operação']!='OUTROS')]"
   ]
  },
  {
   "cell_type": "code",
   "execution_count": 18,
   "id": "fec7f626",
   "metadata": {},
   "outputs": [
    {
     "data": {
      "text/plain": [
       "Index(['Origem', 'Situação Entrega', 'ID Situação', 'Situação', 'Pedido',\n",
       "       'NFe', 'Tipo de Pedido', 'Tipo de Operação', 'Tabelas',\n",
       "       'Data de Emissão', 'Data de Faturamento', 'Data de Entrega',\n",
       "       'ID Empresa', 'ID Cliente', 'ID Vendedor', 'SKU', 'Seq', 'Qtde',\n",
       "       'Unid. VDA', 'Fator', 'Qtde. VDA', 'Valor VDA', 'Total Venda',\n",
       "       'Total AV', 'MG CRP', 'Margem CUE', 'Margem CMP', 'Comsissão R$',\n",
       "       'COFINS R$', 'PIS R$', 'ICMS R$', 'ICMS ST R$', 'IPI R$',\n",
       "       'Peso Bruto KG', 'Peso Líquido KG', 'Total Geral'],\n",
       "      dtype='object')"
      ]
     },
     "execution_count": 18,
     "metadata": {},
     "output_type": "execute_result"
    }
   ],
   "source": [
    "vendas_df.columns"
   ]
  },
  {
   "cell_type": "code",
   "execution_count": 20,
   "id": "865e69a9",
   "metadata": {},
   "outputs": [],
   "source": [
    "vendas_df=vendas_df.loc[(vendas_df['Data de Faturamento'].dt.year==2022)&(vendas_df['ID Situação']=='FA')]"
   ]
  },
  {
   "cell_type": "code",
   "execution_count": 23,
   "id": "559190f0",
   "metadata": {},
   "outputs": [],
   "source": [
    "vendas_df=vendas_df.merge(tabelas_df['Cliente'],on='ID Cliente',how='inner')[['Origem', 'Situação Entrega', 'ID Situação', 'Situação', 'Pedido',\n",
    "       'NFe', 'Tipo de Pedido', 'Tipo de Operação', 'Tabelas',\n",
    "       'Data de Emissão', 'Data de Faturamento', 'Data de Entrega',\n",
    "       'ID Empresa', 'ID Cliente','CNPJ', 'CNPJ Caracter', 'Razão Social', 'Nome Fantasia',\n",
    "       'Tipo de Cliente', 'Status do Cliente', 'ID Segmento', 'Matriz',\n",
    "       'Crédito', 'Data de Cadastro', 'Primeira Compra', 'Última Compra',\n",
    "       'Dias Compra', 'Tabela', 'Condição de Pagto', 'Prazo Pagto',\n",
    "       'Pagamento', 'CEP', 'Endereço', 'Bairro', 'Município', 'Numero',\n",
    "       'Complemento', 'Região', 'UF', 'DDD', 'Contato', 'Limite de Crédito',\n",
    "       'Principal', 'E-mail Cliente', 'Tributação do Cliente', 'ID Rota',\n",
    "       'Latitude', 'Longitude', 'ID Vendedor', 'SKU', 'Seq', 'Qtde',\n",
    "       'Unid. VDA', 'Fator', 'Qtde. VDA', 'Valor VDA', 'Total Venda',\n",
    "       'Total AV', 'MG CRP', 'Margem CUE', 'Margem CMP', 'Comsissão R$',\n",
    "       'COFINS R$', 'PIS R$', 'ICMS R$', 'ICMS ST R$', 'IPI R$',\n",
    "       'Peso Bruto KG', 'Peso Líquido KG', 'Total Geral']]"
   ]
  },
  {
   "cell_type": "code",
   "execution_count": 27,
   "id": "2ba53e1e",
   "metadata": {},
   "outputs": [],
   "source": [
    "vendas_df=vendas_df.merge(tabelas_df['Produto'],on='SKU',how='inner')[['Origem', 'Situação Entrega', 'ID Situação', 'Situação', 'Pedido',\n",
    "       'NFe', 'Tipo de Pedido', 'Tipo de Operação', 'Tabelas',\n",
    "       'Data de Emissão', 'Data de Faturamento', 'Data de Entrega',\n",
    "       'ID Empresa', 'ID Cliente','CNPJ', 'CNPJ Caracter', 'Razão Social', 'Nome Fantasia',\n",
    "       'Tipo de Cliente', 'Status do Cliente', 'ID Segmento', 'Matriz',\n",
    "       'Crédito', 'Data de Cadastro', 'Primeira Compra', 'Última Compra',\n",
    "       'Dias Compra', 'Tabela', 'Condição de Pagto', 'Prazo Pagto',\n",
    "       'Pagamento', 'CEP', 'Endereço', 'Bairro', 'Município', 'Numero',\n",
    "       'Complemento', 'Região', 'UF', 'DDD', 'Contato', 'Limite de Crédito',\n",
    "       'Principal', 'E-mail Cliente', 'Tributação do Cliente', 'ID Rota',\n",
    "       'Latitude', 'Longitude', 'ID Vendedor', 'SKU','Produto', 'Status', 'Fabricante',\n",
    "       'Departamento', 'Seção', 'Categoria', 'Linha', 'Seq', 'Qtde',\n",
    "       'Unid. VDA', 'Fator', 'Qtde. VDA', 'Valor VDA', 'Total Venda',\n",
    "       'Total AV', 'MG CRP', 'Margem CUE', 'Margem CMP', 'Comsissão R$',\n",
    "       'COFINS R$', 'PIS R$', 'ICMS R$', 'ICMS ST R$', 'IPI R$',\n",
    "       'Peso Bruto KG', 'Peso Líquido KG', 'Total Geral']]"
   ]
  },
  {
   "cell_type": "code",
   "execution_count": 41,
   "id": "a2f59975",
   "metadata": {},
   "outputs": [],
   "source": [
    "def Classificacao(val):\n",
    "    \n",
    "    if(val<=80):\n",
    "        \n",
    "        tipo='A'\n",
    "        \n",
    "        pass\n",
    "    \n",
    "    \n",
    "    elif(val<=95):\n",
    "        \n",
    "        \n",
    "        tipo='B'\n",
    "        \n",
    "        pass\n",
    "    \n",
    "    \n",
    "    else:\n",
    "        \n",
    "        tipo='C'\n",
    "        \n",
    "        pass\n",
    "    \n",
    "    return tipo\n",
    "    \n",
    "    pass"
   ]
  },
  {
   "cell_type": "code",
   "execution_count": 49,
   "id": "209609f4",
   "metadata": {},
   "outputs": [],
   "source": [
    "produto_df=pd.DataFrame()\n",
    "\n",
    "produto_df=vendas_df[['SKU','Produto', 'Status', 'Fabricante',\n",
    "       'Departamento', 'Seção', 'Categoria', 'Linha','Total Venda']].loc[vendas_df['Status']=='ATIVO'].groupby(['SKU','Produto', 'Status', 'Fabricante',\n",
    "       'Departamento', 'Seção', 'Categoria', 'Linha'],as_index=False).sum()\n",
    "\n",
    "produto_df['Atendimento']=produto_df['SKU'].apply(lambda info: len(vendas_df['ID Cliente'].loc[vendas_df['SKU']==info].unique().tolist()))\n",
    "\n",
    "produto_df.sort_values('Atendimento',ascending=False,ignore_index=True,inplace=True)\n",
    "\n",
    "valores=[]\n",
    "\n",
    "soma=0\n",
    "\n",
    "for val in produto_df['Atendimento'].tolist():\n",
    "    \n",
    "    soma+=val\n",
    "    \n",
    "    valores.append(soma)\n",
    "    \n",
    "    pass\n",
    "\n",
    "total=produto_df['Atendimento'].sum()\n",
    "\n",
    "produto_df['Acumulado']=valores\n",
    "\n",
    "produto_df['Total']=total\n",
    "\n",
    "produto_df['Perc %']=round(produto_df['Acumulado']/produto_df['Total'],4)*100\n",
    "\n",
    "produto_df['Classificação']=produto_df['Perc %'].apply(Classificacao)\n",
    "\n",
    "produto_df.drop(columns=['Acumulado','Total','Perc %'],inplace=True)\n",
    "\n",
    "produto_df.to_excel('Produtos B2C.xlsx',index=False,encoding='ISO-8859-1')"
   ]
  },
  {
   "cell_type": "code",
   "execution_count": null,
   "id": "9e014929",
   "metadata": {},
   "outputs": [],
   "source": []
  }
 ],
 "metadata": {
  "kernelspec": {
   "display_name": "Python 3 (ipykernel)",
   "language": "python",
   "name": "python3"
  },
  "language_info": {
   "codemirror_mode": {
    "name": "ipython",
    "version": 3
   },
   "file_extension": ".py",
   "mimetype": "text/x-python",
   "name": "python",
   "nbconvert_exporter": "python",
   "pygments_lexer": "ipython3",
   "version": "3.9.7"
  }
 },
 "nbformat": 4,
 "nbformat_minor": 5
}
