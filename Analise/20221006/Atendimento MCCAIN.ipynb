{
 "cells": [
  {
   "cell_type": "code",
   "execution_count": 1,
   "id": "c4a12f01",
   "metadata": {},
   "outputs": [],
   "source": [
    "import pandas as pd\n",
    "from Acesso import Login\n",
    "from Query import Query\n",
    "\n",
    "pd.set_option('display.max_columns',None)\n",
    "\n",
    "s=Login()\n",
    "\n",
    "sql=Query(s.usuario,s.senha,s.database,s.server)"
   ]
  },
  {
   "cell_type": "code",
   "execution_count": 2,
   "id": "7e536614",
   "metadata": {},
   "outputs": [],
   "source": [
    "querys={\n",
    "    \n",
    "    'Vendas':\n",
    "    \n",
    "    \"\"\"\n",
    "    \n",
    "    SELECT * FROM netfeira.vw_targetestatico\n",
    "\n",
    "        \n",
    "    \"\"\",\n",
    "    \n",
    "    'Produto':\n",
    "    \n",
    "    \"\"\"\n",
    "    \n",
    "    SELECT * FROM netfeira.vw_produto\n",
    "    \n",
    "    \"\"\",\n",
    "    \n",
    "    'Vendedor':\n",
    "    \n",
    "    \"\"\"\n",
    "    \n",
    "    SELECT * FROM netfeira.vw_vendedor\n",
    "    \n",
    "    \"\"\",\n",
    "    \n",
    "    'Supervisor':\n",
    "    \n",
    "    \n",
    "    \"\"\"\n",
    "    \n",
    "    SELECT * FROM netfeira.vw_supervisor\n",
    "    \n",
    "    \"\"\"\n",
    "    \n",
    "}"
   ]
  },
  {
   "cell_type": "code",
   "execution_count": 23,
   "id": "2b366bfb",
   "metadata": {},
   "outputs": [],
   "source": [
    "tabelas_df=sql.CriarTabela(kwargs=querys)"
   ]
  },
  {
   "cell_type": "code",
   "execution_count": 24,
   "id": "edffef9d",
   "metadata": {},
   "outputs": [
    {
     "ename": "NameError",
     "evalue": "name 'vendas_df' is not defined",
     "output_type": "error",
     "traceback": [
      "\u001b[1;31m---------------------------------------------------------------------------\u001b[0m",
      "\u001b[1;31mNameError\u001b[0m                                 Traceback (most recent call last)",
      "\u001b[1;32m~\\AppData\\Local\\Temp/ipykernel_17668/126022927.py\u001b[0m in \u001b[0;36m<module>\u001b[1;34m\u001b[0m\n\u001b[1;32m----> 1\u001b[1;33m \u001b[0mvendas_df\u001b[0m\u001b[1;33m==\u001b[0m\u001b[0mpd\u001b[0m\u001b[1;33m.\u001b[0m\u001b[0mDataFrame\u001b[0m\u001b[1;33m(\u001b[0m\u001b[1;33m)\u001b[0m\u001b[1;33m\u001b[0m\u001b[1;33m\u001b[0m\u001b[0m\n\u001b[0m\u001b[0;32m      2\u001b[0m \u001b[1;33m\u001b[0m\u001b[0m\n\u001b[0;32m      3\u001b[0m \u001b[0mvendas_df\u001b[0m\u001b[1;33m=\u001b[0m\u001b[0mtabelas_df\u001b[0m\u001b[1;33m[\u001b[0m\u001b[1;34m'Vendas'\u001b[0m\u001b[1;33m]\u001b[0m\u001b[1;33m.\u001b[0m\u001b[0mloc\u001b[0m\u001b[1;33m[\u001b[0m\u001b[1;33m(\u001b[0m\u001b[0mtabelas_df\u001b[0m\u001b[1;33m[\u001b[0m\u001b[1;34m'Vendas'\u001b[0m\u001b[1;33m]\u001b[0m\u001b[1;33m[\u001b[0m\u001b[1;34m'Tipo de Operação'\u001b[0m\u001b[1;33m]\u001b[0m\u001b[1;33m!=\u001b[0m\u001b[1;34m'OUTROS'\u001b[0m\u001b[1;33m)\u001b[0m\u001b[1;33m&\u001b[0m\u001b[1;33m(\u001b[0m\u001b[1;33m(\u001b[0m\u001b[0mtabelas_df\u001b[0m\u001b[1;33m[\u001b[0m\u001b[1;34m'Vendas'\u001b[0m\u001b[1;33m]\u001b[0m\u001b[1;33m[\u001b[0m\u001b[1;34m'Data de Faturamento'\u001b[0m\u001b[1;33m]\u001b[0m\u001b[1;33m.\u001b[0m\u001b[0mdt\u001b[0m\u001b[1;33m.\u001b[0m\u001b[0myear\u001b[0m\u001b[1;33m==\u001b[0m\u001b[1;36m2022\u001b[0m\u001b[1;33m)\u001b[0m\u001b[1;33m)\u001b[0m\u001b[1;33m]\u001b[0m\u001b[1;33m\u001b[0m\u001b[1;33m\u001b[0m\u001b[0m\n",
      "\u001b[1;31mNameError\u001b[0m: name 'vendas_df' is not defined"
     ]
    }
   ],
   "source": [
    "vendas_df==pd.DataFrame()\n",
    "\n",
    "vendas_df=tabelas_df['Vendas'].loc[(tabelas_df['Vendas']['Tipo de Operação']!='OUTROS')&((tabelas_df['Vendas']['Data de Faturamento'].dt.year==2022))]"
   ]
  },
  {
   "cell_type": "code",
   "execution_count": null,
   "id": "14f876b0",
   "metadata": {},
   "outputs": [],
   "source": [
    "vendas_df"
   ]
  },
  {
   "cell_type": "code",
   "execution_count": 22,
   "id": "b8445065",
   "metadata": {},
   "outputs": [
    {
     "data": {
      "text/html": [
       "<div>\n",
       "<style scoped>\n",
       "    .dataframe tbody tr th:only-of-type {\n",
       "        vertical-align: middle;\n",
       "    }\n",
       "\n",
       "    .dataframe tbody tr th {\n",
       "        vertical-align: top;\n",
       "    }\n",
       "\n",
       "    .dataframe thead th {\n",
       "        text-align: right;\n",
       "    }\n",
       "</style>\n",
       "<table border=\"1\" class=\"dataframe\">\n",
       "  <thead>\n",
       "    <tr style=\"text-align: right;\">\n",
       "      <th></th>\n",
       "      <th>ID Vendedor</th>\n",
       "      <th>Situação</th>\n",
       "      <th>Qtde</th>\n",
       "    </tr>\n",
       "  </thead>\n",
       "  <tbody>\n",
       "    <tr>\n",
       "      <th>0</th>\n",
       "      <td>ADANTAS</td>\n",
       "      <td>CANCELADO</td>\n",
       "      <td>-1164.0000</td>\n",
       "    </tr>\n",
       "    <tr>\n",
       "      <th>1</th>\n",
       "      <td>ADANTAS</td>\n",
       "      <td>DEVOLUÇÃO</td>\n",
       "      <td>-285.0000</td>\n",
       "    </tr>\n",
       "    <tr>\n",
       "      <th>2</th>\n",
       "      <td>ADANTAS</td>\n",
       "      <td>DEVOLUÇÃO PARCIAL</td>\n",
       "      <td>-515.0000</td>\n",
       "    </tr>\n",
       "    <tr>\n",
       "      <th>3</th>\n",
       "      <td>ADANTAS</td>\n",
       "      <td>FATURADO</td>\n",
       "      <td>93068.8856</td>\n",
       "    </tr>\n",
       "    <tr>\n",
       "      <th>4</th>\n",
       "      <td>ADELIALO</td>\n",
       "      <td>CANCELADO</td>\n",
       "      <td>-563.0000</td>\n",
       "    </tr>\n",
       "    <tr>\n",
       "      <th>...</th>\n",
       "      <td>...</td>\n",
       "      <td>...</td>\n",
       "      <td>...</td>\n",
       "    </tr>\n",
       "    <tr>\n",
       "      <th>225</th>\n",
       "      <td>VERONIKA</td>\n",
       "      <td>DEVOLUÇÃO PARCIAL</td>\n",
       "      <td>-84.0000</td>\n",
       "    </tr>\n",
       "    <tr>\n",
       "      <th>226</th>\n",
       "      <td>VERONIKA</td>\n",
       "      <td>FATURADO</td>\n",
       "      <td>13879.0000</td>\n",
       "    </tr>\n",
       "    <tr>\n",
       "      <th>227</th>\n",
       "      <td>VIVIANCR</td>\n",
       "      <td>CANCELADO</td>\n",
       "      <td>-145.0000</td>\n",
       "    </tr>\n",
       "    <tr>\n",
       "      <th>228</th>\n",
       "      <td>VIVIANCR</td>\n",
       "      <td>DEVOLUÇÃO</td>\n",
       "      <td>-159.0000</td>\n",
       "    </tr>\n",
       "    <tr>\n",
       "      <th>229</th>\n",
       "      <td>VIVIANCR</td>\n",
       "      <td>FATURADO</td>\n",
       "      <td>18013.9650</td>\n",
       "    </tr>\n",
       "  </tbody>\n",
       "</table>\n",
       "<p>230 rows × 3 columns</p>\n",
       "</div>"
      ],
      "text/plain": [
       "    ID Vendedor           Situação        Qtde\n",
       "0      ADANTAS           CANCELADO  -1164.0000\n",
       "1      ADANTAS           DEVOLUÇÃO   -285.0000\n",
       "2      ADANTAS   DEVOLUÇÃO PARCIAL   -515.0000\n",
       "3      ADANTAS            FATURADO  93068.8856\n",
       "4      ADELIALO          CANCELADO   -563.0000\n",
       "..          ...                ...         ...\n",
       "225    VERONIKA  DEVOLUÇÃO PARCIAL    -84.0000\n",
       "226    VERONIKA           FATURADO  13879.0000\n",
       "227    VIVIANCR          CANCELADO   -145.0000\n",
       "228    VIVIANCR          DEVOLUÇÃO   -159.0000\n",
       "229    VIVIANCR           FATURADO  18013.9650\n",
       "\n",
       "[230 rows x 3 columns]"
      ]
     },
     "execution_count": 22,
     "metadata": {},
     "output_type": "execute_result"
    }
   ],
   "source": []
  },
  {
   "cell_type": "code",
   "execution_count": null,
   "id": "b956db47",
   "metadata": {},
   "outputs": [],
   "source": []
  }
 ],
 "metadata": {
  "kernelspec": {
   "display_name": "Python 3 (ipykernel)",
   "language": "python",
   "name": "python3"
  },
  "language_info": {
   "codemirror_mode": {
    "name": "ipython",
    "version": 3
   },
   "file_extension": ".py",
   "mimetype": "text/x-python",
   "name": "python",
   "nbconvert_exporter": "python",
   "pygments_lexer": "ipython3",
   "version": "3.9.7"
  }
 },
 "nbformat": 4,
 "nbformat_minor": 5
}
