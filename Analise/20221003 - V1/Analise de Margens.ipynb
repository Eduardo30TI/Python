{
 "cells": [
  {
   "cell_type": "code",
   "execution_count": 1,
   "id": "284cdd4a",
   "metadata": {},
   "outputs": [],
   "source": [
    "import pandas as pd\n",
    "from Acesso import Login\n",
    "from Query import Query\n",
    "\n",
    "pd.set_option('display.max_columns',None)\n",
    "\n",
    "s=Login()\n",
    "\n",
    "sql=Query(s.usuario,s.senha,s.database,s.server)\n"
   ]
  },
  {
   "cell_type": "code",
   "execution_count": 2,
   "id": "ddda8681",
   "metadata": {},
   "outputs": [],
   "source": [
    "querys={\n",
    "    \n",
    "    \n",
    "    'Margens':\n",
    "    \n",
    "    \"\"\"\n",
    "    \n",
    "    SELECT * FROM netfeira.vw_margens\n",
    "    \n",
    "    \"\"\",\n",
    "    \n",
    "    'Cliente':\n",
    "    \n",
    "    \"\"\"\n",
    "    \n",
    "    SELECT * FROM netfeira.vw_cliente\n",
    "    \n",
    "    \"\"\",\n",
    "    \n",
    "    'Produto':\n",
    "    \n",
    "    \"\"\"\n",
    "    \n",
    "    SELECT * FROM netfeira.vw_produto\n",
    "    \n",
    "    \"\"\",\n",
    "    \n",
    "    'Segmento':\n",
    "    \n",
    "    \"\"\"\n",
    "    \n",
    "    SELECT * FROM netfeira.vw_segmento\n",
    "    \n",
    "    \"\"\",\n",
    "    \n",
    "    'Vendedor':\n",
    "    \n",
    "    \"\"\"\n",
    "    \n",
    "    SELECT * FROM netfeira.vw_vendedor\n",
    "    \n",
    "    \"\"\",\n",
    "    \n",
    "    'Supervisor':\n",
    "    \n",
    "    \"\"\"\n",
    "    \n",
    "    SELECT * FROM netfeira.vw_supervisor\n",
    "    \n",
    "    \"\"\",\n",
    "    \n",
    "    'TabMargem':\n",
    "    \n",
    "    \"\"\"\n",
    "    \n",
    "    SELECT * FROM netfeira.vw_targetmargem\n",
    "    \n",
    "    \"\"\"\n",
    "    \n",
    "}"
   ]
  },
  {
   "cell_type": "code",
   "execution_count": 3,
   "id": "59f3cd78",
   "metadata": {},
   "outputs": [],
   "source": [
    "tabelas=sql.CriarTabela(kwargs=querys)"
   ]
  },
  {
   "cell_type": "code",
   "execution_count": 4,
   "id": "faf19898",
   "metadata": {},
   "outputs": [
    {
     "data": {
      "text/plain": [
       "Index(['ID Cliente', 'CNPJ', 'CNPJ Caracter', 'Razão Social', 'Nome Fantasia',\n",
       "       'Tipo de Cliente', 'Status do Cliente', 'ID Segmento', 'Matriz',\n",
       "       'Crédito', 'Data de Cadastro', 'Primeira Compra', 'Última Compra',\n",
       "       'Dias Compra', 'Tabela', 'Condição de Pagto', 'Prazo Pagto',\n",
       "       'Pagamento', 'CEP', 'Endereço', 'Bairro', 'Município', 'Numero',\n",
       "       'Complemento', 'Região', 'UF', 'DDD', 'Contato', 'Limite de Crédito',\n",
       "       'Principal', 'E-mail Cliente', 'Tributação do Cliente', 'ID Rota',\n",
       "       'Latitude', 'Longitude'],\n",
       "      dtype='object')"
      ]
     },
     "execution_count": 4,
     "metadata": {},
     "output_type": "execute_result"
    }
   ],
   "source": [
    "tabelas['Cliente'].columns"
   ]
  },
  {
   "cell_type": "code",
   "execution_count": 5,
   "id": "49e550df",
   "metadata": {},
   "outputs": [
    {
     "data": {
      "text/plain": [
       "Index(['ID Segmento', 'Segmento', 'Canal'], dtype='object')"
      ]
     },
     "execution_count": 5,
     "metadata": {},
     "output_type": "execute_result"
    }
   ],
   "source": [
    "tabelas['Segmento'].columns"
   ]
  },
  {
   "cell_type": "code",
   "execution_count": 6,
   "id": "d3fcb9cd",
   "metadata": {},
   "outputs": [],
   "source": [
    "tabelas['Cliente']=tabelas['Cliente'].merge(tabelas['Segmento'],on='ID Segmento',how='inner')[['ID Cliente', 'CNPJ', 'CNPJ Caracter', 'Razão Social', 'Nome Fantasia',\n",
    "       'Tipo de Cliente', 'Status do Cliente', 'Segmento','Canal', 'Matriz',\n",
    "       'Crédito', 'Data de Cadastro', 'Primeira Compra', 'Última Compra',\n",
    "       'Dias Compra', 'Tabela', 'Condição de Pagto', 'Prazo Pagto',\n",
    "       'Pagamento', 'CEP', 'Endereço', 'Bairro', 'Município', 'Numero',\n",
    "       'Complemento', 'Região', 'UF', 'DDD', 'Contato', 'Limite de Crédito',\n",
    "       'Principal', 'E-mail Cliente', 'Tributação do Cliente', 'ID Rota',\n",
    "       'Latitude', 'Longitude']]"
   ]
  },
  {
   "cell_type": "code",
   "execution_count": 7,
   "id": "4cf30890",
   "metadata": {},
   "outputs": [
    {
     "data": {
      "text/plain": [
       "Index(['ID Cliente', 'CNPJ', 'CNPJ Caracter', 'Razão Social', 'Nome Fantasia',\n",
       "       'Tipo de Cliente', 'Status do Cliente', 'Segmento', 'Canal', 'Matriz',\n",
       "       'Crédito', 'Data de Cadastro', 'Primeira Compra', 'Última Compra',\n",
       "       'Dias Compra', 'Tabela', 'Condição de Pagto', 'Prazo Pagto',\n",
       "       'Pagamento', 'CEP', 'Endereço', 'Bairro', 'Município', 'Numero',\n",
       "       'Complemento', 'Região', 'UF', 'DDD', 'Contato', 'Limite de Crédito',\n",
       "       'Principal', 'E-mail Cliente', 'Tributação do Cliente', 'ID Rota',\n",
       "       'Latitude', 'Longitude'],\n",
       "      dtype='object')"
      ]
     },
     "execution_count": 7,
     "metadata": {},
     "output_type": "execute_result"
    }
   ],
   "source": [
    "tabelas['Cliente'].columns"
   ]
  },
  {
   "cell_type": "code",
   "execution_count": 8,
   "id": "d07e58b7",
   "metadata": {},
   "outputs": [
    {
     "data": {
      "text/plain": [
       "Index(['ID Vendedor', 'Vendedor', 'Nome Resumido', 'ID Equipe', 'E-mail',\n",
       "       'Categoria', 'Data de Cadastro', 'Status do Vendedor'],\n",
       "      dtype='object')"
      ]
     },
     "execution_count": 8,
     "metadata": {},
     "output_type": "execute_result"
    }
   ],
   "source": [
    "tabelas['Vendedor'].columns"
   ]
  },
  {
   "cell_type": "code",
   "execution_count": 9,
   "id": "82257bb5",
   "metadata": {},
   "outputs": [
    {
     "data": {
      "text/plain": [
       "Index(['ID Equipe', 'Equipe', 'ID Sup', 'Supervisor', 'Email Sup',\n",
       "       'ID Gerente', 'Gerente', 'Email Gerente'],\n",
       "      dtype='object')"
      ]
     },
     "execution_count": 9,
     "metadata": {},
     "output_type": "execute_result"
    }
   ],
   "source": [
    "tabelas['Supervisor'].columns"
   ]
  },
  {
   "cell_type": "code",
   "execution_count": 10,
   "id": "61f96663",
   "metadata": {},
   "outputs": [],
   "source": [
    "tabelas['Vendedor']=tabelas['Vendedor'].merge(tabelas['Supervisor'],on='ID Equipe',how='inner')[['ID Vendedor', 'Vendedor', 'Nome Resumido', 'Equipe', 'E-mail',\n",
    "       'Categoria', 'Status do Vendedor','Supervisor', 'Email Sup','Gerente', 'Email Gerente']]"
   ]
  },
  {
   "cell_type": "code",
   "execution_count": 11,
   "id": "add9311d",
   "metadata": {},
   "outputs": [
    {
     "data": {
      "text/plain": [
       "Index(['ID Vendedor', 'Vendedor', 'Nome Resumido', 'Equipe', 'E-mail',\n",
       "       'Categoria', 'Status do Vendedor', 'Supervisor', 'Email Sup', 'Gerente',\n",
       "       'Email Gerente'],\n",
       "      dtype='object')"
      ]
     },
     "execution_count": 11,
     "metadata": {},
     "output_type": "execute_result"
    }
   ],
   "source": [
    "tabelas['Vendedor'].columns"
   ]
  },
  {
   "cell_type": "code",
   "execution_count": 12,
   "id": "e40c9459",
   "metadata": {},
   "outputs": [
    {
     "data": {
      "text/plain": [
       "Index(['SKU', 'Cód. Fabricante', 'Produto', 'Status', 'Fabricante',\n",
       "       'Departamento', 'Seção', 'Categoria', 'Linha', 'Grupo de Produtos',\n",
       "       'Grupo Indústria', 'Grupo de Meta', 'Grupo MCCAIN', 'Linha Fabrica',\n",
       "       'Grupo de Promotores', 'Peso Liquido', 'Peso Bruto', 'Fator CX',\n",
       "       'Unid. CMP', 'Unid. STK', 'Fator CMP', 'Fotos', 'EAN', 'DUN',\n",
       "       'Peso Liquido Caixa', 'Peso Bruto Caixa', 'Fator Unid CMP'],\n",
       "      dtype='object')"
      ]
     },
     "execution_count": 12,
     "metadata": {},
     "output_type": "execute_result"
    }
   ],
   "source": [
    "tabelas['Produto'].columns"
   ]
  },
  {
   "cell_type": "code",
   "execution_count": 13,
   "id": "e8c28f58",
   "metadata": {},
   "outputs": [
    {
     "data": {
      "text/plain": [
       "Index(['SKU', 'Produto', 'Fabricante', 'Departamento', 'Seção', 'Categoria',\n",
       "       'Linha', 'Margem B', 'Margem F', 'Margem Média'],\n",
       "      dtype='object')"
      ]
     },
     "execution_count": 13,
     "metadata": {},
     "output_type": "execute_result"
    }
   ],
   "source": [
    "tabelas['TabMargem'].columns"
   ]
  },
  {
   "cell_type": "code",
   "execution_count": 14,
   "id": "7c4b7899",
   "metadata": {},
   "outputs": [
    {
     "data": {
      "text/plain": [
       "Index(['Origem', 'Situação Entrega', 'ID Situação', 'Situação', 'Pedido',\n",
       "       'NFe', 'Tipo de Pedido', 'Tipo de Operação', 'Tabelas',\n",
       "       'Data de Emissão', 'Data de Faturamento', 'Data de Entrega', 'Empresa',\n",
       "       'ID Cliente', 'ID Vendedor', 'SKU', 'Seq', 'Qtde', 'Unid. VDA', 'Fator',\n",
       "       'Qtde. VDA', 'Valor VDA', 'Total Venda', 'Total AV', 'MG CRP',\n",
       "       'Margem CUE', 'Margem CMP', 'Margem CRP', 'MG CUE', 'MG CMP',\n",
       "       'Comsissão R$', 'COFINS R$', 'PIS R$', 'ICMS R$', 'ICMS ST R$',\n",
       "       'IPI R$', 'Peso Bruto KG', 'Peso Líquido KG', 'Total Geral'],\n",
       "      dtype='object')"
      ]
     },
     "execution_count": 14,
     "metadata": {},
     "output_type": "execute_result"
    }
   ],
   "source": [
    "tabelas['Margens'].columns"
   ]
  },
  {
   "cell_type": "code",
   "execution_count": 23,
   "id": "98c2943c",
   "metadata": {},
   "outputs": [],
   "source": [
    "vendas_df=pd.DataFrame()\n",
    "\n",
    "vendas_df=tabelas['Margens']"
   ]
  },
  {
   "cell_type": "code",
   "execution_count": 24,
   "id": "0b0b5e9d",
   "metadata": {},
   "outputs": [],
   "source": [
    "vendas_df=vendas_df.loc[vendas_df['Tipo de Operação']=='VENDAS']"
   ]
  },
  {
   "cell_type": "code",
   "execution_count": 25,
   "id": "a22cc8f0",
   "metadata": {},
   "outputs": [
    {
     "data": {
      "text/plain": [
       "32"
      ]
     },
     "execution_count": 25,
     "metadata": {},
     "output_type": "execute_result"
    }
   ],
   "source": [
    "perc_med=round(tabelas['TabMargem']['Margem Média'].mean(),4)*100\n",
    "\n",
    "perc_min=round(tabelas['TabMargem']['Margem F'].mean(),4)*100\n",
    "\n",
    "perc_ideal=int(round((perc_med+perc_min)/2,2))\n",
    "\n",
    "perc_ideal"
   ]
  },
  {
   "cell_type": "code",
   "execution_count": 26,
   "id": "57c6a485",
   "metadata": {},
   "outputs": [],
   "source": [
    "vendas_df=vendas_df.merge(tabelas['Cliente'],on='ID Cliente',how='inner')[['Origem', 'Situação Entrega', 'ID Situação', 'Situação', 'Pedido',\n",
    "       'NFe', 'Tipo de Pedido', 'Tipo de Operação', 'Tabelas',\n",
    "       'Data de Emissão', 'Data de Faturamento', 'Data de Entrega', 'Empresa',\n",
    "       'ID Cliente','CNPJ', 'CNPJ Caracter', 'Razão Social', 'Nome Fantasia',\n",
    "       'Tipo de Cliente', 'Status do Cliente', 'Segmento', 'Canal', 'Matriz',\n",
    "       'Crédito', 'Data de Cadastro', 'Primeira Compra', 'Última Compra',\n",
    "       'Dias Compra', 'Tabela', 'Condição de Pagto', 'Prazo Pagto',\n",
    "       'Pagamento', 'CEP', 'Endereço', 'Bairro', 'Município', 'Numero',\n",
    "       'Complemento', 'Região', 'UF', 'DDD', 'Contato', 'Limite de Crédito',\n",
    "       'Principal', 'E-mail Cliente', 'Tributação do Cliente', 'ID Rota',\n",
    "       'Latitude', 'Longitude', 'ID Vendedor', 'SKU', 'Seq', 'Qtde', 'Unid. VDA', 'Fator',\n",
    "       'Qtde. VDA', 'Valor VDA', 'Total Venda', 'Total AV', 'MG CRP',\n",
    "       'Margem CUE', 'Margem CMP', 'Margem CRP', 'MG CUE', 'MG CMP',\n",
    "       'Comsissão R$', 'COFINS R$', 'PIS R$', 'ICMS R$', 'ICMS ST R$',\n",
    "       'IPI R$', 'Peso Bruto KG', 'Peso Líquido KG', 'Total Geral']]"
   ]
  },
  {
   "cell_type": "code",
   "execution_count": 27,
   "id": "7eff6927",
   "metadata": {},
   "outputs": [],
   "source": [
    "vendas_df=vendas_df.merge(tabelas['Vendedor'],on='ID Vendedor',how='inner')[['Origem', 'Situação Entrega', 'ID Situação', 'Situação', 'Pedido',\n",
    "       'NFe', 'Tipo de Pedido', 'Tipo de Operação', 'Tabelas',\n",
    "       'Data de Emissão', 'Data de Faturamento', 'Data de Entrega', 'Empresa',\n",
    "       'ID Cliente','CNPJ', 'CNPJ Caracter', 'Razão Social', 'Nome Fantasia',\n",
    "       'Tipo de Cliente', 'Status do Cliente', 'Segmento', 'Canal', 'Matriz',\n",
    "       'Crédito', 'Data de Cadastro', 'Primeira Compra', 'Última Compra',\n",
    "       'Dias Compra', 'Tabela', 'Condição de Pagto', 'Prazo Pagto',\n",
    "       'Pagamento', 'CEP', 'Endereço', 'Bairro', 'Município', 'Numero',\n",
    "       'Complemento', 'Região', 'UF', 'DDD', 'Contato', 'Limite de Crédito',\n",
    "       'Principal', 'E-mail Cliente', 'Tributação do Cliente', 'ID Rota',\n",
    "       'Latitude', 'Longitude', 'ID Vendedor','Vendedor', 'Nome Resumido', 'Equipe', 'E-mail',\n",
    "       'Categoria', 'Status do Vendedor', 'Supervisor', 'Email Sup', 'Gerente',\n",
    "       'Email Gerente', 'SKU', 'Seq', 'Qtde', 'Unid. VDA', 'Fator',\n",
    "       'Qtde. VDA', 'Valor VDA', 'Total Venda', 'Total AV', 'MG CRP',\n",
    "       'Margem CUE', 'Margem CMP', 'Margem CRP', 'MG CUE', 'MG CMP',\n",
    "       'Comsissão R$', 'COFINS R$', 'PIS R$', 'ICMS R$', 'ICMS ST R$',\n",
    "       'IPI R$', 'Peso Bruto KG', 'Peso Líquido KG', 'Total Geral']]"
   ]
  },
  {
   "cell_type": "code",
   "execution_count": 29,
   "id": "c6fd25c5",
   "metadata": {},
   "outputs": [],
   "source": [
    "vendas_df=vendas_df.merge(tabelas['Produto'],on='SKU',how='inner')[['Origem', 'Situação Entrega', 'ID Situação', 'Situação', 'Pedido',\n",
    "       'NFe', 'Tipo de Pedido', 'Tipo de Operação', 'Tabelas',\n",
    "       'Data de Emissão', 'Data de Faturamento', 'Data de Entrega', 'Empresa',\n",
    "       'ID Cliente','CNPJ', 'CNPJ Caracter', 'Razão Social', 'Nome Fantasia',\n",
    "       'Tipo de Cliente', 'Status do Cliente', 'Segmento', 'Canal', 'Matriz',\n",
    "       'Crédito', 'Data de Cadastro', 'Primeira Compra', 'Última Compra',\n",
    "       'Dias Compra', 'Tabela', 'Condição de Pagto', 'Prazo Pagto',\n",
    "       'Pagamento', 'CEP', 'Endereço', 'Bairro', 'Município', 'Numero',\n",
    "       'Complemento', 'Região', 'UF', 'DDD', 'Contato', 'Limite de Crédito',\n",
    "       'Principal', 'E-mail Cliente', 'Tributação do Cliente', 'ID Rota',\n",
    "       'Latitude', 'Longitude', 'ID Vendedor','Vendedor', 'Nome Resumido', 'Equipe', 'E-mail',\n",
    "       'Status do Vendedor', 'Supervisor', 'Email Sup', 'Gerente',\n",
    "       'Email Gerente', 'SKU','Produto', 'Status', 'Fabricante','Linha', 'Seq', 'Qtde', 'Unid. VDA', 'Fator',\n",
    "       'Qtde. VDA', 'Valor VDA', 'Total Venda', 'Total AV', 'MG CRP',\n",
    "       'Margem CUE', 'Margem CMP', 'Margem CRP', 'MG CUE', 'MG CMP',\n",
    "       'Comsissão R$', 'COFINS R$', 'PIS R$', 'ICMS R$', 'ICMS ST R$',\n",
    "       'IPI R$', 'Peso Bruto KG', 'Peso Líquido KG', 'Total Geral']]"
   ]
  },
  {
   "cell_type": "code",
   "execution_count": 30,
   "id": "e7a1b0f6",
   "metadata": {},
   "outputs": [],
   "source": [
    "vendas_df=vendas_df.loc[(vendas_df['Data de Faturamento'].dt.year==2022)&(vendas_df['Data de Faturamento'].dt.month==9)]"
   ]
  },
  {
   "cell_type": "code",
   "execution_count": 31,
   "id": "942f8a2e",
   "metadata": {},
   "outputs": [
    {
     "data": {
      "text/html": [
       "<div>\n",
       "<style scoped>\n",
       "    .dataframe tbody tr th:only-of-type {\n",
       "        vertical-align: middle;\n",
       "    }\n",
       "\n",
       "    .dataframe tbody tr th {\n",
       "        vertical-align: top;\n",
       "    }\n",
       "\n",
       "    .dataframe thead th {\n",
       "        text-align: right;\n",
       "    }\n",
       "</style>\n",
       "<table border=\"1\" class=\"dataframe\">\n",
       "  <thead>\n",
       "    <tr style=\"text-align: right;\">\n",
       "      <th></th>\n",
       "      <th>Canal</th>\n",
       "      <th>Total Venda</th>\n",
       "      <th>Margem CUE</th>\n",
       "      <th>Perc %</th>\n",
       "    </tr>\n",
       "  </thead>\n",
       "  <tbody>\n",
       "    <tr>\n",
       "      <th>1</th>\n",
       "      <td>B2C</td>\n",
       "      <td>56910.42</td>\n",
       "      <td>22363.13</td>\n",
       "      <td>39.30</td>\n",
       "    </tr>\n",
       "    <tr>\n",
       "      <th>2</th>\n",
       "      <td>FS</td>\n",
       "      <td>2250390.84</td>\n",
       "      <td>806543.41</td>\n",
       "      <td>35.84</td>\n",
       "    </tr>\n",
       "    <tr>\n",
       "      <th>0</th>\n",
       "      <td>AS</td>\n",
       "      <td>1858369.57</td>\n",
       "      <td>433420.78</td>\n",
       "      <td>23.32</td>\n",
       "    </tr>\n",
       "  </tbody>\n",
       "</table>\n",
       "</div>"
      ],
      "text/plain": [
       "  Canal  Total Venda  Margem CUE  Perc %\n",
       "1   B2C     56910.42    22363.13   39.30\n",
       "2    FS   2250390.84   806543.41   35.84\n",
       "0    AS   1858369.57   433420.78   23.32"
      ]
     },
     "execution_count": 31,
     "metadata": {},
     "output_type": "execute_result"
    }
   ],
   "source": [
    "canal_df=pd.DataFrame()\n",
    "\n",
    "canal_df=vendas_df[['Canal','Total Venda','Margem CUE']].groupby(['Canal'],as_index=False).sum()\n",
    "\n",
    "canal_df['Perc %']=round(canal_df['Margem CUE']/canal_df['Total Venda'],4)*100\n",
    "\n",
    "canal_df.sort_values('Perc %',ascending=False,inplace=True)\n",
    "\n",
    "canal_df\n"
   ]
  },
  {
   "cell_type": "code",
   "execution_count": 32,
   "id": "f90920ea",
   "metadata": {},
   "outputs": [
    {
     "data": {
      "text/plain": [
       "['AS']"
      ]
     },
     "execution_count": 32,
     "metadata": {},
     "output_type": "execute_result"
    }
   ],
   "source": [
    "canais=canal_df['Canal'].loc[canal_df['Perc %']<perc_ideal].unique().tolist()\n",
    "\n",
    "canais"
   ]
  },
  {
   "cell_type": "code",
   "execution_count": 33,
   "id": "c1c4af73",
   "metadata": {},
   "outputs": [
    {
     "data": {
      "text/html": [
       "<div>\n",
       "<style scoped>\n",
       "    .dataframe tbody tr th:only-of-type {\n",
       "        vertical-align: middle;\n",
       "    }\n",
       "\n",
       "    .dataframe tbody tr th {\n",
       "        vertical-align: top;\n",
       "    }\n",
       "\n",
       "    .dataframe thead th {\n",
       "        text-align: right;\n",
       "    }\n",
       "</style>\n",
       "<table border=\"1\" class=\"dataframe\">\n",
       "  <thead>\n",
       "    <tr style=\"text-align: right;\">\n",
       "      <th></th>\n",
       "      <th>Segmento</th>\n",
       "      <th>Total Venda</th>\n",
       "      <th>Margem CUE</th>\n",
       "      <th>Perc %</th>\n",
       "    </tr>\n",
       "  </thead>\n",
       "  <tbody>\n",
       "    <tr>\n",
       "      <th>1</th>\n",
       "      <td>10 OU + CHK</td>\n",
       "      <td>542524.75</td>\n",
       "      <td>134034.83</td>\n",
       "      <td>24.71</td>\n",
       "    </tr>\n",
       "    <tr>\n",
       "      <th>2</th>\n",
       "      <td>5 A 9 CHK</td>\n",
       "      <td>473138.09</td>\n",
       "      <td>113258.54</td>\n",
       "      <td>23.94</td>\n",
       "    </tr>\n",
       "    <tr>\n",
       "      <th>0</th>\n",
       "      <td>1 A 4 CHK</td>\n",
       "      <td>351648.07</td>\n",
       "      <td>74216.18</td>\n",
       "      <td>21.11</td>\n",
       "    </tr>\n",
       "    <tr>\n",
       "      <th>8</th>\n",
       "      <td>DISTRIBUIDOR</td>\n",
       "      <td>129094.14</td>\n",
       "      <td>38228.83</td>\n",
       "      <td>29.61</td>\n",
       "    </tr>\n",
       "    <tr>\n",
       "      <th>3</th>\n",
       "      <td>ATACAREJO</td>\n",
       "      <td>120683.12</td>\n",
       "      <td>12203.79</td>\n",
       "      <td>10.11</td>\n",
       "    </tr>\n",
       "    <tr>\n",
       "      <th>14</th>\n",
       "      <td>MERCEARIA</td>\n",
       "      <td>55876.56</td>\n",
       "      <td>11755.09</td>\n",
       "      <td>21.04</td>\n",
       "    </tr>\n",
       "    <tr>\n",
       "      <th>4</th>\n",
       "      <td>AÇOUGUE</td>\n",
       "      <td>40241.26</td>\n",
       "      <td>5209.42</td>\n",
       "      <td>12.95</td>\n",
       "    </tr>\n",
       "    <tr>\n",
       "      <th>6</th>\n",
       "      <td>CANAL ESPECIALIZADO</td>\n",
       "      <td>14689.11</td>\n",
       "      <td>3207.70</td>\n",
       "      <td>21.84</td>\n",
       "    </tr>\n",
       "    <tr>\n",
       "      <th>12</th>\n",
       "      <td>FUNCIONARIO</td>\n",
       "      <td>6831.20</td>\n",
       "      <td>-618.32</td>\n",
       "      <td>-9.05</td>\n",
       "    </tr>\n",
       "  </tbody>\n",
       "</table>\n",
       "</div>"
      ],
      "text/plain": [
       "               Segmento  Total Venda  Margem CUE  Perc %\n",
       "1           10 OU + CHK    542524.75   134034.83   24.71\n",
       "2             5 A 9 CHK    473138.09   113258.54   23.94\n",
       "0             1 A 4 CHK    351648.07    74216.18   21.11\n",
       "8          DISTRIBUIDOR    129094.14    38228.83   29.61\n",
       "3             ATACAREJO    120683.12    12203.79   10.11\n",
       "14            MERCEARIA     55876.56    11755.09   21.04\n",
       "4               AÇOUGUE     40241.26     5209.42   12.95\n",
       "6   CANAL ESPECIALIZADO     14689.11     3207.70   21.84\n",
       "12          FUNCIONARIO      6831.20     -618.32   -9.05"
      ]
     },
     "execution_count": 33,
     "metadata": {},
     "output_type": "execute_result"
    }
   ],
   "source": [
    "segmento_df=pd.DataFrame()\n",
    "\n",
    "segmento_df=vendas_df[['Segmento','Total Venda','Margem CUE']].loc[vendas_df['Canal'].isin(canais)].groupby(['Segmento'],as_index=False).sum()\n",
    "\n",
    "segmento_df['Perc %']=round(segmento_df['Margem CUE']/segmento_df['Total Venda'],4)*100\n",
    "\n",
    "segmento_df.sort_values('Total Venda',ascending=False,inplace=True)\n",
    "\n",
    "segmentos=segmento_df['Segmento'].loc[segmento_df['Perc %']<perc_ideal].unique().tolist()\n",
    "\n",
    "segmento_df.loc[segmento_df['Perc %']<perc_ideal]"
   ]
  },
  {
   "cell_type": "code",
   "execution_count": 34,
   "id": "be9a224a",
   "metadata": {},
   "outputs": [
    {
     "data": {
      "text/plain": [
       "9"
      ]
     },
     "execution_count": 34,
     "metadata": {},
     "output_type": "execute_result"
    }
   ],
   "source": [
    "len(segmento_df['Segmento'].loc[segmento_df['Perc %']<perc_ideal].unique().tolist())"
   ]
  },
  {
   "cell_type": "code",
   "execution_count": 35,
   "id": "f6178717",
   "metadata": {},
   "outputs": [
    {
     "data": {
      "text/plain": [
       "37.244285714285716"
      ]
     },
     "execution_count": 35,
     "metadata": {},
     "output_type": "execute_result"
    }
   ],
   "source": [
    "segmento_df['Perc %'].loc[segmento_df['Perc %']>=perc_ideal].mean()"
   ]
  },
  {
   "cell_type": "code",
   "execution_count": 36,
   "id": "df55eeaf",
   "metadata": {},
   "outputs": [
    {
     "data": {
      "text/plain": [
       "17.36222222222222"
      ]
     },
     "execution_count": 36,
     "metadata": {},
     "output_type": "execute_result"
    }
   ],
   "source": [
    "segmento_df['Perc %'].loc[segmento_df['Perc %']<perc_ideal].mean()"
   ]
  },
  {
   "cell_type": "code",
   "execution_count": 37,
   "id": "59759a3a",
   "metadata": {},
   "outputs": [
    {
     "data": {
      "text/html": [
       "<div>\n",
       "<style scoped>\n",
       "    .dataframe tbody tr th:only-of-type {\n",
       "        vertical-align: middle;\n",
       "    }\n",
       "\n",
       "    .dataframe tbody tr th {\n",
       "        vertical-align: top;\n",
       "    }\n",
       "\n",
       "    .dataframe thead th {\n",
       "        text-align: right;\n",
       "    }\n",
       "</style>\n",
       "<table border=\"1\" class=\"dataframe\">\n",
       "  <thead>\n",
       "    <tr style=\"text-align: right;\">\n",
       "      <th></th>\n",
       "      <th>Tabelas</th>\n",
       "      <th>Total Venda</th>\n",
       "      <th>Margem CUE</th>\n",
       "      <th>Perc %</th>\n",
       "    </tr>\n",
       "  </thead>\n",
       "  <tbody>\n",
       "    <tr>\n",
       "      <th>9</th>\n",
       "      <td>TABELA DE PREÇO</td>\n",
       "      <td>932018.97</td>\n",
       "      <td>233625.77</td>\n",
       "      <td>25.07</td>\n",
       "    </tr>\n",
       "    <tr>\n",
       "      <th>8</th>\n",
       "      <td>TABELA DE NEGOCIAÇÃO</td>\n",
       "      <td>500324.10</td>\n",
       "      <td>86189.31</td>\n",
       "      <td>17.23</td>\n",
       "    </tr>\n",
       "    <tr>\n",
       "      <th>6</th>\n",
       "      <td>SONDA</td>\n",
       "      <td>135938.78</td>\n",
       "      <td>37430.05</td>\n",
       "      <td>27.53</td>\n",
       "    </tr>\n",
       "    <tr>\n",
       "      <th>1</th>\n",
       "      <td>DISTRIBUIDORES</td>\n",
       "      <td>72924.03</td>\n",
       "      <td>22356.19</td>\n",
       "      <td>30.66</td>\n",
       "    </tr>\n",
       "    <tr>\n",
       "      <th>0</th>\n",
       "      <td>CHAMA</td>\n",
       "      <td>21585.75</td>\n",
       "      <td>3043.45</td>\n",
       "      <td>14.10</td>\n",
       "    </tr>\n",
       "    <tr>\n",
       "      <th>5</th>\n",
       "      <td>PEGE PESE</td>\n",
       "      <td>20461.64</td>\n",
       "      <td>1717.46</td>\n",
       "      <td>8.39</td>\n",
       "    </tr>\n",
       "    <tr>\n",
       "      <th>7</th>\n",
       "      <td>ST MARCHE</td>\n",
       "      <td>14417.89</td>\n",
       "      <td>85.47</td>\n",
       "      <td>0.59</td>\n",
       "    </tr>\n",
       "    <tr>\n",
       "      <th>3</th>\n",
       "      <td>LOPES</td>\n",
       "      <td>11911.32</td>\n",
       "      <td>3002.73</td>\n",
       "      <td>25.21</td>\n",
       "    </tr>\n",
       "    <tr>\n",
       "      <th>10</th>\n",
       "      <td>TABELA FUNCIONÁRIO</td>\n",
       "      <td>6870.66</td>\n",
       "      <td>601.80</td>\n",
       "      <td>8.76</td>\n",
       "    </tr>\n",
       "    <tr>\n",
       "      <th>12</th>\n",
       "      <td>YAMAUCHI</td>\n",
       "      <td>2259.84</td>\n",
       "      <td>325.45</td>\n",
       "      <td>14.40</td>\n",
       "    </tr>\n",
       "    <tr>\n",
       "      <th>11</th>\n",
       "      <td>TABELA OBA</td>\n",
       "      <td>2149.20</td>\n",
       "      <td>87.20</td>\n",
       "      <td>4.06</td>\n",
       "    </tr>\n",
       "    <tr>\n",
       "      <th>2</th>\n",
       "      <td>FEFO</td>\n",
       "      <td>339.50</td>\n",
       "      <td>-1394.40</td>\n",
       "      <td>-410.72</td>\n",
       "    </tr>\n",
       "  </tbody>\n",
       "</table>\n",
       "</div>"
      ],
      "text/plain": [
       "                 Tabelas  Total Venda  Margem CUE  Perc %\n",
       "9        TABELA DE PREÇO    932018.97   233625.77   25.07\n",
       "8   TABELA DE NEGOCIAÇÃO    500324.10    86189.31   17.23\n",
       "6                  SONDA    135938.78    37430.05   27.53\n",
       "1         DISTRIBUIDORES     72924.03    22356.19   30.66\n",
       "0                  CHAMA     21585.75     3043.45   14.10\n",
       "5              PEGE PESE     20461.64     1717.46    8.39\n",
       "7              ST MARCHE     14417.89       85.47    0.59\n",
       "3                  LOPES     11911.32     3002.73   25.21\n",
       "10    TABELA FUNCIONÁRIO      6870.66      601.80    8.76\n",
       "12              YAMAUCHI      2259.84      325.45   14.40\n",
       "11            TABELA OBA      2149.20       87.20    4.06\n",
       "2                   FEFO       339.50    -1394.40 -410.72"
      ]
     },
     "execution_count": 37,
     "metadata": {},
     "output_type": "execute_result"
    }
   ],
   "source": [
    "tabelas_df=pd.DataFrame()\n",
    "\n",
    "tabelas_df=vendas_df[['Tabelas','Total Venda','Margem CUE']].loc[(vendas_df['Canal'].isin(canais)&(vendas_df['Segmento'].isin(segmentos)))].groupby(['Tabelas'],as_index=False).sum()\n",
    "\n",
    "tabelas_df['Perc %']=round(tabelas_df['Margem CUE']/tabelas_df['Total Venda'],4)*100\n",
    "\n",
    "tabelas_df.sort_values('Total Venda',ascending=False,inplace=True)\n",
    "\n",
    "tab=tabelas_df['Tabelas'].loc[tabelas_df['Perc %']<perc_ideal].unique().tolist()\n",
    "\n",
    "tabelas_df.loc[tabelas_df['Perc %']<perc_ideal]\n"
   ]
  },
  {
   "cell_type": "code",
   "execution_count": 38,
   "id": "fc91d18c",
   "metadata": {},
   "outputs": [
    {
     "data": {
      "text/html": [
       "<div>\n",
       "<style scoped>\n",
       "    .dataframe tbody tr th:only-of-type {\n",
       "        vertical-align: middle;\n",
       "    }\n",
       "\n",
       "    .dataframe tbody tr th {\n",
       "        vertical-align: top;\n",
       "    }\n",
       "\n",
       "    .dataframe thead th {\n",
       "        text-align: right;\n",
       "    }\n",
       "</style>\n",
       "<table border=\"1\" class=\"dataframe\">\n",
       "  <thead>\n",
       "    <tr style=\"text-align: right;\">\n",
       "      <th></th>\n",
       "      <th>Matriz</th>\n",
       "      <th>Total Venda</th>\n",
       "      <th>Margem CUE</th>\n",
       "      <th>Perc %</th>\n",
       "    </tr>\n",
       "  </thead>\n",
       "  <tbody>\n",
       "    <tr>\n",
       "      <th>14</th>\n",
       "      <td>FOX CARNES</td>\n",
       "      <td>838.18</td>\n",
       "      <td>-2705.87</td>\n",
       "      <td>-322.83</td>\n",
       "    </tr>\n",
       "    <tr>\n",
       "      <th>69</th>\n",
       "      <td>SUPERMERCADO BEMBOM</td>\n",
       "      <td>3691.16</td>\n",
       "      <td>-4702.63</td>\n",
       "      <td>-127.40</td>\n",
       "    </tr>\n",
       "    <tr>\n",
       "      <th>81</th>\n",
       "      <td>ZAFFARI</td>\n",
       "      <td>5929.46</td>\n",
       "      <td>-1244.54</td>\n",
       "      <td>-20.99</td>\n",
       "    </tr>\n",
       "    <tr>\n",
       "      <th>35</th>\n",
       "      <td>MERCADO BOM DEMAIS</td>\n",
       "      <td>6913.94</td>\n",
       "      <td>-1232.33</td>\n",
       "      <td>-17.82</td>\n",
       "    </tr>\n",
       "    <tr>\n",
       "      <th>63</th>\n",
       "      <td>ST MARCHE</td>\n",
       "      <td>16824.09</td>\n",
       "      <td>388.33</td>\n",
       "      <td>2.31</td>\n",
       "    </tr>\n",
       "    <tr>\n",
       "      <th>10</th>\n",
       "      <td>DIAS PASTORINHO</td>\n",
       "      <td>3056.40</td>\n",
       "      <td>75.58</td>\n",
       "      <td>2.47</td>\n",
       "    </tr>\n",
       "    <tr>\n",
       "      <th>51</th>\n",
       "      <td>REDE OBA</td>\n",
       "      <td>1227.00</td>\n",
       "      <td>68.00</td>\n",
       "      <td>5.54</td>\n",
       "    </tr>\n",
       "    <tr>\n",
       "      <th>3</th>\n",
       "      <td>BRASILEIRAO</td>\n",
       "      <td>42791.03</td>\n",
       "      <td>2763.45</td>\n",
       "      <td>6.46</td>\n",
       "    </tr>\n",
       "    <tr>\n",
       "      <th>5</th>\n",
       "      <td>CHAMA</td>\n",
       "      <td>32847.34</td>\n",
       "      <td>2855.41</td>\n",
       "      <td>8.69</td>\n",
       "    </tr>\n",
       "    <tr>\n",
       "      <th>16</th>\n",
       "      <td>GERAL</td>\n",
       "      <td>43.70</td>\n",
       "      <td>4.04</td>\n",
       "      <td>9.24</td>\n",
       "    </tr>\n",
       "    <tr>\n",
       "      <th>13</th>\n",
       "      <td>FONTE NOVA</td>\n",
       "      <td>14523.68</td>\n",
       "      <td>1670.08</td>\n",
       "      <td>11.50</td>\n",
       "    </tr>\n",
       "    <tr>\n",
       "      <th>80</th>\n",
       "      <td>YAMAUCHI</td>\n",
       "      <td>2259.84</td>\n",
       "      <td>325.45</td>\n",
       "      <td>14.40</td>\n",
       "    </tr>\n",
       "    <tr>\n",
       "      <th>50</th>\n",
       "      <td>REDE KRILL</td>\n",
       "      <td>21554.00</td>\n",
       "      <td>4043.72</td>\n",
       "      <td>18.76</td>\n",
       "    </tr>\n",
       "    <tr>\n",
       "      <th>54</th>\n",
       "      <td>RP SANTO COMERCIO</td>\n",
       "      <td>57755.42</td>\n",
       "      <td>11288.61</td>\n",
       "      <td>19.55</td>\n",
       "    </tr>\n",
       "    <tr>\n",
       "      <th>44</th>\n",
       "      <td>PEG PESE</td>\n",
       "      <td>15117.42</td>\n",
       "      <td>3158.30</td>\n",
       "      <td>20.89</td>\n",
       "    </tr>\n",
       "    <tr>\n",
       "      <th>26</th>\n",
       "      <td>MAMBO</td>\n",
       "      <td>31577.74</td>\n",
       "      <td>7337.41</td>\n",
       "      <td>23.24</td>\n",
       "    </tr>\n",
       "    <tr>\n",
       "      <th>47</th>\n",
       "      <td>REDE FLAMENGO</td>\n",
       "      <td>1613.70</td>\n",
       "      <td>377.61</td>\n",
       "      <td>23.40</td>\n",
       "    </tr>\n",
       "    <tr>\n",
       "      <th>42</th>\n",
       "      <td>NEGREIROS</td>\n",
       "      <td>5067.96</td>\n",
       "      <td>1285.82</td>\n",
       "      <td>25.37</td>\n",
       "    </tr>\n",
       "    <tr>\n",
       "      <th>36</th>\n",
       "      <td>MERCADO CHIMAR</td>\n",
       "      <td>5986.77</td>\n",
       "      <td>1567.32</td>\n",
       "      <td>26.18</td>\n",
       "    </tr>\n",
       "    <tr>\n",
       "      <th>27</th>\n",
       "      <td>MASTER</td>\n",
       "      <td>29422.16</td>\n",
       "      <td>7707.07</td>\n",
       "      <td>26.19</td>\n",
       "    </tr>\n",
       "    <tr>\n",
       "      <th>66</th>\n",
       "      <td>SUPER VAREJÃO SAÚDE</td>\n",
       "      <td>7117.33</td>\n",
       "      <td>1863.92</td>\n",
       "      <td>26.19</td>\n",
       "    </tr>\n",
       "    <tr>\n",
       "      <th>57</th>\n",
       "      <td>SAITO BOX</td>\n",
       "      <td>4609.27</td>\n",
       "      <td>1236.86</td>\n",
       "      <td>26.83</td>\n",
       "    </tr>\n",
       "    <tr>\n",
       "      <th>12</th>\n",
       "      <td>FEDERZONI SUPER</td>\n",
       "      <td>2366.40</td>\n",
       "      <td>635.99</td>\n",
       "      <td>26.88</td>\n",
       "    </tr>\n",
       "    <tr>\n",
       "      <th>24</th>\n",
       "      <td>LOPES SM</td>\n",
       "      <td>22567.14</td>\n",
       "      <td>6101.40</td>\n",
       "      <td>27.04</td>\n",
       "    </tr>\n",
       "    <tr>\n",
       "      <th>62</th>\n",
       "      <td>SONDA</td>\n",
       "      <td>135938.78</td>\n",
       "      <td>37430.05</td>\n",
       "      <td>27.53</td>\n",
       "    </tr>\n",
       "    <tr>\n",
       "      <th>40</th>\n",
       "      <td>MIX SUPERMERCADOS</td>\n",
       "      <td>164.53</td>\n",
       "      <td>45.53</td>\n",
       "      <td>27.67</td>\n",
       "    </tr>\n",
       "    <tr>\n",
       "      <th>37</th>\n",
       "      <td>MERCADO DONATTI</td>\n",
       "      <td>648.90</td>\n",
       "      <td>180.06</td>\n",
       "      <td>27.75</td>\n",
       "    </tr>\n",
       "    <tr>\n",
       "      <th>43</th>\n",
       "      <td>OXXO</td>\n",
       "      <td>54008.30</td>\n",
       "      <td>15238.07</td>\n",
       "      <td>28.21</td>\n",
       "    </tr>\n",
       "    <tr>\n",
       "      <th>20</th>\n",
       "      <td>HIROTA</td>\n",
       "      <td>60952.92</td>\n",
       "      <td>17472.49</td>\n",
       "      <td>28.67</td>\n",
       "    </tr>\n",
       "    <tr>\n",
       "      <th>29</th>\n",
       "      <td>MAXIMO ATACADO</td>\n",
       "      <td>15487.80</td>\n",
       "      <td>4444.02</td>\n",
       "      <td>28.69</td>\n",
       "    </tr>\n",
       "    <tr>\n",
       "      <th>6</th>\n",
       "      <td>CHOCOLANDIA</td>\n",
       "      <td>28105.07</td>\n",
       "      <td>8077.71</td>\n",
       "      <td>28.74</td>\n",
       "    </tr>\n",
       "    <tr>\n",
       "      <th>48</th>\n",
       "      <td>REDE GONCALVES</td>\n",
       "      <td>529.68</td>\n",
       "      <td>154.61</td>\n",
       "      <td>29.19</td>\n",
       "    </tr>\n",
       "    <tr>\n",
       "      <th>9</th>\n",
       "      <td>DAKI</td>\n",
       "      <td>2801.40</td>\n",
       "      <td>830.07</td>\n",
       "      <td>29.63</td>\n",
       "    </tr>\n",
       "    <tr>\n",
       "      <th>60</th>\n",
       "      <td>SAO JORGE</td>\n",
       "      <td>16494.27</td>\n",
       "      <td>4892.47</td>\n",
       "      <td>29.66</td>\n",
       "    </tr>\n",
       "    <tr>\n",
       "      <th>11</th>\n",
       "      <td>EMPORIUM</td>\n",
       "      <td>14207.54</td>\n",
       "      <td>4244.30</td>\n",
       "      <td>29.87</td>\n",
       "    </tr>\n",
       "    <tr>\n",
       "      <th>39</th>\n",
       "      <td>MERCADO NAVARRO</td>\n",
       "      <td>820.36</td>\n",
       "      <td>245.52</td>\n",
       "      <td>29.93</td>\n",
       "    </tr>\n",
       "    <tr>\n",
       "      <th>76</th>\n",
       "      <td>SUPERMERCADO TOKIO</td>\n",
       "      <td>1240.28</td>\n",
       "      <td>372.20</td>\n",
       "      <td>30.01</td>\n",
       "    </tr>\n",
       "    <tr>\n",
       "      <th>64</th>\n",
       "      <td>SUP. LOURENCINI</td>\n",
       "      <td>15051.67</td>\n",
       "      <td>4516.75</td>\n",
       "      <td>30.01</td>\n",
       "    </tr>\n",
       "    <tr>\n",
       "      <th>8</th>\n",
       "      <td>COMERCIO DE ALIMENTO</td>\n",
       "      <td>590.75</td>\n",
       "      <td>179.02</td>\n",
       "      <td>30.30</td>\n",
       "    </tr>\n",
       "    <tr>\n",
       "      <th>73</th>\n",
       "      <td>SUPERMERCADO PADRAO</td>\n",
       "      <td>4526.66</td>\n",
       "      <td>1374.04</td>\n",
       "      <td>30.35</td>\n",
       "    </tr>\n",
       "    <tr>\n",
       "      <th>25</th>\n",
       "      <td>MADRID</td>\n",
       "      <td>24203.63</td>\n",
       "      <td>7420.10</td>\n",
       "      <td>30.66</td>\n",
       "    </tr>\n",
       "    <tr>\n",
       "      <th>79</th>\n",
       "      <td>VILA DAS FRUTAS</td>\n",
       "      <td>16469.38</td>\n",
       "      <td>5079.90</td>\n",
       "      <td>30.84</td>\n",
       "    </tr>\n",
       "    <tr>\n",
       "      <th>41</th>\n",
       "      <td>NATURAL DA TERRA</td>\n",
       "      <td>12530.41</td>\n",
       "      <td>3894.76</td>\n",
       "      <td>31.08</td>\n",
       "    </tr>\n",
       "    <tr>\n",
       "      <th>72</th>\n",
       "      <td>SUPERMERCADO CARPAN</td>\n",
       "      <td>921.81</td>\n",
       "      <td>287.46</td>\n",
       "      <td>31.18</td>\n",
       "    </tr>\n",
       "    <tr>\n",
       "      <th>68</th>\n",
       "      <td>SUPERMERCADO BEIRA ALTA</td>\n",
       "      <td>7028.40</td>\n",
       "      <td>2196.23</td>\n",
       "      <td>31.25</td>\n",
       "    </tr>\n",
       "    <tr>\n",
       "      <th>33</th>\n",
       "      <td>MERCADINHO SAO JOAQ</td>\n",
       "      <td>465.60</td>\n",
       "      <td>145.88</td>\n",
       "      <td>31.33</td>\n",
       "    </tr>\n",
       "    <tr>\n",
       "      <th>55</th>\n",
       "      <td>SACOLÃO DO CAMPO</td>\n",
       "      <td>1600.22</td>\n",
       "      <td>501.31</td>\n",
       "      <td>31.33</td>\n",
       "    </tr>\n",
       "    <tr>\n",
       "      <th>74</th>\n",
       "      <td>SUPERMERCADO RECANTO</td>\n",
       "      <td>3663.84</td>\n",
       "      <td>1158.00</td>\n",
       "      <td>31.61</td>\n",
       "    </tr>\n",
       "  </tbody>\n",
       "</table>\n",
       "</div>"
      ],
      "text/plain": [
       "                     Matriz  Total Venda  Margem CUE  Perc %\n",
       "14               FOX CARNES       838.18    -2705.87 -322.83\n",
       "69      SUPERMERCADO BEMBOM      3691.16    -4702.63 -127.40\n",
       "81                  ZAFFARI      5929.46    -1244.54  -20.99\n",
       "35       MERCADO BOM DEMAIS      6913.94    -1232.33  -17.82\n",
       "63                ST MARCHE     16824.09      388.33    2.31\n",
       "10          DIAS PASTORINHO      3056.40       75.58    2.47\n",
       "51                 REDE OBA      1227.00       68.00    5.54\n",
       "3               BRASILEIRAO     42791.03     2763.45    6.46\n",
       "5                     CHAMA     32847.34     2855.41    8.69\n",
       "16                    GERAL        43.70        4.04    9.24\n",
       "13               FONTE NOVA     14523.68     1670.08   11.50\n",
       "80                 YAMAUCHI      2259.84      325.45   14.40\n",
       "50               REDE KRILL     21554.00     4043.72   18.76\n",
       "54        RP SANTO COMERCIO     57755.42    11288.61   19.55\n",
       "44                 PEG PESE     15117.42     3158.30   20.89\n",
       "26                    MAMBO     31577.74     7337.41   23.24\n",
       "47            REDE FLAMENGO      1613.70      377.61   23.40\n",
       "42                NEGREIROS      5067.96     1285.82   25.37\n",
       "36           MERCADO CHIMAR      5986.77     1567.32   26.18\n",
       "27                   MASTER     29422.16     7707.07   26.19\n",
       "66      SUPER VAREJÃO SAÚDE      7117.33     1863.92   26.19\n",
       "57                SAITO BOX      4609.27     1236.86   26.83\n",
       "12          FEDERZONI SUPER      2366.40      635.99   26.88\n",
       "24                 LOPES SM     22567.14     6101.40   27.04\n",
       "62                    SONDA    135938.78    37430.05   27.53\n",
       "40        MIX SUPERMERCADOS       164.53       45.53   27.67\n",
       "37          MERCADO DONATTI       648.90      180.06   27.75\n",
       "43                     OXXO     54008.30    15238.07   28.21\n",
       "20                   HIROTA     60952.92    17472.49   28.67\n",
       "29           MAXIMO ATACADO     15487.80     4444.02   28.69\n",
       "6               CHOCOLANDIA     28105.07     8077.71   28.74\n",
       "48           REDE GONCALVES       529.68      154.61   29.19\n",
       "9                      DAKI      2801.40      830.07   29.63\n",
       "60                SAO JORGE     16494.27     4892.47   29.66\n",
       "11                 EMPORIUM     14207.54     4244.30   29.87\n",
       "39          MERCADO NAVARRO       820.36      245.52   29.93\n",
       "76       SUPERMERCADO TOKIO      1240.28      372.20   30.01\n",
       "64          SUP. LOURENCINI     15051.67     4516.75   30.01\n",
       "8      COMERCIO DE ALIMENTO       590.75      179.02   30.30\n",
       "73      SUPERMERCADO PADRAO      4526.66     1374.04   30.35\n",
       "25                   MADRID     24203.63     7420.10   30.66\n",
       "79          VILA DAS FRUTAS     16469.38     5079.90   30.84\n",
       "41         NATURAL DA TERRA     12530.41     3894.76   31.08\n",
       "72      SUPERMERCADO CARPAN       921.81      287.46   31.18\n",
       "68  SUPERMERCADO BEIRA ALTA      7028.40     2196.23   31.25\n",
       "33      MERCADINHO SAO JOAQ       465.60      145.88   31.33\n",
       "55         SACOLÃO DO CAMPO      1600.22      501.31   31.33\n",
       "74     SUPERMERCADO RECANTO      3663.84     1158.00   31.61"
      ]
     },
     "execution_count": 38,
     "metadata": {},
     "output_type": "execute_result"
    }
   ],
   "source": [
    "matriz_df=pd.DataFrame()\n",
    "\n",
    "matriz_df=vendas_df[['Matriz','Total Venda','Margem CUE']].loc[(vendas_df['Canal'].isin(canais))&(vendas_df['Tabelas'].isin(tab))&(vendas_df['Segmento'].isin(segmentos))].groupby(['Matriz'],as_index=False).sum()\n",
    "\n",
    "matriz_df['Perc %']=round(matriz_df['Margem CUE']/matriz_df['Total Venda'],4)*100\n",
    "\n",
    "matriz_df.sort_values('Perc %',ascending=True,inplace=True)\n",
    "\n",
    "redes=matriz_df['Matriz'].loc[matriz_df['Perc %']<perc_ideal].unique().tolist()\n",
    "\n",
    "matriz_df.loc[matriz_df['Perc %']<perc_ideal]"
   ]
  },
  {
   "cell_type": "code",
   "execution_count": 39,
   "id": "40a5c38f",
   "metadata": {},
   "outputs": [
    {
     "data": {
      "text/plain": [
       "35.790294117647065"
      ]
     },
     "execution_count": 39,
     "metadata": {},
     "output_type": "execute_result"
    }
   ],
   "source": [
    "matriz_df['Perc %'].loc[matriz_df['Perc %']>=perc_ideal].mean()"
   ]
  },
  {
   "cell_type": "code",
   "execution_count": 40,
   "id": "99443c7b",
   "metadata": {},
   "outputs": [
    {
     "data": {
      "text/plain": [
       "12.032916666666667"
      ]
     },
     "execution_count": 40,
     "metadata": {},
     "output_type": "execute_result"
    }
   ],
   "source": [
    "matriz_df['Perc %'].loc[matriz_df['Perc %']<perc_ideal].mean()"
   ]
  },
  {
   "cell_type": "code",
   "execution_count": 41,
   "id": "9959a362",
   "metadata": {},
   "outputs": [
    {
     "data": {
      "text/html": [
       "<div>\n",
       "<style scoped>\n",
       "    .dataframe tbody tr th:only-of-type {\n",
       "        vertical-align: middle;\n",
       "    }\n",
       "\n",
       "    .dataframe tbody tr th {\n",
       "        vertical-align: top;\n",
       "    }\n",
       "\n",
       "    .dataframe thead th {\n",
       "        text-align: right;\n",
       "    }\n",
       "</style>\n",
       "<table border=\"1\" class=\"dataframe\">\n",
       "  <thead>\n",
       "    <tr style=\"text-align: right;\">\n",
       "      <th></th>\n",
       "      <th>Matriz</th>\n",
       "      <th>ID Cliente</th>\n",
       "      <th>CNPJ</th>\n",
       "      <th>Razão Social</th>\n",
       "      <th>Nome Fantasia</th>\n",
       "      <th>Total Venda</th>\n",
       "      <th>Margem CUE</th>\n",
       "      <th>Perc %</th>\n",
       "    </tr>\n",
       "  </thead>\n",
       "  <tbody>\n",
       "    <tr>\n",
       "      <th>386</th>\n",
       "      <td>SUPERMERCADO CARPAN</td>\n",
       "      <td>20372</td>\n",
       "      <td>09618077000366</td>\n",
       "      <td>PEREIRA E CARDOSO COM DE PROD ALI LTDA</td>\n",
       "      <td>SUPERMERCADO CARPAN</td>\n",
       "      <td>537.07</td>\n",
       "      <td>171.57</td>\n",
       "      <td>31.95</td>\n",
       "    </tr>\n",
       "    <tr>\n",
       "      <th>338</th>\n",
       "      <td>ST MARCHE</td>\n",
       "      <td>7995</td>\n",
       "      <td>05133930000137</td>\n",
       "      <td>SANCTUS COMERCIO DE ALIMENTOS LTDA</td>\n",
       "      <td>ST MARCHE COMENDADOR</td>\n",
       "      <td>156.00</td>\n",
       "      <td>49.76</td>\n",
       "      <td>31.90</td>\n",
       "    </tr>\n",
       "    <tr>\n",
       "      <th>259</th>\n",
       "      <td>PEG PESE</td>\n",
       "      <td>16988</td>\n",
       "      <td>60479680000957</td>\n",
       "      <td>PEG PESE SUPERMERCADOS IMPORTACAO E EXPO</td>\n",
       "      <td>PEG PESE PEDRO CRIST</td>\n",
       "      <td>1535.86</td>\n",
       "      <td>489.12</td>\n",
       "      <td>31.85</td>\n",
       "    </tr>\n",
       "    <tr>\n",
       "      <th>96</th>\n",
       "      <td>LOPES SM</td>\n",
       "      <td>25372</td>\n",
       "      <td>45827425003203</td>\n",
       "      <td>SUPERMERCADOS IRMÃOS LOPES SA</td>\n",
       "      <td>LOPES ITAIM PAULISTA</td>\n",
       "      <td>733.56</td>\n",
       "      <td>233.39</td>\n",
       "      <td>31.82</td>\n",
       "    </tr>\n",
       "    <tr>\n",
       "      <th>337</th>\n",
       "      <td>SONDA</td>\n",
       "      <td>22828</td>\n",
       "      <td>01937635005141</td>\n",
       "      <td>SONDA SUPERMERCADOS EXPORTACAO E IMPORTACAO S.A</td>\n",
       "      <td>SONDA LJ 1051 ROMANA</td>\n",
       "      <td>4777.24</td>\n",
       "      <td>1519.80</td>\n",
       "      <td>31.81</td>\n",
       "    </tr>\n",
       "    <tr>\n",
       "      <th>...</th>\n",
       "      <td>...</td>\n",
       "      <td>...</td>\n",
       "      <td>...</td>\n",
       "      <td>...</td>\n",
       "      <td>...</td>\n",
       "      <td>...</td>\n",
       "      <td>...</td>\n",
       "      <td>...</td>\n",
       "    </tr>\n",
       "    <tr>\n",
       "      <th>342</th>\n",
       "      <td>ST MARCHE</td>\n",
       "      <td>8001</td>\n",
       "      <td>08853758000184</td>\n",
       "      <td>VIA COMERCIO DE ALIMENTOS LTDA</td>\n",
       "      <td>ST MARCHE ESTRADA AL</td>\n",
       "      <td>313.60</td>\n",
       "      <td>-126.40</td>\n",
       "      <td>-40.31</td>\n",
       "    </tr>\n",
       "    <tr>\n",
       "      <th>384</th>\n",
       "      <td>SUPERMERCADO BEMBOM</td>\n",
       "      <td>21144</td>\n",
       "      <td>01797136000137</td>\n",
       "      <td>SUPERMERCADO BEMBOM EIRELI</td>\n",
       "      <td>SUPERMERCADO BEMBOM</td>\n",
       "      <td>3188.28</td>\n",
       "      <td>-1894.67</td>\n",
       "      <td>-59.43</td>\n",
       "    </tr>\n",
       "    <tr>\n",
       "      <th>113</th>\n",
       "      <td>MERCADO BOM DEMAIS</td>\n",
       "      <td>20385</td>\n",
       "      <td>07425463000144</td>\n",
       "      <td>LUCINEIDE DE SANTOS SIROMA ME</td>\n",
       "      <td>MERCADO BOM DEMAIS</td>\n",
       "      <td>1484.88</td>\n",
       "      <td>-2482.31</td>\n",
       "      <td>-167.17</td>\n",
       "    </tr>\n",
       "    <tr>\n",
       "      <th>66</th>\n",
       "      <td>FOX CARNES</td>\n",
       "      <td>23711</td>\n",
       "      <td>14627296000180</td>\n",
       "      <td>LUCARNES LTDA</td>\n",
       "      <td>FOX CARNES</td>\n",
       "      <td>838.18</td>\n",
       "      <td>-2705.87</td>\n",
       "      <td>-322.83</td>\n",
       "    </tr>\n",
       "    <tr>\n",
       "      <th>383</th>\n",
       "      <td>SUPERMERCADO BEMBOM</td>\n",
       "      <td>12802</td>\n",
       "      <td>01797136000218</td>\n",
       "      <td>SUPERMERCADO BEMBOM EIRELI</td>\n",
       "      <td>SUPERMERCADO BEMBOM</td>\n",
       "      <td>502.88</td>\n",
       "      <td>-2807.96</td>\n",
       "      <td>-558.38</td>\n",
       "    </tr>\n",
       "  </tbody>\n",
       "</table>\n",
       "<p>384 rows × 8 columns</p>\n",
       "</div>"
      ],
      "text/plain": [
       "                  Matriz  ID Cliente            CNPJ  \\\n",
       "386  SUPERMERCADO CARPAN       20372  09618077000366   \n",
       "338            ST MARCHE        7995  05133930000137   \n",
       "259             PEG PESE       16988  60479680000957   \n",
       "96              LOPES SM       25372  45827425003203   \n",
       "337                SONDA       22828  01937635005141   \n",
       "..                   ...         ...             ...   \n",
       "342            ST MARCHE        8001  08853758000184   \n",
       "384  SUPERMERCADO BEMBOM       21144  01797136000137   \n",
       "113   MERCADO BOM DEMAIS       20385  07425463000144   \n",
       "66            FOX CARNES       23711  14627296000180   \n",
       "383  SUPERMERCADO BEMBOM       12802  01797136000218   \n",
       "\n",
       "                                        Razão Social         Nome Fantasia  \\\n",
       "386           PEREIRA E CARDOSO COM DE PROD ALI LTDA   SUPERMERCADO CARPAN   \n",
       "338               SANCTUS COMERCIO DE ALIMENTOS LTDA  ST MARCHE COMENDADOR   \n",
       "259         PEG PESE SUPERMERCADOS IMPORTACAO E EXPO  PEG PESE PEDRO CRIST   \n",
       "96                     SUPERMERCADOS IRMÃOS LOPES SA  LOPES ITAIM PAULISTA   \n",
       "337  SONDA SUPERMERCADOS EXPORTACAO E IMPORTACAO S.A  SONDA LJ 1051 ROMANA   \n",
       "..                                               ...                   ...   \n",
       "342                   VIA COMERCIO DE ALIMENTOS LTDA  ST MARCHE ESTRADA AL   \n",
       "384                       SUPERMERCADO BEMBOM EIRELI   SUPERMERCADO BEMBOM   \n",
       "113                    LUCINEIDE DE SANTOS SIROMA ME    MERCADO BOM DEMAIS   \n",
       "66                                     LUCARNES LTDA            FOX CARNES   \n",
       "383                       SUPERMERCADO BEMBOM EIRELI   SUPERMERCADO BEMBOM   \n",
       "\n",
       "     Total Venda  Margem CUE  Perc %  \n",
       "386       537.07      171.57   31.95  \n",
       "338       156.00       49.76   31.90  \n",
       "259      1535.86      489.12   31.85  \n",
       "96        733.56      233.39   31.82  \n",
       "337      4777.24     1519.80   31.81  \n",
       "..           ...         ...     ...  \n",
       "342       313.60     -126.40  -40.31  \n",
       "384      3188.28    -1894.67  -59.43  \n",
       "113      1484.88    -2482.31 -167.17  \n",
       "66        838.18    -2705.87 -322.83  \n",
       "383       502.88    -2807.96 -558.38  \n",
       "\n",
       "[384 rows x 8 columns]"
      ]
     },
     "execution_count": 41,
     "metadata": {},
     "output_type": "execute_result"
    }
   ],
   "source": [
    "cli_df=pd.DataFrame()\n",
    "\n",
    "cli_df=vendas_df[['Matriz','ID Cliente','CNPJ','Razão Social','Nome Fantasia','Total Venda','Margem CUE']].loc[(vendas_df['Canal'].isin(canais))&(vendas_df['Tabelas'].isin(tab))&(vendas_df['Segmento'].isin(segmentos))&(vendas_df['Matriz'].isin(redes))].groupby(['Matriz','ID Cliente','CNPJ','Razão Social','Nome Fantasia'],as_index=False).sum()\n",
    "\n",
    "cli_df['Perc %']=round(cli_df['Margem CUE']/cli_df['Total Venda'],4)*100\n",
    "\n",
    "cli_df.sort_values('Perc %',ascending=False,inplace=True)\n",
    "\n",
    "codigos=cli_df['ID Cliente'].loc[cli_df['Perc %']<perc_ideal].unique().tolist()\n",
    "\n",
    "cli_df.loc[cli_df['Perc %']<perc_ideal]"
   ]
  },
  {
   "cell_type": "code",
   "execution_count": 42,
   "id": "f5a92700",
   "metadata": {},
   "outputs": [
    {
     "data": {
      "text/plain": [
       "36.7275"
      ]
     },
     "execution_count": 42,
     "metadata": {},
     "output_type": "execute_result"
    }
   ],
   "source": [
    "cli_df['Perc %'].loc[cli_df['Perc %']>=perc_ideal].mean()"
   ]
  },
  {
   "cell_type": "code",
   "execution_count": 43,
   "id": "daf33c69",
   "metadata": {},
   "outputs": [
    {
     "data": {
      "text/plain": [
       "19.99611979166669"
      ]
     },
     "execution_count": 43,
     "metadata": {},
     "output_type": "execute_result"
    }
   ],
   "source": [
    "cli_df['Perc %'].loc[cli_df['Perc %']<perc_ideal].mean()"
   ]
  },
  {
   "cell_type": "code",
   "execution_count": 44,
   "id": "a9d6d44f",
   "metadata": {},
   "outputs": [
    {
     "data": {
      "text/plain": [
       "20.824405940594072"
      ]
     },
     "execution_count": 44,
     "metadata": {},
     "output_type": "execute_result"
    }
   ],
   "source": [
    "cli_df['Perc %'].mean()"
   ]
  },
  {
   "cell_type": "code",
   "execution_count": 74,
   "id": "deaf7142",
   "metadata": {},
   "outputs": [
    {
     "name": "stderr",
     "output_type": "stream",
     "text": [
      "C:\\Users\\eduardo\\AppData\\Local\\Temp/ipykernel_17348/1719869664.py:5: SettingWithCopyWarning: \n",
      "A value is trying to be set on a copy of a slice from a DataFrame.\n",
      "Try using .loc[row_indexer,col_indexer] = value instead\n",
      "\n",
      "See the caveats in the documentation: https://pandas.pydata.org/pandas-docs/stable/user_guide/indexing.html#returning-a-view-versus-a-copy\n",
      "  df['Perc %']=df.apply(lambda info: round(info['Margem CUE']/info['Total Venda'],4)*100 if info['Total Venda']>0 else 0,axis=1)\n"
     ]
    }
   ],
   "source": [
    "df=pd.DataFrame()\n",
    "\n",
    "df=vendas_df.loc[(vendas_df['Canal'].isin(canais))&(vendas_df['Tabelas'].isin(tab))&(vendas_df['Segmento'].isin(segmentos))&(vendas_df['Matriz'].isin(redes))&(vendas_df['ID Cliente'].isin(codigos))]\n",
    "\n",
    "df['Perc %']=df.apply(lambda info: round(info['Margem CUE']/info['Total Venda'],4)*100 if info['Total Venda']>0 else 0,axis=1)\n",
    "\n",
    "df=df.loc[df['Perc %']<perc_ideal]"
   ]
  },
  {
   "cell_type": "code",
   "execution_count": 77,
   "id": "a824945c",
   "metadata": {},
   "outputs": [
    {
     "name": "stdout",
     "output_type": "stream",
     "text": [
      "Arquivo gerado\n"
     ]
    }
   ],
   "source": [
    "for sup in df['Supervisor'].unique().tolist():\n",
    "    \n",
    "    \n",
    "    df.loc[df['Supervisor']==sup].to_excel(f'{sup}.xlsx',index=False,encoding='ISO-8859-1')\n",
    "    \n",
    "    pass\n",
    "\n",
    "print('Arquivo gerado')"
   ]
  },
  {
   "cell_type": "code",
   "execution_count": null,
   "id": "d787ffac",
   "metadata": {},
   "outputs": [],
   "source": []
  },
  {
   "cell_type": "code",
   "execution_count": null,
   "id": "4d30c1c4",
   "metadata": {},
   "outputs": [],
   "source": []
  }
 ],
 "metadata": {
  "kernelspec": {
   "display_name": "Python 3 (ipykernel)",
   "language": "python",
   "name": "python3"
  },
  "language_info": {
   "codemirror_mode": {
    "name": "ipython",
    "version": 3
   },
   "file_extension": ".py",
   "mimetype": "text/x-python",
   "name": "python",
   "nbconvert_exporter": "python",
   "pygments_lexer": "ipython3",
   "version": "3.9.7"
  }
 },
 "nbformat": 4,
 "nbformat_minor": 5
}
