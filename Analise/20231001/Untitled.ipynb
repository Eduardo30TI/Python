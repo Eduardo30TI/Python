{
 "cells": [
  {
   "cell_type": "code",
   "execution_count": 6,
   "id": "b769837b",
   "metadata": {},
   "outputs": [],
   "source": [
    "from Acesso import Login\n",
    "from Query import  Query\n",
    "import pandas as pd"
   ]
  },
  {
   "cell_type": "code",
   "execution_count": 7,
   "id": "70cef260",
   "metadata": {},
   "outputs": [],
   "source": [
    "pd.set_option('display.max_columns',None)"
   ]
  },
  {
   "cell_type": "code",
   "execution_count": 8,
   "id": "352c6391",
   "metadata": {},
   "outputs": [],
   "source": [
    "querys = {\n",
    "    \n",
    "    'Produtos':\n",
    "    \n",
    "    \"\"\"\n",
    "    SELECT * FROM netfeira.vw_produto\n",
    "    \n",
    "    \"\"\"\n",
    "\n",
    "}"
   ]
  },
  {
   "cell_type": "code",
   "execution_count": 9,
   "id": "ae64e5bc",
   "metadata": {},
   "outputs": [],
   "source": [
    "s=Login()\n",
    "\n",
    "sql=Query(s.usuario,s.senha,s.database,s.server)"
   ]
  },
  {
   "cell_type": "code",
   "execution_count": 10,
   "id": "bdb3bc17",
   "metadata": {},
   "outputs": [
    {
     "name": "stderr",
     "output_type": "stream",
     "text": [
      "C:\\Users\\TI\\Anaconda3\\lib\\site-packages\\pandas\\io\\sql.py:762: UserWarning: pandas only support SQLAlchemy connectable(engine/connection) ordatabase string URI or sqlite3 DBAPI2 connectionother DBAPI2 objects are not tested, please consider using SQLAlchemy\n",
      "  warnings.warn(\n"
     ]
    }
   ],
   "source": [
    "df=sql.CriarTabela(kwargs=querys)"
   ]
  },
  {
   "cell_type": "code",
   "execution_count": 36,
   "id": "429cfe69",
   "metadata": {},
   "outputs": [],
   "source": [
    "temp_df = df['Produtos'][['SKU','Fotos']]"
   ]
  },
  {
   "cell_type": "code",
   "execution_count": 44,
   "id": "14eacf6e",
   "metadata": {},
   "outputs": [
    {
     "name": "stdout",
     "output_type": "stream",
     "text": [
      "0           \\\\192.168.0.252\\Progins\\MOINHO\\fotos_dos_produ...\n",
      "1                                                        None\n",
      "2           \\\\192.168.0.252\\Progins\\MOINHO\\fotos_dos_produ...\n",
      "3           \\\\192.168.0.252\\Progins\\MOINHO\\fotos_dos_produ...\n",
      "4           \\\\192.168.0.252\\Progins\\MOINHO\\fotos_dos_produ...\n",
      "                                  ...                        \n",
      "910                                                          \n",
      "911                                                          \n",
      "912                                                          \n",
      "913                                                          \n",
      "Foto_cod    0      \\\\192.168.0.252\\Progins\\MOINHO\\fotos_do...\n",
      "Name: Fotos, Length: 915, dtype: object\n"
     ]
    }
   ],
   "source": [
    "print(tem_df)"
   ]
  },
  {
   "cell_type": "code",
   "execution_count": null,
   "id": "935dfb63",
   "metadata": {},
   "outputs": [],
   "source": []
  }
 ],
 "metadata": {
  "kernelspec": {
   "display_name": "Python 3 (ipykernel)",
   "language": "python",
   "name": "python3"
  },
  "language_info": {
   "codemirror_mode": {
    "name": "ipython",
    "version": 3
   },
   "file_extension": ".py",
   "mimetype": "text/x-python",
   "name": "python",
   "nbconvert_exporter": "python",
   "pygments_lexer": "ipython3",
   "version": "3.9.13"
  }
 },
 "nbformat": 4,
 "nbformat_minor": 5
}
