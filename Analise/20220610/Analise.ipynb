{
 "cells": [
  {
   "cell_type": "code",
   "execution_count": 1,
   "id": "9f3ef9a7",
   "metadata": {},
   "outputs": [],
   "source": [
    "import pandas as pd\n",
    "from glob import glob\n",
    "import os"
   ]
  },
  {
   "cell_type": "code",
   "execution_count": 2,
   "id": "6be02045",
   "metadata": {},
   "outputs": [
    {
     "data": {
      "text/plain": [
       "['BASE CLIENTES SAVEURS.xlsx', 'Carteira.xlsx']"
      ]
     },
     "execution_count": 2,
     "metadata": {},
     "output_type": "execute_result"
    }
   ],
   "source": [
    "arquivos=glob('*.xlsx')\n",
    "\n",
    "arquivos"
   ]
  },
  {
   "cell_type": "code",
   "execution_count": 3,
   "id": "051fc5f7",
   "metadata": {},
   "outputs": [],
   "source": [
    "tabelas_df=dict()\n",
    "\n",
    "for id,tabela in enumerate(arquivos):\n",
    "    \n",
    "    tabelas_df[id]=pd.read_excel(tabela)\n",
    "        \n",
    "    pass"
   ]
  },
  {
   "cell_type": "code",
   "execution_count": 7,
   "id": "fd329549",
   "metadata": {},
   "outputs": [],
   "source": [
    "tabelas_df[0]['Razão Social']=tabelas_df[0]['Razão Social'].apply(lambda info: info[:info.find('*')])\n",
    "\n",
    "tabelas_df[0]['Razão Social']=tabelas_df[0]['Razão Social'].str.upper()"
   ]
  },
  {
   "cell_type": "code",
   "execution_count": 10,
   "id": "09ed24f9",
   "metadata": {},
   "outputs": [
    {
     "data": {
      "text/html": [
       "<div>\n",
       "<style scoped>\n",
       "    .dataframe tbody tr th:only-of-type {\n",
       "        vertical-align: middle;\n",
       "    }\n",
       "\n",
       "    .dataframe tbody tr th {\n",
       "        vertical-align: top;\n",
       "    }\n",
       "\n",
       "    .dataframe thead th {\n",
       "        text-align: right;\n",
       "    }\n",
       "</style>\n",
       "<table border=\"1\" class=\"dataframe\">\n",
       "  <thead>\n",
       "    <tr style=\"text-align: right;\">\n",
       "      <th></th>\n",
       "      <th>Razão Social_x</th>\n",
       "      <th>Categ</th>\n",
       "      <th>Endereço</th>\n",
       "      <th>Bairro_x</th>\n",
       "      <th>Cidade</th>\n",
       "      <th>Visita</th>\n",
       "      <th>Pagto</th>\n",
       "      <th>Semana</th>\n",
       "      <th>Vendedor</th>\n",
       "      <th>Equipe</th>\n",
       "      <th>...</th>\n",
       "      <th>Status Promotor</th>\n",
       "      <th>Status de Compra</th>\n",
       "      <th>Últ. Compra</th>\n",
       "      <th>Dias Últ</th>\n",
       "      <th>Classificação do Cliente</th>\n",
       "      <th>Contato</th>\n",
       "      <th>Carteira</th>\n",
       "      <th>MIX</th>\n",
       "      <th>Pedidos</th>\n",
       "      <th>Total (R$)</th>\n",
       "    </tr>\n",
       "  </thead>\n",
       "  <tbody>\n",
       "  </tbody>\n",
       "</table>\n",
       "<p>0 rows × 36 columns</p>\n",
       "</div>"
      ],
      "text/plain": [
       "Empty DataFrame\n",
       "Columns: [Razão Social_x, Categ, Endereço, Bairro_x, Cidade, Visita, Pagto, Semana, Vendedor, Equipe, Supervisor, ID Cliente, CNPJ, Razão Social_y, Nome Fantasia, Status do Cliente, Matriz, Segmento, Canal, CEP, Bairro_y, Município, UF, Número, Região, Distrito, Status Promotor, Status de Compra, Últ. Compra, Dias Últ, Classificação do Cliente, Contato, Carteira, MIX, Pedidos, Total (R$)]\n",
       "Index: []\n",
       "\n",
       "[0 rows x 36 columns]"
      ]
     },
     "execution_count": 10,
     "metadata": {},
     "output_type": "execute_result"
    }
   ],
   "source": [
    "tabelas_df[0].merge(tabelas_df[1],on='Endereço',how='inner')"
   ]
  },
  {
   "cell_type": "code",
   "execution_count": 12,
   "id": "96a9dd83",
   "metadata": {},
   "outputs": [
    {
     "data": {
      "text/plain": [
       "Index(['Vendedor', 'Equipe', 'Supervisor', 'ID Cliente', 'CNPJ',\n",
       "       'Razão Social', 'Nome Fantasia', 'Status do Cliente', 'Matriz',\n",
       "       'Segmento', 'Canal', 'CEP', 'Endereço', 'Bairro', 'Município', 'UF',\n",
       "       'Número', 'Região', 'Distrito', 'Status Promotor', 'Status de Compra',\n",
       "       'Últ. Compra', 'Dias Últ', 'Classificação do Cliente', 'Contato',\n",
       "       'Carteira', 'MIX', 'Pedidos', 'Total (R$)'],\n",
       "      dtype='object')"
      ]
     },
     "execution_count": 12,
     "metadata": {},
     "output_type": "execute_result"
    }
   ],
   "source": [
    "tabelas_df[1].columns"
   ]
  },
  {
   "cell_type": "code",
   "execution_count": 15,
   "id": "af9b31c5",
   "metadata": {},
   "outputs": [],
   "source": [
    "tabelas_df[0].to_excel('Base Ajustada.xlsx',index=False,encoding='ISO-8859-1')"
   ]
  },
  {
   "cell_type": "code",
   "execution_count": null,
   "id": "0688757b",
   "metadata": {},
   "outputs": [],
   "source": []
  }
 ],
 "metadata": {
  "kernelspec": {
   "display_name": "Python 3 (ipykernel)",
   "language": "python",
   "name": "python3"
  },
  "language_info": {
   "codemirror_mode": {
    "name": "ipython",
    "version": 3
   },
   "file_extension": ".py",
   "mimetype": "text/x-python",
   "name": "python",
   "nbconvert_exporter": "python",
   "pygments_lexer": "ipython3",
   "version": "3.9.7"
  }
 },
 "nbformat": 4,
 "nbformat_minor": 5
}
