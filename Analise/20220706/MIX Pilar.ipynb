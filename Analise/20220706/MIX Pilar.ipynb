{
 "cells": [
  {
   "cell_type": "code",
   "execution_count": 1,
   "id": "db8dc3b6",
   "metadata": {},
   "outputs": [],
   "source": [
    "import pandas as pd\n",
    "from Tempo import DataHora\n",
    "from ConectionSQL import SQL\n",
    "\n",
    "pd.set_option('display.max_columns',None)\n",
    "pd.set_option('float_format','{:2f}'.format)\n",
    "\n",
    "sql=SQL('Netfeira','sqlserver','MOINHO','192.168.0.252')\n",
    "\n",
    "conectando=sql.ConexaoSQL()"
   ]
  },
  {
   "cell_type": "code",
   "execution_count": 2,
   "id": "b0bc81d6",
   "metadata": {},
   "outputs": [],
   "source": [
    "querys={\n",
    "    \n",
    "    'Estatico':\n",
    "    \n",
    "    \"\"\"\n",
    "    SELECT * FROM netfeira.vw_estatico\n",
    "    \n",
    "    \"\"\",\n",
    "    \n",
    "    'Cliente':\n",
    "    \n",
    "    \"\"\"\n",
    "    \n",
    "    SELECT * FROM netfeira.vw_cliente\n",
    "    \n",
    "    \"\"\",\n",
    "    \n",
    "    'Vendedor':\n",
    "    \n",
    "    \"\"\"\n",
    "    \n",
    "    SELECT * FROM netfeira.vw_vendedor\n",
    "    \n",
    "    \"\"\",\n",
    "    \n",
    "    'Supervisor':\n",
    "    \n",
    "    \"\"\"\n",
    "    \n",
    "    SELECT * FROM netfeira.vw_supervisor\n",
    "    \n",
    "    \"\"\",\n",
    "    \n",
    "    'Segmento':\n",
    "    \n",
    "    \"\"\"\n",
    "    \n",
    "    SELECT * FROM netfeira.vw_segmento\n",
    "    \n",
    "    \"\"\",\n",
    "    \n",
    "    'Produto':\n",
    "    \n",
    "    \n",
    "    \"\"\"\n",
    "    \n",
    "    SELECT * FROM netfeira.vw_produto\n",
    "    \n",
    "    \"\"\"\n",
    "    \n",
    "}"
   ]
  },
  {
   "cell_type": "code",
   "execution_count": 3,
   "id": "8b30575b",
   "metadata": {},
   "outputs": [],
   "source": [
    "tabelas_df=dict()\n",
    "\n",
    "for tabela,query in querys.items():\n",
    "    \n",
    "    tabelas_df[tabela]=pd.read_sql(query,conectando)    \n",
    "    \n",
    "    pass"
   ]
  },
  {
   "cell_type": "code",
   "execution_count": 4,
   "id": "d39f76da",
   "metadata": {},
   "outputs": [
    {
     "data": {
      "text/plain": [
       "Index(['ID Empresa', 'Numero do Pedido', 'NFe', 'ID Cliente', 'ID Vendedor',\n",
       "       'Tipo de Pedido', 'Tipo de Operação', 'Tabela de Preço',\n",
       "       'Data de Emissão', 'Data de Faturamento', 'Status do Pedido', 'ID NFe',\n",
       "       'SKU', 'Seq', 'Qtde', 'Unid. VDA', 'Qtde VDA', 'Valor VDA',\n",
       "       'Total Geral', 'Custo da Útima Entrada', 'Margem Bruta R$',\n",
       "       'Peso Bruto', 'Peso Líquido', 'Preço da Tabela', '% Desconto',\n",
       "       '% Comissão', 'Comissão R$'],\n",
       "      dtype='object')"
      ]
     },
     "execution_count": 4,
     "metadata": {},
     "output_type": "execute_result"
    }
   ],
   "source": [
    "tabelas_df['Estatico'].columns"
   ]
  },
  {
   "cell_type": "code",
   "execution_count": 5,
   "id": "e56a232f",
   "metadata": {},
   "outputs": [
    {
     "data": {
      "text/plain": [
       "Index(['ID Empresa', 'Numero do Pedido', 'NFe', 'ID Cliente', 'ID Vendedor',\n",
       "       'Tipo de Pedido', 'Tipo de Operação', 'Tabela de Preço',\n",
       "       'Data de Emissão', 'Data de Faturamento', 'Status do Pedido', 'ID NFe',\n",
       "       'SKU', 'Seq', 'Qtde', 'Unid. VDA', 'Qtde VDA', 'Valor VDA',\n",
       "       'Total Geral', 'Custo da Útima Entrada', 'Margem Bruta R$', 'Bruto KG',\n",
       "       'Líquido KG', 'Preço da Tabela', '% Desconto', '% Comissão',\n",
       "       'Comissão R$'],\n",
       "      dtype='object')"
      ]
     },
     "execution_count": 5,
     "metadata": {},
     "output_type": "execute_result"
    }
   ],
   "source": [
    "tabelas_df['Estatico'].rename(columns={'Peso Bruto':'Bruto KG','Peso Líquido':'Líquido KG'},inplace=True)\n",
    "\n",
    "tabelas_df['Estatico']=tabelas_df['Estatico'].loc[tabelas_df['Estatico']['Tipo de Operação']=='VENDAS']\n",
    "\n",
    "tabelas_df['Estatico'].columns"
   ]
  },
  {
   "cell_type": "code",
   "execution_count": 6,
   "id": "b0dd9cff",
   "metadata": {},
   "outputs": [
    {
     "data": {
      "text/plain": [
       "Index(['ID Cliente', 'CNPJ', 'CNPJ Caracter', 'Razão Social', 'Nome Fantasia',\n",
       "       'Tipo de Cliente', 'Status do Cliente', 'ID Segmento', 'Matriz',\n",
       "       'Crédito', 'Data de Cadastro', 'Primeira Compra', 'Última Compra',\n",
       "       'Dias Compra', 'Tabela', 'Condição de Pagto', 'Prazo Pagto',\n",
       "       'Pagamento', 'CEP', 'Endereço', 'Bairro', 'Município', 'Numero',\n",
       "       'Complemento', 'Região', 'UF', 'DDD', 'Contato'],\n",
       "      dtype='object')"
      ]
     },
     "execution_count": 6,
     "metadata": {},
     "output_type": "execute_result"
    }
   ],
   "source": [
    "tabelas_df['Cliente'].columns"
   ]
  },
  {
   "cell_type": "code",
   "execution_count": 7,
   "id": "75af6019",
   "metadata": {},
   "outputs": [],
   "source": [
    "tabelas_df['Cliente']=tabelas_df['Cliente'].loc[tabelas_df['Cliente']['Status do Cliente']=='ATIVO']"
   ]
  },
  {
   "cell_type": "code",
   "execution_count": 8,
   "id": "09fd54b8",
   "metadata": {},
   "outputs": [
    {
     "data": {
      "text/plain": [
       "Index(['SKU', 'Cód. Fabricante', 'Produto', 'Status', 'Fabricante',\n",
       "       'Departamento', 'Seção', 'Categoria', 'Linha', 'Grupo de Produtos',\n",
       "       'Grupo Indústria', 'Grupo de Meta', 'Grupo MCCAIN', 'Linha Fabrica',\n",
       "       'Grupo de Promotores', 'Peso Liquido', 'Peso Bruto', 'Fator CX'],\n",
       "      dtype='object')"
      ]
     },
     "execution_count": 8,
     "metadata": {},
     "output_type": "execute_result"
    }
   ],
   "source": [
    "tabelas_df['Produto'].columns"
   ]
  },
  {
   "cell_type": "code",
   "execution_count": 9,
   "id": "c9405340",
   "metadata": {},
   "outputs": [],
   "source": [
    "tabelas_df['Produto']=tabelas_df['Produto'].loc[tabelas_df['Produto']['Status']=='ATIVO']"
   ]
  },
  {
   "cell_type": "code",
   "execution_count": 10,
   "id": "b0b9bd7c",
   "metadata": {},
   "outputs": [
    {
     "data": {
      "text/plain": [
       "Index(['ID Vendedor', 'Vendedor', 'Nome Resumido', 'ID Equipe', 'E-mail',\n",
       "       'Categoria'],\n",
       "      dtype='object')"
      ]
     },
     "execution_count": 10,
     "metadata": {},
     "output_type": "execute_result"
    }
   ],
   "source": [
    "tabelas_df['Vendedor'].columns"
   ]
  },
  {
   "cell_type": "code",
   "execution_count": 11,
   "id": "7ef089cc",
   "metadata": {},
   "outputs": [],
   "source": [
    "tabelas_df['Estatico']=tabelas_df['Estatico'].merge(tabelas_df['Cliente'],on='ID Cliente',how='inner')[['ID Empresa', 'Numero do Pedido', 'NFe', 'ID Cliente','Nome Fantasia','ID Segmento', 'ID Vendedor',\n",
    "       'Tipo de Pedido', 'Tipo de Operação', 'Tabela de Preço',\n",
    "       'Data de Emissão', 'Data de Faturamento', 'Status do Pedido', 'ID NFe',\n",
    "       'SKU', 'Seq', 'Qtde', 'Unid. VDA', 'Qtde VDA', 'Valor VDA',\n",
    "       'Total Geral', 'Custo da Útima Entrada', 'Margem Bruta R$',\n",
    "       'Bruto KG', 'Líquido KG', 'Preço da Tabela', '% Desconto',\n",
    "       '% Comissão', 'Comissão R$']]"
   ]
  },
  {
   "cell_type": "code",
   "execution_count": 13,
   "id": "d6755596",
   "metadata": {},
   "outputs": [],
   "source": [
    "tabelas_df['Estatico']=tabelas_df['Estatico'].merge(tabelas_df['Produto'],on='SKU',how='inner')[['ID Empresa', 'Numero do Pedido', 'NFe', 'ID Cliente','Nome Fantasia','ID Segmento', 'ID Vendedor',\n",
    "       'Tipo de Pedido', 'Tipo de Operação', 'Tabela de Preço',\n",
    "       'Data de Emissão', 'Data de Faturamento', 'Status do Pedido', 'ID NFe',\n",
    "       'SKU','Cód. Fabricante', 'Produto', 'Status', 'Fabricante',\n",
    "       'Departamento', 'Seção', 'Categoria', 'Linha', 'Grupo de Produtos',\n",
    "       'Grupo Indústria', 'Grupo de Meta', 'Grupo MCCAIN', 'Linha Fabrica',\n",
    "       'Grupo de Promotores', 'Fator CX', 'Seq', 'Qtde', 'Unid. VDA', 'Qtde VDA', 'Valor VDA',\n",
    "       'Total Geral', 'Custo da Útima Entrada', 'Margem Bruta R$',\n",
    "       'Bruto KG', 'Líquido KG', 'Preço da Tabela', '% Desconto',\n",
    "       '% Comissão', 'Comissão R$']]"
   ]
  },
  {
   "cell_type": "code",
   "execution_count": 16,
   "id": "ed355cef",
   "metadata": {},
   "outputs": [],
   "source": [
    "tabelas_df['Vendedor'].rename(columns={'Categoria':'Categoria Vendedor'},inplace=True)"
   ]
  },
  {
   "cell_type": "code",
   "execution_count": 18,
   "id": "5a773d64",
   "metadata": {},
   "outputs": [],
   "source": [
    "tabelas_df['Estatico']=tabelas_df['Estatico'].merge(tabelas_df['Vendedor'],on='ID Vendedor',how='inner')[['ID Empresa', 'Numero do Pedido', 'NFe', 'ID Cliente','Nome Fantasia','ID Segmento', 'ID Vendedor','Vendedor','ID Equipe',\n",
    "       'Tipo de Pedido', 'Tipo de Operação', 'Tabela de Preço',\n",
    "       'Data de Emissão', 'Data de Faturamento', 'Status do Pedido', 'ID NFe',\n",
    "       'SKU','Cód. Fabricante', 'Produto', 'Status', 'Fabricante',\n",
    "       'Departamento', 'Seção', 'Categoria', 'Linha', 'Grupo de Produtos',\n",
    "       'Grupo Indústria', 'Grupo de Meta', 'Grupo MCCAIN', 'Linha Fabrica',\n",
    "       'Grupo de Promotores', 'Fator CX', 'Seq', 'Qtde', 'Unid. VDA', 'Qtde VDA', 'Valor VDA',\n",
    "       'Total Geral', 'Custo da Útima Entrada', 'Margem Bruta R$',\n",
    "       'Bruto KG', 'Líquido KG', 'Preço da Tabela', '% Desconto',\n",
    "       '% Comissão', 'Comissão R$']]"
   ]
  },
  {
   "cell_type": "code",
   "execution_count": 20,
   "id": "fe59802e",
   "metadata": {},
   "outputs": [
    {
     "data": {
      "text/plain": [
       "Index(['ID Equipe', 'Equipe', 'ID Sup', 'Supervisor', 'Email Sup',\n",
       "       'ID Gerente', 'Gerente', 'Email Gerente'],\n",
       "      dtype='object')"
      ]
     },
     "execution_count": 20,
     "metadata": {},
     "output_type": "execute_result"
    }
   ],
   "source": [
    "tabelas_df['Supervisor'].columns"
   ]
  },
  {
   "cell_type": "code",
   "execution_count": 22,
   "id": "6ac39a26",
   "metadata": {},
   "outputs": [],
   "source": [
    "tabelas_df['Estatico']=tabelas_df['Estatico'].merge(tabelas_df['Supervisor'],on='ID Equipe',how='inner')[['ID Empresa', 'Numero do Pedido', 'NFe', 'ID Cliente','Nome Fantasia','ID Segmento', 'ID Vendedor','Vendedor','Equipe','ID Sup', 'Supervisor', 'Email Sup',\n",
    "       'ID Gerente', 'Gerente', 'Email Gerente',\n",
    "       'Tipo de Pedido', 'Tipo de Operação', 'Tabela de Preço',\n",
    "       'Data de Emissão', 'Data de Faturamento', 'Status do Pedido', 'ID NFe',\n",
    "       'SKU','Cód. Fabricante', 'Produto', 'Status', 'Fabricante',\n",
    "       'Departamento', 'Seção', 'Categoria', 'Linha', 'Grupo de Produtos',\n",
    "       'Grupo Indústria', 'Grupo de Meta', 'Grupo MCCAIN', 'Linha Fabrica',\n",
    "       'Grupo de Promotores', 'Fator CX', 'Seq', 'Qtde', 'Unid. VDA', 'Qtde VDA', 'Valor VDA',\n",
    "       'Total Geral', 'Custo da Útima Entrada', 'Margem Bruta R$',\n",
    "       'Bruto KG', 'Líquido KG', 'Preço da Tabela', '% Desconto',\n",
    "       '% Comissão', 'Comissão R$']]"
   ]
  },
  {
   "cell_type": "code",
   "execution_count": 23,
   "id": "05740bc4",
   "metadata": {},
   "outputs": [
    {
     "data": {
      "text/plain": [
       "Index(['ID Segmento', 'Segmento', 'Canal'], dtype='object')"
      ]
     },
     "execution_count": 23,
     "metadata": {},
     "output_type": "execute_result"
    }
   ],
   "source": [
    "tabelas_df['Segmento'].columns"
   ]
  },
  {
   "cell_type": "code",
   "execution_count": 26,
   "id": "44665734",
   "metadata": {},
   "outputs": [],
   "source": [
    "tabelas_df['Estatico']=tabelas_df['Estatico'].merge(tabelas_df['Segmento'],on='ID Segmento',how='inner')[['ID Empresa', 'Numero do Pedido', 'NFe', 'ID Cliente','Nome Fantasia','Segmento', 'Canal', 'ID Vendedor','Vendedor','Equipe','ID Sup', 'Supervisor', 'Email Sup',\n",
    "       'ID Gerente', 'Gerente', 'Email Gerente',\n",
    "       'Tipo de Pedido', 'Tipo de Operação', 'Tabela de Preço',\n",
    "       'Data de Emissão', 'Data de Faturamento', 'Status do Pedido', 'ID NFe',\n",
    "       'SKU','Cód. Fabricante', 'Produto', 'Status', 'Fabricante',\n",
    "       'Departamento', 'Seção', 'Categoria', 'Linha', 'Grupo de Produtos',\n",
    "       'Grupo Indústria', 'Grupo de Meta', 'Grupo MCCAIN', 'Linha Fabrica',\n",
    "       'Grupo de Promotores', 'Fator CX', 'Seq', 'Qtde', 'Unid. VDA', 'Qtde VDA', 'Valor VDA',\n",
    "       'Total Geral', 'Custo da Útima Entrada', 'Margem Bruta R$',\n",
    "       'Bruto KG', 'Líquido KG', 'Preço da Tabela', '% Desconto',\n",
    "       '% Comissão', 'Comissão R$']]"
   ]
  },
  {
   "cell_type": "code",
   "execution_count": 36,
   "id": "9267c4c0",
   "metadata": {},
   "outputs": [
    {
     "data": {
      "text/html": [
       "<div>\n",
       "<style scoped>\n",
       "    .dataframe tbody tr th:only-of-type {\n",
       "        vertical-align: middle;\n",
       "    }\n",
       "\n",
       "    .dataframe tbody tr th {\n",
       "        vertical-align: top;\n",
       "    }\n",
       "\n",
       "    .dataframe thead th {\n",
       "        text-align: right;\n",
       "    }\n",
       "</style>\n",
       "<table border=\"1\" class=\"dataframe\">\n",
       "  <thead>\n",
       "    <tr style=\"text-align: right;\">\n",
       "      <th></th>\n",
       "      <th>Segmento</th>\n",
       "      <th>Canal</th>\n",
       "      <th>Total Geral</th>\n",
       "    </tr>\n",
       "  </thead>\n",
       "  <tbody>\n",
       "    <tr>\n",
       "      <th>0</th>\n",
       "      <td>RESTAURANTE</td>\n",
       "      <td>FS</td>\n",
       "      <td>32812513.936280</td>\n",
       "    </tr>\n",
       "    <tr>\n",
       "      <th>1</th>\n",
       "      <td>10 OU + CHK</td>\n",
       "      <td>AS</td>\n",
       "      <td>20701145.758858</td>\n",
       "    </tr>\n",
       "    <tr>\n",
       "      <th>2</th>\n",
       "      <td>BAR/LANCHONETE</td>\n",
       "      <td>FS</td>\n",
       "      <td>12166141.586492</td>\n",
       "    </tr>\n",
       "    <tr>\n",
       "      <th>3</th>\n",
       "      <td>5 A 9 CHK</td>\n",
       "      <td>AS</td>\n",
       "      <td>10206056.795516</td>\n",
       "    </tr>\n",
       "    <tr>\n",
       "      <th>4</th>\n",
       "      <td>PADARIA/DELICATÉSSEN</td>\n",
       "      <td>FS</td>\n",
       "      <td>8207947.491188</td>\n",
       "    </tr>\n",
       "    <tr>\n",
       "      <th>5</th>\n",
       "      <td>1 A 4 CHK</td>\n",
       "      <td>AS</td>\n",
       "      <td>6841544.663606</td>\n",
       "    </tr>\n",
       "    <tr>\n",
       "      <th>6</th>\n",
       "      <td>SACOLÃO</td>\n",
       "      <td>AS</td>\n",
       "      <td>5729345.299640</td>\n",
       "    </tr>\n",
       "    <tr>\n",
       "      <th>7</th>\n",
       "      <td>HAMBURGUERIA</td>\n",
       "      <td>FS</td>\n",
       "      <td>4335809.514304</td>\n",
       "    </tr>\n",
       "    <tr>\n",
       "      <th>8</th>\n",
       "      <td>COZINHA INDUSTRIAL</td>\n",
       "      <td>FS</td>\n",
       "      <td>4309722.414136</td>\n",
       "    </tr>\n",
       "    <tr>\n",
       "      <th>9</th>\n",
       "      <td>DISTRIBUIDOR</td>\n",
       "      <td>AS</td>\n",
       "      <td>4186795.445000</td>\n",
       "    </tr>\n",
       "    <tr>\n",
       "      <th>10</th>\n",
       "      <td>HOSPITALIDADE</td>\n",
       "      <td>FS</td>\n",
       "      <td>2840329.170000</td>\n",
       "    </tr>\n",
       "    <tr>\n",
       "      <th>11</th>\n",
       "      <td>EDUCAÇÃO</td>\n",
       "      <td>FS</td>\n",
       "      <td>2321482.656208</td>\n",
       "    </tr>\n",
       "    <tr>\n",
       "      <th>12</th>\n",
       "      <td>CONSUMIDOR FINAL</td>\n",
       "      <td>FS</td>\n",
       "      <td>2212091.050000</td>\n",
       "    </tr>\n",
       "    <tr>\n",
       "      <th>13</th>\n",
       "      <td>SAÚDE</td>\n",
       "      <td>FS</td>\n",
       "      <td>1732181.240000</td>\n",
       "    </tr>\n",
       "    <tr>\n",
       "      <th>14</th>\n",
       "      <td>AÇOUGUE</td>\n",
       "      <td>AS</td>\n",
       "      <td>1699800.817838</td>\n",
       "    </tr>\n",
       "    <tr>\n",
       "      <th>15</th>\n",
       "      <td>ENTRETENIMENTO</td>\n",
       "      <td>FS</td>\n",
       "      <td>1451495.753339</td>\n",
       "    </tr>\n",
       "    <tr>\n",
       "      <th>16</th>\n",
       "      <td>MERCEARIA</td>\n",
       "      <td>AS</td>\n",
       "      <td>1221705.400000</td>\n",
       "    </tr>\n",
       "    <tr>\n",
       "      <th>17</th>\n",
       "      <td>CAFETERIA</td>\n",
       "      <td>FS</td>\n",
       "      <td>1110487.850000</td>\n",
       "    </tr>\n",
       "    <tr>\n",
       "      <th>18</th>\n",
       "      <td>ATACAREJO</td>\n",
       "      <td>AS</td>\n",
       "      <td>1009738.795388</td>\n",
       "    </tr>\n",
       "    <tr>\n",
       "      <th>19</th>\n",
       "      <td>SORVETERIA/CONFEITARIA</td>\n",
       "      <td>FS</td>\n",
       "      <td>986574.358476</td>\n",
       "    </tr>\n",
       "    <tr>\n",
       "      <th>20</th>\n",
       "      <td>CHURRASCARIA</td>\n",
       "      <td>FS</td>\n",
       "      <td>844469.550000</td>\n",
       "    </tr>\n",
       "    <tr>\n",
       "      <th>21</th>\n",
       "      <td>BARES E CLUBES</td>\n",
       "      <td>FS</td>\n",
       "      <td>695916.190000</td>\n",
       "    </tr>\n",
       "    <tr>\n",
       "      <th>22</th>\n",
       "      <td>FORNECEDOR</td>\n",
       "      <td>AS</td>\n",
       "      <td>546721.262000</td>\n",
       "    </tr>\n",
       "    <tr>\n",
       "      <th>23</th>\n",
       "      <td>CANAL ESPECIALIZADO</td>\n",
       "      <td>AS</td>\n",
       "      <td>477138.510000</td>\n",
       "    </tr>\n",
       "    <tr>\n",
       "      <th>24</th>\n",
       "      <td>PIZZARIA</td>\n",
       "      <td>FS</td>\n",
       "      <td>429144.666810</td>\n",
       "    </tr>\n",
       "    <tr>\n",
       "      <th>25</th>\n",
       "      <td>EMPÓRIO</td>\n",
       "      <td>AS</td>\n",
       "      <td>427930.666944</td>\n",
       "    </tr>\n",
       "    <tr>\n",
       "      <th>26</th>\n",
       "      <td>INDÚSTRIA/FÁBRICA</td>\n",
       "      <td>FS</td>\n",
       "      <td>405747.550000</td>\n",
       "    </tr>\n",
       "    <tr>\n",
       "      <th>27</th>\n",
       "      <td>FAST FOOD/REDES</td>\n",
       "      <td>FS</td>\n",
       "      <td>384085.640000</td>\n",
       "    </tr>\n",
       "    <tr>\n",
       "      <th>28</th>\n",
       "      <td>FUNCIONARIO</td>\n",
       "      <td>FS</td>\n",
       "      <td>250778.114000</td>\n",
       "    </tr>\n",
       "    <tr>\n",
       "      <th>29</th>\n",
       "      <td>SUQUERIA</td>\n",
       "      <td>FS</td>\n",
       "      <td>200536.510000</td>\n",
       "    </tr>\n",
       "    <tr>\n",
       "      <th>30</th>\n",
       "      <td>SERVIÇOS COMPLEMENTARES</td>\n",
       "      <td>FS</td>\n",
       "      <td>195316.700000</td>\n",
       "    </tr>\n",
       "    <tr>\n",
       "      <th>31</th>\n",
       "      <td>OPERADOR MÓVEL</td>\n",
       "      <td>FS</td>\n",
       "      <td>188694.220000</td>\n",
       "    </tr>\n",
       "    <tr>\n",
       "      <th>32</th>\n",
       "      <td>BOMBONIERE</td>\n",
       "      <td>AS</td>\n",
       "      <td>177372.250000</td>\n",
       "    </tr>\n",
       "    <tr>\n",
       "      <th>33</th>\n",
       "      <td>RESTAURANTE ORIENTAL</td>\n",
       "      <td>FS</td>\n",
       "      <td>153284.430000</td>\n",
       "    </tr>\n",
       "    <tr>\n",
       "      <th>34</th>\n",
       "      <td>AÇAÍ</td>\n",
       "      <td>FS</td>\n",
       "      <td>126416.240000</td>\n",
       "    </tr>\n",
       "    <tr>\n",
       "      <th>35</th>\n",
       "      <td>ROTISSERIE</td>\n",
       "      <td>FS</td>\n",
       "      <td>111470.000000</td>\n",
       "    </tr>\n",
       "    <tr>\n",
       "      <th>36</th>\n",
       "      <td>BOTECO</td>\n",
       "      <td>FS</td>\n",
       "      <td>59075.400000</td>\n",
       "    </tr>\n",
       "    <tr>\n",
       "      <th>37</th>\n",
       "      <td>MILITAR E SERVIÇOS SOCIAIS</td>\n",
       "      <td>FS</td>\n",
       "      <td>39444.040000</td>\n",
       "    </tr>\n",
       "    <tr>\n",
       "      <th>38</th>\n",
       "      <td>LOJA DE CONVENIÊNCIA</td>\n",
       "      <td>AS</td>\n",
       "      <td>29120.240000</td>\n",
       "    </tr>\n",
       "    <tr>\n",
       "      <th>39</th>\n",
       "      <td>FARMACIA</td>\n",
       "      <td>AS</td>\n",
       "      <td>14822.460000</td>\n",
       "    </tr>\n",
       "    <tr>\n",
       "      <th>40</th>\n",
       "      <td>ACADEMIA</td>\n",
       "      <td>AS</td>\n",
       "      <td>9010.440000</td>\n",
       "    </tr>\n",
       "    <tr>\n",
       "      <th>41</th>\n",
       "      <td>ESCRITÓRIOS/EMPRESAS</td>\n",
       "      <td>FS</td>\n",
       "      <td>3271.720000</td>\n",
       "    </tr>\n",
       "    <tr>\n",
       "      <th>42</th>\n",
       "      <td>TRANSPORTE</td>\n",
       "      <td>FS</td>\n",
       "      <td>755.860000</td>\n",
       "    </tr>\n",
       "  </tbody>\n",
       "</table>\n",
       "</div>"
      ],
      "text/plain": [
       "                      Segmento Canal     Total Geral\n",
       "0                  RESTAURANTE    FS 32812513.936280\n",
       "1                  10 OU + CHK    AS 20701145.758858\n",
       "2               BAR/LANCHONETE    FS 12166141.586492\n",
       "3                    5 A 9 CHK    AS 10206056.795516\n",
       "4         PADARIA/DELICATÉSSEN    FS  8207947.491188\n",
       "5                    1 A 4 CHK    AS  6841544.663606\n",
       "6                      SACOLÃO    AS  5729345.299640\n",
       "7                 HAMBURGUERIA    FS  4335809.514304\n",
       "8           COZINHA INDUSTRIAL    FS  4309722.414136\n",
       "9                 DISTRIBUIDOR    AS  4186795.445000\n",
       "10               HOSPITALIDADE    FS  2840329.170000\n",
       "11                    EDUCAÇÃO    FS  2321482.656208\n",
       "12            CONSUMIDOR FINAL    FS  2212091.050000\n",
       "13                       SAÚDE    FS  1732181.240000\n",
       "14                     AÇOUGUE    AS  1699800.817838\n",
       "15              ENTRETENIMENTO    FS  1451495.753339\n",
       "16                   MERCEARIA    AS  1221705.400000\n",
       "17                   CAFETERIA    FS  1110487.850000\n",
       "18                   ATACAREJO    AS  1009738.795388\n",
       "19      SORVETERIA/CONFEITARIA    FS   986574.358476\n",
       "20                CHURRASCARIA    FS   844469.550000\n",
       "21              BARES E CLUBES    FS   695916.190000\n",
       "22                  FORNECEDOR    AS   546721.262000\n",
       "23         CANAL ESPECIALIZADO    AS   477138.510000\n",
       "24                    PIZZARIA    FS   429144.666810\n",
       "25                     EMPÓRIO    AS   427930.666944\n",
       "26           INDÚSTRIA/FÁBRICA    FS   405747.550000\n",
       "27             FAST FOOD/REDES    FS   384085.640000\n",
       "28                 FUNCIONARIO    FS   250778.114000\n",
       "29                    SUQUERIA    FS   200536.510000\n",
       "30     SERVIÇOS COMPLEMENTARES    FS   195316.700000\n",
       "31              OPERADOR MÓVEL    FS   188694.220000\n",
       "32                  BOMBONIERE    AS   177372.250000\n",
       "33        RESTAURANTE ORIENTAL    FS   153284.430000\n",
       "34                        AÇAÍ    FS   126416.240000\n",
       "35                  ROTISSERIE    FS   111470.000000\n",
       "36                      BOTECO    FS    59075.400000\n",
       "37  MILITAR E SERVIÇOS SOCIAIS    FS    39444.040000\n",
       "38        LOJA DE CONVENIÊNCIA    AS    29120.240000\n",
       "39                    FARMACIA    AS    14822.460000\n",
       "40                    ACADEMIA    AS     9010.440000\n",
       "41        ESCRITÓRIOS/EMPRESAS    FS     3271.720000\n",
       "42                  TRANSPORTE    FS      755.860000"
      ]
     },
     "execution_count": 36,
     "metadata": {},
     "output_type": "execute_result"
    }
   ],
   "source": [
    "segmento_df=tabelas_df['Estatico'][['Segmento','Canal','Total Geral']].groupby(['Segmento','Canal'],as_index=False).sum().sort_values('Total Geral',ascending=False,ignore_index=True)\n",
    "\n",
    "segmento_df"
   ]
  },
  {
   "cell_type": "code",
   "execution_count": null,
   "id": "08a80ec4",
   "metadata": {},
   "outputs": [],
   "source": []
  }
 ],
 "metadata": {
  "kernelspec": {
   "display_name": "Python 3 (ipykernel)",
   "language": "python",
   "name": "python3"
  },
  "language_info": {
   "codemirror_mode": {
    "name": "ipython",
    "version": 3
   },
   "file_extension": ".py",
   "mimetype": "text/x-python",
   "name": "python",
   "nbconvert_exporter": "python",
   "pygments_lexer": "ipython3",
   "version": "3.9.7"
  }
 },
 "nbformat": 4,
 "nbformat_minor": 5
}
