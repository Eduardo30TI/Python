{
 "cells": [
  {
   "cell_type": "code",
   "execution_count": 1,
   "id": "3109740b",
   "metadata": {},
   "outputs": [],
   "source": [
    "import pandas as pd\n",
    "from Acesso import Login\n",
    "from Query import Query\n",
    "from glob import glob\n",
    "from datetime import datetime\n",
    "\n",
    "s=Login()\n",
    "\n",
    "sql=Query(s.usuario,s.senha,s.database,s.server)\n",
    "\n",
    "pd.set_option('display.max_columns',None)"
   ]
  },
  {
   "cell_type": "code",
   "execution_count": 2,
   "id": "dd6a30f2",
   "metadata": {},
   "outputs": [],
   "source": [
    "querys={\n",
    "    \n",
    "    'Margem':\n",
    "    \n",
    "    \"\"\"\n",
    "    \n",
    "    SELECT * FROM netfeira.vw_margens\n",
    "    \n",
    "    \"\"\",\n",
    "    \n",
    "    'Cliente':\n",
    "    \n",
    "    \"\"\"\n",
    "    \n",
    "    SELECT * FROM netfeira.vw_cliente\n",
    "    \n",
    "    \"\"\"\n",
    "}"
   ]
  },
  {
   "cell_type": "code",
   "execution_count": 3,
   "id": "4574cf7b",
   "metadata": {},
   "outputs": [],
   "source": [
    "tabelas_df=sql.CriarTabela(kwargs=querys)"
   ]
  },
  {
   "cell_type": "code",
   "execution_count": 56,
   "id": "35e5933e",
   "metadata": {},
   "outputs": [],
   "source": [
    "tabelas_df['Consolidado']=tabelas_df['Margem'].loc[(tabelas_df['Margem']['Tipo de Operação']=='VENDAS')]"
   ]
  },
  {
   "cell_type": "code",
   "execution_count": 57,
   "id": "293dfbc9",
   "metadata": {},
   "outputs": [],
   "source": [
    "tabelas_df['Consolidado']=tabelas_df['Consolidado'].merge(tabelas_df['Cliente'][['ID Cliente','Razão Social','Nome Fantasia','Desc Financeiro']],on='ID Cliente',how='inner')"
   ]
  },
  {
   "cell_type": "code",
   "execution_count": 58,
   "id": "ea6c0916",
   "metadata": {},
   "outputs": [
    {
     "data": {
      "text/plain": [
       "Index(['Origem', 'Situação Entrega', 'ID Situação', 'Situação', 'Pedido',\n",
       "       'NFe', 'Tipo de Pedido', 'Tipo de Operação', 'Tabelas',\n",
       "       'Data de Emissão', 'Data de Faturamento', 'Data de Entrega', 'Empresa',\n",
       "       'ID Cliente', 'ID Vendedor', 'SKU', 'Seq', 'Qtde', 'Unid. VDA', 'Fator',\n",
       "       'Qtde. VDA', 'Valor VDA', 'Total Venda', 'Total AV', 'MG CRP',\n",
       "       'Margem CUE', 'Margem CMP', 'Margem CRP', 'MG CUE', 'MG CMP',\n",
       "       'Comsissão R$', 'COFINS R$', 'PIS R$', 'ICMS R$', 'ICMS ST R$',\n",
       "       'IPI R$', 'Peso Bruto KG', 'Peso Líquido KG', 'Total Geral',\n",
       "       'Custo CUE', 'Custo CUE Capado', 'Razão Social', 'Nome Fantasia',\n",
       "       'Desc Financeiro'],\n",
       "      dtype='object')"
      ]
     },
     "execution_count": 58,
     "metadata": {},
     "output_type": "execute_result"
    }
   ],
   "source": [
    "tabelas_df['Consolidado'].columns"
   ]
  },
  {
   "cell_type": "code",
   "execution_count": 59,
   "id": "d892bc4a",
   "metadata": {},
   "outputs": [],
   "source": [
    "ano=datetime.now().year\n",
    "\n",
    "#mes=datetime.now().month\n",
    "\n",
    "mes=10\n",
    "\n",
    "dia=datetime.now().day"
   ]
  },
  {
   "cell_type": "code",
   "execution_count": 60,
   "id": "62dbc9e3",
   "metadata": {},
   "outputs": [],
   "source": [
    "tabelas_df['Consolidado']=tabelas_df['Consolidado'].loc[(tabelas_df['Consolidado']['Data de Faturamento'].dt.year==ano)&(tabelas_df['Consolidado']['Data de Faturamento'].dt.month==mes)]"
   ]
  },
  {
   "cell_type": "code",
   "execution_count": 61,
   "id": "0285d183",
   "metadata": {},
   "outputs": [],
   "source": [
    "tabelas_df['Consolidado']['Total Financeiro']=tabelas_df['Consolidado'].apply(lambda info: round(info['Total Venda']*(1-info['Desc Financeiro']),2),axis=1)"
   ]
  },
  {
   "cell_type": "code",
   "execution_count": 62,
   "id": "68248375",
   "metadata": {},
   "outputs": [],
   "source": [
    "tabelas_df['Consolidado'].loc[tabelas_df['Consolidado']['Desc Financeiro'].isnull(),'Total Financeiro']=tabelas_df['Consolidado']['Total Venda'].loc[tabelas_df['Consolidado']['Desc Financeiro'].isnull()]"
   ]
  },
  {
   "cell_type": "code",
   "execution_count": 63,
   "id": "4f8429f7",
   "metadata": {},
   "outputs": [],
   "source": [
    "tabelas_df['Consolidado']['Custo Financeiro']=tabelas_df['Consolidado'].apply(lambda info: info['Total Financeiro']-info['Custo CUE'],axis=1)"
   ]
  },
  {
   "cell_type": "code",
   "execution_count": 64,
   "id": "ec09d197",
   "metadata": {},
   "outputs": [
    {
     "data": {
      "text/plain": [
       "32.42"
      ]
     },
     "execution_count": 64,
     "metadata": {},
     "output_type": "execute_result"
    }
   ],
   "source": [
    "total=tabelas_df['Consolidado']['Total Venda'].sum()\n",
    "\n",
    "custo_cue=tabelas_df['Consolidado']['Margem CUE'].sum()\n",
    "\n",
    "round(custo_cue/total,4)*100"
   ]
  },
  {
   "cell_type": "code",
   "execution_count": 65,
   "id": "368f047d",
   "metadata": {},
   "outputs": [
    {
     "data": {
      "text/plain": [
       "30.17"
      ]
     },
     "execution_count": 65,
     "metadata": {},
     "output_type": "execute_result"
    }
   ],
   "source": [
    "total=tabelas_df['Consolidado']['Total Financeiro'].sum()\n",
    "\n",
    "custo_cue=tabelas_df['Consolidado']['Custo Financeiro'].sum()\n",
    "\n",
    "round(custo_cue/total,4)*100"
   ]
  },
  {
   "cell_type": "code",
   "execution_count": 66,
   "id": "2440256e",
   "metadata": {},
   "outputs": [],
   "source": [
    "tabelas_df['Dados']=tabelas_df['Consolidado'][['Tabelas','Total Venda','Margem CUE','Total Financeiro','Custo Financeiro']].loc[tabelas_df['Consolidado']['Data de Faturamento'].dt.day==dia].groupby(['Tabelas'],as_index=False).sum()"
   ]
  },
  {
   "cell_type": "code",
   "execution_count": 67,
   "id": "bfe6366f",
   "metadata": {},
   "outputs": [],
   "source": [
    "tabelas_df['Dados']['MG CUE']=tabelas_df['Dados'].apply(lambda info: round(info['Margem CUE']/info['Total Venda'],4)*100,axis=1)"
   ]
  },
  {
   "cell_type": "code",
   "execution_count": 68,
   "id": "cd961df5",
   "metadata": {},
   "outputs": [
    {
     "data": {
      "text/html": [
       "<div>\n",
       "<style scoped>\n",
       "    .dataframe tbody tr th:only-of-type {\n",
       "        vertical-align: middle;\n",
       "    }\n",
       "\n",
       "    .dataframe tbody tr th {\n",
       "        vertical-align: top;\n",
       "    }\n",
       "\n",
       "    .dataframe thead th {\n",
       "        text-align: right;\n",
       "    }\n",
       "</style>\n",
       "<table border=\"1\" class=\"dataframe\">\n",
       "  <thead>\n",
       "    <tr style=\"text-align: right;\">\n",
       "      <th></th>\n",
       "      <th>Tabelas</th>\n",
       "      <th>Total Venda</th>\n",
       "      <th>Margem CUE</th>\n",
       "      <th>Total Financeiro</th>\n",
       "      <th>Custo Financeiro</th>\n",
       "      <th>MG CUE</th>\n",
       "    </tr>\n",
       "  </thead>\n",
       "  <tbody>\n",
       "    <tr>\n",
       "      <th>0</th>\n",
       "      <td>DISTRIBUIDORES</td>\n",
       "      <td>3054.48</td>\n",
       "      <td>870.60</td>\n",
       "      <td>3054.48</td>\n",
       "      <td>870.60</td>\n",
       "      <td>28.50</td>\n",
       "    </tr>\n",
       "    <tr>\n",
       "      <th>1</th>\n",
       "      <td>PASTORINHO</td>\n",
       "      <td>3614.70</td>\n",
       "      <td>1194.28</td>\n",
       "      <td>3506.27</td>\n",
       "      <td>1085.85</td>\n",
       "      <td>33.04</td>\n",
       "    </tr>\n",
       "    <tr>\n",
       "      <th>2</th>\n",
       "      <td>SONDA</td>\n",
       "      <td>7618.06</td>\n",
       "      <td>2834.05</td>\n",
       "      <td>6681.03</td>\n",
       "      <td>1897.02</td>\n",
       "      <td>37.20</td>\n",
       "    </tr>\n",
       "    <tr>\n",
       "      <th>3</th>\n",
       "      <td>ST MARCHE</td>\n",
       "      <td>791.16</td>\n",
       "      <td>260.85</td>\n",
       "      <td>751.60</td>\n",
       "      <td>221.29</td>\n",
       "      <td>32.97</td>\n",
       "    </tr>\n",
       "    <tr>\n",
       "      <th>4</th>\n",
       "      <td>TABELA CONSUMIDOR FINAL</td>\n",
       "      <td>826.27</td>\n",
       "      <td>381.30</td>\n",
       "      <td>826.27</td>\n",
       "      <td>381.30</td>\n",
       "      <td>46.15</td>\n",
       "    </tr>\n",
       "    <tr>\n",
       "      <th>5</th>\n",
       "      <td>TABELA DE NEGOCIAÇÃO</td>\n",
       "      <td>1996.00</td>\n",
       "      <td>389.87</td>\n",
       "      <td>1996.00</td>\n",
       "      <td>389.87</td>\n",
       "      <td>19.53</td>\n",
       "    </tr>\n",
       "    <tr>\n",
       "      <th>6</th>\n",
       "      <td>TABELA DE PREÇO</td>\n",
       "      <td>161947.31</td>\n",
       "      <td>58917.09</td>\n",
       "      <td>161750.95</td>\n",
       "      <td>58720.73</td>\n",
       "      <td>36.38</td>\n",
       "    </tr>\n",
       "    <tr>\n",
       "      <th>7</th>\n",
       "      <td>TABELA FUNCIONÁRIO</td>\n",
       "      <td>101.57</td>\n",
       "      <td>9.24</td>\n",
       "      <td>101.57</td>\n",
       "      <td>9.24</td>\n",
       "      <td>9.10</td>\n",
       "    </tr>\n",
       "    <tr>\n",
       "      <th>8</th>\n",
       "      <td>TABELA OBA</td>\n",
       "      <td>518.00</td>\n",
       "      <td>-20.00</td>\n",
       "      <td>518.00</td>\n",
       "      <td>-20.00</td>\n",
       "      <td>-3.86</td>\n",
       "    </tr>\n",
       "  </tbody>\n",
       "</table>\n",
       "</div>"
      ],
      "text/plain": [
       "                   Tabelas  Total Venda  Margem CUE  Total Financeiro  \\\n",
       "0           DISTRIBUIDORES      3054.48      870.60           3054.48   \n",
       "1               PASTORINHO      3614.70     1194.28           3506.27   \n",
       "2                    SONDA      7618.06     2834.05           6681.03   \n",
       "3                ST MARCHE       791.16      260.85            751.60   \n",
       "4  TABELA CONSUMIDOR FINAL       826.27      381.30            826.27   \n",
       "5     TABELA DE NEGOCIAÇÃO      1996.00      389.87           1996.00   \n",
       "6          TABELA DE PREÇO    161947.31    58917.09         161750.95   \n",
       "7       TABELA FUNCIONÁRIO       101.57        9.24            101.57   \n",
       "8               TABELA OBA       518.00      -20.00            518.00   \n",
       "\n",
       "   Custo Financeiro  MG CUE  \n",
       "0            870.60   28.50  \n",
       "1           1085.85   33.04  \n",
       "2           1897.02   37.20  \n",
       "3            221.29   32.97  \n",
       "4            381.30   46.15  \n",
       "5            389.87   19.53  \n",
       "6          58720.73   36.38  \n",
       "7              9.24    9.10  \n",
       "8            -20.00   -3.86  "
      ]
     },
     "execution_count": 68,
     "metadata": {},
     "output_type": "execute_result"
    }
   ],
   "source": [
    "tabelas_df['Dados']"
   ]
  },
  {
   "cell_type": "code",
   "execution_count": null,
   "id": "171109cc",
   "metadata": {},
   "outputs": [],
   "source": []
  },
  {
   "cell_type": "code",
   "execution_count": null,
   "id": "c4ec1aeb",
   "metadata": {},
   "outputs": [],
   "source": []
  },
  {
   "cell_type": "code",
   "execution_count": null,
   "id": "36ae05b5",
   "metadata": {},
   "outputs": [],
   "source": []
  }
 ],
 "metadata": {
  "kernelspec": {
   "display_name": "Python 3 (ipykernel)",
   "language": "python",
   "name": "python3"
  },
  "language_info": {
   "codemirror_mode": {
    "name": "ipython",
    "version": 3
   },
   "file_extension": ".py",
   "mimetype": "text/x-python",
   "name": "python",
   "nbconvert_exporter": "python",
   "pygments_lexer": "ipython3",
   "version": "3.9.7"
  }
 },
 "nbformat": 4,
 "nbformat_minor": 5
}
